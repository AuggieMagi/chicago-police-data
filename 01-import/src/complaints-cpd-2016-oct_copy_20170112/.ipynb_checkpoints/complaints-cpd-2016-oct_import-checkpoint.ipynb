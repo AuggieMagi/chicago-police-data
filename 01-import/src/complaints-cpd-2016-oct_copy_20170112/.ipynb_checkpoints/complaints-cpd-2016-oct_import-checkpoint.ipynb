{
 "cells": [
  {
   "cell_type": "code",
   "execution_count": 1,
   "metadata": {
    "collapsed": true
   },
   "outputs": [],
   "source": [
    "import re\n",
    "import datetime\n",
    "import numpy as np\n",
    "import pandas as pd \n",
    "import os\n",
    "import sys\n",
    "import itertools\n",
    "import io"
   ]
  },
  {
   "cell_type": "code",
   "execution_count": 2,
   "metadata": {
    "collapsed": true
   },
   "outputs": [],
   "source": [
    "module_path = os.path.abspath(os.path.join('..'))\n",
    "if module_path not in sys.path:\n",
    "    sys.path.append(module_path)\n",
    "from utils.utils import *"
   ]
  },
  {
   "cell_type": "markdown",
   "metadata": {},
   "source": [
    "### Establishes General Path"
   ]
  },
  {
   "cell_type": "code",
   "execution_count": 3,
   "metadata": {
    "collapsed": false
   },
   "outputs": [],
   "source": [
    "local_path = \"/your/path/here\""
   ]
  },
  {
   "cell_type": "code",
   "execution_count": 4,
   "metadata": {
    "collapsed": false
   },
   "outputs": [
    {
     "data": {
      "text/plain": [
       "['complaints-merged-2015',\n",
       " 'complaints-cpd-2016-jun',\n",
       " 'complaints-cpd-2016-oct',\n",
       " 'complaints-cpd-2016-nov',\n",
       " 'complaints-ipra-2016-apr',\n",
       " 'shootings-ipra-may2016',\n",
       " 'shootings-cpd-feb2016',\n",
       " 'complaints-cpd-2016-dec',\n",
       " 'TRRs']"
      ]
     },
     "execution_count": 4,
     "metadata": {},
     "output_type": "execute_result"
    }
   ],
   "source": [
    "path = '/Data/chicago-police-data/import'\n",
    "db = dropbox_handler()\n",
    "db.list_files(path+'/input')"
   ]
  },
  {
   "cell_type": "code",
   "execution_count": 5,
   "metadata": {
    "collapsed": false
   },
   "outputs": [],
   "source": [
    "in_path = path + '/input/complaints-cpd-2016-oct/'\n",
    "out_path =local_path + '/output/complaints-cpd-2016-oct/'"
   ]
  },
  {
   "cell_type": "code",
   "execution_count": 6,
   "metadata": {
    "collapsed": false
   },
   "outputs": [
    {
     "name": "stdout",
     "output_type": "stream",
     "text": [
      "/Data/Import/doc/location_code_dictionary.csv\n"
     ]
    }
   ],
   "source": [
    "location_code = db.download_file(path+'/doc/','Location_Code_Dictionary.csv')\n",
    "location_code.dropna(how='all', inplace=True)\n",
    "location_code['Location_Code']=location_code['Location_Code'].astype(int).astype(str)\n",
    "\n",
    "def padding(value):\n",
    "    if len(value)<2:\n",
    "        return \"0\"+value\n",
    "    else:\n",
    "        return value\n",
    "    \n",
    "location_code['Location_Code'] = location_code['Location_Code'].apply(padding)"
   ]
  },
  {
   "cell_type": "markdown",
   "metadata": {},
   "source": [
    "## October 2016 Data"
   ]
  },
  {
   "cell_type": "markdown",
   "metadata": {},
   "source": [
    "### Report 1"
   ]
  },
  {
   "cell_type": "code",
   "execution_count": 7,
   "metadata": {
    "collapsed": false
   },
   "outputs": [
    {
     "data": {
      "text/plain": [
       "['CR_AllRecords.xlsx']"
      ]
     },
     "execution_count": 7,
     "metadata": {},
     "output_type": "execute_result"
    }
   ],
   "source": [
    "in_path_oct_2016_report = in_path\n",
    "out_path_oct_2016_report = out_path\n",
    "\n",
    "files = [file for file in db.list_files(in_path_oct_2016_report) if '.xlsx' in file]\n",
    "files"
   ]
  },
  {
   "cell_type": "code",
   "execution_count": 8,
   "metadata": {
    "collapsed": false
   },
   "outputs": [
    {
     "data": {
      "text/plain": [
       "['CR_AllRecords']"
      ]
     },
     "execution_count": 8,
     "metadata": {},
     "output_type": "execute_result"
    }
   ],
   "source": [
    "saving_files = [file.replace(\" \",\"_\").replace(\".xlsx\",\"\") for file in files]\n",
    "saving_files"
   ]
  },
  {
   "cell_type": "markdown",
   "metadata": {},
   "source": [
    "IS Investigation Unit Equivalent to Investigator_Assignment?"
   ]
  },
  {
   "cell_type": "code",
   "execution_count": 9,
   "metadata": {
    "collapsed": false
   },
   "outputs": [
    {
     "name": "stdout",
     "output_type": "stream",
     "text": [
      "/Data/Import/input/complaints-cpd-2016-oct/cr_allrecords.xlsx\n",
      "                NAME UNIT DATE_OF_APPOINTMENT   CR_NO  \\\n",
      "0  ABBATE, ANTHONY G  011         05-DEC-1994  237004   \n",
      "1  ABBATE, ANTHONY G  011         05-DEC-1994  258124   \n",
      "2   ABBATE, CARMEL G  641         06-JAN-1969  190369   \n",
      "3   ABBATE, CARMEL G  640         06-JAN-1969  210426   \n",
      "4   ABBATE, CARMEL G  640         06-JAN-1969  219424   \n",
      "\n",
      "                     INITIAL_COMPLAINT_CATEGORY  \\\n",
      "0                05A   ARRESTEE - DURING ARREST   \n",
      "1  04E   PRISONERS PROPERTY - INVENTORY/RECEIPT   \n",
      "2                           03G   MISCELLANEOUS   \n",
      "3                    10V   INVENTORY PROCEDURES   \n",
      "4                           09J   MISCELLANEOUS   \n",
      "\n",
      "                       FINAL_COMPLAINT_CATEGORY INCIDENT_DATE COMPLAINT_DATE  \\\n",
      "0                05B   ARRESTEE - DURING ARREST   21-MAY-1997    21-MAY-1997   \n",
      "1  04E   PRISONERS PROPERTY - INVENTORY/RECEIPT   19-NOV-1999    20-NOV-1999   \n",
      "2                           03G   MISCELLANEOUS   11-FEB-1992    11-FEB-1992   \n",
      "3                    04E   INVENTORY PROCEDURES   30-JUL-1994    14-JUL-1994   \n",
      "4                           05A   MISCELLANEOUS   12-JUL-1995    19-JUL-1995   \n",
      "\n",
      "   CLOSED_DATE FINAL_FINDING  ACTION_TAKEN     ACTION_DESCR  \n",
      "0  25-MAY-1999            UN           600  NO ACTION TAKEN  \n",
      "1  07-DEC-2000            NS           600  NO ACTION TAKEN  \n",
      "2  09-APR-1992            UN           600  NO ACTION TAKEN  \n",
      "3  01-DEC-1994            NS           600  NO ACTION TAKEN  \n",
      "4  23-JAN-1996            NS           600  NO ACTION TAKEN  \n"
     ]
    }
   ],
   "source": [
    "file=files[0]\n",
    "final_df = pd.DataFrame()\n",
    "metadata_df = pd.DataFrame()\n",
    "#df = pd.read_excel(in_path_oct_2016_report + file)\n",
    "df = db.download_file(in_path_oct_2016_report,file)\n",
    "print(df.head())\n",
    "df.columns = [\"Officer_Name\",\"Officer_Unit\",\"Date_of_Appointment\",\"CRID\",\n",
    "                  \"Initial_Complaint_Category\",\"Final_Complaint_Category\",\"Incident_Date\", \n",
    "                  \"Complaint_Date\",\"Closed_Date\",\n",
    "               \"Final_Finding\", \"Final_Action_Taken\",\"Final_Action_Description\"]\n",
    "\n",
    "final_df = final_df.append(df)\n",
    "final_df.reset_index(drop=True,inplace=True)\n",
    "metadata_df = metadata_df.append(metadata_dataset(df,file))\n",
    "metadata_df.reset_index(drop=True,inplace=True)"
   ]
  },
  {
   "cell_type": "code",
   "execution_count": 11,
   "metadata": {
    "collapsed": false
   },
   "outputs": [
    {
     "data": {
      "text/html": [
       "<div>\n",
       "<table border=\"1\" class=\"dataframe\">\n",
       "  <thead>\n",
       "    <tr style=\"text-align: right;\">\n",
       "      <th></th>\n",
       "      <th>Original_Dataset</th>\n",
       "      <th>Column_Name</th>\n",
       "      <th>Non_Null_Count</th>\n",
       "      <th>Unique_Count</th>\n",
       "      <th>Object_Type</th>\n",
       "    </tr>\n",
       "  </thead>\n",
       "  <tbody>\n",
       "    <tr>\n",
       "      <th>0</th>\n",
       "      <td>CR_AllRecords.xlsx</td>\n",
       "      <td>Officer_Name</td>\n",
       "      <td>134683</td>\n",
       "      <td>18907</td>\n",
       "      <td>object</td>\n",
       "    </tr>\n",
       "    <tr>\n",
       "      <th>1</th>\n",
       "      <td>CR_AllRecords.xlsx</td>\n",
       "      <td>Officer_Unit</td>\n",
       "      <td>134528</td>\n",
       "      <td>170</td>\n",
       "      <td>object</td>\n",
       "    </tr>\n",
       "    <tr>\n",
       "      <th>2</th>\n",
       "      <td>CR_AllRecords.xlsx</td>\n",
       "      <td>Date_of_Appointment</td>\n",
       "      <td>134486</td>\n",
       "      <td>1455</td>\n",
       "      <td>object</td>\n",
       "    </tr>\n",
       "    <tr>\n",
       "      <th>3</th>\n",
       "      <td>CR_AllRecords.xlsx</td>\n",
       "      <td>CRID</td>\n",
       "      <td>134683</td>\n",
       "      <td>70449</td>\n",
       "      <td>int64</td>\n",
       "    </tr>\n",
       "    <tr>\n",
       "      <th>4</th>\n",
       "      <td>CR_AllRecords.xlsx</td>\n",
       "      <td>Initial_Complaint_Category</td>\n",
       "      <td>134683</td>\n",
       "      <td>128</td>\n",
       "      <td>object</td>\n",
       "    </tr>\n",
       "  </tbody>\n",
       "</table>\n",
       "</div>"
      ],
      "text/plain": [
       "     Original_Dataset                 Column_Name Non_Null_Count  \\\n",
       "0  CR_AllRecords.xlsx                Officer_Name         134683   \n",
       "1  CR_AllRecords.xlsx                Officer_Unit         134528   \n",
       "2  CR_AllRecords.xlsx         Date_of_Appointment         134486   \n",
       "3  CR_AllRecords.xlsx                        CRID         134683   \n",
       "4  CR_AllRecords.xlsx  Initial_Complaint_Category         134683   \n",
       "\n",
       "   Unique_Count Object_Type  \n",
       "0         18907      object  \n",
       "1           170      object  \n",
       "2          1455      object  \n",
       "3         70449       int64  \n",
       "4           128      object  "
      ]
     },
     "execution_count": 11,
     "metadata": {},
     "output_type": "execute_result"
    }
   ],
   "source": [
    "metadata_df.head()"
   ]
  },
  {
   "cell_type": "code",
   "execution_count": 19,
   "metadata": {
    "collapsed": false
   },
   "outputs": [],
   "source": [
    "final_df.to_csv(out_path_oct_2016_report+saving_files[0]+\".csv\",index=False)\n",
    "final_df.to_excel(out_path_oct_2016_report+saving_files[0]+\".xlsx\",index=False)\n",
    "\n",
    "metadata_df.to_csv(out_path_oct_2016_report+saving_files[0]+\"_metadata.csv\",index=False)"
   ]
  }
 ],
 "metadata": {
  "anaconda-cloud": {},
  "kernelspec": {
   "display_name": "Civis Model",
   "language": "python",
   "name": "civis-model"
  },
  "language_info": {
   "codemirror_mode": {
    "name": "ipython",
    "version": 3
   },
   "file_extension": ".py",
   "mimetype": "text/x-python",
   "name": "python",
   "nbconvert_exporter": "python",
   "pygments_lexer": "ipython3",
   "version": "3.5.2"
  }
 },
 "nbformat": 4,
 "nbformat_minor": 0
}
