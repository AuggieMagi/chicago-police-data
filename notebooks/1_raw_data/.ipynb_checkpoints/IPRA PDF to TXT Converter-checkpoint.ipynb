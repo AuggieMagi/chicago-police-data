{
 "cells": [
  {
   "cell_type": "code",
   "execution_count": 1,
   "metadata": {
    "collapsed": false
   },
   "outputs": [],
   "source": [
    "import re\n",
    "import numpy as np\n",
    "import pandas as pd \n",
    "import os\n",
    "import sys\n",
    "import itertools\n",
    "import io\n",
    "import textract\n",
    "import indicoio\n",
    "import PyPDF2\n",
    "from PyPDF2 import PdfFileWriter, PdfFileReader\n",
    "\n",
    "##from tabula import read_pdf_table"
   ]
  },
  {
   "cell_type": "code",
   "execution_count": 2,
   "metadata": {
    "collapsed": false
   },
   "outputs": [],
   "source": [
    "path = '/Users/thudson/Documents/Invisible Institute/pdfs/'\n",
    "out_path = '/Users/thudson/Documents/Invisible Institute/pdfs_as_text/'\n"
   ]
  },
  {
   "cell_type": "code",
   "execution_count": 4,
   "metadata": {
    "collapsed": false
   },
   "outputs": [
    {
     "data": {
      "text/plain": [
       "['1053111-REDACTED.pdf',\n",
       " '1056252U12-22.pdf',\n",
       " '1058981_Summary-Report.pdf',\n",
       " '1062528-REDACTED.pdf',\n",
       " '1063523-REDACTED.pdf']"
      ]
     },
     "execution_count": 4,
     "metadata": {},
     "output_type": "execute_result"
    }
   ],
   "source": [
    "pdfs = [x for x in os.listdir(path) if '.pdf' in x]\n",
    "pdfs[0:5]"
   ]
  },
  {
   "cell_type": "markdown",
   "metadata": {},
   "source": [
    "### Grab pdfs, turn them to text, save them as .txt"
   ]
  },
  {
   "cell_type": "code",
   "execution_count": null,
   "metadata": {
    "collapsed": false
   },
   "outputs": [],
   "source": [
    "for pdf in pdfs:\n",
    "    text = textract.process(path+pdf)\n",
    "    output_file_path = out_path+pdf[:-4]+\".txt\"\n",
    "    if output_file_path not in os.listdir(out_path):\n",
    "        text_file = open(output_file_path, \"w\")\n",
    "        text_file.write(text.decode('utf-8'))\n",
    "        text_file.close()"
   ]
  },
  {
   "cell_type": "markdown",
   "metadata": {},
   "source": [
    "###  Doing it for CPD 2016 Oct FOIA"
   ]
  },
  {
   "cell_type": "code",
   "execution_count": 5,
   "metadata": {
    "collapsed": true
   },
   "outputs": [],
   "source": [
    "general_path = '/Users/thudson/Documents/Invisible Institute/Data Cleanup Project 20170113/data/'\n",
    "input_path = general_path+'1_raw_data/complaints-cpd-2016-oct copy 20170112/'\n",
    "output_path = general_path+'split_pdf_data/complaints-cpd-2016-oct copy 20170112/'"
   ]
  },
  {
   "cell_type": "code",
   "execution_count": 6,
   "metadata": {
    "collapsed": false
   },
   "outputs": [
    {
     "data": {
      "text/plain": [
       "['foia 14-3668 officers with cr allegations.pdf']"
      ]
     },
     "execution_count": 6,
     "metadata": {},
     "output_type": "execute_result"
    }
   ],
   "source": [
    "pdfs = [x for x in os.listdir(input_path) if '.pdf' in x]\n",
    "pdfs"
   ]
  },
  {
   "cell_type": "markdown",
   "metadata": {},
   "source": [
    "#### Need to split file due to large size"
   ]
  },
  {
   "cell_type": "code",
   "execution_count": null,
   "metadata": {
    "collapsed": false
   },
   "outputs": [],
   "source": [
    "filein = input_path+pdfs[0]\n",
    "fileout = output_path+pdfs[0][0:-4]\n",
    "\n",
    "inputpdf = PdfFileReader(open(filein, \"rb\"))\n",
    "\n",
    "for i in range(inputpdf.numPages):\n",
    "    output = PdfFileWriter()\n",
    "    output.addPage(inputpdf.getPage(i))\n",
    "    with open(fileout+\"-page%s.pdf\" % i, \"wb\") as outputStream:\n",
    "        output.write(outputStream)"
   ]
  },
  {
   "cell_type": "markdown",
   "metadata": {},
   "source": [
    "### Indico IO API Attempt"
   ]
  },
  {
   "cell_type": "code",
   "execution_count": 7,
   "metadata": {
    "collapsed": false
   },
   "outputs": [
    {
     "data": {
      "text/plain": [
       "['foia 14-3668 officers with cr allegations-page0.pdf',\n",
       " 'foia 14-3668 officers with cr allegations-page1.pdf',\n",
       " 'foia 14-3668 officers with cr allegations-page10.pdf',\n",
       " 'foia 14-3668 officers with cr allegations-page100.pdf',\n",
       " 'foia 14-3668 officers with cr allegations-page1000.pdf',\n",
       " 'foia 14-3668 officers with cr allegations-page1001.pdf',\n",
       " 'foia 14-3668 officers with cr allegations-page1002.pdf',\n",
       " 'foia 14-3668 officers with cr allegations-page1003.pdf',\n",
       " 'foia 14-3668 officers with cr allegations-page1004.pdf',\n",
       " 'foia 14-3668 officers with cr allegations-page1005.pdf']"
      ]
     },
     "execution_count": 7,
     "metadata": {},
     "output_type": "execute_result"
    }
   ],
   "source": [
    "indicoio.config.api_key = 'b81b2b1721ef3fb9b47985d91f21ff7e'\n",
    "pdfs = [x for x in os.listdir(output_path) if '.pdf' in x]\n",
    "pdfs[0:10]"
   ]
  },
  {
   "cell_type": "code",
   "execution_count": 11,
   "metadata": {
    "collapsed": false
   },
   "outputs": [
    {
     "data": {
      "text/plain": [
       "'/Users/thudson/Documents/Invisible Institute/Data Cleanup Project 20170113/data/split_pdf_data/complaints-cpd-2016-oct copy 20170112/foia 14-3668 officers with cr allegations-page1.pdf'"
      ]
     },
     "execution_count": 11,
     "metadata": {},
     "output_type": "execute_result"
    }
   ],
   "source": [
    "test_file=output_path+pdfs[1]\n",
    "test_file"
   ]
  },
  {
   "cell_type": "code",
   "execution_count": 12,
   "metadata": {
    "collapsed": false
   },
   "outputs": [],
   "source": [
    "output1=indicoio.pdf_extraction(test_file, images=True, metadata=True, text=True, tables=True)"
   ]
  },
  {
   "cell_type": "code",
   "execution_count": 13,
   "metadata": {
    "collapsed": false
   },
   "outputs": [
    {
     "data": {
      "text/plain": [
       "{'images': [],\n",
       " 'metadata': {'encrypted': 'no',\n",
       "  'file size': '64449 bytes',\n",
       "  'form': 'none',\n",
       "  'optimized': 'no',\n",
       "  'page size': '792 x 612 pts (letter) (rotated 0 degrees)',\n",
       "  'pages': '1',\n",
       "  'pdf version': '1.3',\n",
       "  'producer': 'PyPDF2',\n",
       "  'tagged': 'no'},\n",
       " 'tables': [],\n",
       " 'text': '\\n\\nInitial 03C \\nFinal 03C\\n\\nInitial 05N \\nFinal 05N\\n\\nInitial 05G \\nFinal 05A\\n\\nInitial 03C \\nFinal 03C\\n\\nInitial 05A \\nFinal 05A\\n\\nInitial 05L \\nFinal 05L\\n\\nInitial 03C \\nFinal 03C\\n\\nInitial 01B \\nFinal 01B\\n\\nInitial 05A \\nFinal 05A\\n\\nInitial 03C \\nFinal 03C\\n\\nInitial 05D \\nFinal 05D\\n\\nInitial 03C \\nFinal 03C\\n\\nInitial 03C \\nFinal 03C\\n\\nInitial 03C \\nFinal 03C\\n\\nInitial 05A \\nFinal 05A\\n\\nInitial 05A \\nFinal 05A\\n\\nInitial 03C \\nFinal 03C\\n\\nInitial 05D \\nFinal 05D\\n\\nInitial 03C \\nFinal 03C\\n\\nInitial 05L \\nFinal 05L\\n\\nSEARCH OF PREMISE/VEHICLE WITHOUT WARRANT \\nSEARCH OF PREMISE/VEHICLE WITHOUT WARRANT\\n\\nWEAPON - UNNECESSARY DISPLAY OF \\nWEAPON - UNNECESSARY DISPLAY OF\\n\\nWEAPON, USE/DISPLAY OF \\nARRESTEE - DURING ARREST\\n\\nSEARCH OF PREMISE/VEHICLE WITHOUT WARRANT \\nSEARCH OF PREMISE/VEHICLE WITHOUT WARRANT\\n\\nARRESTEE - DURING ARREST \\nARRESTEE - DURING ARREST\\n\\nUNNECESSARY PHYSICAL CONTACT - ON DUTY \\nUNNECESSARY PHYSICAL CONTACT - ON DUTY\\n\\nSEARCH OF PREMISE/VEHICLE WITHOUT WARRANT \\nSEARCH OF PREMISE/VEHICLE WITHOUT WARRANT\\n\\nRACIAL/ETHNIC, ETC. \\nRACIAL/ETHNIC, ETC.\\n\\nARRESTEE - DURING ARREST \\nARRESTEE - DURING ARREST\\n\\nSEARCH OF PREMISE/VEHICLE WITHOUT WARRANT \\nSEARCH OF PREMISE/VEHICLE WITHOUT WARRANT\\n\\nNO ARREST \\nNO ARREST\\n\\nSEARCH OF PREMISE/VEHICLE WITHOUT WARRANT \\nSEARCH OF PREMISE/VEHICLE WITHOUT WARRANT\\n\\nSEARCH OF PREMISE/VEHICLE WITHOUT WARRANT \\nSEARCH OF PREMISE/VEHICLE WITHOUT WARRANT\\n\\nSEARCH OF PREMISE/VEHICLE WITHOUT WARRANT \\nSEARCH OF PREMISE/VEHICLE WITHOUT WARRANT\\n\\nARRESTEE - DURING ARREST \\nARRESTEE - DURING ARREST\\n\\nARRESTEE - DURING ARREST \\nARRESTEE - DURING ARREST\\n\\nSEARCH OF PREMISE/VEHICLE WITHOUT WARRANT \\nSEARCH OF PREMISE/VEHICLE WITHOUT WARRANT\\n\\nNO ARREST \\nNO ARREST\\n\\nSEARCH OF PREMISE/VEHICLE WITHOUT WARRANT \\nSEARCH OF PREMISE/VEHICLE WITHOUT WARRANT\\n\\nUNNECESSARY PHYSICAL CONTACT - ON DUTY \\nUNNECESSARY PHYSICAL CONTACT - ON DUTY\\n\\nPage 2 of 6955\\n\\n08 Oct 2001 10 Oct 2001\\n\\nUN\\n\\n27 Sep 2001 16 Oct 2001\\n\\nNS\\n\\n18 Aug 2001 26 Oct 2001\\n\\nUN\\n\\n23 Feb 2002 23 Feb 2002\\n\\nUN\\n\\n08 Mar 2002 21 Mar 2002\\n\\nNS\\n\\n23 Mar 2002 23 Mar 2002\\n\\nNS\\n\\n25 Mar 2002 26 Mar 2002\\n\\nNS\\n\\n17 Apr 2002 17 Apr 2002\\n\\nUN\\n\\n19 Apr 2002 19 Apr 2002\\n\\nUN\\n\\n05 May 2002 06 May 2002\\n\\nUN\\n\\n01 Jun 2002 01 Jun 2002\\n\\nNS\\n\\n09 Jul 2002 10 Jul 2002\\n\\nEX\\n\\n25 Jul 2002 25 Jul 2002\\n\\nNS\\n\\n04 Aug 2002 08 Aug 2002\\n\\nNS\\n\\n08 Aug 2002 09 Aug 2002\\n\\nUN\\n\\n13 Aug 2002 13 Aug 2002\\n\\nNS\\n\\n17 Aug 2002 17 Aug 2002\\n\\nNS\\n\\n13 Sep 2002 13 Sep 2002\\n\\nNS\\n\\n28 Jul 2002 08 Oct 2002\\n\\nUN\\n\\n09 Oct 2002 09 Oct 2002\\n\\nUN\\n\\n600-No Action Taken \\n600-No Action Taken \\n600-No Action Taken \\n600-No Action Taken \\n600-No Action Taken \\n600-No Action Taken \\n600-No Action Taken \\n600-No Action Taken \\n600-No Action Taken \\n600-No Action Taken \\n600-No Action Taken \\n600-No Action Taken \\n600-No Action Taken \\n600-No Action Taken \\n600-No Action Taken \\n600-No Action Taken \\n600-No Action Taken \\n600-No Action Taken \\n600-No Action Taken \\n600-No Action Taken\\n'}"
      ]
     },
     "execution_count": 13,
     "metadata": {},
     "output_type": "execute_result"
    }
   ],
   "source": [
    "output\n",
    "output1"
   ]
  },
  {
   "cell_type": "markdown",
   "metadata": {
    "collapsed": true
   },
   "source": [
    "### Textract Attempt - Has serious issues due to the way the data is setup unfortunately"
   ]
  },
  {
   "cell_type": "code",
   "execution_count": null,
   "metadata": {
    "collapsed": false
   },
   "outputs": [],
   "source": [
    "for pdf in pdfs:\n",
    "    text = textract.process(path+pdf)\n",
    "    output_file_path = out_path+pdf[:-4]+\".txt\"\n",
    "    if output_file_path not in os.listdir(out_path):\n",
    "        text_file = open(output_file_path, \"w\")\n",
    "        text_file.write(text.decode('ascii'))\n",
    "        text_file.close()"
   ]
  },
  {
   "cell_type": "code",
   "execution_count": null,
   "metadata": {
    "collapsed": false
   },
   "outputs": [],
   "source": [
    "output_file = out_path+pdfs[0][:-4]+\".txt\"\n",
    "text_file = open(output_file, \"r\")\n",
    "\n",
    "## lines contains 1 page per list and 1 item within said list per \n",
    "lines = text_file.read().split(\"\\x0c\")\n",
    "lines[0]\n",
    "##lines = [line.split(\"\\n\") for line in lines]\n",
    "\n",
    "## crash into list\n",
    "##lines=[item for sublist in lines for item in sublist]\n",
    "## remove blanks\n",
    "###lines = [line for line in lines if line!='']\n",
    "##lines[0:20]\n"
   ]
  },
  {
   "cell_type": "markdown",
   "metadata": {},
   "source": [
    "Line 14 is the first table line in the file"
   ]
  },
  {
   "cell_type": "code",
   "execution_count": null,
   "metadata": {
    "collapsed": false
   },
   "outputs": [],
   "source": [
    "raw_data = lines[11:]\n",
    "raw_data"
   ]
  },
  {
   "cell_type": "code",
   "execution_count": null,
   "metadata": {
    "collapsed": false
   },
   "outputs": [],
   "source": [
    "values=[]\n",
    "for i,row in enumerate(raw_data):\n",
    "    if row==\"WEST, CASSIE\":\n",
    "        values.append(i)\n",
    "values[0:10]"
   ]
  },
  {
   "cell_type": "code",
   "execution_count": null,
   "metadata": {
    "collapsed": false
   },
   "outputs": [],
   "source": [
    "## Doesn't work due to alignment - Total marks break for cases and value marks break for officers\n",
    "Officer_list=[]\n",
    "CR_list=[]\n",
    "officer_counter=0\n",
    "for i,row in enumerate(raw_data):\n",
    "    if row==\"Total\":\n",
    "        officer_counter=officer_counter+1\n",
    "    if i>1:\n",
    "        if raw_data[i-1]==\"Date of Appt:\" and \",\" in row and row not in Officer_list:\n",
    "            Officer_list.append(row)\n",
    "    if i<(len(raw_data)-1):\n",
    "        if raw_data[i+1]==\"CR#\" and \",\" in row and row not in Officer_list:\n",
    "            Officer_list.append(row)\n",
    "    if (row.isdigit() and len(row)>5) or row==\"***\":\n",
    "        CR_list.append([officer_counter,row])\n",
    "    "
   ]
  },
  {
   "cell_type": "code",
   "execution_count": null,
   "metadata": {
    "collapsed": false
   },
   "outputs": [],
   "source": [
    "len(Officer_list)"
   ]
  },
  {
   "cell_type": "markdown",
   "metadata": {},
   "source": [
    "### PyPDF2 Attempt"
   ]
  },
  {
   "cell_type": "code",
   "execution_count": null,
   "metadata": {
    "collapsed": false
   },
   "outputs": [],
   "source": [
    "import PyPDF2\n",
    "pdfFileObj = open(path+pdfs[0], 'rb')\n",
    "pdfReader = PyPDF2.PdfFileReader(pdfFileObj)\n",
    "pdfReader.numPages"
   ]
  },
  {
   "cell_type": "code",
   "execution_count": null,
   "metadata": {
    "collapsed": false
   },
   "outputs": [],
   "source": [
    "pageObj = pdfReader.getPage(1)\n",
    "pageObj.extractText()"
   ]
  },
  {
   "cell_type": "code",
   "execution_count": null,
   "metadata": {
    "collapsed": false
   },
   "outputs": [],
   "source": [
    "pdfReader.getPageMode()"
   ]
  }
 ],
 "metadata": {
  "anaconda-cloud": {},
  "kernelspec": {
   "display_name": "Civis Model",
   "language": "python",
   "name": "civis-model"
  },
  "language_info": {
   "codemirror_mode": {
    "name": "ipython",
    "version": 3
   },
   "file_extension": ".py",
   "mimetype": "text/x-python",
   "name": "python",
   "nbconvert_exporter": "python",
   "pygments_lexer": "ipython3",
   "version": "3.5.2"
  }
 },
 "nbformat": 4,
 "nbformat_minor": 0
}
