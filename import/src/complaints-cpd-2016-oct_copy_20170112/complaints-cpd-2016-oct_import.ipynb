{
 "cells": [
  {
   "cell_type": "code",
   "execution_count": 1,
   "metadata": {
    "collapsed": true
   },
   "outputs": [],
   "source": [
    "import re\n",
    "import datetime\n",
    "import numpy as np\n",
    "import pandas as pd \n",
    "import os\n",
    "import sys\n",
    "import itertools\n",
    "import io"
   ]
  },
  {
   "cell_type": "markdown",
   "metadata": {},
   "source": [
    "# Functions that help with the magic"
   ]
  },
  {
   "cell_type": "markdown",
   "metadata": {},
   "source": [
    "### Can be used to remove columns that are all nulls so you don't have to check "
   ]
  },
  {
   "cell_type": "code",
   "execution_count": 2,
   "metadata": {
    "collapsed": true
   },
   "outputs": [],
   "source": [
    "def null_dropper(df):\n",
    "    buf = io.StringIO()\n",
    "    df.info(buf=buf)\n",
    "    s = buf.getvalue()\n",
    "    info_values = [re.split(\"\\\\s\\\\s+\",x) for x in s.split(\"\\n\")]\n",
    "    info_values = [x for x in info_values if len(x)>1]\n",
    "    info_values = [x[0] for x in info_values if x[1].startswith('0 non-null')]\n",
    "    df = df.drop(info_values,axis=1)\n",
    "    return df"
   ]
  },
  {
   "cell_type": "markdown",
   "metadata": {},
   "source": [
    "### Creates metadata as we go"
   ]
  },
  {
   "cell_type": "code",
   "execution_count": 3,
   "metadata": {
    "collapsed": true
   },
   "outputs": [],
   "source": [
    "def metadata_dataset(df,file):\n",
    "    buf = io.StringIO()\n",
    "    df.info(buf=buf)\n",
    "    s = buf.getvalue()\n",
    "    info_values = [re.split(\"\\\\s\\\\s+\",x) for x in s.split(\"\\n\")]\n",
    "    info_values = [x for x in info_values if len(x)>1]\n",
    "    metadata_df = pd.DataFrame(info_values)\n",
    "    metadata_df[\"File\"] = file\n",
    "    metadata_df.columns = [\"Column_Name\",\"Column_Info\",\"Original_Dataset\"]\n",
    "    ## Column Info Split\n",
    "    metadata_df['Non_Null_Count'], metadata_df['Object_Type'] = metadata_df['Column_Info'].str.split(' ', 1).str\n",
    "    metadata_df[\"Object_Type\"] = metadata_df[\"Object_Type\"].str.replace(\"non-null \",\"\")\n",
    "    ## unique counts for each variable\n",
    "    uniques_df = df.apply(lambda x: len(x.unique())).reset_index()\n",
    "    uniques_df.columns = [\"Column_Name\",\"Unique_Count\"]\n",
    "    metadata_df[\"Unique_Count\"] = uniques_df[\"Unique_Count\"]\n",
    "    metadata_df = metadata_df[[\"Original_Dataset\",\"Column_Name\",\"Non_Null_Count\",\"Unique_Count\",\"Object_Type\"]]\n",
    "    return metadata_df"
   ]
  },
  {
   "cell_type": "markdown",
   "metadata": {},
   "source": [
    "### Converts single column named City_State_Zip into separate columns"
   ]
  },
  {
   "cell_type": "code",
   "execution_count": 4,
   "metadata": {
    "collapsed": true
   },
   "outputs": [],
   "source": [
    "def hasNumbers(inputString):\n",
    "    return any(char.isdigit() for char in inputString)\n",
    "\n",
    "def city_state_zip_splitter(df):\n",
    "    new_states_list=[]\n",
    "    for value in df[\"City_State_Zip\"]:\n",
    "        ## check if it contains a number (zipcode)\n",
    "        if hasNumbers(value):\n",
    "            split_state = value.split(\" \")\n",
    "            ## join city names until we have 3 values\n",
    "            while len(split_state)>3:\n",
    "                split_state = [split_state[0]+' '+split_state[1]]+split_state[2:]\n",
    "        else:\n",
    "            split_state = value.split(\" \")\n",
    "            ## join city names until we have 2 values\n",
    "            while len(split_state)>2:\n",
    "                split_state = [split_state[0]+' '+split_state[1]]+split_state[2:]\n",
    "        new_states_list.append(split_state)\n",
    "    city_state_zip =  pd.DataFrame(new_states_list)\n",
    "    city_state_zip.columns = [\"City\",\"State\",\"Zip\"]\n",
    "    return city_state_zip"
   ]
  },
  {
   "cell_type": "markdown",
   "metadata": {},
   "source": [
    "### Establishes General Path"
   ]
  },
  {
   "cell_type": "code",
   "execution_count": 5,
   "metadata": {
    "collapsed": false
   },
   "outputs": [],
   "source": [
    "path = \"/Users/thudson/Documents/Github/chicago-police-data/import\""
   ]
  },
  {
   "cell_type": "code",
   "execution_count": 6,
   "metadata": {
    "collapsed": false
   },
   "outputs": [],
   "source": [
    "in_path = path + '/input/complaints-cpd-2016-oct_copy_20170112/'\n",
    "out_path =path + '/output/complaints-cpd-2016-oct_copy_20170112/'"
   ]
  },
  {
   "cell_type": "code",
   "execution_count": 7,
   "metadata": {
    "collapsed": false
   },
   "outputs": [],
   "source": [
    "location_code = pd.read_csv(path+'/doc/Location_Code_Dictionary.csv')\n",
    "location_code.dropna(how='all', inplace=True)\n",
    "location_code['Location_Code']=location_code['Location_Code'].astype(int).astype(str)\n",
    "\n",
    "def padding(value):\n",
    "    if len(value)<2:\n",
    "        return \"0\"+value\n",
    "    else:\n",
    "        return value\n",
    "    \n",
    "location_code['Location_Code'] = location_code['Location_Code'].apply(padding)"
   ]
  },
  {
   "cell_type": "markdown",
   "metadata": {},
   "source": [
    "## October 2016 Data"
   ]
  },
  {
   "cell_type": "markdown",
   "metadata": {},
   "source": [
    "### Report 1"
   ]
  },
  {
   "cell_type": "code",
   "execution_count": 10,
   "metadata": {
    "collapsed": false
   },
   "outputs": [
    {
     "data": {
      "text/plain": [
       "['CR_AllRecords.xlsx']"
      ]
     },
     "execution_count": 10,
     "metadata": {},
     "output_type": "execute_result"
    }
   ],
   "source": [
    "in_path_oct_2016_report = in_path\n",
    "out_path_oct_2016_report = out_path\n",
    "\n",
    "files = [file for file in os.listdir(in_path_oct_2016_report) if '.xlsx' in file]\n",
    "files"
   ]
  },
  {
   "cell_type": "code",
   "execution_count": 11,
   "metadata": {
    "collapsed": false
   },
   "outputs": [
    {
     "data": {
      "text/plain": [
       "['CR_AllRecords']"
      ]
     },
     "execution_count": 11,
     "metadata": {},
     "output_type": "execute_result"
    }
   ],
   "source": [
    "saving_files = [file.replace(\" \",\"_\").replace(\".xlsx\",\"\") for file in files]\n",
    "saving_files"
   ]
  },
  {
   "cell_type": "markdown",
   "metadata": {},
   "source": [
    "IS Investigation Unit Equivalent to Investigator_Assignment?"
   ]
  },
  {
   "cell_type": "code",
   "execution_count": 17,
   "metadata": {
    "collapsed": false
   },
   "outputs": [
    {
     "name": "stdout",
     "output_type": "stream",
     "text": [
      "                NAME UNIT DATE_OF_APPOINTMENT   CR_NO  \\\n",
      "0  ABBATE, ANTHONY G  011         05-DEC-1994  237004   \n",
      "1  ABBATE, ANTHONY G  011         05-DEC-1994  258124   \n",
      "2   ABBATE, CARMEL G  641         06-JAN-1969  190369   \n",
      "3   ABBATE, CARMEL G  640         06-JAN-1969  210426   \n",
      "4   ABBATE, CARMEL G  640         06-JAN-1969  219424   \n",
      "\n",
      "                     INITIAL_COMPLAINT_CATEGORY  \\\n",
      "0                05A   ARRESTEE - DURING ARREST   \n",
      "1  04E   PRISONERS PROPERTY - INVENTORY/RECEIPT   \n",
      "2                           03G   MISCELLANEOUS   \n",
      "3                    10V   INVENTORY PROCEDURES   \n",
      "4                           09J   MISCELLANEOUS   \n",
      "\n",
      "                       FINAL_COMPLAINT_CATEGORY INCIDENT_DATE COMPLAINT_DATE  \\\n",
      "0                05B   ARRESTEE - DURING ARREST   21-MAY-1997    21-MAY-1997   \n",
      "1  04E   PRISONERS PROPERTY - INVENTORY/RECEIPT   19-NOV-1999    20-NOV-1999   \n",
      "2                           03G   MISCELLANEOUS   11-FEB-1992    11-FEB-1992   \n",
      "3                    04E   INVENTORY PROCEDURES   30-JUL-1994    14-JUL-1994   \n",
      "4                           05A   MISCELLANEOUS   12-JUL-1995    19-JUL-1995   \n",
      "\n",
      "   CLOSED_DATE FINAL_FINDING  ACTION_TAKEN     ACTION_DESCR  \n",
      "0  25-MAY-1999            UN           600  NO ACTION TAKEN  \n",
      "1  07-DEC-2000            NS           600  NO ACTION TAKEN  \n",
      "2  09-APR-1992            UN           600  NO ACTION TAKEN  \n",
      "3  01-DEC-1994            NS           600  NO ACTION TAKEN  \n",
      "4  23-JAN-1996            NS           600  NO ACTION TAKEN  \n"
     ]
    }
   ],
   "source": [
    "file=files[0]\n",
    "final_df = pd.DataFrame()\n",
    "metadata_df = pd.DataFrame()\n",
    "df = pd.read_excel(in_path_oct_2016_report + file)\n",
    "print(df.head())\n",
    "df.columns = [\"Officer_Name\",\"Officer_Unit\",\"Date_of_Appointment\",\"CRID\",\n",
    "                  \"Initial_Complaint_Category\",\"Final_Complaint_Category\",\"Incident_Date\", \n",
    "                  \"Complaint_Date\",\"Closed_Date\",\n",
    "               \"Final_Finding\", \"Final_Action_Taken\",\"Final_Action_Description\"]\n",
    "\n",
    "final_df = final_df.append(df)\n",
    "final_df.reset_index(drop=True,inplace=True)\n",
    "metadata_df = metadata_df.append(metadata_dataset(df,file))\n",
    "metadata_df.reset_index(drop=True,inplace=True)"
   ]
  },
  {
   "cell_type": "code",
   "execution_count": 18,
   "metadata": {
    "collapsed": false
   },
   "outputs": [
    {
     "data": {
      "text/html": [
       "<div>\n",
       "<table border=\"1\" class=\"dataframe\">\n",
       "  <thead>\n",
       "    <tr style=\"text-align: right;\">\n",
       "      <th></th>\n",
       "      <th>Original_Dataset</th>\n",
       "      <th>Column_Name</th>\n",
       "      <th>Non_Null_Count</th>\n",
       "      <th>Unique_Count</th>\n",
       "      <th>Object_Type</th>\n",
       "    </tr>\n",
       "  </thead>\n",
       "  <tbody>\n",
       "    <tr>\n",
       "      <th>0</th>\n",
       "      <td>CR_AllRecords.xlsx</td>\n",
       "      <td>Officer_Name</td>\n",
       "      <td>134683</td>\n",
       "      <td>18907</td>\n",
       "      <td>object</td>\n",
       "    </tr>\n",
       "    <tr>\n",
       "      <th>1</th>\n",
       "      <td>CR_AllRecords.xlsx</td>\n",
       "      <td>Officer_Unit</td>\n",
       "      <td>134528</td>\n",
       "      <td>170</td>\n",
       "      <td>object</td>\n",
       "    </tr>\n",
       "    <tr>\n",
       "      <th>2</th>\n",
       "      <td>CR_AllRecords.xlsx</td>\n",
       "      <td>Date_of_Appointment</td>\n",
       "      <td>134486</td>\n",
       "      <td>1455</td>\n",
       "      <td>object</td>\n",
       "    </tr>\n",
       "    <tr>\n",
       "      <th>3</th>\n",
       "      <td>CR_AllRecords.xlsx</td>\n",
       "      <td>CRID</td>\n",
       "      <td>134683</td>\n",
       "      <td>70449</td>\n",
       "      <td>int64</td>\n",
       "    </tr>\n",
       "    <tr>\n",
       "      <th>4</th>\n",
       "      <td>CR_AllRecords.xlsx</td>\n",
       "      <td>Initial_Complaint_Category</td>\n",
       "      <td>134683</td>\n",
       "      <td>128</td>\n",
       "      <td>object</td>\n",
       "    </tr>\n",
       "  </tbody>\n",
       "</table>\n",
       "</div>"
      ],
      "text/plain": [
       "     Original_Dataset                 Column_Name Non_Null_Count  \\\n",
       "0  CR_AllRecords.xlsx                Officer_Name         134683   \n",
       "1  CR_AllRecords.xlsx                Officer_Unit         134528   \n",
       "2  CR_AllRecords.xlsx         Date_of_Appointment         134486   \n",
       "3  CR_AllRecords.xlsx                        CRID         134683   \n",
       "4  CR_AllRecords.xlsx  Initial_Complaint_Category         134683   \n",
       "\n",
       "   Unique_Count Object_Type  \n",
       "0         18907      object  \n",
       "1           170      object  \n",
       "2          1455      object  \n",
       "3         70449       int64  \n",
       "4           128      object  "
      ]
     },
     "execution_count": 18,
     "metadata": {},
     "output_type": "execute_result"
    }
   ],
   "source": [
    "metadata_df.head()"
   ]
  },
  {
   "cell_type": "code",
   "execution_count": 19,
   "metadata": {
    "collapsed": false
   },
   "outputs": [],
   "source": [
    "final_df.to_csv(out_path_oct_2016_report+saving_files[0]+\".csv\",index=False)\n",
    "final_df.to_excel(out_path_oct_2016_report+saving_files[0]+\".xlsx\",index=False)\n",
    "\n",
    "metadata_df.to_csv(out_path_oct_2016_report+saving_files[0]+\"_metadata.csv\",index=False)"
   ]
  }
 ],
 "metadata": {
  "anaconda-cloud": {},
  "kernelspec": {
   "display_name": "Civis Model",
   "language": "python",
   "name": "civis-model"
  },
  "language_info": {
   "codemirror_mode": {
    "name": "ipython",
    "version": 3
   },
   "file_extension": ".py",
   "mimetype": "text/x-python",
   "name": "python",
   "nbconvert_exporter": "python",
   "pygments_lexer": "ipython3",
   "version": "3.5.2"
  }
 },
 "nbformat": 4,
 "nbformat_minor": 0
}
