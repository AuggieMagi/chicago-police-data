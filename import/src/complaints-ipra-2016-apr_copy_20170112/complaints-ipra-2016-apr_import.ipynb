{
 "cells": [
  {
   "cell_type": "code",
   "execution_count": 1,
   "metadata": {
    "collapsed": true
   },
   "outputs": [],
   "source": [
    "import re\n",
    "import datetime\n",
    "import numpy as np\n",
    "import pandas as pd \n",
    "import os\n",
    "import sys\n",
    "import itertools\n",
    "import io"
   ]
  },
  {
   "cell_type": "code",
   "execution_count": 2,
   "metadata": {
    "collapsed": true
   },
   "outputs": [],
   "source": [
    "module_path = os.path.abspath(os.path.join('..'))\n",
    "if module_path not in sys.path:\n",
    "    sys.path.append(module_path)\n",
    "from utils.utils import *"
   ]
  },
  {
   "cell_type": "markdown",
   "metadata": {},
   "source": [
    "### Establishes General Path"
   ]
  },
  {
   "cell_type": "code",
   "execution_count": 3,
   "metadata": {
    "collapsed": false
   },
   "outputs": [],
   "source": [
    "local_path = \"/your/path/here\""
   ]
  },
  {
   "cell_type": "code",
   "execution_count": 4,
   "metadata": {
    "collapsed": false
   },
   "outputs": [
    {
     "data": {
      "text/plain": [
       "['complaints-merged-2015',\n",
       " 'complaints-cpd-2016-jun',\n",
       " 'complaints-cpd-2016-oct',\n",
       " 'complaints-cpd-2016-nov',\n",
       " 'complaints-ipra-2016-apr',\n",
       " 'shootings-ipra-may2016',\n",
       " 'shootings-cpd-feb2016',\n",
       " 'complaints-cpd-2016-dec',\n",
       " 'TRRs']"
      ]
     },
     "execution_count": 4,
     "metadata": {},
     "output_type": "execute_result"
    }
   ],
   "source": [
    "path = '/Data/chicago-police-data/import'\n",
    "db = dropbox_handler()\n",
    "db.list_files(path+'/input')"
   ]
  },
  {
   "cell_type": "code",
   "execution_count": 5,
   "metadata": {
    "collapsed": false
   },
   "outputs": [],
   "source": [
    "in_path = path + '/input/complaints-ipra-2016-apr/'\n",
    "out_path = local_path + '/output/complaints-ipra-2016-apr/'"
   ]
  },
  {
   "cell_type": "code",
   "execution_count": 6,
   "metadata": {
    "collapsed": false
   },
   "outputs": [
    {
     "name": "stdout",
     "output_type": "stream",
     "text": [
      "/Data/Import/doc/location_code_dictionary.csv\n"
     ]
    }
   ],
   "source": [
    "location_code = db.download_file(path+'/doc/','Location_Code_Dictionary.csv')\n",
    "location_code.dropna(how='all', inplace=True)\n",
    "location_code['Location_Code']=location_code['Location_Code'].astype(int).astype(str)"
   ]
  },
  {
   "cell_type": "code",
   "execution_count": 7,
   "metadata": {
    "collapsed": false
   },
   "outputs": [
    {
     "data": {
      "text/html": [
       "<div>\n",
       "<table border=\"1\" class=\"dataframe\">\n",
       "  <thead>\n",
       "    <tr style=\"text-align: right;\">\n",
       "      <th></th>\n",
       "      <th>Location_Code</th>\n",
       "      <th>Location_Value</th>\n",
       "    </tr>\n",
       "  </thead>\n",
       "  <tbody>\n",
       "    <tr>\n",
       "      <th>0</th>\n",
       "      <td>1</td>\n",
       "      <td>Food Sales/Restaurant</td>\n",
       "    </tr>\n",
       "    <tr>\n",
       "      <th>1</th>\n",
       "      <td>2</td>\n",
       "      <td>Tavern/Liquor Store</td>\n",
       "    </tr>\n",
       "    <tr>\n",
       "      <th>2</th>\n",
       "      <td>3</td>\n",
       "      <td>Other Business Establishment</td>\n",
       "    </tr>\n",
       "    <tr>\n",
       "      <th>3</th>\n",
       "      <td>4</td>\n",
       "      <td>Police Building</td>\n",
       "    </tr>\n",
       "    <tr>\n",
       "      <th>4</th>\n",
       "      <td>5</td>\n",
       "      <td>Lockup Facility</td>\n",
       "    </tr>\n",
       "  </tbody>\n",
       "</table>\n",
       "</div>"
      ],
      "text/plain": [
       "  Location_Code                Location_Value\n",
       "0             1         Food Sales/Restaurant\n",
       "1             2           Tavern/Liquor Store\n",
       "2             3  Other Business Establishment\n",
       "3             4               Police Building\n",
       "4             5               Lockup Facility"
      ]
     },
     "execution_count": 7,
     "metadata": {},
     "output_type": "execute_result"
    }
   ],
   "source": [
    "location_code.head()"
   ]
  },
  {
   "cell_type": "markdown",
   "metadata": {},
   "source": [
    "## Apr 2016 Data"
   ]
  },
  {
   "cell_type": "markdown",
   "metadata": {},
   "source": [
    "### Report 1"
   ]
  },
  {
   "cell_type": "code",
   "execution_count": 8,
   "metadata": {
    "collapsed": false
   },
   "outputs": [
    {
     "data": {
      "text/plain": [
       "['All complaints during 2012.xls',\n",
       " 'All complaints during 2013.xls',\n",
       " 'All complaints during 2014.xls',\n",
       " 'All complaints during 2015.xls',\n",
       " 'All complaints during 2016YTD.xls',\n",
       " \"IPRA Investigators' Info.xls\",\n",
       " 'Shootings Victim Data.xls']"
      ]
     },
     "execution_count": 8,
     "metadata": {},
     "output_type": "execute_result"
    }
   ],
   "source": [
    "in_path_apr_2016_report = in_path\n",
    "out_path_apr_2016_report = out_path\n",
    "\n",
    "files = [x for x in db.list_files(in_path_apr_2016_report) if '.xls' in x]\n",
    "files"
   ]
  },
  {
   "cell_type": "code",
   "execution_count": null,
   "metadata": {
    "collapsed": false
   },
   "outputs": [
    {
     "name": "stdout",
     "output_type": "stream",
     "text": [
      "/Data/Import/input/complaints-ipra-2016-apr/all complaints during 2012.xls\n"
     ]
    }
   ],
   "source": [
    "comp_files = [file for file in files if 'complaints' in file]\n",
    "\n",
    "final_df = pd.DataFrame()\n",
    "metadata_df = pd.DataFrame()\n",
    "for file in comp_files:\n",
    "    ##df = pd.read_excel(in_path_apr_2016_report + file)\n",
    "    df = db.download_file(in_path_apr_2016_report,file)\n",
    "    ## Making Sure Every File contains date the file was created and the foia that created it\n",
    "    #col_list = df.columns.tolist()\n",
    "    #Report_Produced_Date = [x for x in col_list if isinstance(x, datetime.datetime)]\n",
    "    #col_list = [x for x in col_list if isinstance(x, datetime.datetime)==False]\n",
    "    #FOIA_Request = [x for x in col_list if 'FOIA' in x][0]\n",
    "    \n",
    "    df.dropna(how='all', inplace=True)\n",
    "    #print(df.head())\n",
    "\n",
    "    df.columns = [\"CRID\",\"Beat\",\"Street\",\"Address\",\"Location_Value\",\"Incident_Time_Start\",\"Incident_Time_End\",\n",
    "                  \"Notification_Date\",\"Closed_Date\",\"Investigator_Last_Name\",\"Investigator_First_Name\",\n",
    "                  \"Accused_First_Name\",\"Accused_Last_Name\",\"Accused_Star\",\"Accused_Unit\",\"Accused_Detail\",\n",
    "                  \"Accused_Appointment_Date\",\"Accused_Rank\",\"Initial_Category_Code\",\"Initial_Category_Description\",\n",
    "                  \"Current_Category_Code\",\"Current_Category_Description\",\"Current_Status\",\"Finding_Code\",\"Disciple_Code\",\n",
    "                  \"Discipline_Description\",\"Involved_Officer_Last_Name\",\"Involved_Officer_First_Name\",\n",
    "                  \"Involved_Officer_Unit\",\"Involved_Officer_Detail\",\"Involved_Officer_Rank\",\n",
    "                  \"Involved_Officer_Age\",\"Involved_Officer_Sex\",\"Involved_Officer_Race\"]\n",
    "\n",
    "\n",
    "    ## Covert Address Columns into single column\n",
    "    df[\"Address\"] = df['Address'].astype(str)\n",
    "    df[\"Street\"] = df[\"Street\"].astype(str)\n",
    "    df[\"Address\"] = df[\"Address\"].str.replace(\"nan\",\"\")\n",
    "    df[\"Address\"] = df[\"Address\"].str.replace(\".0\",\"\")\n",
    "    df[\"Street\"] = df[\"Street\"].str.replace(\"nan\",\"\")\n",
    "\n",
    "    df[\"Address_of_Incident\"] = df[[\"Address\",\"Street\"]].apply(lambda x: ' '.join(x), axis=1)\n",
    "\n",
    "    df = df[[\"CRID\",\"Beat\",\"Address\",\"Street\",\"Address_of_Incident\",\"Location_Value\",\"Incident_Time_Start\",\n",
    "             \"Incident_Time_End\",\"Notification_Date\",\"Closed_Date\",\"Investigator_Last_Name\",\"Investigator_First_Name\",\n",
    "             \"Accused_First_Name\",\"Accused_Last_Name\",\"Accused_Star\",\"Accused_Unit\",\"Accused_Detail\",\n",
    "             \"Accused_Appointment_Date\",\"Accused_Rank\",\"Initial_Category_Code\",\"Initial_Category_Description\",\n",
    "             \"Current_Category_Code\",\"Current_Category_Description\",\"Current_Status\",\"Finding_Code\",\"Disciple_Code\",\n",
    "             \"Discipline_Description\",\"Involved_Officer_Last_Name\",\"Involved_Officer_First_Name\",\n",
    "             \"Involved_Officer_Unit\",\"Involved_Officer_Detail\",\"Involved_Officer_Rank\",\n",
    "             \"Involved_Officer_Age\",\"Involved_Officer_Sex\",\"Involved_Officer_Race\"]]\n",
    "\n",
    "    \n",
    "    ## Adding File Metadata\n",
    "    ##df[\"FOIA_Request_Number\"]=FOIA_Request\n",
    "    try:\n",
    "        df[\"Report_Produced_Date\"]=Report_Produced_Date.date()\n",
    "    except:\n",
    "        df[\"Report_Produced_Date\"]=''    \n",
    "\n",
    "    final_df = final_df.append(df)\n",
    "    final_df.reset_index(drop=True,inplace=True)\n",
    "    metadata_df = metadata_df.append(metadata_dataset(df,file))\n",
    "    metadata_df.reset_index(drop=True,inplace=True)"
   ]
  },
  {
   "cell_type": "code",
   "execution_count": 9,
   "metadata": {
    "collapsed": false
   },
   "outputs": [
    {
     "ename": "NameError",
     "evalue": "name 'final_df' is not defined",
     "output_type": "error",
     "traceback": [
      "\u001b[0;31m---------------------------------------------------------------------------\u001b[0m",
      "\u001b[0;31mNameError\u001b[0m                                 Traceback (most recent call last)",
      "\u001b[0;32m<ipython-input-9-388c98b1cf15>\u001b[0m in \u001b[0;36m<module>\u001b[0;34m()\u001b[0m\n\u001b[0;32m----> 1\u001b[0;31m \u001b[0mfinal_df\u001b[0m\u001b[0;34m.\u001b[0m\u001b[0mhead\u001b[0m\u001b[0;34m(\u001b[0m\u001b[0;34m)\u001b[0m\u001b[0;34m\u001b[0m\u001b[0m\n\u001b[0m",
      "\u001b[0;31mNameError\u001b[0m: name 'final_df' is not defined"
     ]
    }
   ],
   "source": [
    "final_df.head()"
   ]
  },
  {
   "cell_type": "code",
   "execution_count": 12,
   "metadata": {
    "collapsed": true
   },
   "outputs": [],
   "source": [
    "saving_files = \"All_complaints_during_2012-2016YTD\"\n",
    "\n",
    "final_df.to_csv(out_path_apr_2016_report+saving_files+\".csv\",index=False)\n",
    "final_df.to_excel(out_path_apr_2016_report+saving_files+\".xlsx\",index=False)\n",
    "\n",
    "metadata_df.to_csv(out_path_apr_2016_report+saving_files+\"_metadata.csv\",index=False)"
   ]
  },
  {
   "cell_type": "markdown",
   "metadata": {},
   "source": [
    "### Report 2"
   ]
  },
  {
   "cell_type": "code",
   "execution_count": 13,
   "metadata": {
    "collapsed": false
   },
   "outputs": [],
   "source": [
    "## FILE SEEMS TO CONTAIN 2 SEPARATE FILES\n",
    "file = files[5]\n",
    "#df1 = pd.read_excel(in_path_apr_2016_report + file)\n",
    "df1 = db.download_file(in_path_apr_2016_report,file)\n",
    "#df2 = pd.read_excel(in_path_apr_2016_report + file, skiprows=1)\n",
    "df2 = db.download_file(in_path_apr_2016_report,file,skip=1)\n",
    "## Making Sure Every File contains date the file was created and the foia that created it\n",
    "#col_list = df.columns.tolist()\n",
    "#Report_Produced_Date = [x for x in col_list if isinstance(x, datetime.datetime)]\n",
    "#col_list = [x for x in col_list if isinstance(x, datetime.datetime)==False]\n",
    "#FOIA_Request = [x for x in col_list if 'FOIA' in x][0]\n",
    "df1.dropna(how='all', inplace=True)\n",
    "df1 = df1[[\"Badge #\",\"Last Name\",\"First Name\",\"Title\"]]\n",
    "df1.dropna(how='all', inplace=True)\n",
    "df2 = df2[[\"Name\",\"Position\",\"Hire Date\",\"Hire Date\",\"Employment\",\"Date\"]]\n",
    "df2.dropna(subset=['Name','Position'], inplace=True)\n",
    "## Drop all null columns\n",
    "df1 = null_dropper(df1)\n",
    "df2 = null_dropper(df2)\n",
    "\n",
    "df1.columns = [\"CRID\",\"Investigator_Last_Name\",\"Investigator_First_name\",\"Investigator_Rank\"]\n",
    "df2.columns = [\"Investigator_Name\",\"Investigator_Rank\",\"Investigator_City_Hire_Date\",\n",
    "              \"Investigator_IPRA_Hire_Date\",\"Investigator_Employment_Status\",\"Investigator_Left_Date\"]\n",
    "\n",
    "##df[\"FOIA_Request_Number\"]=FOIA_Request\n",
    "#try:\n",
    "#    df[\"Report_Produced_Date\"]=Report_Produced_Date.date()\n",
    "#except:\n",
    "#    df[\"Report_Produced_Date\"]=''\n",
    "final_df1 = df1\n",
    "final_df1.reset_index(drop=True,inplace=True)\n",
    "final_df2 = df2\n",
    "final_df2.reset_index(drop=True,inplace=True)\n",
    "\n",
    "metadata_df1 = metadata_dataset(final_df1,file)\n",
    "metadata_df1.reset_index(drop=True,inplace=True)\n",
    "\n",
    "metadata_df2 = metadata_dataset(final_df2,file)\n",
    "metadata_df2.reset_index(drop=True,inplace=True)"
   ]
  },
  {
   "cell_type": "code",
   "execution_count": 14,
   "metadata": {
    "collapsed": true
   },
   "outputs": [],
   "source": [
    "saving_file = \"IPRA_Investigators_Officers\"\n",
    "final_df1.to_csv(out_path_apr_2016_report+saving_file+\".csv\",index=False)\n",
    "final_df1.to_excel(out_path_apr_2016_report+saving_file+\".xlsx\",index=False)\n",
    "\n",
    "metadata_df1.to_csv(out_path_apr_2016_report+saving_file+\"_metadata.csv\",index=False)\n",
    "\n",
    "saving_file = \"IPRA_Investigators_Staff\"\n",
    "final_df2.to_csv(out_path_apr_2016_report+saving_file+\".csv\",index=False)\n",
    "final_df2.to_excel(out_path_apr_2016_report+saving_file+\".xlsx\",index=False)\n",
    "\n",
    "metadata_df2.to_csv(out_path_apr_2016_report+saving_file+\"_metadata.csv\",index=False)"
   ]
  },
  {
   "cell_type": "markdown",
   "metadata": {},
   "source": [
    "### Report 3"
   ]
  },
  {
   "cell_type": "code",
   "execution_count": 16,
   "metadata": {
    "collapsed": false
   },
   "outputs": [
    {
     "name": "stdout",
     "output_type": "stream",
     "text": [
      "      LOG_NO  LastOfOCCURANCE_UNIT_NO POLICE_SHOOTING LastOfFROM_DATETIME  \\\n",
      "0  1000341.0                     15.0             Yes 2006-10-09 17:40:00   \n",
      "1  1000343.0                      4.0             Yes 2006-10-09 23:09:00   \n",
      "2  1000343.0                      4.0             Yes 2006-10-09 23:09:00   \n",
      "3  1000647.0                      9.0             Yes 2006-10-21 01:50:00   \n",
      "4  1000647.0                      9.0             Yes 2006-10-21 01:50:00   \n",
      "\n",
      "   LastOfSTREET_NO LastOfSTREET_DIRECTION LastOfSTREET_NME LastOfCITY  \\\n",
      "0            932.0                  North      LATROBE AVE    CHICAGO   \n",
      "1           8132.0                  South       COLFAX AVE    CHICAGO   \n",
      "2           8132.0                  South       COLFAX AVE    CHICAGO   \n",
      "3           4505.0                  South      ASHLAND AVE    CHICAGO   \n",
      "4           4505.0                  South      ASHLAND AVE    CHICAGO   \n",
      "\n",
      "  PARTY_TYPE INITIAL_CATEGORY_CODE     ...     CURRENT_CATEGORY_TYPE_CODE  \\\n",
      "0     Victim                   18A     ...                            18A   \n",
      "1     Victim                   18A     ...                            18A   \n",
      "2     Victim                   18A     ...                            18A   \n",
      "3     Victim                  S249     ...                            018   \n",
      "4     Victim                  S249     ...                            018   \n",
      "\n",
      "  CURRENT_CATEGORY_CODE LastOfZIP_CD                       CURRENT_CATEGORY  \\\n",
      "0                  S249      60651.0  FIREARM DISCHARGE WITH HITS - HANDGUN   \n",
      "1                  S249      60617.0  FIREARM DISCHARGE WITH HITS - HANDGUN   \n",
      "2                  S249      60617.0  FIREARM DISCHARGE WITH HITS - HANDGUN   \n",
      "3                   18A      60609.0  FIREARM DISCHARGE WITH HITS / ON DUTY   \n",
      "4                   18A      60609.0  FIREARM DISCHARGE WITH HITS / ON DUTY   \n",
      "\n",
      "                 CURRENT_CATEGORY_TYPE   AGE   SEX   RACE      COMPLAINT_DATE  \\\n",
      "0                      OPS SUBCODE 18A  37.0  MALE  BLACK 2006-10-09 22:20:41   \n",
      "1                      OPS SUBCODE 18A  21.0  MALE  BLACK 2006-10-10 00:10:52   \n",
      "2                      OPS SUBCODE 18A  22.0  MALE  BLACK 2006-10-10 00:10:52   \n",
      "3  GROUP 18 - POLICE INVOLVED SHOOTING  24.0  MALE  BLACK 2006-10-21 02:55:31   \n",
      "4  GROUP 18 - POLICE INVOLVED SHOOTING  27.0  MALE  BLACK 2006-10-21 02:55:31   \n",
      "\n",
      "  CR_REQUIRED  \n",
      "0          No  \n",
      "1          No  \n",
      "2          No  \n",
      "3          No  \n",
      "4          No  \n",
      "\n",
      "[5 rows x 23 columns]\n"
     ]
    }
   ],
   "source": [
    "file = files[6]\n",
    "##df = pd.read_excel(in_path_apr_2016_report + file,nrows=20)\n",
    "df = db.download_file(in_path_apr_2016_report,file,rows=20)\n",
    "print(df.head())\n",
    "## Making Sure Every File contains date the file was created and the foia that created it\n",
    "#col_list = df.columns.tolist()\n",
    "#Report_Produced_Date = [x for x in col_list if isinstance(x, datetime.datetime)]\n",
    "#col_list = [x for x in col_list if isinstance(x, datetime.datetime)==False]\n",
    "#FOIA_Request = [x for x in col_list if 'FOIA' in x][0]\n",
    "\n",
    "df.dropna(how='all', inplace=True)\n",
    "## Drop all null columns\n",
    "df = null_dropper(df)\n",
    "df.columns = [\"CRID\",\"Unit\",\"Police_Shooting\",\"Incident_Date\",\"Address\",\"Direction\",\"Street\",\"City\",\n",
    "              \"Party\",\"Initial_Category_Code\",\"Initial_Category_Description\",\"Initital_Category_Type_Code\",\n",
    "             \"Initital_Category_Type_Description\",\"Current_Category_Code\",\"Current_Category_Type_Code\",\n",
    "              \"Zip\",\"Current_Category_Description\",\"Current_Category_Type_Description\",\"Victim_Age\",\"Victim_Sex\",\n",
    "             \"Victim_Race\",\"Complaint_Date\",\"CR_Required\"]\n",
    "\n",
    "## Covert Address Columns into single column\n",
    "df[\"Address\"] = df['Address'].astype(str)\n",
    "df[\"Direction\"] = df['Direction'].astype(str)\n",
    "df[\"Street\"] = df[\"Street\"].astype(str)\n",
    "df[\"Address\"] = df[\"Address\"].str.replace(\"nan\",\"\")\n",
    "df[\"Address\"] = df[\"Address\"].str.replace(\".0\",\"\")\n",
    "df[\"Direction\"] = df['Direction'].str.replace(\"nan\",\"\")\n",
    "df[\"Street\"] = df[\"Street\"].str.replace(\"nan\",\"\")\n",
    "\n",
    "df[\"Address_of_Incident\"] = df[[\"Address\",\"Direction\",\"Street\"]].apply(lambda x: ' '.join(x), axis=1)\n",
    "\n",
    "df = df[[\"CRID\",\"Unit\",\"Police_Shooting\",\"Incident_Date\",\"Address\",\"Direction\",\"Street\",\"Address_of_Incident\",\n",
    "         \"City\",\"Zip\",\"Party\",\"Initial_Category_Code\",\"Initial_Category_Description\",\"Initital_Category_Type_Code\",\n",
    "         \"Initital_Category_Type_Description\",\"Current_Category_Code\",\"Current_Category_Description\",\n",
    "         \"Current_Category_Type_Code\",\"Current_Category_Type_Description\",\"Victim_Age\",\"Victim_Sex\",\n",
    "         \"Victim_Race\",\"Complaint_Date\",\"CR_Required\"]]\n",
    "\n",
    "#df[\"FOIA_Request_Number\"]=FOIA_Request\n",
    "try:\n",
    "    df[\"Report_Produced_Date\"]=Report_Produced_Date.date()\n",
    "except:\n",
    "    df[\"Report_Produced_Date\"]=''\n",
    "final_df = df\n",
    "final_df.reset_index(drop=True,inplace=True)\n",
    "metadata_df = metadata_dataset(final_df,file)\n",
    "metadata_df.reset_index(drop=True,inplace=True)"
   ]
  },
  {
   "cell_type": "code",
   "execution_count": 17,
   "metadata": {
    "collapsed": true
   },
   "outputs": [],
   "source": [
    "saving_file = \"Shootings_Victim_Data\"\n",
    "final_df.to_csv(out_path_apr_2016_report+saving_file+\".csv\",index=False)\n",
    "final_df.to_excel(out_path_apr_2016_report+saving_file+\".xlsx\",index=False)\n",
    "\n",
    "metadata_df.to_csv(out_path_apr_2016_report+saving_file+\"_metadata.csv\",index=False)\n"
   ]
  }
 ],
 "metadata": {
  "anaconda-cloud": {},
  "kernelspec": {
   "display_name": "Civis Model",
   "language": "python",
   "name": "civis-model"
  },
  "language_info": {
   "codemirror_mode": {
    "name": "ipython",
    "version": 3
   },
   "file_extension": ".py",
   "mimetype": "text/x-python",
   "name": "python",
   "nbconvert_exporter": "python",
   "pygments_lexer": "ipython3",
   "version": "3.5.2"
  }
 },
 "nbformat": 4,
 "nbformat_minor": 0
}
