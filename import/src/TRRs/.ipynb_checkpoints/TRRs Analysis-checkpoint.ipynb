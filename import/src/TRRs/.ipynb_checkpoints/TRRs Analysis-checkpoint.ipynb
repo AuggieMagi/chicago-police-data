{
 "cells": [
  {
   "cell_type": "code",
   "execution_count": 1,
   "metadata": {
    "collapsed": false
   },
   "outputs": [],
   "source": [
    "import dropbox\n",
    "import os\n",
    "import pandas as pd\n",
    "import numpy as np\n",
    "import re\n",
    "import sys\n",
    "import datetime\n",
    "import itertools\n",
    "import io"
   ]
  },
  {
   "cell_type": "code",
   "execution_count": 2,
   "metadata": {
    "collapsed": false
   },
   "outputs": [],
   "source": [
    "module_path = os.path.abspath(os.path.join('..'))\n",
    "if module_path not in sys.path:\n",
    "    sys.path.append(module_path)\n",
    "from utils.utils import *"
   ]
  },
  {
   "cell_type": "code",
   "execution_count": 4,
   "metadata": {
    "collapsed": false
   },
   "outputs": [
    {
     "data": {
      "text/plain": [
       "['TRR Data - 10.29 public.xlsx',\n",
       " 'TRR Data - 10.29 lookup only.xlsx',\n",
       " 'geocoded (with lat and lon in separate columns).xlsx',\n",
       " 'column headers.xlsx',\n",
       " 'column headers.pdf',\n",
       " 'column headers.csv',\n",
       " '10655-FOIA-P046360-TRRdata_cleaned.xlsx']"
      ]
     },
     "execution_count": 4,
     "metadata": {},
     "output_type": "execute_result"
    }
   ],
   "source": [
    "db = dropbox_handler()\n",
    "db.list_files('/Data/chicago-police-data/Import/input/TRRs/')"
   ]
  },
  {
   "cell_type": "markdown",
   "metadata": {},
   "source": [
    "### LOCAL PATH MUST BE SPECIFIED BY USER AS OUTPUT FILES ARE SAVED LOCALLY"
   ]
  },
  {
   "cell_type": "code",
   "execution_count": null,
   "metadata": {
    "collapsed": true
   },
   "outputs": [],
   "source": [
    "local_path = '/your/path/here/'"
   ]
  },
  {
   "cell_type": "code",
   "execution_count": null,
   "metadata": {
    "collapsed": true
   },
   "outputs": [],
   "source": [
    "path = '/Data/chicago-police-data/import'\n",
    "db = dropbox_handler()\n",
    "db.list_files(path+'/input')"
   ]
  },
  {
   "cell_type": "code",
   "execution_count": 4,
   "metadata": {
    "collapsed": false
   },
   "outputs": [
    {
     "name": "stdout",
     "output_type": "stream",
     "text": [
      "/Data/Import/doc/Location_Code_Dictionary.csv\n"
     ]
    },
    {
     "data": {
      "text/html": [
       "<div>\n",
       "<table border=\"1\" class=\"dataframe\">\n",
       "  <thead>\n",
       "    <tr style=\"text-align: right;\">\n",
       "      <th></th>\n",
       "      <th>Location_Code</th>\n",
       "      <th>Location_Value</th>\n",
       "    </tr>\n",
       "  </thead>\n",
       "  <tbody>\n",
       "    <tr>\n",
       "      <th>0</th>\n",
       "      <td>1</td>\n",
       "      <td>Food Sales/Restaurant</td>\n",
       "    </tr>\n",
       "    <tr>\n",
       "      <th>1</th>\n",
       "      <td>2</td>\n",
       "      <td>Tavern/Liquor Store</td>\n",
       "    </tr>\n",
       "    <tr>\n",
       "      <th>2</th>\n",
       "      <td>3</td>\n",
       "      <td>Other Business Establishment</td>\n",
       "    </tr>\n",
       "    <tr>\n",
       "      <th>3</th>\n",
       "      <td>4</td>\n",
       "      <td>Police Building</td>\n",
       "    </tr>\n",
       "    <tr>\n",
       "      <th>4</th>\n",
       "      <td>5</td>\n",
       "      <td>Lockup Facility</td>\n",
       "    </tr>\n",
       "    <tr>\n",
       "      <th>5</th>\n",
       "      <td>6</td>\n",
       "      <td>Police Maintenance Facility</td>\n",
       "    </tr>\n",
       "    <tr>\n",
       "      <th>6</th>\n",
       "      <td>7</td>\n",
       "      <td>CPD Automotive Pound Facility</td>\n",
       "    </tr>\n",
       "    <tr>\n",
       "      <th>7</th>\n",
       "      <td>8</td>\n",
       "      <td>Other Police Property</td>\n",
       "    </tr>\n",
       "    <tr>\n",
       "      <th>8</th>\n",
       "      <td>9</td>\n",
       "      <td>Police Communications Systems</td>\n",
       "    </tr>\n",
       "    <tr>\n",
       "      <th>9</th>\n",
       "      <td>10</td>\n",
       "      <td>Court Room</td>\n",
       "    </tr>\n",
       "    <tr>\n",
       "      <th>10</th>\n",
       "      <td>11</td>\n",
       "      <td>Public Transportation Vehicle/Facility</td>\n",
       "    </tr>\n",
       "    <tr>\n",
       "      <th>11</th>\n",
       "      <td>12</td>\n",
       "      <td>Park District Property</td>\n",
       "    </tr>\n",
       "    <tr>\n",
       "      <th>12</th>\n",
       "      <td>13</td>\n",
       "      <td>Airport</td>\n",
       "    </tr>\n",
       "    <tr>\n",
       "      <th>13</th>\n",
       "      <td>14</td>\n",
       "      <td>Public Property - Other</td>\n",
       "    </tr>\n",
       "    <tr>\n",
       "      <th>14</th>\n",
       "      <td>15</td>\n",
       "      <td>Other Private Premise</td>\n",
       "    </tr>\n",
       "    <tr>\n",
       "      <th>15</th>\n",
       "      <td>16</td>\n",
       "      <td>Expressway/Interstate System</td>\n",
       "    </tr>\n",
       "    <tr>\n",
       "      <th>16</th>\n",
       "      <td>17</td>\n",
       "      <td>Public Way - Other</td>\n",
       "    </tr>\n",
       "    <tr>\n",
       "      <th>17</th>\n",
       "      <td>18</td>\n",
       "      <td>Waterway Including Park District</td>\n",
       "    </tr>\n",
       "    <tr>\n",
       "      <th>18</th>\n",
       "      <td>19</td>\n",
       "      <td>Private Residence</td>\n",
       "    </tr>\n",
       "  </tbody>\n",
       "</table>\n",
       "</div>"
      ],
      "text/plain": [
       "   Location_Code                          Location_Value\n",
       "0              1                   Food Sales/Restaurant\n",
       "1              2                     Tavern/Liquor Store\n",
       "2              3            Other Business Establishment\n",
       "3              4                         Police Building\n",
       "4              5                         Lockup Facility\n",
       "5              6             Police Maintenance Facility\n",
       "6              7           CPD Automotive Pound Facility\n",
       "7              8                   Other Police Property\n",
       "8              9           Police Communications Systems\n",
       "9             10                              Court Room\n",
       "10            11  Public Transportation Vehicle/Facility\n",
       "11            12                  Park District Property\n",
       "12            13                                 Airport\n",
       "13            14                 Public Property - Other\n",
       "14            15                   Other Private Premise\n",
       "15            16            Expressway/Interstate System\n",
       "16            17                      Public Way - Other\n",
       "17            18        Waterway Including Park District\n",
       "18            19                       Private Residence"
      ]
     },
     "execution_count": 4,
     "metadata": {},
     "output_type": "execute_result"
    }
   ],
   "source": [
    "location_code = db.download_file(path+'/doc/','Location_Code_Dictionary.csv')\n",
    "location_code.dropna(how='all', inplace=True)\n",
    "location_code['Location_Code']=location_code['Location_Code'].astype(int).astype(str)\n",
    "location_code"
   ]
  },
  {
   "cell_type": "markdown",
   "metadata": {},
   "source": [
    "### Reading Public File Locally"
   ]
  },
  {
   "cell_type": "code",
   "execution_count": 5,
   "metadata": {
    "collapsed": true
   },
   "outputs": [],
   "source": [
    "##file_loc = \"/Users/thudson/Documents/Github/chicago-police-data with TRR Data/import/input/TRRs/\"\n",
    "file_loc = '/Data/Import/input/TRRs/'\n",
    "file_name = 'TRR Data_10_29 public.xlsx'"
   ]
  },
  {
   "cell_type": "code",
   "execution_count": 6,
   "metadata": {
    "collapsed": false
   },
   "outputs": [
    {
     "name": "stdout",
     "output_type": "stream",
     "text": [
      "/Data/Import/input/TRRs/TRR Data_10_29 public.xlsx\n"
     ]
    },
    {
     "data": {
      "text/plain": [
       "['Events',\n",
       " 'Notes',\n",
       " 'Officers',\n",
       " 'Star #',\n",
       " 'TRRs',\n",
       " 'ActionsResponses',\n",
       " 'WeaponDischarges',\n",
       " 'Charges',\n",
       " 'SubjectWeapons',\n",
       " 'Statuses_OtherMembers',\n",
       " 'IIColHeaders',\n",
       " 'OfficerFrontPage',\n",
       " 'SwornOfficers',\n",
       " 'Awards',\n",
       " 'SwornAll',\n",
       " 'Settlements',\n",
       " 'Units',\n",
       " 'Lookups']"
      ]
     },
     "execution_count": 6,
     "metadata": {},
     "output_type": "execute_result"
    }
   ],
   "source": [
    "sheets = db.download_file(file_loc,file_name,return_sheets=True)\n",
    "##sheets = pd.ExcelFile(file_loc + file_name).sheet_names\n",
    "sheets"
   ]
  },
  {
   "cell_type": "code",
   "execution_count": 11,
   "metadata": {
    "collapsed": false
   },
   "outputs": [
    {
     "name": "stdout",
     "output_type": "stream",
     "text": [
      "/Data/Import/input/TRRs/TRR Data_10_29 public.xlsx\n",
      "Index(['EVENT_NO', 'TRRs', 'Officers', 'Booked', 'CRID', 'Beat', 'District',\n",
      "       'Date', 'Year', 'Quarter', 'Qyear', 'Time', 'TotalWeapDisc',\n",
      "       'AnySubjArmed', 'NumSubjWeapons', 'SubjFirearms', 'SubjThreats',\n",
      "       'SubjUnarmedAttack', 'SubjMeleeWeapon', 'SubjVehicle',\n",
      "       'SubjOtherWeapon', 'Injury', 'InjuryAlleg', 'NumPOInj', 'NumPOOnDuty',\n",
      "       'NumPOInUni', 'HighestRankOnScene', 'Most Resistance', 'Most Force',\n",
      "       'ForceSocialVerbal', 'ForcePhysHold', 'ForcePhysStun',\n",
      "       'ForcePhysDirect', 'ForceChem', 'ForceChemAuth', 'ForceTaser',\n",
      "       'ForceImpactWep', 'ForceFirearm', 'ForceOther',\n",
      "       'IncludesCoded'OtherForce'', 'DutyStatus', 'Uniform Status',\n",
      "       'POFiredShots', 'POsGunshotHitPerson', 'TotalPOShotsFired',\n",
      "       'TasersFired', 'ChemFired', 'OtherPOWep', 'PO_Black', 'PO_White',\n",
      "       'PO_Hispanic', 'PO_Asian', 'PO_Native Am', 'POHomEvents'],\n",
      "      dtype='object')\n"
     ]
    },
    {
     "ename": "ValueError",
     "evalue": "Length mismatch: Expected axis has 54 elements, new values have 59 elements",
     "output_type": "error",
     "traceback": [
      "\u001b[0;31m---------------------------------------------------------------------------\u001b[0m",
      "\u001b[0;31mValueError\u001b[0m                                Traceback (most recent call last)",
      "\u001b[0;32m<ipython-input-11-f287a93c399a>\u001b[0m in \u001b[0;36m<module>\u001b[0;34m()\u001b[0m\n\u001b[1;32m     19\u001b[0m               \u001b[0;34m'Subject_Alleged_Injury'\u001b[0m\u001b[0;34m,\u001b[0m\u001b[0;34m'Compl%'\u001b[0m\u001b[0;34m,\u001b[0m\u001b[0;34m'Sworn_All_Check'\u001b[0m\u001b[0;34m,\u001b[0m\u001b[0;34m'Dup_Over'\u001b[0m\u001b[0;34m,\u001b[0m\u001b[0;34m'Unique_ID'\u001b[0m\u001b[0;34m,\u001b[0m\u001b[0;34m'WeapDischType'\u001b[0m\u001b[0;34m,\u001b[0m\u001b[0;34m\u001b[0m\u001b[0m\n\u001b[1;32m     20\u001b[0m               \u001b[0;34m'GunHit'\u001b[0m\u001b[0;34m,\u001b[0m\u001b[0;34m'SwornAll2 Check'\u001b[0m\u001b[0;34m,\u001b[0m\u001b[0;34m'PO_TRRS_Event'\u001b[0m\u001b[0;34m,\u001b[0m\u001b[0;34m'POCounter'\u001b[0m\u001b[0;34m,\u001b[0m\u001b[0;34m'Booked_TRRs_Event'\u001b[0m\u001b[0;34m,\u001b[0m\u001b[0;34m'BookedCounter'\u001b[0m\u001b[0;34m,\u001b[0m\u001b[0;34m\u001b[0m\u001b[0m\n\u001b[0;32m---> 21\u001b[0;31m               'POHomCheck','HighestForceTRR']\n\u001b[0m\u001b[1;32m     22\u001b[0m \u001b[0;34m\u001b[0m\u001b[0m\n\u001b[1;32m     23\u001b[0m \u001b[0;34m\u001b[0m\u001b[0m\n",
      "\u001b[0;32m/Users/thudson/anaconda/envs/civis-model/lib/python3.5/site-packages/pandas/core/generic.py\u001b[0m in \u001b[0;36m__setattr__\u001b[0;34m(self, name, value)\u001b[0m\n\u001b[1;32m   2683\u001b[0m         \u001b[0;32mtry\u001b[0m\u001b[0;34m:\u001b[0m\u001b[0;34m\u001b[0m\u001b[0m\n\u001b[1;32m   2684\u001b[0m             \u001b[0mobject\u001b[0m\u001b[0;34m.\u001b[0m\u001b[0m__getattribute__\u001b[0m\u001b[0;34m(\u001b[0m\u001b[0mself\u001b[0m\u001b[0;34m,\u001b[0m \u001b[0mname\u001b[0m\u001b[0;34m)\u001b[0m\u001b[0;34m\u001b[0m\u001b[0m\n\u001b[0;32m-> 2685\u001b[0;31m             \u001b[0;32mreturn\u001b[0m \u001b[0mobject\u001b[0m\u001b[0;34m.\u001b[0m\u001b[0m__setattr__\u001b[0m\u001b[0;34m(\u001b[0m\u001b[0mself\u001b[0m\u001b[0;34m,\u001b[0m \u001b[0mname\u001b[0m\u001b[0;34m,\u001b[0m \u001b[0mvalue\u001b[0m\u001b[0;34m)\u001b[0m\u001b[0;34m\u001b[0m\u001b[0m\n\u001b[0m\u001b[1;32m   2686\u001b[0m         \u001b[0;32mexcept\u001b[0m \u001b[0mAttributeError\u001b[0m\u001b[0;34m:\u001b[0m\u001b[0;34m\u001b[0m\u001b[0m\n\u001b[1;32m   2687\u001b[0m             \u001b[0;32mpass\u001b[0m\u001b[0;34m\u001b[0m\u001b[0m\n",
      "\u001b[0;32mpandas/src/properties.pyx\u001b[0m in \u001b[0;36mpandas.lib.AxisProperty.__set__ (pandas/lib.c:44748)\u001b[0;34m()\u001b[0m\n",
      "\u001b[0;32m/Users/thudson/anaconda/envs/civis-model/lib/python3.5/site-packages/pandas/core/generic.py\u001b[0m in \u001b[0;36m_set_axis\u001b[0;34m(self, axis, labels)\u001b[0m\n\u001b[1;32m    426\u001b[0m \u001b[0;34m\u001b[0m\u001b[0m\n\u001b[1;32m    427\u001b[0m     \u001b[0;32mdef\u001b[0m \u001b[0m_set_axis\u001b[0m\u001b[0;34m(\u001b[0m\u001b[0mself\u001b[0m\u001b[0;34m,\u001b[0m \u001b[0maxis\u001b[0m\u001b[0;34m,\u001b[0m \u001b[0mlabels\u001b[0m\u001b[0;34m)\u001b[0m\u001b[0;34m:\u001b[0m\u001b[0;34m\u001b[0m\u001b[0m\n\u001b[0;32m--> 428\u001b[0;31m         \u001b[0mself\u001b[0m\u001b[0;34m.\u001b[0m\u001b[0m_data\u001b[0m\u001b[0;34m.\u001b[0m\u001b[0mset_axis\u001b[0m\u001b[0;34m(\u001b[0m\u001b[0maxis\u001b[0m\u001b[0;34m,\u001b[0m \u001b[0mlabels\u001b[0m\u001b[0;34m)\u001b[0m\u001b[0;34m\u001b[0m\u001b[0m\n\u001b[0m\u001b[1;32m    429\u001b[0m         \u001b[0mself\u001b[0m\u001b[0;34m.\u001b[0m\u001b[0m_clear_item_cache\u001b[0m\u001b[0;34m(\u001b[0m\u001b[0;34m)\u001b[0m\u001b[0;34m\u001b[0m\u001b[0m\n\u001b[1;32m    430\u001b[0m \u001b[0;34m\u001b[0m\u001b[0m\n",
      "\u001b[0;32m/Users/thudson/anaconda/envs/civis-model/lib/python3.5/site-packages/pandas/core/internals.py\u001b[0m in \u001b[0;36mset_axis\u001b[0;34m(self, axis, new_labels)\u001b[0m\n\u001b[1;32m   2633\u001b[0m             raise ValueError('Length mismatch: Expected axis has %d elements, '\n\u001b[1;32m   2634\u001b[0m                              \u001b[0;34m'new values have %d elements'\u001b[0m \u001b[0;34m%\u001b[0m\u001b[0;34m\u001b[0m\u001b[0m\n\u001b[0;32m-> 2635\u001b[0;31m                              (old_len, new_len))\n\u001b[0m\u001b[1;32m   2636\u001b[0m \u001b[0;34m\u001b[0m\u001b[0m\n\u001b[1;32m   2637\u001b[0m         \u001b[0mself\u001b[0m\u001b[0;34m.\u001b[0m\u001b[0maxes\u001b[0m\u001b[0;34m[\u001b[0m\u001b[0maxis\u001b[0m\u001b[0;34m]\u001b[0m \u001b[0;34m=\u001b[0m \u001b[0mnew_labels\u001b[0m\u001b[0;34m\u001b[0m\u001b[0m\n",
      "\u001b[0;31mValueError\u001b[0m: Length mismatch: Expected axis has 54 elements, new values have 59 elements"
     ]
    }
   ],
   "source": [
    "sheet = [sheet for sheet in sheets if sheet=='TRRs'][0]\n",
    "\n",
    "final_df = pd.DataFrame()\n",
    "metadata_df = pd.DataFrame()\n",
    "\n",
    "##df = pd.read_excel(file_loc + file_name,sheetname=sheet)\n",
    "df = db.download_file(file_loc,file_name,sheetname=sheet)\n",
    "\n",
    "print(df.columns)\n",
    "\n",
    "df.columns = ['TRR_Report_ID','RD_No','CR_Status','Event_No','Beat','District','Dist_Race',\n",
    "              'Block','Direction','Street','Location','Date','Year','Month','Time_Mil','Indoor_Outdoor',\n",
    "              'Lighting_Condition','Weather_Condition','Notify_OEMC','Notify_District_Sergeant',\n",
    "              'Notify_OP_Command','Notify_Detective_Division','Number_Weapons_Discharged',\n",
    "              'Party_Fired_First','Officer_Last_Name','Officer_First_Name','Officer_Gender',\n",
    "              'Officer_Race','Star','Officer_Age','Appointed_Date','Unit_Assigned','Unit_Detail',\n",
    "              'Assigned_Beat','Rank','Rank2','Duty_Status','Officer_Injured','Member_In_Uniform',\n",
    "              'Subject_Gender','Subject_Race','Subject_Age','Subject_YOB','Subject_Armed','Subject_Injured',\n",
    "              'Subject_Alleged_Injury','Compl%','Sworn_All_Check','Dup_Over','Unique_ID','WeapDischType',\n",
    "              'GunHit','SwornAll2 Check','PO_TRRS_Event','POCounter','Booked_TRRs_Event','BookedCounter',\n",
    "              'POHomCheck','HighestForceTRR']\n",
    "\n",
    "\n",
    "\n",
    "## dropping created fields\n",
    "df = df.drop(['CR_Status','District','Dist_Race','Year','Month','Star','Rank2','Compl%','Sworn_All_Check',\n",
    "              'Dup_Over','Unique_ID','WeapDischType','GunHit','SwornAll2 Check','PO_TRRS_Event',\n",
    "              'POCounter','Booked_TRRs_Event','BookedCounter','POHomCheck','HighestForceTRR'],axis=1)\n",
    "\n",
    "\n",
    "final_df = final_df.append(df)\n",
    "final_df.reset_index(drop=True,inplace=True)\n",
    "metadata_df = metadata_df.append(metadata_dataset(df,sheet))\n",
    "metadata_df.reset_index(drop=True,inplace=True)"
   ]
  },
  {
   "cell_type": "code",
   "execution_count": null,
   "metadata": {
    "collapsed": true
   },
   "outputs": [],
   "source": [
    "out_path = local_path+'/output/TRRs/'\n",
    "saving_files = \"TRRs\"\n",
    "\n",
    "final_df.to_csv(out_path+saving_files+\".csv\",index=False)\n",
    "final_df.to_excel(out_path+saving_files+\".xlsx\",index=False)\n",
    "\n",
    "metadata_df.to_csv(out_path+saving_files+\"_metadata.csv\",index=False)"
   ]
  },
  {
   "cell_type": "code",
   "execution_count": null,
   "metadata": {
    "collapsed": true
   },
   "outputs": [],
   "source": [
    "sheet = [sheet for sheet in sheets if sheet=='Officers'][0]\n",
    "\n",
    "final_df = pd.DataFrame()\n",
    "metadata_df = pd.DataFrame()\n",
    "\n",
    "##df = pd.read_excel(file_loc + file_name,sheetname=sheet)\n",
    "df = db.download_file(file_loc,file_name,sheetname=sheet)\n",
    "\n",
    "df.columns = ['Officer_Last_Name','Officer_First_Name','Star']\n",
    "\n",
    "final_df = final_df.append(df)\n",
    "final_df.reset_index(drop=True,inplace=True)\n",
    "metadata_df = metadata_df.append(metadata_dataset(df,sheet))\n",
    "metadata_df.reset_index(drop=True,inplace=True)"
   ]
  },
  {
   "cell_type": "code",
   "execution_count": null,
   "metadata": {
    "collapsed": true
   },
   "outputs": [],
   "source": [
    "out_path = local_path+'/output/TRRs/'\n",
    "saving_files = \"Officers\"\n",
    "\n",
    "final_df.to_csv(out_path+saving_files+\".csv\",index=False)\n",
    "final_df.to_excel(out_path+saving_files+\".xlsx\",index=False)\n",
    "\n",
    "metadata_df.to_csv(out_path+saving_files+\"_metadata.csv\",index=False)"
   ]
  },
  {
   "cell_type": "code",
   "execution_count": null,
   "metadata": {
    "collapsed": true
   },
   "outputs": [],
   "source": [
    "sheet = [sheet for sheet in sheets if sheet=='Star #'][0]\n",
    "\n",
    "final_df = pd.DataFrame()\n",
    "metadata_df = pd.DataFrame()\n",
    "\n",
    "##df = pd.read_excel(file_loc + file_name,sheetname=sheet)\n",
    "df = db.download_file(file_loc,file_name,sheetname=sheet)\n",
    "\n",
    "df.columns = ['TRR_Report_ID','Officer_Last_Name','Officer_First_Name','Star']\n",
    "\n",
    "final_df = final_df.append(df)\n",
    "final_df.reset_index(drop=True,inplace=True)\n",
    "metadata_df = metadata_df.append(metadata_dataset(df,sheet))\n",
    "metadata_df.reset_index(drop=True,inplace=True)"
   ]
  },
  {
   "cell_type": "code",
   "execution_count": null,
   "metadata": {
    "collapsed": true
   },
   "outputs": [],
   "source": [
    "out_path = local_path+'/output/TRRs/'\n",
    "saving_files = \"Star_No\"\n",
    "\n",
    "final_df.to_csv(out_path+saving_files+\".csv\",index=False)\n",
    "final_df.to_excel(out_path+saving_files+\".xlsx\",index=False)\n",
    "\n",
    "metadata_df.to_csv(out_path+saving_files+\"_metadata.csv\",index=False)"
   ]
  },
  {
   "cell_type": "code",
   "execution_count": null,
   "metadata": {
    "collapsed": true
   },
   "outputs": [],
   "source": [
    "sheet = [sheet for sheet in sheets if sheet=='ActionsResponses'][0]\n",
    "\n",
    "final_df = pd.DataFrame()\n",
    "metadata_df = pd.DataFrame()\n",
    "\n",
    "##df = pd.read_excel(file_loc + file_name,sheetname=sheet)\n",
    "df = db.download_file(file_loc,file_name,sheetname=sheet)\n",
    "\n",
    "df.columns = ['TRR_Report_ID','Person','Resistance_Type','Action','Other_Description','Event','Force_Type'\n",
    "              ,'Force_Type_New','Other_Force','Other_Force_Counter','Force_Type_3','Officer_Race']\n",
    "\n",
    "## dropping fields that were joined manually\n",
    "df = df[['TRR_Report_ID','Person','Resistance_Type','Action','Other_Description']]\n",
    "\n",
    "final_df = final_df.append(df)\n",
    "final_df.reset_index(drop=True,inplace=True)\n",
    "metadata_df = metadata_df.append(metadata_dataset(df,sheet))\n",
    "metadata_df.reset_index(drop=True,inplace=True)"
   ]
  },
  {
   "cell_type": "code",
   "execution_count": null,
   "metadata": {
    "collapsed": true
   },
   "outputs": [],
   "source": [
    "out_path = local_path+'/output/TRRs/'\n",
    "saving_files = \"Actions_Responses\"\n",
    "\n",
    "final_df.to_csv(out_path+saving_files+\".csv\",index=False)\n",
    "final_df.to_excel(out_path+saving_files+\".xlsx\",index=False)\n",
    "\n",
    "metadata_df.to_csv(out_path+saving_files+\"_metadata.csv\",index=False)"
   ]
  },
  {
   "cell_type": "code",
   "execution_count": null,
   "metadata": {
    "collapsed": true
   },
   "outputs": [],
   "source": [
    "sheet = [sheet for sheet in sheets if sheet=='WeaponDischarges'][0]\n",
    "\n",
    "final_df = pd.DataFrame()\n",
    "metadata_df = pd.DataFrame()\n",
    "\n",
    "##df = pd.read_excel(file_loc + file_name,sheetname=sheet)\n",
    "df = db.download_file(file_loc,file_name,sheetname=sheet)\n",
    "\n",
    "df.columns = ['TRR_Report_ID','Weapon_Type','Weapon_Type_Description','Firearm_Make','Firearm_Model',\n",
    "              'Firearm_Barrel_Length','Firearm_Caliber','Total_No_Shots','Firearm_Reloaded',\n",
    "             'No_Cartridges_Reloaded','Handgun_Worn_Type','Handgun_Drawn_Type','Method_Used_Reload'\n",
    "             ,'Sight_Used','Protective_Cover_Used','Discharge_Distance','Object_Struck_Discharge'\n",
    "             ,'Discharge_Position','Type','Taser','Person_Shot','Event']\n",
    "\n",
    "## dropping fields that were joined manually\n",
    "df = df[['TRR_Report_ID','Weapon_Type','Weapon_Type_Description','Firearm_Make','Firearm_Model',\n",
    "              'Firearm_Barrel_Length','Firearm_Caliber','Total_No_Shots','Firearm_Reloaded',\n",
    "             'No_Cartridges_Reloaded','Handgun_Worn_Type','Handgun_Drawn_Type','Method_Used_Reload'\n",
    "             ,'Sight_Used','Protective_Cover_Used','Discharge_Distance','Object_Struck_Discharge'\n",
    "             ,'Discharge_Position']]\n",
    "\n",
    "final_df = final_df.append(df)\n",
    "final_df.reset_index(drop=True,inplace=True)\n",
    "metadata_df = metadata_df.append(metadata_dataset(df,sheet))\n",
    "metadata_df.reset_index(drop=True,inplace=True)"
   ]
  },
  {
   "cell_type": "code",
   "execution_count": null,
   "metadata": {
    "collapsed": true
   },
   "outputs": [],
   "source": [
    "out_path = local_path+'/output/TRRs/'\n",
    "saving_files = \"Weapon_Discharges\"\n",
    "\n",
    "final_df.to_csv(out_path+saving_files+\".csv\",index=False)\n",
    "final_df.to_excel(out_path+saving_files+\".xlsx\",index=False)\n",
    "\n",
    "metadata_df.to_csv(out_path+saving_files+\"_metadata.csv\",index=False)"
   ]
  },
  {
   "cell_type": "code",
   "execution_count": null,
   "metadata": {
    "collapsed": true
   },
   "outputs": [],
   "source": [
    "sheet = [sheet for sheet in sheets if sheet=='Charges'][0]\n",
    "\n",
    "final_df = pd.DataFrame()\n",
    "metadata_df = pd.DataFrame()\n",
    "\n",
    "##df = pd.read_excel(file_loc + file_name,sheetname=sheet)\n",
    "df = db.download_file(file_loc,file_name,sheetname=sheet)\n",
    "\n",
    "df.columns = ['TRR_Report_ID','RD_No','Statute','Description']\n",
    "\n",
    "final_df = final_df.append(df)\n",
    "final_df.reset_index(drop=True,inplace=True)\n",
    "metadata_df = metadata_df.append(metadata_dataset(df,sheet))\n",
    "metadata_df.reset_index(drop=True,inplace=True)"
   ]
  },
  {
   "cell_type": "code",
   "execution_count": null,
   "metadata": {
    "collapsed": true
   },
   "outputs": [],
   "source": [
    "out_path = local_path+'/output/TRRs/'\n",
    "saving_files = \"Charges\"\n",
    "\n",
    "final_df.to_csv(out_path+saving_files+\".csv\",index=False)\n",
    "final_df.to_excel(out_path+saving_files+\".xlsx\",index=False)\n",
    "\n",
    "metadata_df.to_csv(out_path+saving_files+\"_metadata.csv\",index=False)"
   ]
  },
  {
   "cell_type": "code",
   "execution_count": null,
   "metadata": {
    "collapsed": true
   },
   "outputs": [],
   "source": [
    "sheet = [sheet for sheet in sheets if sheet=='SubjectWeapons'][0]\n",
    "\n",
    "final_df = pd.DataFrame()\n",
    "metadata_df = pd.DataFrame()\n",
    "\n",
    "##df = pd.read_excel(file_loc + file_name,sheetname=sheet)\n",
    "df = db.download_file(file_loc,file_name,sheetname=sheet)\n",
    "\n",
    "df.columns = ['TRR_Report_ID','Weapon_Type','Firearm_Caliber','Weapon_Description','Event','Type','Type2']\n",
    "\n",
    "## dropping fields that were joined manually\n",
    "df = df[['TRR_Report_ID','Weapon_Type','Firearm_Caliber','Weapon_Description']]\n",
    "\n",
    "final_df = final_df.append(df)\n",
    "final_df.reset_index(drop=True,inplace=True)\n",
    "metadata_df = metadata_df.append(metadata_dataset(df,sheet))\n",
    "metadata_df.reset_index(drop=True,inplace=True)"
   ]
  },
  {
   "cell_type": "code",
   "execution_count": null,
   "metadata": {
    "collapsed": true
   },
   "outputs": [],
   "source": [
    "out_path = local_path+'/output/TRRs/'\n",
    "saving_files = \"Subject_Weapons\"\n",
    "\n",
    "final_df.to_csv(out_path+saving_files+\".csv\",index=False)\n",
    "final_df.to_excel(out_path+saving_files+\".xlsx\",index=False)\n",
    "\n",
    "metadata_df.to_csv(out_path+saving_files+\"_metadata.csv\",index=False)"
   ]
  },
  {
   "cell_type": "code",
   "execution_count": null,
   "metadata": {
    "collapsed": true
   },
   "outputs": [],
   "source": [
    "sheet = [sheet for sheet in sheets if sheet=='Statuses_OtherMembers'][0]\n",
    "\n",
    "final_df = pd.DataFrame()\n",
    "metadata_df = pd.DataFrame()\n",
    "\n",
    "##df = pd.read_excel(file_loc + file_name,sheetname=sheet)\n",
    "df = db.download_file(file_loc,file_name,sheetname=sheet)\n",
    "\n",
    "df.columns = ['TRR_Report_ID','Status','Stat_Date','Officer_First_Name','Officer_Last_Name','Star','Rank'\n",
    "             ,'Officer_Gender','Officer_Race','Officer_Age','Appointed_Date']\n",
    "\n",
    "final_df = final_df.append(df)\n",
    "final_df.reset_index(drop=True,inplace=True)\n",
    "metadata_df = metadata_df.append(metadata_dataset(df,sheet))\n",
    "metadata_df.reset_index(drop=True,inplace=True)"
   ]
  },
  {
   "cell_type": "code",
   "execution_count": null,
   "metadata": {
    "collapsed": true
   },
   "outputs": [],
   "source": [
    "out_path = local_path+'/output/TRRs/'\n",
    "saving_files = \"Statuses_Other_Members\"\n",
    "\n",
    "final_df.to_csv(out_path+saving_files+\".csv\",index=False)\n",
    "final_df.to_excel(out_path+saving_files+\".xlsx\",index=False)\n",
    "\n",
    "metadata_df.to_csv(out_path+saving_files+\"_metadata.csv\",index=False)"
   ]
  }
 ],
 "metadata": {
  "kernelspec": {
   "display_name": "Civis Model",
   "language": "python",
   "name": "civis-model"
  },
  "language_info": {
   "codemirror_mode": {
    "name": "ipython",
    "version": 3
   },
   "file_extension": ".py",
   "mimetype": "text/x-python",
   "name": "python",
   "nbconvert_exporter": "python",
   "pygments_lexer": "ipython3",
   "version": "3.5.2"
  }
 },
 "nbformat": 4,
 "nbformat_minor": 0
}
