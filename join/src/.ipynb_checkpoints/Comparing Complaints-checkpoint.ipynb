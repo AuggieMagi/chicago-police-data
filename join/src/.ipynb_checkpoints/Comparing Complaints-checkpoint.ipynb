{
 "cells": [
  {
   "cell_type": "code",
   "execution_count": 1,
   "metadata": {
    "collapsed": true
   },
   "outputs": [],
   "source": [
    "import re\n",
    "import datetime\n",
    "import numpy as np\n",
    "import pandas as pd \n",
    "import os\n",
    "import sys"
   ]
  },
  {
   "cell_type": "code",
   "execution_count": 2,
   "metadata": {
    "collapsed": true
   },
   "outputs": [],
   "source": [
    "module_path = os.path.abspath(os.path.join('..'))\n",
    "if module_path not in sys.path:\n",
    "    sys.path.append(module_path)\n",
    "from utils.utils import *"
   ]
  },
  {
   "cell_type": "code",
   "execution_count": 4,
   "metadata": {
    "collapsed": false
   },
   "outputs": [
    {
     "data": {
      "text/plain": [
       "['complaints-cpd-2016-dec_copy_20170112',\n",
       " 'complaints-cpd-2016-jun_copy_20170112',\n",
       " 'complaints-cpd-2016-nov_copy_20170112',\n",
       " 'complaints-cpd-2016-oct_copy_20170112',\n",
       " 'complaints-ipra-2016-apr_copy_20170112',\n",
       " 'complaints-merged-2015_copy_20170112',\n",
       " 'shootings-cpd-feb2016_copy_20170112',\n",
       " 'shootings-ipra-may2016_copy_20170112',\n",
       " 'TRRs']"
      ]
     },
     "execution_count": 4,
     "metadata": {},
     "output_type": "execute_result"
    }
   ],
   "source": [
    "path = '/Users/thudson/Documents/Dropbox/chicago-police-data/import/output'\n",
    "folders = [folder for folder in os.listdir(path) if '.' not in folder]\n",
    "folders"
   ]
  },
  {
   "cell_type": "code",
   "execution_count": 9,
   "metadata": {
    "collapsed": false
   },
   "outputs": [
    {
     "data": {
      "text/plain": [
       "['MAINFRAME_COMPLAINTS_REVISED_30NOV2016.csv',\n",
       " 'NEW_WITNESS_FILE_NOV_29_2016_-_no_emp_number.csv']"
      ]
     },
     "execution_count": 9,
     "metadata": {},
     "output_type": "execute_result"
    }
   ],
   "source": [
    "folder = folders[0]\n",
    "files = [file for file in os.listdir('/'.join([path,folder])) \n",
    "         if '.csv' in file and 'metadata' not in file]\n",
    "files"
   ]
  },
  {
   "cell_type": "code",
   "execution_count": 11,
   "metadata": {
    "collapsed": false
   },
   "outputs": [
    {
     "name": "stderr",
     "output_type": "stream",
     "text": [
      "/Users/thudson/anaconda/envs/civis-model/lib/python3.5/site-packages/IPython/core/interactiveshell.py:2717: DtypeWarning: Columns (2,8,11,15,17) have mixed types. Specify dtype option on import or set low_memory=False.\n",
      "  interactivity=interactivity, compiler=compiler, result=result)\n"
     ]
    },
    {
     "data": {
      "text/html": [
       "<div>\n",
       "<table border=\"1\" class=\"dataframe\">\n",
       "  <thead>\n",
       "    <tr style=\"text-align: right;\">\n",
       "      <th></th>\n",
       "      <th>CRID</th>\n",
       "      <th>Incident_Date</th>\n",
       "      <th>Incident_Time</th>\n",
       "      <th>Complaint_Date</th>\n",
       "      <th>Case_Status</th>\n",
       "      <th>Closed_Date</th>\n",
       "      <th>Investigator_Full_Name</th>\n",
       "      <th>Investigator_Assignment</th>\n",
       "      <th>Beat</th>\n",
       "      <th>Address_of_Incident</th>\n",
       "      <th>...</th>\n",
       "      <th>Accused_Birth_Year</th>\n",
       "      <th>Accused_Appointed_Date</th>\n",
       "      <th>Current_Unit</th>\n",
       "      <th>Final_Complaint_Category</th>\n",
       "      <th>Current_Rank</th>\n",
       "      <th>Complaint_Description</th>\n",
       "      <th>Final_Finding</th>\n",
       "      <th>Final_Finding_Description</th>\n",
       "      <th>Final_Action_Taken</th>\n",
       "      <th>Final_Action_Description</th>\n",
       "    </tr>\n",
       "  </thead>\n",
       "  <tbody>\n",
       "    <tr>\n",
       "      <th>0</th>\n",
       "      <td>C035735</td>\n",
       "      <td>10/21/1967</td>\n",
       "      <td>1400</td>\n",
       "      <td>10/21/1967</td>\n",
       "      <td>CLO</td>\n",
       "      <td>8/1/1980</td>\n",
       "      <td>RICHARD ROCHFORD</td>\n",
       "      <td>142</td>\n",
       "      <td>6330</td>\n",
       "      <td>90** S. COTTAGE GROVE</td>\n",
       "      <td>...</td>\n",
       "      <td>NaN</td>\n",
       "      <td>9/21/1953</td>\n",
       "      <td>171</td>\n",
       "      <td>10Y</td>\n",
       "      <td>9161</td>\n",
       "      <td>OPERATION/PERSONNEL VIOL.:  ACT TO CIRCUMVENT ...</td>\n",
       "      <td>SU</td>\n",
       "      <td>SUSTAINED</td>\n",
       "      <td>30</td>\n",
       "      <td>30 DAY SUSPENSION</td>\n",
       "    </tr>\n",
       "    <tr>\n",
       "      <th>1</th>\n",
       "      <td>C050876</td>\n",
       "      <td>7/4/1970</td>\n",
       "      <td>2315</td>\n",
       "      <td>8/13/1970</td>\n",
       "      <td>CLO</td>\n",
       "      <td>9/15/1973</td>\n",
       "      <td>EDWARD DOWNES</td>\n",
       "      <td>GIS</td>\n",
       "      <td>1833</td>\n",
       "      <td>HOLIDAY INN,6** N LAKE SHORE DRIVE</td>\n",
       "      <td>...</td>\n",
       "      <td>NaN</td>\n",
       "      <td>7/22/1968</td>\n",
       "      <td>17</td>\n",
       "      <td>06E</td>\n",
       "      <td>9161</td>\n",
       "      <td>BRIBERY/OFFICIAL CORRUPTION:  GRATUITY</td>\n",
       "      <td>SU</td>\n",
       "      <td>SUSTAINED</td>\n",
       "      <td>200</td>\n",
       "      <td>SUSPENDED OVR 30 DAY</td>\n",
       "    </tr>\n",
       "    <tr>\n",
       "      <th>2</th>\n",
       "      <td>C051271</td>\n",
       "      <td>2/18/1972</td>\n",
       "      <td>1600</td>\n",
       "      <td>2/18/1972</td>\n",
       "      <td>CLO</td>\n",
       "      <td>2/2/1973</td>\n",
       "      <td>LEONARD ZALESKI</td>\n",
       "      <td>SIS</td>\n",
       "      <td>3100</td>\n",
       "      <td>80** S NEWLAND OAK LAWN IL</td>\n",
       "      <td>...</td>\n",
       "      <td>NaN</td>\n",
       "      <td>5/27/1968</td>\n",
       "      <td>192</td>\n",
       "      <td>10R</td>\n",
       "      <td>9161</td>\n",
       "      <td>OPERATION/PERSONNEL VIOLATION:  RESIDENCY</td>\n",
       "      <td>SU</td>\n",
       "      <td>SUSTAINED</td>\n",
       "      <td>200</td>\n",
       "      <td>SUSPENDED OVR 30 DAY</td>\n",
       "    </tr>\n",
       "    <tr>\n",
       "      <th>3</th>\n",
       "      <td>C051597</td>\n",
       "      <td>9/22/1970</td>\n",
       "      <td>315</td>\n",
       "      <td>9/22/1970</td>\n",
       "      <td>CLO</td>\n",
       "      <td>10/15/1971</td>\n",
       "      <td>MICHAEL HALKO</td>\n",
       "      <td>8</td>\n",
       "      <td>824</td>\n",
       "      <td>MARQUETTE PARK</td>\n",
       "      <td>...</td>\n",
       "      <td>NaN</td>\n",
       "      <td>2/27/1967</td>\n",
       "      <td>22</td>\n",
       "      <td>02B</td>\n",
       "      <td>9161</td>\n",
       "      <td>ALCOHOL ABUSE: INTOXICATED OFF DUTY</td>\n",
       "      <td>SU</td>\n",
       "      <td>SUSTAINED</td>\n",
       "      <td>200</td>\n",
       "      <td>SUSPENDED OVR 30 DAY</td>\n",
       "    </tr>\n",
       "    <tr>\n",
       "      <th>4</th>\n",
       "      <td>C052045</td>\n",
       "      <td>10/14/1970</td>\n",
       "      <td>30</td>\n",
       "      <td>10/19/1970</td>\n",
       "      <td>CLO</td>\n",
       "      <td>3/9/1987</td>\n",
       "      <td>RICHARD VOSS</td>\n",
       "      <td>GIS</td>\n",
       "      <td>1822</td>\n",
       "      <td>18TH DIST</td>\n",
       "      <td>...</td>\n",
       "      <td>NaN</td>\n",
       "      <td>11/14/1966</td>\n",
       "      <td>641</td>\n",
       "      <td>06E</td>\n",
       "      <td>9165</td>\n",
       "      <td>BRIBERY/OFFICIAL CORRUPTION:  GRATUITY</td>\n",
       "      <td>SU</td>\n",
       "      <td>SUSTAINED</td>\n",
       "      <td>200</td>\n",
       "      <td>SUSPENDED OVR 30 DAY</td>\n",
       "    </tr>\n",
       "  </tbody>\n",
       "</table>\n",
       "<p>5 rows × 23 columns</p>\n",
       "</div>"
      ],
      "text/plain": [
       "      CRID Incident_Date Incident_Time Complaint_Date Case_Status Closed_Date  \\\n",
       "0  C035735    10/21/1967          1400     10/21/1967         CLO    8/1/1980   \n",
       "1  C050876      7/4/1970          2315      8/13/1970         CLO   9/15/1973   \n",
       "2  C051271     2/18/1972          1600      2/18/1972         CLO    2/2/1973   \n",
       "3  C051597     9/22/1970           315      9/22/1970         CLO  10/15/1971   \n",
       "4  C052045    10/14/1970            30     10/19/1970         CLO    3/9/1987   \n",
       "\n",
       "  Investigator_Full_Name Investigator_Assignment  Beat  \\\n",
       "0       RICHARD ROCHFORD                     142  6330   \n",
       "1          EDWARD DOWNES                     GIS  1833   \n",
       "2        LEONARD ZALESKI                     SIS  3100   \n",
       "3          MICHAEL HALKO                       8   824   \n",
       "4           RICHARD VOSS                     GIS  1822   \n",
       "\n",
       "                  Address_of_Incident           ...             \\\n",
       "0               90** S. COTTAGE GROVE           ...              \n",
       "1  HOLIDAY INN,6** N LAKE SHORE DRIVE           ...              \n",
       "2          80** S NEWLAND OAK LAWN IL           ...              \n",
       "3                      MARQUETTE PARK           ...              \n",
       "4                           18TH DIST           ...              \n",
       "\n",
       "  Accused_Birth_Year Accused_Appointed_Date  Current_Unit  \\\n",
       "0                NaN              9/21/1953           171   \n",
       "1                NaN              7/22/1968            17   \n",
       "2                NaN              5/27/1968           192   \n",
       "3                NaN              2/27/1967            22   \n",
       "4                NaN             11/14/1966           641   \n",
       "\n",
       "   Final_Complaint_Category Current_Rank  \\\n",
       "0                       10Y         9161   \n",
       "1                       06E         9161   \n",
       "2                       10R         9161   \n",
       "3                       02B         9161   \n",
       "4                       06E         9165   \n",
       "\n",
       "                               Complaint_Description Final_Finding  \\\n",
       "0  OPERATION/PERSONNEL VIOL.:  ACT TO CIRCUMVENT ...            SU   \n",
       "1             BRIBERY/OFFICIAL CORRUPTION:  GRATUITY            SU   \n",
       "2          OPERATION/PERSONNEL VIOLATION:  RESIDENCY            SU   \n",
       "3                ALCOHOL ABUSE: INTOXICATED OFF DUTY            SU   \n",
       "4             BRIBERY/OFFICIAL CORRUPTION:  GRATUITY            SU   \n",
       "\n",
       "  Final_Finding_Description Final_Action_Taken Final_Action_Description  \n",
       "0                 SUSTAINED                 30        30 DAY SUSPENSION  \n",
       "1                 SUSTAINED                200     SUSPENDED OVR 30 DAY  \n",
       "2                 SUSTAINED                200     SUSPENDED OVR 30 DAY  \n",
       "3                 SUSTAINED                200     SUSPENDED OVR 30 DAY  \n",
       "4                 SUSTAINED                200     SUSPENDED OVR 30 DAY  \n",
       "\n",
       "[5 rows x 23 columns]"
      ]
     },
     "execution_count": 11,
     "metadata": {},
     "output_type": "execute_result"
    }
   ],
   "source": [
    "file = files[0]\n",
    "filepath = '/'.join([path,folder,file])\n",
    "df = pd.read_csv(filepath)\n",
    "df.head()"
   ]
  },
  {
   "cell_type": "code",
   "execution_count": 16,
   "metadata": {
    "collapsed": false
   },
   "outputs": [
    {
     "data": {
      "text/plain": [
       "Index(['CRID', 'Incident_Date', 'Incident_Time', 'Complaint_Date',\n",
       "       'Case_Status', 'Closed_Date', 'Investigator_Full_Name',\n",
       "       'Investigator_Assignment', 'Beat', 'Address_of_Incident', 'Accused',\n",
       "       'Star', 'Accused_Gender', 'Accused_Birth_Year',\n",
       "       'Accused_Appointed_Date', 'Current_Unit', 'Final_Complaint_Category',\n",
       "       'Current_Rank', 'Complaint_Description', 'Final_Finding',\n",
       "       'Final_Finding_Description', 'Final_Action_Taken',\n",
       "       'Final_Action_Description'],\n",
       "      dtype='object')"
      ]
     },
     "execution_count": 16,
     "metadata": {},
     "output_type": "execute_result"
    }
   ],
   "source": [
    "df.columns"
   ]
  },
  {
   "cell_type": "markdown",
   "metadata": {},
   "source": [
    "### Seems like there are repeated rows, need to figure out what information, if any, is unique"
   ]
  },
  {
   "cell_type": "code",
   "execution_count": 50,
   "metadata": {
    "collapsed": false
   },
   "outputs": [
    {
     "data": {
      "text/plain": [
       "CRID     Accused           Beat\n",
       "C035735  FRANK LYNCH       6330    1\n",
       "C050876  PETER PARISI      1833    1\n",
       "C051271  JAMES AHERN       3100    1\n",
       "C051597  JOHN HAUGH        824     1\n",
       "C052045  ROBERT BROWNE     1822    1\n",
       "C052094  STANLEY JASPER    1224    1\n",
       "C053661  CRAIG CEGIELSKI   905     2\n",
       "         DENNIS MULCAHY    905     1\n",
       "C054286  SAMUEL PESOLI     113     1\n",
       "         TONY MUGNOLO      113     1\n",
       "C056104  DON ROBERTS       384     1\n",
       "C058189  THOMAS CHIGAROS   806     1\n",
       "C058264  WILLIAM SMITH     1134    1\n",
       "C093392  DENNIS MC NAMARA  2306    1\n",
       "C100256  ROBERT SHANAHAN   1442    1\n",
       "C102595  JAMES SENG        1623    1\n",
       "C104195  JAMES SMITH JR    1116    1\n",
       "C106081  JAMES SMITH JR    221     1\n",
       "C106227  JOHN SASSO        1642    1\n",
       "C106520  JAMES SMITH JR    221     1\n",
       "Name: Beat, dtype: int64"
      ]
     },
     "execution_count": 50,
     "metadata": {},
     "output_type": "execute_result"
    }
   ],
   "source": [
    "df.groupby(['CRID','Accused','Beat']).Beat.count().head(20)"
   ]
  },
  {
   "cell_type": "code",
   "execution_count": 52,
   "metadata": {
    "collapsed": false
   },
   "outputs": [
    {
     "data": {
      "text/html": [
       "<div>\n",
       "<table border=\"1\" class=\"dataframe\">\n",
       "  <thead>\n",
       "    <tr style=\"text-align: right;\">\n",
       "      <th></th>\n",
       "      <th>CRID</th>\n",
       "      <th>Incident_Date</th>\n",
       "      <th>Incident_Time</th>\n",
       "      <th>Complaint_Date</th>\n",
       "      <th>Case_Status</th>\n",
       "      <th>Closed_Date</th>\n",
       "      <th>Investigator_Full_Name</th>\n",
       "      <th>Investigator_Assignment</th>\n",
       "      <th>Beat</th>\n",
       "      <th>Address_of_Incident</th>\n",
       "      <th>...</th>\n",
       "      <th>Accused_Birth_Year</th>\n",
       "      <th>Accused_Appointed_Date</th>\n",
       "      <th>Current_Unit</th>\n",
       "      <th>Final_Complaint_Category</th>\n",
       "      <th>Current_Rank</th>\n",
       "      <th>Complaint_Description</th>\n",
       "      <th>Final_Finding</th>\n",
       "      <th>Final_Finding_Description</th>\n",
       "      <th>Final_Action_Taken</th>\n",
       "      <th>Final_Action_Description</th>\n",
       "    </tr>\n",
       "  </thead>\n",
       "  <tbody>\n",
       "    <tr>\n",
       "      <th>7</th>\n",
       "      <td>C053661</td>\n",
       "      <td>2/17/1971</td>\n",
       "      <td>19</td>\n",
       "      <td>2/17/1971</td>\n",
       "      <td>CLO</td>\n",
       "      <td>7/17/1987</td>\n",
       "      <td>EUGENE WISNIEWSKI</td>\n",
       "      <td>GIS</td>\n",
       "      <td>905</td>\n",
       "      <td>39** S. KEDZIE AVE</td>\n",
       "      <td>...</td>\n",
       "      <td>NaN</td>\n",
       "      <td>5/24/1999</td>\n",
       "      <td>632</td>\n",
       "      <td>05G</td>\n",
       "      <td>9165</td>\n",
       "      <td>EXCESSIVE FORCE:  WEAPON, USE OF</td>\n",
       "      <td>SU</td>\n",
       "      <td>SUSTAINED</td>\n",
       "      <td>200</td>\n",
       "      <td>SUSPENDED OVR 30 DAY</td>\n",
       "    </tr>\n",
       "    <tr>\n",
       "      <th>8</th>\n",
       "      <td>C053661</td>\n",
       "      <td>2/17/1971</td>\n",
       "      <td>19</td>\n",
       "      <td>2/17/1971</td>\n",
       "      <td>CLO</td>\n",
       "      <td>7/17/1987</td>\n",
       "      <td>EUGENE WISNIEWSKI</td>\n",
       "      <td>GIS</td>\n",
       "      <td>905</td>\n",
       "      <td>39** S. KEDZIE AVE</td>\n",
       "      <td>...</td>\n",
       "      <td>NaN</td>\n",
       "      <td>5/12/1969</td>\n",
       "      <td>632</td>\n",
       "      <td>05G</td>\n",
       "      <td>9165</td>\n",
       "      <td>EXCESSIVE FORCE:  WEAPON, USE OF</td>\n",
       "      <td>SU</td>\n",
       "      <td>SUSTAINED</td>\n",
       "      <td>200</td>\n",
       "      <td>SUSPENDED OVR 30 DAY</td>\n",
       "    </tr>\n",
       "    <tr>\n",
       "      <th>1430</th>\n",
       "      <td>C147895</td>\n",
       "      <td>10/17/1985</td>\n",
       "      <td>900</td>\n",
       "      <td>10/17/1985</td>\n",
       "      <td>CLO</td>\n",
       "      <td>1/26/1987</td>\n",
       "      <td>JAMES MONTGOMERY</td>\n",
       "      <td>OPS</td>\n",
       "      <td>231</td>\n",
       "      <td>AREA 1 DETECTIVE DIVISION</td>\n",
       "      <td>...</td>\n",
       "      <td>NaN</td>\n",
       "      <td>5/12/1969</td>\n",
       "      <td>632</td>\n",
       "      <td>05B</td>\n",
       "      <td>9165</td>\n",
       "      <td>EXCESSIVE FORCE:  ARRESTEE - AFTER ARREST-PRIO...</td>\n",
       "      <td>NS</td>\n",
       "      <td>NOT SUSTAINED</td>\n",
       "      <td>600</td>\n",
       "      <td>NO ACTION TAKEN</td>\n",
       "    </tr>\n",
       "    <tr>\n",
       "      <th>1431</th>\n",
       "      <td>C147895</td>\n",
       "      <td>10/17/1985</td>\n",
       "      <td>900</td>\n",
       "      <td>10/17/1985</td>\n",
       "      <td>CLO</td>\n",
       "      <td>1/26/1987</td>\n",
       "      <td>JAMES MONTGOMERY</td>\n",
       "      <td>OPS</td>\n",
       "      <td>231</td>\n",
       "      <td>AREA 1 DETECTIVE DIVISION</td>\n",
       "      <td>...</td>\n",
       "      <td>NaN</td>\n",
       "      <td>5/24/1999</td>\n",
       "      <td>632</td>\n",
       "      <td>05B</td>\n",
       "      <td>9165</td>\n",
       "      <td>EXCESSIVE FORCE:  ARRESTEE - AFTER ARREST-PRIO...</td>\n",
       "      <td>NS</td>\n",
       "      <td>NOT SUSTAINED</td>\n",
       "      <td>600</td>\n",
       "      <td>NO ACTION TAKEN</td>\n",
       "    </tr>\n",
       "    <tr>\n",
       "      <th>9354</th>\n",
       "      <td>C172652</td>\n",
       "      <td>12/6/1989</td>\n",
       "      <td>530</td>\n",
       "      <td>12/7/1989</td>\n",
       "      <td>CLO</td>\n",
       "      <td>2/13/1990</td>\n",
       "      <td>FRANCIS LEE JR</td>\n",
       "      <td>8</td>\n",
       "      <td>822</td>\n",
       "      <td>35** W 63RD STREET</td>\n",
       "      <td>...</td>\n",
       "      <td>NaN</td>\n",
       "      <td>5/12/1969</td>\n",
       "      <td>632</td>\n",
       "      <td>10J</td>\n",
       "      <td>9165</td>\n",
       "      <td>OPERATION/PERSONNEL VIOLS.:  NEGLECT OF DUTY /...</td>\n",
       "      <td>NS</td>\n",
       "      <td>NOT SUSTAINED</td>\n",
       "      <td>600</td>\n",
       "      <td>NO ACTION TAKEN</td>\n",
       "    </tr>\n",
       "  </tbody>\n",
       "</table>\n",
       "<p>5 rows × 23 columns</p>\n",
       "</div>"
      ],
      "text/plain": [
       "         CRID Incident_Date Incident_Time Complaint_Date Case_Status  \\\n",
       "7     C053661     2/17/1971            19      2/17/1971         CLO   \n",
       "8     C053661     2/17/1971            19      2/17/1971         CLO   \n",
       "1430  C147895    10/17/1985           900     10/17/1985         CLO   \n",
       "1431  C147895    10/17/1985           900     10/17/1985         CLO   \n",
       "9354  C172652     12/6/1989           530      12/7/1989         CLO   \n",
       "\n",
       "     Closed_Date Investigator_Full_Name Investigator_Assignment Beat  \\\n",
       "7      7/17/1987      EUGENE WISNIEWSKI                     GIS  905   \n",
       "8      7/17/1987      EUGENE WISNIEWSKI                     GIS  905   \n",
       "1430   1/26/1987       JAMES MONTGOMERY                     OPS  231   \n",
       "1431   1/26/1987       JAMES MONTGOMERY                     OPS  231   \n",
       "9354   2/13/1990         FRANCIS LEE JR                       8  822   \n",
       "\n",
       "            Address_of_Incident           ...            Accused_Birth_Year  \\\n",
       "7            39** S. KEDZIE AVE           ...                           NaN   \n",
       "8            39** S. KEDZIE AVE           ...                           NaN   \n",
       "1430  AREA 1 DETECTIVE DIVISION           ...                           NaN   \n",
       "1431  AREA 1 DETECTIVE DIVISION           ...                           NaN   \n",
       "9354         35** W 63RD STREET           ...                           NaN   \n",
       "\n",
       "     Accused_Appointed_Date  Current_Unit  Final_Complaint_Category  \\\n",
       "7                 5/24/1999           632                       05G   \n",
       "8                 5/12/1969           632                       05G   \n",
       "1430              5/12/1969           632                       05B   \n",
       "1431              5/24/1999           632                       05B   \n",
       "9354              5/12/1969           632                       10J   \n",
       "\n",
       "     Current_Rank                              Complaint_Description  \\\n",
       "7            9165                   EXCESSIVE FORCE:  WEAPON, USE OF   \n",
       "8            9165                   EXCESSIVE FORCE:  WEAPON, USE OF   \n",
       "1430         9165  EXCESSIVE FORCE:  ARRESTEE - AFTER ARREST-PRIO...   \n",
       "1431         9165  EXCESSIVE FORCE:  ARRESTEE - AFTER ARREST-PRIO...   \n",
       "9354         9165  OPERATION/PERSONNEL VIOLS.:  NEGLECT OF DUTY /...   \n",
       "\n",
       "     Final_Finding Final_Finding_Description Final_Action_Taken  \\\n",
       "7               SU                 SUSTAINED                200   \n",
       "8               SU                 SUSTAINED                200   \n",
       "1430            NS             NOT SUSTAINED                600   \n",
       "1431            NS             NOT SUSTAINED                600   \n",
       "9354            NS             NOT SUSTAINED                600   \n",
       "\n",
       "     Final_Action_Description  \n",
       "7        SUSPENDED OVR 30 DAY  \n",
       "8        SUSPENDED OVR 30 DAY  \n",
       "1430          NO ACTION TAKEN  \n",
       "1431          NO ACTION TAKEN  \n",
       "9354          NO ACTION TAKEN  \n",
       "\n",
       "[5 rows x 23 columns]"
      ]
     },
     "execution_count": 52,
     "metadata": {},
     "output_type": "execute_result"
    }
   ],
   "source": [
    "df[df['Accused']=='CRAIG CEGIELSKI'].head()"
   ]
  },
  {
   "cell_type": "code",
   "execution_count": 14,
   "metadata": {
    "collapsed": false
   },
   "outputs": [
    {
     "data": {
      "text/plain": [
       "70302"
      ]
     },
     "execution_count": 14,
     "metadata": {},
     "output_type": "execute_result"
    }
   ],
   "source": [
    "len(df.CRID.unique())"
   ]
  },
  {
   "cell_type": "markdown",
   "metadata": {},
   "source": [
    "### Comparing Dec to Nov"
   ]
  },
  {
   "cell_type": "code",
   "execution_count": 34,
   "metadata": {
    "collapsed": false
   },
   "outputs": [
    {
     "data": {
      "text/plain": [
       "['p046957_-_report_1_-_all_complaints_in_time_frame.csv',\n",
       " 'p046957_-_report_2_-_identified_accused.csv',\n",
       " 'p046957_-_report_3_-_police_officer_witness_data_xi.csv',\n",
       " 'p046957_-_report_5_-_complainant_(reporting_party)_data.csv']"
      ]
     },
     "execution_count": 34,
     "metadata": {},
     "output_type": "execute_result"
    }
   ],
   "source": [
    "folder = folders[2]\n",
    "files = [file for file in os.listdir('/'.join([path,folder])) \n",
    "         if '.csv' in file and 'metadata' not in file]\n",
    "files"
   ]
  },
  {
   "cell_type": "code",
   "execution_count": 35,
   "metadata": {
    "collapsed": false
   },
   "outputs": [
    {
     "name": "stderr",
     "output_type": "stream",
     "text": [
      "/Users/thudson/anaconda/envs/civis-model/lib/python3.5/site-packages/IPython/core/interactiveshell.py:2717: DtypeWarning: Columns (1,7) have mixed types. Specify dtype option on import or set low_memory=False.\n",
      "  interactivity=interactivity, compiler=compiler, result=result)\n"
     ]
    },
    {
     "data": {
      "text/html": [
       "<div>\n",
       "<table border=\"1\" class=\"dataframe\">\n",
       "  <thead>\n",
       "    <tr style=\"text-align: right;\">\n",
       "      <th></th>\n",
       "      <th>CRID</th>\n",
       "      <th>Beat</th>\n",
       "      <th>Location_Code</th>\n",
       "      <th>Location_Value</th>\n",
       "      <th>Address_of_Incident</th>\n",
       "      <th>City</th>\n",
       "      <th>State</th>\n",
       "      <th>Zip</th>\n",
       "      <th>Incident_Date</th>\n",
       "      <th>Complaint_Date</th>\n",
       "      <th>Closed_Date</th>\n",
       "      <th>Investigator_Full_Name</th>\n",
       "      <th>Investigator_Assignment</th>\n",
       "      <th>Investigator_Rank</th>\n",
       "      <th>Investigator_Star</th>\n",
       "      <th>Investigator_Appt_Date</th>\n",
       "      <th>FOIA_Request_Number</th>\n",
       "    </tr>\n",
       "  </thead>\n",
       "  <tbody>\n",
       "    <tr>\n",
       "      <th>0</th>\n",
       "      <td>258996</td>\n",
       "      <td>1524</td>\n",
       "      <td>04</td>\n",
       "      <td>Police Building</td>\n",
       "      <td>5327 W CHICAGO</td>\n",
       "      <td>CHICAGO</td>\n",
       "      <td>IL</td>\n",
       "      <td>NaN</td>\n",
       "      <td>2000-01-01 01:20:00</td>\n",
       "      <td>2000-01-01 00:00:00</td>\n",
       "      <td>2001-01-26 00:00:00</td>\n",
       "      <td>SCHWIEGER, STEVEN</td>\n",
       "      <td>13.0</td>\n",
       "      <td>LIEUTENANT OF POLICE</td>\n",
       "      <td>NaN</td>\n",
       "      <td>1986-06-16 00:00:00</td>\n",
       "      <td>FOIA P046957\\nReport 1.1\\nAll Complaints in CR...</td>\n",
       "    </tr>\n",
       "    <tr>\n",
       "      <th>1</th>\n",
       "      <td>258997</td>\n",
       "      <td>1115</td>\n",
       "      <td>17</td>\n",
       "      <td>Public Way - Other</td>\n",
       "      <td>4316 W JACKSON</td>\n",
       "      <td>CHICAGO</td>\n",
       "      <td>IL</td>\n",
       "      <td>NaN</td>\n",
       "      <td>2000-01-01 01:30:00</td>\n",
       "      <td>2000-01-01 00:00:00</td>\n",
       "      <td>2000-10-14 00:00:00</td>\n",
       "      <td>MULLIGAN JR, MICHAEL</td>\n",
       "      <td>8.0</td>\n",
       "      <td>SERGEANT OF POLICE</td>\n",
       "      <td>NaN</td>\n",
       "      <td>1970-12-14 00:00:00</td>\n",
       "      <td>FOIA P046957\\nReport 1.1\\nAll Complaints in CR...</td>\n",
       "    </tr>\n",
       "    <tr>\n",
       "      <th>2</th>\n",
       "      <td>258998</td>\n",
       "      <td>1834</td>\n",
       "      <td>17</td>\n",
       "      <td>Public Way - Other</td>\n",
       "      <td>500 W ILLINOIS</td>\n",
       "      <td>CHICAGO</td>\n",
       "      <td>IL</td>\n",
       "      <td>NaN</td>\n",
       "      <td>2000-01-01 00:28:00</td>\n",
       "      <td>2000-01-01 00:00:00</td>\n",
       "      <td>2001-01-18 00:00:00</td>\n",
       "      <td>MC MAHON, MAUREEN</td>\n",
       "      <td>608.0</td>\n",
       "      <td>LIEUTENANT OF POLICE</td>\n",
       "      <td>NaN</td>\n",
       "      <td>1985-07-01 00:00:00</td>\n",
       "      <td>FOIA P046957\\nReport 1.1\\nAll Complaints in CR...</td>\n",
       "    </tr>\n",
       "    <tr>\n",
       "      <th>3</th>\n",
       "      <td>258999</td>\n",
       "      <td>0</td>\n",
       "      <td>17</td>\n",
       "      <td>Public Way - Other</td>\n",
       "      <td>NaN</td>\n",
       "      <td>CHICAGO</td>\n",
       "      <td>IL</td>\n",
       "      <td>NaN</td>\n",
       "      <td>2000-01-01 03:30:00</td>\n",
       "      <td>2000-01-01 00:00:00</td>\n",
       "      <td>2000-03-23 00:00:00</td>\n",
       "      <td>DEAN, BRUCE</td>\n",
       "      <td>113.0</td>\n",
       "      <td>SUPERVISING INV IPRA</td>\n",
       "      <td>NaN</td>\n",
       "      <td>1995-09-16 00:00:00</td>\n",
       "      <td>FOIA P046957\\nReport 1.1\\nAll Complaints in CR...</td>\n",
       "    </tr>\n",
       "    <tr>\n",
       "      <th>4</th>\n",
       "      <td>259000</td>\n",
       "      <td>1524</td>\n",
       "      <td>04</td>\n",
       "      <td>Police Building</td>\n",
       "      <td>5327 W CHICAGO AVE</td>\n",
       "      <td>CHICAGO</td>\n",
       "      <td>IL</td>\n",
       "      <td>NaN</td>\n",
       "      <td>2000-01-01 05:00:00</td>\n",
       "      <td>2000-01-01 00:00:00</td>\n",
       "      <td>2001-01-17 00:00:00</td>\n",
       "      <td>LABERN, LINDA</td>\n",
       "      <td>20.0</td>\n",
       "      <td>SERGEANT OF POLICE</td>\n",
       "      <td>NaN</td>\n",
       "      <td>1973-07-16 00:00:00</td>\n",
       "      <td>FOIA P046957\\nReport 1.1\\nAll Complaints in CR...</td>\n",
       "    </tr>\n",
       "  </tbody>\n",
       "</table>\n",
       "</div>"
      ],
      "text/plain": [
       "     CRID  Beat Location_Code      Location_Value Address_of_Incident  \\\n",
       "0  258996  1524            04     Police Building      5327 W CHICAGO   \n",
       "1  258997  1115            17  Public Way - Other      4316 W JACKSON   \n",
       "2  258998  1834            17  Public Way - Other      500 W ILLINOIS   \n",
       "3  258999     0            17  Public Way - Other                 NaN   \n",
       "4  259000  1524            04     Police Building  5327 W CHICAGO AVE   \n",
       "\n",
       "      City State  Zip        Incident_Date       Complaint_Date  \\\n",
       "0  CHICAGO    IL  NaN  2000-01-01 01:20:00  2000-01-01 00:00:00   \n",
       "1  CHICAGO    IL  NaN  2000-01-01 01:30:00  2000-01-01 00:00:00   \n",
       "2  CHICAGO    IL  NaN  2000-01-01 00:28:00  2000-01-01 00:00:00   \n",
       "3  CHICAGO    IL  NaN  2000-01-01 03:30:00  2000-01-01 00:00:00   \n",
       "4  CHICAGO    IL  NaN  2000-01-01 05:00:00  2000-01-01 00:00:00   \n",
       "\n",
       "           Closed_Date Investigator_Full_Name  Investigator_Assignment  \\\n",
       "0  2001-01-26 00:00:00      SCHWIEGER, STEVEN                     13.0   \n",
       "1  2000-10-14 00:00:00   MULLIGAN JR, MICHAEL                      8.0   \n",
       "2  2001-01-18 00:00:00      MC MAHON, MAUREEN                    608.0   \n",
       "3  2000-03-23 00:00:00            DEAN, BRUCE                    113.0   \n",
       "4  2001-01-17 00:00:00          LABERN, LINDA                     20.0   \n",
       "\n",
       "      Investigator_Rank  Investigator_Star Investigator_Appt_Date  \\\n",
       "0  LIEUTENANT OF POLICE                NaN    1986-06-16 00:00:00   \n",
       "1    SERGEANT OF POLICE                NaN    1970-12-14 00:00:00   \n",
       "2  LIEUTENANT OF POLICE                NaN    1985-07-01 00:00:00   \n",
       "3  SUPERVISING INV IPRA                NaN    1995-09-16 00:00:00   \n",
       "4    SERGEANT OF POLICE                NaN    1973-07-16 00:00:00   \n",
       "\n",
       "                                 FOIA_Request_Number  \n",
       "0  FOIA P046957\\nReport 1.1\\nAll Complaints in CR...  \n",
       "1  FOIA P046957\\nReport 1.1\\nAll Complaints in CR...  \n",
       "2  FOIA P046957\\nReport 1.1\\nAll Complaints in CR...  \n",
       "3  FOIA P046957\\nReport 1.1\\nAll Complaints in CR...  \n",
       "4  FOIA P046957\\nReport 1.1\\nAll Complaints in CR...  "
      ]
     },
     "execution_count": 35,
     "metadata": {},
     "output_type": "execute_result"
    }
   ],
   "source": [
    "file = files[0]\n",
    "filepath = '/'.join([path,folder,file])\n",
    "df1 = pd.read_csv(filepath)\n",
    "df1.head()"
   ]
  },
  {
   "cell_type": "code",
   "execution_count": 36,
   "metadata": {
    "collapsed": false
   },
   "outputs": [
    {
     "data": {
      "text/plain": [
       "Index(['CRID', 'Beat', 'Location_Code', 'Location_Value',\n",
       "       'Address_of_Incident', 'City', 'State', 'Zip', 'Incident_Date',\n",
       "       'Complaint_Date', 'Closed_Date', 'Investigator_Full_Name',\n",
       "       'Investigator_Assignment', 'Investigator_Rank', 'Investigator_Star',\n",
       "       'Investigator_Appt_Date', 'FOIA_Request_Number'],\n",
       "      dtype='object')"
      ]
     },
     "execution_count": 36,
     "metadata": {},
     "output_type": "execute_result"
    }
   ],
   "source": [
    "df1.columns"
   ]
  },
  {
   "cell_type": "code",
   "execution_count": 37,
   "metadata": {
    "collapsed": false
   },
   "outputs": [
    {
     "data": {
      "text/plain": [
       "(138350, 17)"
      ]
     },
     "execution_count": 37,
     "metadata": {},
     "output_type": "execute_result"
    }
   ],
   "source": [
    "df1.shape"
   ]
  },
  {
   "cell_type": "code",
   "execution_count": 38,
   "metadata": {
    "collapsed": false
   },
   "outputs": [
    {
     "data": {
      "text/plain": [
       "109339"
      ]
     },
     "execution_count": 38,
     "metadata": {},
     "output_type": "execute_result"
    }
   ],
   "source": [
    "len(df1.CRID.unique())"
   ]
  },
  {
   "cell_type": "code",
   "execution_count": 42,
   "metadata": {
    "collapsed": false
   },
   "outputs": [
    {
     "data": {
      "text/plain": [
       "108742"
      ]
     },
     "execution_count": 42,
     "metadata": {},
     "output_type": "execute_result"
    }
   ],
   "source": [
    "len(df1.groupby(['CRID','Investigator_Full_Name','Incident_Date']).Beat.count())"
   ]
  },
  {
   "cell_type": "code",
   "execution_count": 44,
   "metadata": {
    "collapsed": false
   },
   "outputs": [],
   "source": [
    "df1 = df1.sort_values(by=['CRID','Investigator_Full_Name','Investigator_Appt_Date'])"
   ]
  },
  {
   "cell_type": "code",
   "execution_count": 45,
   "metadata": {
    "collapsed": false
   },
   "outputs": [
    {
     "data": {
      "text/html": [
       "<div>\n",
       "<table border=\"1\" class=\"dataframe\">\n",
       "  <thead>\n",
       "    <tr style=\"text-align: right;\">\n",
       "      <th></th>\n",
       "      <th>CRID</th>\n",
       "      <th>Beat</th>\n",
       "      <th>Location_Code</th>\n",
       "      <th>Location_Value</th>\n",
       "      <th>Address_of_Incident</th>\n",
       "      <th>City</th>\n",
       "      <th>State</th>\n",
       "      <th>Zip</th>\n",
       "      <th>Incident_Date</th>\n",
       "      <th>Complaint_Date</th>\n",
       "      <th>Closed_Date</th>\n",
       "      <th>Investigator_Full_Name</th>\n",
       "      <th>Investigator_Assignment</th>\n",
       "      <th>Investigator_Rank</th>\n",
       "      <th>Investigator_Star</th>\n",
       "      <th>Investigator_Appt_Date</th>\n",
       "      <th>FOIA_Request_Number</th>\n",
       "    </tr>\n",
       "  </thead>\n",
       "  <tbody>\n",
       "    <tr>\n",
       "      <th>119135</th>\n",
       "      <td>106213</td>\n",
       "      <td>1631</td>\n",
       "      <td>17</td>\n",
       "      <td>Public Way - Other</td>\n",
       "      <td>3700 N HARLEM AVE</td>\n",
       "      <td>CHICAGO</td>\n",
       "      <td>IL</td>\n",
       "      <td>60634</td>\n",
       "      <td>2015-07-19 21:00:00</td>\n",
       "      <td>2015-07-20 00:00:00</td>\n",
       "      <td>2015-09-21 00:00:00</td>\n",
       "      <td>KLIMAS, ROBERT</td>\n",
       "      <td>121.0</td>\n",
       "      <td>COMMANDER</td>\n",
       "      <td>0.0</td>\n",
       "      <td>2008-08-04 00:00:00</td>\n",
       "      <td>FOIA P046957\\nReport 1.6\\nAll Complaints in CR...</td>\n",
       "    </tr>\n",
       "    <tr>\n",
       "      <th>119136</th>\n",
       "      <td>107899</td>\n",
       "      <td>611</td>\n",
       "      <td>17</td>\n",
       "      <td>Public Way - Other</td>\n",
       "      <td>7843 S HERMITAGE AVE</td>\n",
       "      <td>CHICAGO</td>\n",
       "      <td>IL</td>\n",
       "      <td>6062</td>\n",
       "      <td>2015-08-16 20:20:00</td>\n",
       "      <td>2016-01-25 00:00:00</td>\n",
       "      <td>NaN</td>\n",
       "      <td>NaN</td>\n",
       "      <td>NaN</td>\n",
       "      <td>NaN</td>\n",
       "      <td>NaN</td>\n",
       "      <td>NaN</td>\n",
       "      <td>FOIA P046957\\nReport 1.6\\nAll Complaints in CR...</td>\n",
       "    </tr>\n",
       "    <tr>\n",
       "      <th>119137</th>\n",
       "      <td>107901</td>\n",
       "      <td>1814</td>\n",
       "      <td>17</td>\n",
       "      <td>Public Way - Other</td>\n",
       "      <td>1622 N NORTH PARK AVE</td>\n",
       "      <td>CHICAGO</td>\n",
       "      <td>IL</td>\n",
       "      <td>60614</td>\n",
       "      <td>2016-01-25 21:50:00</td>\n",
       "      <td>2016-01-26 00:00:00</td>\n",
       "      <td>NaN</td>\n",
       "      <td>NaN</td>\n",
       "      <td>NaN</td>\n",
       "      <td>NaN</td>\n",
       "      <td>NaN</td>\n",
       "      <td>NaN</td>\n",
       "      <td>FOIA P046957\\nReport 1.6\\nAll Complaints in CR...</td>\n",
       "    </tr>\n",
       "    <tr>\n",
       "      <th>119138</th>\n",
       "      <td>108026</td>\n",
       "      <td>1722</td>\n",
       "      <td>04</td>\n",
       "      <td>Police Building</td>\n",
       "      <td>4650 N PULASKI RD</td>\n",
       "      <td>CHICAGO</td>\n",
       "      <td>IL</td>\n",
       "      <td>NaN</td>\n",
       "      <td>2013-10-14 00:01:00</td>\n",
       "      <td>2016-04-25 00:00:00</td>\n",
       "      <td>NaN</td>\n",
       "      <td>NaN</td>\n",
       "      <td>NaN</td>\n",
       "      <td>NaN</td>\n",
       "      <td>NaN</td>\n",
       "      <td>NaN</td>\n",
       "      <td>FOIA P046957\\nReport 1.6\\nAll Complaints in CR...</td>\n",
       "    </tr>\n",
       "    <tr>\n",
       "      <th>119139</th>\n",
       "      <td>108059</td>\n",
       "      <td>0</td>\n",
       "      <td>XX</td>\n",
       "      <td>NaN</td>\n",
       "      <td>NaN</td>\n",
       "      <td>CHICAGO</td>\n",
       "      <td>IL</td>\n",
       "      <td>NaN</td>\n",
       "      <td>2016-05-12 00:00:00</td>\n",
       "      <td>2016-05-12 00:00:00</td>\n",
       "      <td>NaN</td>\n",
       "      <td>NaN</td>\n",
       "      <td>NaN</td>\n",
       "      <td>NaN</td>\n",
       "      <td>NaN</td>\n",
       "      <td>NaN</td>\n",
       "      <td>FOIA P046957\\nReport 1.6\\nAll Complaints in CR...</td>\n",
       "    </tr>\n",
       "  </tbody>\n",
       "</table>\n",
       "</div>"
      ],
      "text/plain": [
       "          CRID  Beat Location_Code      Location_Value    Address_of_Incident  \\\n",
       "119135  106213  1631            17  Public Way - Other      3700 N HARLEM AVE   \n",
       "119136  107899   611            17  Public Way - Other   7843 S HERMITAGE AVE   \n",
       "119137  107901  1814            17  Public Way - Other  1622 N NORTH PARK AVE   \n",
       "119138  108026  1722            04     Police Building      4650 N PULASKI RD   \n",
       "119139  108059     0            XX                 NaN                    NaN   \n",
       "\n",
       "           City State    Zip        Incident_Date       Complaint_Date  \\\n",
       "119135  CHICAGO    IL  60634  2015-07-19 21:00:00  2015-07-20 00:00:00   \n",
       "119136  CHICAGO    IL   6062  2015-08-16 20:20:00  2016-01-25 00:00:00   \n",
       "119137  CHICAGO    IL  60614  2016-01-25 21:50:00  2016-01-26 00:00:00   \n",
       "119138  CHICAGO    IL    NaN  2013-10-14 00:01:00  2016-04-25 00:00:00   \n",
       "119139  CHICAGO    IL    NaN  2016-05-12 00:00:00  2016-05-12 00:00:00   \n",
       "\n",
       "                Closed_Date Investigator_Full_Name  Investigator_Assignment  \\\n",
       "119135  2015-09-21 00:00:00         KLIMAS, ROBERT                    121.0   \n",
       "119136                  NaN                    NaN                      NaN   \n",
       "119137                  NaN                    NaN                      NaN   \n",
       "119138                  NaN                    NaN                      NaN   \n",
       "119139                  NaN                    NaN                      NaN   \n",
       "\n",
       "       Investigator_Rank  Investigator_Star Investigator_Appt_Date  \\\n",
       "119135         COMMANDER                0.0    2008-08-04 00:00:00   \n",
       "119136               NaN                NaN                    NaN   \n",
       "119137               NaN                NaN                    NaN   \n",
       "119138               NaN                NaN                    NaN   \n",
       "119139               NaN                NaN                    NaN   \n",
       "\n",
       "                                      FOIA_Request_Number  \n",
       "119135  FOIA P046957\\nReport 1.6\\nAll Complaints in CR...  \n",
       "119136  FOIA P046957\\nReport 1.6\\nAll Complaints in CR...  \n",
       "119137  FOIA P046957\\nReport 1.6\\nAll Complaints in CR...  \n",
       "119138  FOIA P046957\\nReport 1.6\\nAll Complaints in CR...  \n",
       "119139  FOIA P046957\\nReport 1.6\\nAll Complaints in CR...  "
      ]
     },
     "execution_count": 45,
     "metadata": {},
     "output_type": "execute_result"
    }
   ],
   "source": [
    "df1.head()"
   ]
  },
  {
   "cell_type": "code",
   "execution_count": 47,
   "metadata": {
    "collapsed": false
   },
   "outputs": [
    {
     "data": {
      "text/html": [
       "<div>\n",
       "<table border=\"1\" class=\"dataframe\">\n",
       "  <thead>\n",
       "    <tr style=\"text-align: right;\">\n",
       "      <th></th>\n",
       "      <th>CRID</th>\n",
       "      <th>Incident_Date_x</th>\n",
       "      <th>Incident_Time</th>\n",
       "      <th>Complaint_Date_x</th>\n",
       "      <th>Case_Status</th>\n",
       "      <th>Closed_Date_x</th>\n",
       "      <th>Investigator_Full_Name_x</th>\n",
       "      <th>Investigator_Assignment_x</th>\n",
       "      <th>Beat_x</th>\n",
       "      <th>Address_of_Incident_x</th>\n",
       "      <th>...</th>\n",
       "      <th>Zip</th>\n",
       "      <th>Incident_Date_y</th>\n",
       "      <th>Complaint_Date_y</th>\n",
       "      <th>Closed_Date_y</th>\n",
       "      <th>Investigator_Full_Name_y</th>\n",
       "      <th>Investigator_Assignment_y</th>\n",
       "      <th>Investigator_Rank</th>\n",
       "      <th>Investigator_Star</th>\n",
       "      <th>Investigator_Appt_Date</th>\n",
       "      <th>FOIA_Request_Number</th>\n",
       "    </tr>\n",
       "  </thead>\n",
       "  <tbody>\n",
       "  </tbody>\n",
       "</table>\n",
       "<p>0 rows × 39 columns</p>\n",
       "</div>"
      ],
      "text/plain": [
       "Empty DataFrame\n",
       "Columns: [CRID, Incident_Date_x, Incident_Time, Complaint_Date_x, Case_Status, Closed_Date_x, Investigator_Full_Name_x, Investigator_Assignment_x, Beat_x, Address_of_Incident_x, Accused, Star, Accused_Gender, Accused_Birth_Year, Accused_Appointed_Date, Current_Unit, Final_Complaint_Category, Current_Rank, Complaint_Description, Final_Finding, Final_Finding_Description, Final_Action_Taken, Final_Action_Description, Beat_y, Location_Code, Location_Value, Address_of_Incident_y, City, State, Zip, Incident_Date_y, Complaint_Date_y, Closed_Date_y, Investigator_Full_Name_y, Investigator_Assignment_y, Investigator_Rank, Investigator_Star, Investigator_Appt_Date, FOIA_Request_Number]\n",
       "Index: []\n",
       "\n",
       "[0 rows x 39 columns]"
      ]
     },
     "execution_count": 47,
     "metadata": {},
     "output_type": "execute_result"
    }
   ],
   "source": [
    "## NO CRID IN COMMON BETWEEN DEC FILE AND NOV COMPLAINT FILE\n",
    "df.merge(df1,how='inner',on='CRID')"
   ]
  },
  {
   "cell_type": "markdown",
   "metadata": {},
   "source": [
    "### Looking at Officer Files"
   ]
  },
  {
   "cell_type": "code",
   "execution_count": 54,
   "metadata": {
    "collapsed": false
   },
   "outputs": [
    {
     "name": "stderr",
     "output_type": "stream",
     "text": [
      "/Users/thudson/anaconda/envs/civis-model/lib/python3.5/site-packages/IPython/core/interactiveshell.py:2717: DtypeWarning: Columns (6) have mixed types. Specify dtype option on import or set low_memory=False.\n",
      "  interactivity=interactivity, compiler=compiler, result=result)\n"
     ]
    },
    {
     "data": {
      "text/html": [
       "<div>\n",
       "<table border=\"1\" class=\"dataframe\">\n",
       "  <thead>\n",
       "    <tr style=\"text-align: right;\">\n",
       "      <th></th>\n",
       "      <th>CRID</th>\n",
       "      <th>Accused</th>\n",
       "      <th>Accused_Birth_Year</th>\n",
       "      <th>Accused_Gender</th>\n",
       "      <th>Accused_Race_Code</th>\n",
       "      <th>Date_of_Appt</th>\n",
       "      <th>Current_Unit</th>\n",
       "      <th>Current_Rank</th>\n",
       "      <th>Star</th>\n",
       "      <th>Complaint_Category</th>\n",
       "      <th>Orig_Finding</th>\n",
       "      <th>Orig_Recommended_Discipline</th>\n",
       "      <th>Final_Finding</th>\n",
       "      <th>Final_Recommended_Discipline</th>\n",
       "      <th>FOIA_Request_Number</th>\n",
       "      <th>Report_Produced_Date</th>\n",
       "    </tr>\n",
       "  </thead>\n",
       "  <tbody>\n",
       "    <tr>\n",
       "      <th>0</th>\n",
       "      <td>258996</td>\n",
       "      <td>BARRON, WILLIAM</td>\n",
       "      <td>1949.0</td>\n",
       "      <td>M</td>\n",
       "      <td>WHI</td>\n",
       "      <td>1978-02-27</td>\n",
       "      <td>018</td>\n",
       "      <td>SGT</td>\n",
       "      <td>NaN</td>\n",
       "      <td>01A-USE OF PROFANITY</td>\n",
       "      <td>NS</td>\n",
       "      <td>600.0</td>\n",
       "      <td>NS</td>\n",
       "      <td>600.0</td>\n",
       "      <td>FOIA P046957\\nReport 2.1\\nAll Complaints in CR...</td>\n",
       "      <td>NaN</td>\n",
       "    </tr>\n",
       "    <tr>\n",
       "      <th>1</th>\n",
       "      <td>258997</td>\n",
       "      <td>C0NNOLLY, KIMBERLY</td>\n",
       "      <td>1965.0</td>\n",
       "      <td>F</td>\n",
       "      <td>BLK</td>\n",
       "      <td>1990-07-30</td>\n",
       "      <td>055</td>\n",
       "      <td>NaN</td>\n",
       "      <td>11026.0</td>\n",
       "      <td>01A-USE OF PROFANITY</td>\n",
       "      <td>UN</td>\n",
       "      <td>600.0</td>\n",
       "      <td>UN</td>\n",
       "      <td>600.0</td>\n",
       "      <td>FOIA P046957\\nReport 2.1\\nAll Complaints in CR...</td>\n",
       "      <td>NaN</td>\n",
       "    </tr>\n",
       "    <tr>\n",
       "      <th>2</th>\n",
       "      <td>258997</td>\n",
       "      <td>KEENE, JOHN</td>\n",
       "      <td>1968.0</td>\n",
       "      <td>M</td>\n",
       "      <td>WHI</td>\n",
       "      <td>1999-03-08</td>\n",
       "      <td>153</td>\n",
       "      <td>PO</td>\n",
       "      <td>NaN</td>\n",
       "      <td>01A-USE OF PROFANITY</td>\n",
       "      <td>UN</td>\n",
       "      <td>600.0</td>\n",
       "      <td>UN</td>\n",
       "      <td>600.0</td>\n",
       "      <td>FOIA P046957\\nReport 2.1\\nAll Complaints in CR...</td>\n",
       "      <td>NaN</td>\n",
       "    </tr>\n",
       "    <tr>\n",
       "      <th>3</th>\n",
       "      <td>258998</td>\n",
       "      <td>SLAVIN, SCOTT</td>\n",
       "      <td>1965.0</td>\n",
       "      <td>M</td>\n",
       "      <td>WHI</td>\n",
       "      <td>1991-11-18</td>\n",
       "      <td>145</td>\n",
       "      <td>SGT</td>\n",
       "      <td>807.0</td>\n",
       "      <td>10J-NEGLECT OF DUTY/CONDUCT UNBECOMING - ON DUTY</td>\n",
       "      <td>EX</td>\n",
       "      <td>600.0</td>\n",
       "      <td>EX</td>\n",
       "      <td>600.0</td>\n",
       "      <td>FOIA P046957\\nReport 2.1\\nAll Complaints in CR...</td>\n",
       "      <td>NaN</td>\n",
       "    </tr>\n",
       "    <tr>\n",
       "      <th>4</th>\n",
       "      <td>259001</td>\n",
       "      <td>MARTINEZ, ANTONIO</td>\n",
       "      <td>1971.0</td>\n",
       "      <td>M</td>\n",
       "      <td>S</td>\n",
       "      <td>1996-11-04</td>\n",
       "      <td>701</td>\n",
       "      <td>PO</td>\n",
       "      <td>NaN</td>\n",
       "      <td>10U-INADEQUATE/FAILURE TO PROVIDE SERVICE</td>\n",
       "      <td>UN</td>\n",
       "      <td>600.0</td>\n",
       "      <td>UN</td>\n",
       "      <td>600.0</td>\n",
       "      <td>FOIA P046957\\nReport 2.1\\nAll Complaints in CR...</td>\n",
       "      <td>NaN</td>\n",
       "    </tr>\n",
       "  </tbody>\n",
       "</table>\n",
       "</div>"
      ],
      "text/plain": [
       "     CRID             Accused  Accused_Birth_Year Accused_Gender  \\\n",
       "0  258996     BARRON, WILLIAM              1949.0              M   \n",
       "1  258997  C0NNOLLY, KIMBERLY              1965.0              F   \n",
       "2  258997         KEENE, JOHN              1968.0              M   \n",
       "3  258998       SLAVIN, SCOTT              1965.0              M   \n",
       "4  259001   MARTINEZ, ANTONIO              1971.0              M   \n",
       "\n",
       "  Accused_Race_Code Date_of_Appt Current_Unit Current_Rank     Star  \\\n",
       "0               WHI   1978-02-27          018          SGT      NaN   \n",
       "1               BLK   1990-07-30          055          NaN  11026.0   \n",
       "2               WHI   1999-03-08          153           PO      NaN   \n",
       "3               WHI   1991-11-18          145          SGT    807.0   \n",
       "4                 S   1996-11-04          701           PO      NaN   \n",
       "\n",
       "                                 Complaint_Category Orig_Finding  \\\n",
       "0                              01A-USE OF PROFANITY           NS   \n",
       "1                              01A-USE OF PROFANITY           UN   \n",
       "2                              01A-USE OF PROFANITY           UN   \n",
       "3  10J-NEGLECT OF DUTY/CONDUCT UNBECOMING - ON DUTY           EX   \n",
       "4         10U-INADEQUATE/FAILURE TO PROVIDE SERVICE           UN   \n",
       "\n",
       "   Orig_Recommended_Discipline Final_Finding  Final_Recommended_Discipline  \\\n",
       "0                        600.0            NS                         600.0   \n",
       "1                        600.0            UN                         600.0   \n",
       "2                        600.0            UN                         600.0   \n",
       "3                        600.0            EX                         600.0   \n",
       "4                        600.0            UN                         600.0   \n",
       "\n",
       "                                 FOIA_Request_Number  Report_Produced_Date  \n",
       "0  FOIA P046957\\nReport 2.1\\nAll Complaints in CR...                   NaN  \n",
       "1  FOIA P046957\\nReport 2.1\\nAll Complaints in CR...                   NaN  \n",
       "2  FOIA P046957\\nReport 2.1\\nAll Complaints in CR...                   NaN  \n",
       "3  FOIA P046957\\nReport 2.1\\nAll Complaints in CR...                   NaN  \n",
       "4  FOIA P046957\\nReport 2.1\\nAll Complaints in CR...                   NaN  "
      ]
     },
     "execution_count": 54,
     "metadata": {},
     "output_type": "execute_result"
    }
   ],
   "source": [
    "file = files[1]\n",
    "filepath = '/'.join([path,folder,file])\n",
    "df1_1 = pd.read_csv(filepath)\n",
    "df1_1.head()"
   ]
  },
  {
   "cell_type": "code",
   "execution_count": 55,
   "metadata": {
    "collapsed": false
   },
   "outputs": [
    {
     "data": {
      "text/html": [
       "<div>\n",
       "<table border=\"1\" class=\"dataframe\">\n",
       "  <thead>\n",
       "    <tr style=\"text-align: right;\">\n",
       "      <th></th>\n",
       "      <th>CRID</th>\n",
       "      <th>Incident_Date</th>\n",
       "      <th>Incident_Time</th>\n",
       "      <th>Complaint_Date</th>\n",
       "      <th>Case_Status</th>\n",
       "      <th>Closed_Date</th>\n",
       "      <th>Investigator_Full_Name</th>\n",
       "      <th>Investigator_Assignment</th>\n",
       "      <th>Beat</th>\n",
       "      <th>Address_of_Incident</th>\n",
       "      <th>...</th>\n",
       "      <th>Current_Unit_y</th>\n",
       "      <th>Current_Rank_y</th>\n",
       "      <th>Star_y</th>\n",
       "      <th>Complaint_Category</th>\n",
       "      <th>Orig_Finding</th>\n",
       "      <th>Orig_Recommended_Discipline</th>\n",
       "      <th>Final_Finding_y</th>\n",
       "      <th>Final_Recommended_Discipline</th>\n",
       "      <th>FOIA_Request_Number</th>\n",
       "      <th>Report_Produced_Date</th>\n",
       "    </tr>\n",
       "  </thead>\n",
       "  <tbody>\n",
       "  </tbody>\n",
       "</table>\n",
       "<p>0 rows × 38 columns</p>\n",
       "</div>"
      ],
      "text/plain": [
       "Empty DataFrame\n",
       "Columns: [CRID, Incident_Date, Incident_Time, Complaint_Date, Case_Status, Closed_Date, Investigator_Full_Name, Investigator_Assignment, Beat, Address_of_Incident, Accused_x, Star_x, Accused_Gender_x, Accused_Birth_Year_x, Accused_Appointed_Date, Current_Unit_x, Final_Complaint_Category, Current_Rank_x, Complaint_Description, Final_Finding_x, Final_Finding_Description, Final_Action_Taken, Final_Action_Description, Accused_y, Accused_Birth_Year_y, Accused_Gender_y, Accused_Race_Code, Date_of_Appt, Current_Unit_y, Current_Rank_y, Star_y, Complaint_Category, Orig_Finding, Orig_Recommended_Discipline, Final_Finding_y, Final_Recommended_Discipline, FOIA_Request_Number, Report_Produced_Date]\n",
       "Index: []\n",
       "\n",
       "[0 rows x 38 columns]"
      ]
     },
     "execution_count": 55,
     "metadata": {},
     "output_type": "execute_result"
    }
   ],
   "source": [
    "## NO CRID IN COMMON BETWEEN DEC FILE AND NOV OFFICER FILE\n",
    "df.merge(df1_1,how='inner',on='CRID')"
   ]
  },
  {
   "cell_type": "code",
   "execution_count": 113,
   "metadata": {
    "collapsed": false
   },
   "outputs": [],
   "source": [
    "## ACCUSED NAMES IN COMMON BETWEEN DEC FILE AND NOV FILE\n",
    "names_nov = [x[1]+' '+x[0] for x in df1_1['Accused'].str.split(', ')]\n",
    "names_dec = df['Accused'].tolist()"
   ]
  },
  {
   "cell_type": "code",
   "execution_count": 98,
   "metadata": {
    "collapsed": false
   },
   "outputs": [
    {
     "data": {
      "text/plain": [
       "'WILLIAM BARRON'"
      ]
     },
     "execution_count": 98,
     "metadata": {},
     "output_type": "execute_result"
    }
   ],
   "source": [
    "names_nov[0]"
   ]
  },
  {
   "cell_type": "code",
   "execution_count": 97,
   "metadata": {
    "collapsed": false
   },
   "outputs": [
    {
     "data": {
      "text/plain": [
       "['WILLIAM BARRON',\n",
       " 'JOHN KEENE',\n",
       " 'SCOTT SLAVIN',\n",
       " 'ANTONIO MARTINEZ',\n",
       " 'MICHAEL JONES',\n",
       " 'CORNELIUS BROWN',\n",
       " 'KENNETH MOLESKY',\n",
       " 'SOFIA TERRONES',\n",
       " 'JAMES BRILL',\n",
       " 'JOSEPH CRAIG']"
      ]
     },
     "execution_count": 97,
     "metadata": {},
     "output_type": "execute_result"
    }
   ],
   "source": [
    "matching_names = [x for x in names_nov if x in names_dec]\n",
    "matching_names[0:10]"
   ]
  },
  {
   "cell_type": "code",
   "execution_count": 99,
   "metadata": {
    "collapsed": false
   },
   "outputs": [
    {
     "data": {
      "text/plain": [
       "78952"
      ]
     },
     "execution_count": 99,
     "metadata": {},
     "output_type": "execute_result"
    }
   ],
   "source": [
    "len(matching_names)"
   ]
  },
  {
   "cell_type": "code",
   "execution_count": 56,
   "metadata": {
    "collapsed": false
   },
   "outputs": [
    {
     "data": {
      "text/html": [
       "<div>\n",
       "<table border=\"1\" class=\"dataframe\">\n",
       "  <thead>\n",
       "    <tr style=\"text-align: right;\">\n",
       "      <th></th>\n",
       "      <th>CRID_x</th>\n",
       "      <th>Incident_Date</th>\n",
       "      <th>Incident_Time</th>\n",
       "      <th>Complaint_Date</th>\n",
       "      <th>Case_Status</th>\n",
       "      <th>Closed_Date</th>\n",
       "      <th>Investigator_Full_Name</th>\n",
       "      <th>Investigator_Assignment</th>\n",
       "      <th>Beat</th>\n",
       "      <th>Address_of_Incident</th>\n",
       "      <th>...</th>\n",
       "      <th>Current_Unit_y</th>\n",
       "      <th>Current_Rank_y</th>\n",
       "      <th>Star_y</th>\n",
       "      <th>Complaint_Category</th>\n",
       "      <th>Orig_Finding</th>\n",
       "      <th>Orig_Recommended_Discipline</th>\n",
       "      <th>Final_Finding_y</th>\n",
       "      <th>Final_Recommended_Discipline</th>\n",
       "      <th>FOIA_Request_Number</th>\n",
       "      <th>Report_Produced_Date</th>\n",
       "    </tr>\n",
       "  </thead>\n",
       "  <tbody>\n",
       "  </tbody>\n",
       "</table>\n",
       "<p>0 rows × 38 columns</p>\n",
       "</div>"
      ],
      "text/plain": [
       "Empty DataFrame\n",
       "Columns: [CRID_x, Incident_Date, Incident_Time, Complaint_Date, Case_Status, Closed_Date, Investigator_Full_Name, Investigator_Assignment, Beat, Address_of_Incident, Accused, Star_x, Accused_Gender_x, Accused_Birth_Year_x, Accused_Appointed_Date, Current_Unit_x, Final_Complaint_Category, Current_Rank_x, Complaint_Description, Final_Finding_x, Final_Finding_Description, Final_Action_Taken, Final_Action_Description, CRID_y, Accused_Birth_Year_y, Accused_Gender_y, Accused_Race_Code, Date_of_Appt, Current_Unit_y, Current_Rank_y, Star_y, Complaint_Category, Orig_Finding, Orig_Recommended_Discipline, Final_Finding_y, Final_Recommended_Discipline, FOIA_Request_Number, Report_Produced_Date]\n",
       "Index: []\n",
       "\n",
       "[0 rows x 38 columns]"
      ]
     },
     "execution_count": 56,
     "metadata": {},
     "output_type": "execute_result"
    }
   ],
   "source": [
    "## NO CRID IN COMMON BETWEEN DEC FILE AND NOV OFFICER FILE\n",
    "df.merge(df1_1,how='inner',on='Accused')"
   ]
  },
  {
   "cell_type": "markdown",
   "metadata": {},
   "source": [
    "### October, Nov, Dec"
   ]
  },
  {
   "cell_type": "code",
   "execution_count": 100,
   "metadata": {
    "collapsed": false
   },
   "outputs": [
    {
     "data": {
      "text/plain": [
       "['CR_AllRecords.csv']"
      ]
     },
     "execution_count": 100,
     "metadata": {},
     "output_type": "execute_result"
    }
   ],
   "source": [
    "folder = folders[3]\n",
    "files = [file for file in os.listdir('/'.join([path,folder])) \n",
    "         if '.csv' in file and 'metadata' not in file]\n",
    "files"
   ]
  },
  {
   "cell_type": "code",
   "execution_count": 101,
   "metadata": {
    "collapsed": false
   },
   "outputs": [
    {
     "name": "stderr",
     "output_type": "stream",
     "text": [
      "/Users/thudson/anaconda/envs/civis-model/lib/python3.5/site-packages/IPython/core/interactiveshell.py:2717: DtypeWarning: Columns (1) have mixed types. Specify dtype option on import or set low_memory=False.\n",
      "  interactivity=interactivity, compiler=compiler, result=result)\n"
     ]
    },
    {
     "data": {
      "text/html": [
       "<div>\n",
       "<table border=\"1\" class=\"dataframe\">\n",
       "  <thead>\n",
       "    <tr style=\"text-align: right;\">\n",
       "      <th></th>\n",
       "      <th>Officer_Name</th>\n",
       "      <th>Officer_Unit</th>\n",
       "      <th>Date_of_Appointment</th>\n",
       "      <th>CRID</th>\n",
       "      <th>Initial_Complaint_Category</th>\n",
       "      <th>Final_Complaint_Category</th>\n",
       "      <th>Incident_Date</th>\n",
       "      <th>Complaint_Date</th>\n",
       "      <th>Closed_Date</th>\n",
       "      <th>Final_Finding</th>\n",
       "      <th>Final_Action_Taken</th>\n",
       "      <th>Final_Action_Description</th>\n",
       "    </tr>\n",
       "  </thead>\n",
       "  <tbody>\n",
       "    <tr>\n",
       "      <th>0</th>\n",
       "      <td>ABBATE, ANTHONY G</td>\n",
       "      <td>011</td>\n",
       "      <td>05-DEC-1994</td>\n",
       "      <td>237004</td>\n",
       "      <td>05A   ARRESTEE - DURING ARREST</td>\n",
       "      <td>05B   ARRESTEE - DURING ARREST</td>\n",
       "      <td>21-MAY-1997</td>\n",
       "      <td>21-MAY-1997</td>\n",
       "      <td>25-MAY-1999</td>\n",
       "      <td>UN</td>\n",
       "      <td>600</td>\n",
       "      <td>NO ACTION TAKEN</td>\n",
       "    </tr>\n",
       "    <tr>\n",
       "      <th>1</th>\n",
       "      <td>ABBATE, ANTHONY G</td>\n",
       "      <td>011</td>\n",
       "      <td>05-DEC-1994</td>\n",
       "      <td>258124</td>\n",
       "      <td>04E   PRISONERS PROPERTY - INVENTORY/RECEIPT</td>\n",
       "      <td>04E   PRISONERS PROPERTY - INVENTORY/RECEIPT</td>\n",
       "      <td>19-NOV-1999</td>\n",
       "      <td>20-NOV-1999</td>\n",
       "      <td>07-DEC-2000</td>\n",
       "      <td>NS</td>\n",
       "      <td>600</td>\n",
       "      <td>NO ACTION TAKEN</td>\n",
       "    </tr>\n",
       "    <tr>\n",
       "      <th>2</th>\n",
       "      <td>ABBATE, CARMEL G</td>\n",
       "      <td>641</td>\n",
       "      <td>06-JAN-1969</td>\n",
       "      <td>190369</td>\n",
       "      <td>03G   MISCELLANEOUS</td>\n",
       "      <td>03G   MISCELLANEOUS</td>\n",
       "      <td>11-FEB-1992</td>\n",
       "      <td>11-FEB-1992</td>\n",
       "      <td>09-APR-1992</td>\n",
       "      <td>UN</td>\n",
       "      <td>600</td>\n",
       "      <td>NO ACTION TAKEN</td>\n",
       "    </tr>\n",
       "    <tr>\n",
       "      <th>3</th>\n",
       "      <td>ABBATE, CARMEL G</td>\n",
       "      <td>640</td>\n",
       "      <td>06-JAN-1969</td>\n",
       "      <td>210426</td>\n",
       "      <td>10V   INVENTORY PROCEDURES</td>\n",
       "      <td>04E   INVENTORY PROCEDURES</td>\n",
       "      <td>30-JUL-1994</td>\n",
       "      <td>14-JUL-1994</td>\n",
       "      <td>01-DEC-1994</td>\n",
       "      <td>NS</td>\n",
       "      <td>600</td>\n",
       "      <td>NO ACTION TAKEN</td>\n",
       "    </tr>\n",
       "    <tr>\n",
       "      <th>4</th>\n",
       "      <td>ABBATE, CARMEL G</td>\n",
       "      <td>640</td>\n",
       "      <td>06-JAN-1969</td>\n",
       "      <td>219424</td>\n",
       "      <td>09J   MISCELLANEOUS</td>\n",
       "      <td>05A   MISCELLANEOUS</td>\n",
       "      <td>12-JUL-1995</td>\n",
       "      <td>19-JUL-1995</td>\n",
       "      <td>23-JAN-1996</td>\n",
       "      <td>NS</td>\n",
       "      <td>600</td>\n",
       "      <td>NO ACTION TAKEN</td>\n",
       "    </tr>\n",
       "  </tbody>\n",
       "</table>\n",
       "</div>"
      ],
      "text/plain": [
       "        Officer_Name Officer_Unit Date_of_Appointment    CRID  \\\n",
       "0  ABBATE, ANTHONY G          011         05-DEC-1994  237004   \n",
       "1  ABBATE, ANTHONY G          011         05-DEC-1994  258124   \n",
       "2   ABBATE, CARMEL G          641         06-JAN-1969  190369   \n",
       "3   ABBATE, CARMEL G          640         06-JAN-1969  210426   \n",
       "4   ABBATE, CARMEL G          640         06-JAN-1969  219424   \n",
       "\n",
       "                     Initial_Complaint_Category  \\\n",
       "0                05A   ARRESTEE - DURING ARREST   \n",
       "1  04E   PRISONERS PROPERTY - INVENTORY/RECEIPT   \n",
       "2                           03G   MISCELLANEOUS   \n",
       "3                    10V   INVENTORY PROCEDURES   \n",
       "4                           09J   MISCELLANEOUS   \n",
       "\n",
       "                       Final_Complaint_Category Incident_Date Complaint_Date  \\\n",
       "0                05B   ARRESTEE - DURING ARREST   21-MAY-1997    21-MAY-1997   \n",
       "1  04E   PRISONERS PROPERTY - INVENTORY/RECEIPT   19-NOV-1999    20-NOV-1999   \n",
       "2                           03G   MISCELLANEOUS   11-FEB-1992    11-FEB-1992   \n",
       "3                    04E   INVENTORY PROCEDURES   30-JUL-1994    14-JUL-1994   \n",
       "4                           05A   MISCELLANEOUS   12-JUL-1995    19-JUL-1995   \n",
       "\n",
       "   Closed_Date Final_Finding  Final_Action_Taken Final_Action_Description  \n",
       "0  25-MAY-1999            UN                 600          NO ACTION TAKEN  \n",
       "1  07-DEC-2000            NS                 600          NO ACTION TAKEN  \n",
       "2  09-APR-1992            UN                 600          NO ACTION TAKEN  \n",
       "3  01-DEC-1994            NS                 600          NO ACTION TAKEN  \n",
       "4  23-JAN-1996            NS                 600          NO ACTION TAKEN  "
      ]
     },
     "execution_count": 101,
     "metadata": {},
     "output_type": "execute_result"
    }
   ],
   "source": [
    "file = files[0]\n",
    "filepath = '/'.join([path,folder,file])\n",
    "df2 = pd.read_csv(filepath)\n",
    "df2.head()"
   ]
  },
  {
   "cell_type": "code",
   "execution_count": 104,
   "metadata": {
    "collapsed": false
   },
   "outputs": [
    {
     "data": {
      "text/html": [
       "<div>\n",
       "<table border=\"1\" class=\"dataframe\">\n",
       "  <thead>\n",
       "    <tr style=\"text-align: right;\">\n",
       "      <th></th>\n",
       "      <th>CRID</th>\n",
       "      <th>Incident_Date_x</th>\n",
       "      <th>Incident_Time</th>\n",
       "      <th>Complaint_Date_x</th>\n",
       "      <th>Case_Status</th>\n",
       "      <th>Closed_Date_x</th>\n",
       "      <th>Investigator_Full_Name</th>\n",
       "      <th>Investigator_Assignment</th>\n",
       "      <th>Beat</th>\n",
       "      <th>Address_of_Incident</th>\n",
       "      <th>...</th>\n",
       "      <th>Officer_Unit</th>\n",
       "      <th>Date_of_Appointment</th>\n",
       "      <th>Initial_Complaint_Category</th>\n",
       "      <th>Final_Complaint_Category_y</th>\n",
       "      <th>Incident_Date_y</th>\n",
       "      <th>Complaint_Date_y</th>\n",
       "      <th>Closed_Date_y</th>\n",
       "      <th>Final_Finding_y</th>\n",
       "      <th>Final_Action_Taken_y</th>\n",
       "      <th>Final_Action_Description_y</th>\n",
       "    </tr>\n",
       "  </thead>\n",
       "  <tbody>\n",
       "  </tbody>\n",
       "</table>\n",
       "<p>0 rows × 34 columns</p>\n",
       "</div>"
      ],
      "text/plain": [
       "Empty DataFrame\n",
       "Columns: [CRID, Incident_Date_x, Incident_Time, Complaint_Date_x, Case_Status, Closed_Date_x, Investigator_Full_Name, Investigator_Assignment, Beat, Address_of_Incident, Accused, Star, Accused_Gender, Accused_Birth_Year, Accused_Appointed_Date, Current_Unit, Final_Complaint_Category_x, Current_Rank, Complaint_Description, Final_Finding_x, Final_Finding_Description, Final_Action_Taken_x, Final_Action_Description_x, Officer_Name, Officer_Unit, Date_of_Appointment, Initial_Complaint_Category, Final_Complaint_Category_y, Incident_Date_y, Complaint_Date_y, Closed_Date_y, Final_Finding_y, Final_Action_Taken_y, Final_Action_Description_y]\n",
       "Index: []\n",
       "\n",
       "[0 rows x 34 columns]"
      ]
     },
     "execution_count": 104,
     "metadata": {},
     "output_type": "execute_result"
    }
   ],
   "source": [
    "## NO CRID IN COMMON BETWEEN DEC FILE AND OCT OFFICER FILE\n",
    "df.merge(df2,how='inner',on='CRID')"
   ]
  },
  {
   "cell_type": "code",
   "execution_count": 111,
   "metadata": {
    "collapsed": false
   },
   "outputs": [],
   "source": [
    "## ACCUSED NAMES IN COMMON BETWEEN DEC FILE AND OCT FILE\n",
    "names_oct = [x[1]+' '+x[0] for x in df2['Officer_Name'].str.split(', ')]"
   ]
  },
  {
   "cell_type": "code",
   "execution_count": 114,
   "metadata": {
    "collapsed": false
   },
   "outputs": [
    {
     "data": {
      "text/plain": [
       "['RASHAD ABDULLAH',\n",
       " 'RASHAD ABDULLAH',\n",
       " 'ROBERT ABERNATHY',\n",
       " 'JOHN ABRAMS',\n",
       " 'JOHN ABRAMS',\n",
       " 'JOHN ABRAMS',\n",
       " 'JOHN ABRAMS',\n",
       " 'JOHN ABRAMS',\n",
       " 'JOHN ABRAMS',\n",
       " 'JOHN ABRAMS']"
      ]
     },
     "execution_count": 114,
     "metadata": {},
     "output_type": "execute_result"
    }
   ],
   "source": [
    "matching_names = [x for x in names_oct if x in names_dec]\n",
    "matching_names[0:10]"
   ]
  },
  {
   "cell_type": "code",
   "execution_count": 106,
   "metadata": {
    "collapsed": false
   },
   "outputs": [
    {
     "data": {
      "text/plain": [
       "(12437, 28)"
      ]
     },
     "execution_count": 106,
     "metadata": {},
     "output_type": "execute_result"
    }
   ],
   "source": [
    "## CRID IN COMMON BETWEEN NOV FILE AND OCT OFFICER FILE\n",
    "df1.merge(df2,how='inner',on='CRID').shape"
   ]
  },
  {
   "cell_type": "markdown",
   "metadata": {},
   "source": [
    "### June, Oct, Nov, Dec"
   ]
  },
  {
   "cell_type": "code",
   "execution_count": 115,
   "metadata": {
    "collapsed": false
   },
   "outputs": [
    {
     "data": {
      "text/plain": [
       "['P046957_-_report_1_-_all_complaints_in_time_frame-unlocked.csv',\n",
       " 'P046957_-_report_2_-_identified_accused_xi-unlocked.csv',\n",
       " 'P046957_-_report_3_-_police_officer_witness_data_xi-unlocked.csv',\n",
       " 'P046957_-_report_4_-_victim_data-unlocked.csv',\n",
       " 'P046957_-_report_5_-_complainant_(reporting_party)_data-unlocked.csv']"
      ]
     },
     "execution_count": 115,
     "metadata": {},
     "output_type": "execute_result"
    }
   ],
   "source": [
    "folder = folders[1]\n",
    "files = [file for file in os.listdir('/'.join([path,folder])) \n",
    "         if '.csv' in file and 'metadata' not in file]\n",
    "files"
   ]
  },
  {
   "cell_type": "code",
   "execution_count": 116,
   "metadata": {
    "collapsed": false
   },
   "outputs": [
    {
     "data": {
      "text/html": [
       "<div>\n",
       "<table border=\"1\" class=\"dataframe\">\n",
       "  <thead>\n",
       "    <tr style=\"text-align: right;\">\n",
       "      <th></th>\n",
       "      <th>CRID</th>\n",
       "      <th>Beat</th>\n",
       "      <th>Location_Code</th>\n",
       "      <th>Location_Value</th>\n",
       "      <th>Address_of_Incident</th>\n",
       "      <th>City</th>\n",
       "      <th>State</th>\n",
       "      <th>Zip</th>\n",
       "      <th>Incident_Date</th>\n",
       "      <th>Complaint_Date</th>\n",
       "      <th>Closed_Date</th>\n",
       "      <th>Investigator_Full_Name</th>\n",
       "      <th>Investigator_Assignment</th>\n",
       "      <th>Investigator_Rank</th>\n",
       "      <th>Investigator_Star</th>\n",
       "      <th>Investigator_Appt_Date</th>\n",
       "      <th>FOIA_Request_Number</th>\n",
       "      <th>Report_Produced_Date</th>\n",
       "    </tr>\n",
       "  </thead>\n",
       "  <tbody>\n",
       "    <tr>\n",
       "      <th>0</th>\n",
       "      <td>106213</td>\n",
       "      <td>1631.0</td>\n",
       "      <td>17</td>\n",
       "      <td>Public Way - Other</td>\n",
       "      <td>3700 N HARLEM AVE</td>\n",
       "      <td>CHICAGO</td>\n",
       "      <td>IL</td>\n",
       "      <td>60634</td>\n",
       "      <td>2015-07-19 21:00:00</td>\n",
       "      <td>2015-07-20 00:00:00</td>\n",
       "      <td>2015-09-21 00:00:00</td>\n",
       "      <td>KLIMAS, ROBERT</td>\n",
       "      <td>121.0</td>\n",
       "      <td>COMMANDER</td>\n",
       "      <td>0.0</td>\n",
       "      <td>2008-08-04 00:00:00</td>\n",
       "      <td>FOIA P046957\\nReport 1\\nAll Complaints in CRMS...</td>\n",
       "      <td>NaN</td>\n",
       "    </tr>\n",
       "    <tr>\n",
       "      <th>1</th>\n",
       "      <td>107899</td>\n",
       "      <td>611.0</td>\n",
       "      <td>17</td>\n",
       "      <td>Public Way - Other</td>\n",
       "      <td>7843 S HERMITAGE AVE</td>\n",
       "      <td>CHICAGO</td>\n",
       "      <td>IL</td>\n",
       "      <td>6062</td>\n",
       "      <td>2015-08-16 20:20:00</td>\n",
       "      <td>2016-01-25 00:00:00</td>\n",
       "      <td>NaN</td>\n",
       "      <td>NaN</td>\n",
       "      <td>NaN</td>\n",
       "      <td>NaN</td>\n",
       "      <td>NaN</td>\n",
       "      <td>NaN</td>\n",
       "      <td>FOIA P046957\\nReport 1\\nAll Complaints in CRMS...</td>\n",
       "      <td>NaN</td>\n",
       "    </tr>\n",
       "    <tr>\n",
       "      <th>2</th>\n",
       "      <td>107901</td>\n",
       "      <td>1814.0</td>\n",
       "      <td>17</td>\n",
       "      <td>Public Way - Other</td>\n",
       "      <td>1622 N NORTH PARK AVE</td>\n",
       "      <td>CHICAGO</td>\n",
       "      <td>IL</td>\n",
       "      <td>60614</td>\n",
       "      <td>2016-01-25 21:50:00</td>\n",
       "      <td>2016-01-26 00:00:00</td>\n",
       "      <td>NaN</td>\n",
       "      <td>NaN</td>\n",
       "      <td>NaN</td>\n",
       "      <td>NaN</td>\n",
       "      <td>NaN</td>\n",
       "      <td>NaN</td>\n",
       "      <td>FOIA P046957\\nReport 1\\nAll Complaints in CRMS...</td>\n",
       "      <td>NaN</td>\n",
       "    </tr>\n",
       "    <tr>\n",
       "      <th>3</th>\n",
       "      <td>108026</td>\n",
       "      <td>1722.0</td>\n",
       "      <td>04</td>\n",
       "      <td>Police Building</td>\n",
       "      <td>4650 N PULASKI RD</td>\n",
       "      <td>CHICAGO</td>\n",
       "      <td>IL</td>\n",
       "      <td>NaN</td>\n",
       "      <td>2013-10-14 00:01:00</td>\n",
       "      <td>2016-04-25 00:00:00</td>\n",
       "      <td>NaN</td>\n",
       "      <td>NaN</td>\n",
       "      <td>NaN</td>\n",
       "      <td>NaN</td>\n",
       "      <td>NaN</td>\n",
       "      <td>NaN</td>\n",
       "      <td>FOIA P046957\\nReport 1\\nAll Complaints in CRMS...</td>\n",
       "      <td>NaN</td>\n",
       "    </tr>\n",
       "    <tr>\n",
       "      <th>4</th>\n",
       "      <td>108109</td>\n",
       "      <td>832.0</td>\n",
       "      <td>17</td>\n",
       "      <td>Public Way - Other</td>\n",
       "      <td>2340 W 69TH ST</td>\n",
       "      <td>CHICAGO</td>\n",
       "      <td>IL</td>\n",
       "      <td>NaN</td>\n",
       "      <td>2016-02-26 11:00:00</td>\n",
       "      <td>2016-04-14 00:00:00</td>\n",
       "      <td>NaN</td>\n",
       "      <td>NaN</td>\n",
       "      <td>NaN</td>\n",
       "      <td>NaN</td>\n",
       "      <td>NaN</td>\n",
       "      <td>NaN</td>\n",
       "      <td>FOIA P046957\\nReport 1\\nAll Complaints in CRMS...</td>\n",
       "      <td>NaN</td>\n",
       "    </tr>\n",
       "  </tbody>\n",
       "</table>\n",
       "</div>"
      ],
      "text/plain": [
       "     CRID    Beat Location_Code      Location_Value     Address_of_Incident  \\\n",
       "0  106213  1631.0            17  Public Way - Other      3700 N HARLEM AVE    \n",
       "1  107899   611.0            17  Public Way - Other   7843 S HERMITAGE AVE    \n",
       "2  107901  1814.0            17  Public Way - Other  1622 N NORTH PARK AVE    \n",
       "3  108026  1722.0            04     Police Building      4650 N PULASKI RD    \n",
       "4  108109   832.0            17  Public Way - Other         2340 W 69TH ST    \n",
       "\n",
       "      City State    Zip        Incident_Date       Complaint_Date  \\\n",
       "0  CHICAGO    IL  60634  2015-07-19 21:00:00  2015-07-20 00:00:00   \n",
       "1  CHICAGO    IL   6062  2015-08-16 20:20:00  2016-01-25 00:00:00   \n",
       "2  CHICAGO    IL  60614  2016-01-25 21:50:00  2016-01-26 00:00:00   \n",
       "3  CHICAGO    IL    NaN  2013-10-14 00:01:00  2016-04-25 00:00:00   \n",
       "4  CHICAGO    IL    NaN  2016-02-26 11:00:00  2016-04-14 00:00:00   \n",
       "\n",
       "           Closed_Date Investigator_Full_Name  Investigator_Assignment  \\\n",
       "0  2015-09-21 00:00:00         KLIMAS, ROBERT                    121.0   \n",
       "1                  NaN                    NaN                      NaN   \n",
       "2                  NaN                    NaN                      NaN   \n",
       "3                  NaN                    NaN                      NaN   \n",
       "4                  NaN                    NaN                      NaN   \n",
       "\n",
       "  Investigator_Rank  Investigator_Star Investigator_Appt_Date  \\\n",
       "0         COMMANDER                0.0    2008-08-04 00:00:00   \n",
       "1               NaN                NaN                    NaN   \n",
       "2               NaN                NaN                    NaN   \n",
       "3               NaN                NaN                    NaN   \n",
       "4               NaN                NaN                    NaN   \n",
       "\n",
       "                                 FOIA_Request_Number  Report_Produced_Date  \n",
       "0  FOIA P046957\\nReport 1\\nAll Complaints in CRMS...                   NaN  \n",
       "1  FOIA P046957\\nReport 1\\nAll Complaints in CRMS...                   NaN  \n",
       "2  FOIA P046957\\nReport 1\\nAll Complaints in CRMS...                   NaN  \n",
       "3  FOIA P046957\\nReport 1\\nAll Complaints in CRMS...                   NaN  \n",
       "4  FOIA P046957\\nReport 1\\nAll Complaints in CRMS...                   NaN  "
      ]
     },
     "execution_count": 116,
     "metadata": {},
     "output_type": "execute_result"
    }
   ],
   "source": [
    "file = files[0]\n",
    "filepath = '/'.join([path,folder,file])\n",
    "df3 = pd.read_csv(filepath)\n",
    "df3.head()"
   ]
  },
  {
   "cell_type": "code",
   "execution_count": 121,
   "metadata": {
    "collapsed": false
   },
   "outputs": [
    {
     "data": {
      "text/plain": [
       "(0, 40)"
      ]
     },
     "execution_count": 121,
     "metadata": {},
     "output_type": "execute_result"
    }
   ],
   "source": [
    "## NO CRID IN COMMON BETWEEN DEC FILE AND JUNE FILE\n",
    "df.merge(df3,how='inner',on='CRID').shape"
   ]
  },
  {
   "cell_type": "code",
   "execution_count": 119,
   "metadata": {
    "collapsed": false
   },
   "outputs": [
    {
     "data": {
      "text/plain": [
       "(18111, 34)"
      ]
     },
     "execution_count": 119,
     "metadata": {},
     "output_type": "execute_result"
    }
   ],
   "source": [
    "## CRID IN COMMON BETWEEN NOV FILE AND JUNE FILE\n",
    "df1.merge(df3,how='inner',on='CRID').shape"
   ]
  },
  {
   "cell_type": "code",
   "execution_count": 120,
   "metadata": {
    "collapsed": false
   },
   "outputs": [
    {
     "data": {
      "text/plain": [
       "(0, 29)"
      ]
     },
     "execution_count": 120,
     "metadata": {},
     "output_type": "execute_result"
    }
   ],
   "source": [
    "## NO CRID IN COMMON BETWEEN OCT FILE AND JUNE FILE\n",
    "df2.merge(df3,how='inner',on='CRID').shape"
   ]
  }
 ],
 "metadata": {
  "kernelspec": {
   "display_name": "Civis Model",
   "language": "python",
   "name": "civis-model"
  },
  "language_info": {
   "codemirror_mode": {
    "name": "ipython",
    "version": 3
   },
   "file_extension": ".py",
   "mimetype": "text/x-python",
   "name": "python",
   "nbconvert_exporter": "python",
   "pygments_lexer": "ipython3",
   "version": "3.5.2"
  }
 },
 "nbformat": 4,
 "nbformat_minor": 0
}
