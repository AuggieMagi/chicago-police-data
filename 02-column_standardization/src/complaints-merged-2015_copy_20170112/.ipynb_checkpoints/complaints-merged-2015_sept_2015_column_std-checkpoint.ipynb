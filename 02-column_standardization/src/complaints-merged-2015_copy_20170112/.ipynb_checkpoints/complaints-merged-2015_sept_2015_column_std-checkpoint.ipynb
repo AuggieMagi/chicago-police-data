{
 "cells": [
  {
   "cell_type": "code",
   "execution_count": 1,
   "metadata": {
    "collapsed": true
   },
   "outputs": [],
   "source": [
    "import re\n",
    "import numpy as np\n",
    "import pandas as pd \n",
    "import os\n",
    "import sys\n",
    "import itertools\n",
    "import io"
   ]
  },
  {
   "cell_type": "code",
   "execution_count": 2,
   "metadata": {
    "collapsed": false
   },
   "outputs": [],
   "source": [
    "module_path = os.path.abspath(os.path.join('..'))\n",
    "if module_path not in sys.path:\n",
    "    sys.path.append(module_path)\n",
    "from utils.utils import *"
   ]
  },
  {
   "cell_type": "markdown",
   "metadata": {},
   "source": [
    "### Establishes General Path"
   ]
  },
  {
   "cell_type": "code",
   "execution_count": 3,
   "metadata": {
    "collapsed": false
   },
   "outputs": [],
   "source": [
    "##local_path = \"/your/path/here\"\n",
    "local_path = \"/users/thudson/Documents/Dropbox/chicago-police-data/02-column_std\""
   ]
  },
  {
   "cell_type": "code",
   "execution_count": 4,
   "metadata": {
    "collapsed": false
   },
   "outputs": [
    {
     "data": {
      "text/plain": [
       "['incomplete',\n",
       " 'TRRs',\n",
       " 'complaints-cpd-2016-dec',\n",
       " 'complaints-cpd-2016-jun',\n",
       " 'complaints-cpd-2016-nov',\n",
       " 'complaints-cpd-2016-oct',\n",
       " 'complaints-ipra-2016-apr',\n",
       " 'complaints-merged-2015',\n",
       " 'shootings-cpd-feb2016',\n",
       " 'shootings-ipra-may2016']"
      ]
     },
     "execution_count": 4,
     "metadata": {},
     "output_type": "execute_result"
    }
   ],
   "source": [
    "path = '/Data/chicago-police-data/import'\n",
    "db = dropbox_handler()\n",
    "db.list_files(path+'/output')"
   ]
  },
  {
   "cell_type": "code",
   "execution_count": 5,
   "metadata": {
    "collapsed": true
   },
   "outputs": [],
   "source": [
    "in_path = path + '/output/complaints-merged-2015/'\n",
    "out_path = local_path + '/output/complaints-merged-2015/'"
   ]
  },
  {
   "cell_type": "code",
   "execution_count": 6,
   "metadata": {
    "collapsed": false
   },
   "outputs": [
    {
     "name": "stdout",
     "output_type": "stream",
     "text": [
      "path exists: /users/thudson/Documents/Dropbox/chicago-police-data/02-column_std/output/complaints-merged-2015/\n"
     ]
    }
   ],
   "source": [
    "try:\n",
    "    os.mkdir(out_path)\n",
    "except:\n",
    "    print(\"path exists: {}\".format(out_path))"
   ]
  },
  {
   "cell_type": "code",
   "execution_count": 7,
   "metadata": {
    "collapsed": false
   },
   "outputs": [
    {
     "data": {
      "text/html": [
       "<div>\n",
       "<table border=\"1\" class=\"dataframe\">\n",
       "  <thead>\n",
       "    <tr style=\"text-align: right;\">\n",
       "      <th></th>\n",
       "      <th>Orig Column Name</th>\n",
       "      <th>New Name</th>\n",
       "      <th>Alternative Name</th>\n",
       "    </tr>\n",
       "  </thead>\n",
       "  <tbody>\n",
       "    <tr>\n",
       "      <th>0</th>\n",
       "      <td>Victim_Age</td>\n",
       "      <td>Civilian.Victim.Age</td>\n",
       "      <td>NaN</td>\n",
       "    </tr>\n",
       "    <tr>\n",
       "      <th>1</th>\n",
       "      <td>Victim_Gender</td>\n",
       "      <td>Civilian.Victim.Gender</td>\n",
       "      <td>NaN</td>\n",
       "    </tr>\n",
       "    <tr>\n",
       "      <th>2</th>\n",
       "      <td>Victim_Race</td>\n",
       "      <td>Civilian.Victim.Race_Code</td>\n",
       "      <td>NaN</td>\n",
       "    </tr>\n",
       "    <tr>\n",
       "      <th>3</th>\n",
       "      <td>Witness_Age</td>\n",
       "      <td>Civilian.Witness.Age</td>\n",
       "      <td>NaN</td>\n",
       "    </tr>\n",
       "    <tr>\n",
       "      <th>4</th>\n",
       "      <td>Witness_Gender</td>\n",
       "      <td>Civilian.Witness.Gender</td>\n",
       "      <td>NaN</td>\n",
       "    </tr>\n",
       "  </tbody>\n",
       "</table>\n",
       "</div>"
      ],
      "text/plain": [
       "  Orig Column Name                   New Name Alternative Name\n",
       "0       Victim_Age        Civilian.Victim.Age              NaN\n",
       "1    Victim_Gender     Civilian.Victim.Gender              NaN\n",
       "2      Victim_Race  Civilian.Victim.Race_Code              NaN\n",
       "3      Witness_Age       Civilian.Witness.Age              NaN\n",
       "4   Witness_Gender    Civilian.Witness.Gender              NaN"
      ]
     },
     "execution_count": 7,
     "metadata": {},
     "output_type": "execute_result"
    }
   ],
   "source": [
    "##doc_path = '/Data/chicago-police-data/02-column_std'\n",
    "##column_dict = db.download_file(doc_path+'/doc/','Column_Dictionary.csv')\n",
    "\n",
    "doc_path = local_path\n",
    "column_dict = pd.read_csv(doc_path+'/doc/'+'Column_Dictionary.csv').iloc[:,0:3]\n",
    "column_dict.head()"
   ]
  },
  {
   "cell_type": "code",
   "execution_count": 8,
   "metadata": {
    "collapsed": true
   },
   "outputs": [],
   "source": [
    "## SOMETHING TO PUT IN UTILS? HOW WOULD THE SPECIFIED COLUMN_DICT WORK?\n",
    "\n",
    "def column_mapper(df,\n",
    "                  column_dict = column_dict):\n",
    "    current_columns = pd.DataFrame(df.columns.tolist(),columns=['Orig Column Name'])\n",
    "    new_columns = current_columns.merge(column_dict,how='left',on='Orig Column Name')['New Name'].tolist() \n",
    "    if current_columns.shape[0] == len(new_columns):\n",
    "        return new_columns\n",
    "    else:\n",
    "        print(\"Join failed, more columns returned than expected\")"
   ]
  },
  {
   "cell_type": "markdown",
   "metadata": {},
   "source": [
    "## September 2015 Data"
   ]
  },
  {
   "cell_type": "code",
   "execution_count": 10,
   "metadata": {
    "collapsed": false
   },
   "outputs": [
    {
     "data": {
      "text/plain": [
       "['foia_15-4790_-_report 3_-_police_officer_witness_data.csv',\n",
       " 'foia_15-4790_-_report 3_-_police_officer_witness_data.xlsx',\n",
       " 'foia_15-4790_-_report 3_-_police_officer_witness_data_metadata.csv',\n",
       " 'foia_15-4790_-_report_1_-_all_complaints_in_time_frame.csv',\n",
       " 'foia_15-4790_-_report_1_-_all_complaints_in_time_frame.xlsx',\n",
       " 'foia_15-4790_-_report_1_-_all_complaints_in_time_frame_metadata.csv',\n",
       " 'foia_15-4790_-_report_2_-_identified_accused_xi.csv',\n",
       " 'foia_15-4790_-_report_2_-_identified_accused_xi.xlsx',\n",
       " 'foia_15-4790_-_report_2_-_identified_accused_xi_metadata.csv',\n",
       " 'foia_15-4790_-_report_4_-_complaining_witness_data.csv',\n",
       " 'foia_15-4790_-_report_4_-_complaining_witness_data.xlsx',\n",
       " 'foia_15-4790_-_report_4_-_complaining_witness_data_metadata.csv']"
      ]
     },
     "execution_count": 10,
     "metadata": {},
     "output_type": "execute_result"
    }
   ],
   "source": [
    "in_path_sept_2015_report = in_path+'september_2015'\n",
    "db.list_files(in_path_sept_2015_report)\n"
   ]
  },
  {
   "cell_type": "markdown",
   "metadata": {},
   "source": [
    "### Report 1"
   ]
  },
  {
   "cell_type": "code",
   "execution_count": null,
   "metadata": {
    "collapsed": false
   },
   "outputs": [],
   "source": [
    "in_path_sept_2015_report = in_path+'september_2015'\n",
    "out_path_sept_2015_report = out_path\n",
    "\n",
    "files = db.list_files(in_path_sept_2015_report)\n",
    "files"
   ]
  },
  {
   "cell_type": "code",
   "execution_count": null,
   "metadata": {
    "collapsed": false
   },
   "outputs": [],
   "source": [
    "file = files[0]\n",
    "df = db.download_file(in_path_sept_2015_report,file)\n",
    "df.columns.tolist()"
   ]
  },
  {
   "cell_type": "code",
   "execution_count": null,
   "metadata": {
    "collapsed": false
   },
   "outputs": [],
   "source": [
    "df.columns = column_mapper(df)\n",
    "df.columns.tolist()"
   ]
  },
  {
   "cell_type": "code",
   "execution_count": null,
   "metadata": {
    "collapsed": false
   },
   "outputs": [],
   "source": [
    "df.to_csv(out_path_sept_2015_report+'sept_2015'+file,index=False)"
   ]
  },
  {
   "cell_type": "markdown",
   "metadata": {},
   "source": [
    "### Report 2"
   ]
  },
  {
   "cell_type": "code",
   "execution_count": null,
   "metadata": {
    "collapsed": false
   },
   "outputs": [],
   "source": [
    "file = files[3]\n",
    "df = db.download_file(in_path_sept_2015_report,file)\n",
    "df.columns.tolist()"
   ]
  },
  {
   "cell_type": "code",
   "execution_count": null,
   "metadata": {
    "collapsed": false
   },
   "outputs": [],
   "source": [
    "df.columns = column_mapper(df)\n",
    "df.columns.tolist()"
   ]
  },
  {
   "cell_type": "code",
   "execution_count": null,
   "metadata": {
    "collapsed": true
   },
   "outputs": [],
   "source": [
    "df.to_csv(out_path_sept_2015_report+'sept_2015'+file,index=False)"
   ]
  },
  {
   "cell_type": "markdown",
   "metadata": {},
   "source": [
    "### Report 3"
   ]
  },
  {
   "cell_type": "code",
   "execution_count": null,
   "metadata": {
    "collapsed": false
   },
   "outputs": [],
   "source": [
    "file = files[6]\n",
    "df = db.download_file(in_path_sept_2015_report,file)\n",
    "df.columns.tolist()"
   ]
  },
  {
   "cell_type": "code",
   "execution_count": null,
   "metadata": {
    "collapsed": false
   },
   "outputs": [],
   "source": [
    "df.columns = column_mapper(df)\n",
    "df.columns.tolist()"
   ]
  },
  {
   "cell_type": "code",
   "execution_count": null,
   "metadata": {
    "collapsed": true
   },
   "outputs": [],
   "source": [
    "df.to_csv(out_path_sept_2015_report+'sept_2015'+file,index=False)"
   ]
  },
  {
   "cell_type": "markdown",
   "metadata": {},
   "source": [
    "### Report 4"
   ]
  },
  {
   "cell_type": "code",
   "execution_count": null,
   "metadata": {
    "collapsed": false
   },
   "outputs": [],
   "source": [
    "file = files[9]\n",
    "df = db.download_file(in_path_sept_2015_report,file)\n",
    "df.columns.tolist()"
   ]
  },
  {
   "cell_type": "code",
   "execution_count": null,
   "metadata": {
    "collapsed": false
   },
   "outputs": [],
   "source": [
    "df.columns = column_mapper(df)\n",
    "df.columns.tolist()"
   ]
  },
  {
   "cell_type": "code",
   "execution_count": null,
   "metadata": {
    "collapsed": true
   },
   "outputs": [],
   "source": [
    "df.to_csv(out_path_sept_2015_report+'sept_2015'+file,index=False)"
   ]
  }
 ],
 "metadata": {
  "anaconda-cloud": {},
  "kernelspec": {
   "display_name": "Civis Model",
   "language": "python",
   "name": "civis-model"
  },
  "language_info": {
   "codemirror_mode": {
    "name": "ipython",
    "version": 3
   },
   "file_extension": ".py",
   "mimetype": "text/x-python",
   "name": "python",
   "nbconvert_exporter": "python",
   "pygments_lexer": "ipython3",
   "version": "3.5.2"
  }
 },
 "nbformat": 4,
 "nbformat_minor": 0
}
