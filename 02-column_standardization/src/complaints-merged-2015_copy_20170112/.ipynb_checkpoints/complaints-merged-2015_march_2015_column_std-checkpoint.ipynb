{
 "cells": [
  {
   "cell_type": "code",
   "execution_count": 1,
   "metadata": {
    "collapsed": true
   },
   "outputs": [],
   "source": [
    "import re\n",
    "import numpy as np\n",
    "import pandas as pd \n",
    "import os\n",
    "import sys\n",
    "import itertools\n",
    "import io"
   ]
  },
  {
   "cell_type": "code",
   "execution_count": 2,
   "metadata": {
    "collapsed": false
   },
   "outputs": [],
   "source": [
    "module_path = os.path.abspath(os.path.join('..'))\n",
    "if module_path not in sys.path:\n",
    "    sys.path.append(module_path)\n",
    "from utils.utils import *"
   ]
  },
  {
   "cell_type": "markdown",
   "metadata": {},
   "source": [
    "### Establishes General Path"
   ]
  },
  {
   "cell_type": "code",
   "execution_count": 3,
   "metadata": {
    "collapsed": false
   },
   "outputs": [],
   "source": [
    "##local_path = \"/your/path/here\"\n",
    "local_path = \"/users/thudson/Documents/Dropbox/chicago-police-data/02-column_std\""
   ]
  },
  {
   "cell_type": "code",
   "execution_count": 4,
   "metadata": {
    "collapsed": false
   },
   "outputs": [
    {
     "data": {
      "text/plain": [
       "['incomplete',\n",
       " 'TRRs',\n",
       " 'complaints-cpd-2016-dec',\n",
       " 'complaints-cpd-2016-jun',\n",
       " 'complaints-cpd-2016-nov',\n",
       " 'complaints-cpd-2016-oct',\n",
       " 'complaints-ipra-2016-apr',\n",
       " 'complaints-merged-2015',\n",
       " 'shootings-cpd-feb2016',\n",
       " 'shootings-ipra-may2016']"
      ]
     },
     "execution_count": 4,
     "metadata": {},
     "output_type": "execute_result"
    }
   ],
   "source": [
    "path = '/Data/chicago-police-data/import'\n",
    "db = dropbox_handler()\n",
    "db.list_files(path+'/output')"
   ]
  },
  {
   "cell_type": "code",
   "execution_count": 5,
   "metadata": {
    "collapsed": true
   },
   "outputs": [],
   "source": [
    "in_path = path + '/output/complaints-merged-2015/'\n",
    "out_path = local_path + '/output/complaints-merged-2015/'"
   ]
  },
  {
   "cell_type": "code",
   "execution_count": 6,
   "metadata": {
    "collapsed": false
   },
   "outputs": [
    {
     "name": "stdout",
     "output_type": "stream",
     "text": [
      "path exists: /users/thudson/Documents/Dropbox/chicago-police-data/02-column_std/output/complaints-merged-2015/\n"
     ]
    }
   ],
   "source": [
    "try:\n",
    "    os.mkdir(out_path)\n",
    "except:\n",
    "    print(\"path exists: {}\".format(out_path))"
   ]
  },
  {
   "cell_type": "code",
   "execution_count": 7,
   "metadata": {
    "collapsed": false
   },
   "outputs": [
    {
     "data": {
      "text/html": [
       "<div>\n",
       "<table border=\"1\" class=\"dataframe\">\n",
       "  <thead>\n",
       "    <tr style=\"text-align: right;\">\n",
       "      <th></th>\n",
       "      <th>Orig Column Name</th>\n",
       "      <th>New Name</th>\n",
       "      <th>Alternative Name</th>\n",
       "    </tr>\n",
       "  </thead>\n",
       "  <tbody>\n",
       "    <tr>\n",
       "      <th>0</th>\n",
       "      <td>Victim_Age</td>\n",
       "      <td>Civilian.Victim.Age</td>\n",
       "      <td>NaN</td>\n",
       "    </tr>\n",
       "    <tr>\n",
       "      <th>1</th>\n",
       "      <td>Victim_Gender</td>\n",
       "      <td>Civilian.Victim.Gender</td>\n",
       "      <td>NaN</td>\n",
       "    </tr>\n",
       "    <tr>\n",
       "      <th>2</th>\n",
       "      <td>Victim_Race</td>\n",
       "      <td>Civilian.Victim.Race_Code</td>\n",
       "      <td>NaN</td>\n",
       "    </tr>\n",
       "    <tr>\n",
       "      <th>3</th>\n",
       "      <td>Witness_Age</td>\n",
       "      <td>Civilian.Witness.Age</td>\n",
       "      <td>NaN</td>\n",
       "    </tr>\n",
       "    <tr>\n",
       "      <th>4</th>\n",
       "      <td>Witness_Gender</td>\n",
       "      <td>Civilian.Witness.Gender</td>\n",
       "      <td>NaN</td>\n",
       "    </tr>\n",
       "  </tbody>\n",
       "</table>\n",
       "</div>"
      ],
      "text/plain": [
       "  Orig Column Name                   New Name Alternative Name\n",
       "0       Victim_Age        Civilian.Victim.Age              NaN\n",
       "1    Victim_Gender     Civilian.Victim.Gender              NaN\n",
       "2      Victim_Race  Civilian.Victim.Race_Code              NaN\n",
       "3      Witness_Age       Civilian.Witness.Age              NaN\n",
       "4   Witness_Gender    Civilian.Witness.Gender              NaN"
      ]
     },
     "execution_count": 7,
     "metadata": {},
     "output_type": "execute_result"
    }
   ],
   "source": [
    "##doc_path = '/Data/chicago-police-data/02-column_std'\n",
    "##column_dict = db.download_file(doc_path+'/doc/','Column_Dictionary.csv')\n",
    "\n",
    "doc_path = local_path\n",
    "column_dict = pd.read_csv(doc_path+'/doc/'+'Column_Dictionary.csv').iloc[:,0:3]\n",
    "column_dict.head()"
   ]
  },
  {
   "cell_type": "code",
   "execution_count": 8,
   "metadata": {
    "collapsed": true
   },
   "outputs": [],
   "source": [
    "## SOMETHING TO PUT IN UTILS? HOW WOULD THE SPECIFIED COLUMN_DICT WORK?\n",
    "\n",
    "def column_mapper(df,\n",
    "                  column_dict = column_dict):\n",
    "    current_columns = pd.DataFrame(df.columns.tolist(),columns=['Orig Column Name'])\n",
    "    new_columns = current_columns.merge(column_dict,how='left',on='Orig Column Name')['New Name'].tolist() \n",
    "    if current_columns.shape[0] == len(new_columns):\n",
    "        return new_columns\n",
    "    else:\n",
    "        print(\"Join failed, more columns returned than expected\")"
   ]
  },
  {
   "cell_type": "markdown",
   "metadata": {},
   "source": [
    "## March 2015 Data"
   ]
  },
  {
   "cell_type": "code",
   "execution_count": 9,
   "metadata": {
    "collapsed": false
   },
   "outputs": [
    {
     "data": {
      "text/plain": [
       "['Report_1_-_All_Complaints_in_Time_Frame',\n",
       " 'Report_2_-_Identified_Accused',\n",
       " 'Report_3_-_Police_Witnesses',\n",
       " 'Report_4_-_Complaining_Witnesses']"
      ]
     },
     "execution_count": 9,
     "metadata": {},
     "output_type": "execute_result"
    }
   ],
   "source": [
    "in_path_mar_2015_report = in_path+'march_2015'\n",
    "db.list_files(in_path_mar_2015_report)\n"
   ]
  },
  {
   "cell_type": "markdown",
   "metadata": {},
   "source": [
    "### Report 1"
   ]
  },
  {
   "cell_type": "code",
   "execution_count": 10,
   "metadata": {
    "collapsed": false
   },
   "outputs": [
    {
     "data": {
      "text/plain": [
       "['foia_14-5509_-_report_1.csv',\n",
       " 'foia_14-5509_-_report_1.xlsx',\n",
       " 'foia_14-5509_-_report_1_metadata.csv']"
      ]
     },
     "execution_count": 10,
     "metadata": {},
     "output_type": "execute_result"
    }
   ],
   "source": [
    "in_path_mar_2015_report = in_path+'march_2015/Report_1_-_All_Complaints_in_Time_Frame'\n",
    "out_path_mar_2015_report = out_path\n",
    "\n",
    "files = db.list_files(in_path_mar_2015_report)\n",
    "files"
   ]
  },
  {
   "cell_type": "code",
   "execution_count": 11,
   "metadata": {
    "collapsed": false
   },
   "outputs": [
    {
     "name": "stdout",
     "output_type": "stream",
     "text": [
      "/Data/chicago-police-data/import/output/complaints-merged-2015/march_2015/Report_1_-_All_Complaints_in_Time_Frame/foia_14-5509_-_report_1.csv\n"
     ]
    },
    {
     "data": {
      "text/plain": [
       "['CRID',\n",
       " 'Beat',\n",
       " 'Location_Code',\n",
       " 'Location_Value',\n",
       " 'Address_of_Incident',\n",
       " 'City',\n",
       " 'State',\n",
       " 'Zip',\n",
       " 'Incident_Date',\n",
       " 'Complaint_Date',\n",
       " 'Closed_Date',\n",
       " 'Investigator',\n",
       " 'FOIA_Request_Number']"
      ]
     },
     "execution_count": 11,
     "metadata": {},
     "output_type": "execute_result"
    }
   ],
   "source": [
    "file = files[0]\n",
    "df = db.download_file(in_path_mar_2015_report,file)\n",
    "df.columns.tolist()"
   ]
  },
  {
   "cell_type": "code",
   "execution_count": 12,
   "metadata": {
    "collapsed": false
   },
   "outputs": [
    {
     "data": {
      "text/plain": [
       "['CRID',\n",
       " 'Incident.Location.Beat',\n",
       " 'Incident.Location.Location_Code',\n",
       " 'Incident.Location.Location_Value',\n",
       " 'Incident.Location.Address',\n",
       " 'Incident.Location.City',\n",
       " 'Incident.Location.State',\n",
       " 'Incident.Location.Zip',\n",
       " 'Incident.Time.Date',\n",
       " 'Complaint.Date',\n",
       " 'Complaint.Current.Closed_date',\n",
       " 'Investigator.Full_Name',\n",
       " 'FOIA_Request_Number']"
      ]
     },
     "execution_count": 12,
     "metadata": {},
     "output_type": "execute_result"
    }
   ],
   "source": [
    "df.columns = column_mapper(df)\n",
    "df.columns.tolist()"
   ]
  },
  {
   "cell_type": "code",
   "execution_count": 13,
   "metadata": {
    "collapsed": false
   },
   "outputs": [],
   "source": [
    "df.to_csv(out_path_mar_2015_report+'mar_2015'+file,index=False)"
   ]
  },
  {
   "cell_type": "markdown",
   "metadata": {},
   "source": [
    "### Report 2"
   ]
  },
  {
   "cell_type": "code",
   "execution_count": 14,
   "metadata": {
    "collapsed": false
   },
   "outputs": [
    {
     "data": {
      "text/plain": [
       "['foia_14-5509_-_report_2.csv',\n",
       " 'foia_14-5509_-_report_2.xlsx',\n",
       " 'foia_14-5509_-_report_2_metadata.csv']"
      ]
     },
     "execution_count": 14,
     "metadata": {},
     "output_type": "execute_result"
    }
   ],
   "source": [
    "in_path_mar_2015_report = in_path+'march_2015/Report_2_-_Identified_Accused'\n",
    "out_path_mar_2015_report = out_path\n",
    "\n",
    "files = db.list_files(in_path_mar_2015_report)\n",
    "files"
   ]
  },
  {
   "cell_type": "code",
   "execution_count": 15,
   "metadata": {
    "collapsed": false
   },
   "outputs": [
    {
     "name": "stdout",
     "output_type": "stream",
     "text": [
      "/Data/chicago-police-data/import/output/complaints-merged-2015/march_2015/Report_2_-_Identified_Accused/foia_14-5509_-_report_2.csv\n"
     ]
    },
    {
     "data": {
      "text/plain": [
       "['CRID',\n",
       " 'Accused',\n",
       " 'Accused_Gender',\n",
       " 'Accused_Race_Code',\n",
       " 'Date_of_Appt',\n",
       " 'Current_Unit',\n",
       " 'Current_Rank',\n",
       " 'Star',\n",
       " 'Complaint_Category',\n",
       " 'Orig_Finding',\n",
       " 'Orig_Recommended_Discipline',\n",
       " 'Final_Finding',\n",
       " 'Final_Recommended_Discipline',\n",
       " 'FOIA_Request_Number',\n",
       " 'Report_Produced_Date']"
      ]
     },
     "execution_count": 15,
     "metadata": {},
     "output_type": "execute_result"
    }
   ],
   "source": [
    "file = files[0]\n",
    "df = db.download_file(in_path_mar_2015_report,file)\n",
    "df.columns.tolist()"
   ]
  },
  {
   "cell_type": "code",
   "execution_count": 16,
   "metadata": {
    "collapsed": false
   },
   "outputs": [
    {
     "data": {
      "text/plain": [
       "['CRID',\n",
       " 'Officer.Accused.Full_Name',\n",
       " 'Officer.Accused.Gender',\n",
       " 'Officer.Accused.Race_Code',\n",
       " 'Officer.Accused.Appointed_Date',\n",
       " 'Officer.Accused.Unit',\n",
       " 'Officer.Accused.Rank',\n",
       " 'Officer.Accused.Star',\n",
       " 'Complaint.Current.Category',\n",
       " 'Complaint.Initial.Finding',\n",
       " 'Complaint.Initial.Recommended_Discipline',\n",
       " 'Complaint.Final.Finding',\n",
       " 'Complaint.Final.Recommended_Discipline',\n",
       " 'FOIA_Request_Number',\n",
       " 'Report_Produced_Date']"
      ]
     },
     "execution_count": 16,
     "metadata": {},
     "output_type": "execute_result"
    }
   ],
   "source": [
    "df.columns = column_mapper(df)\n",
    "df.columns.tolist()"
   ]
  },
  {
   "cell_type": "code",
   "execution_count": 17,
   "metadata": {
    "collapsed": true
   },
   "outputs": [],
   "source": [
    "df.to_csv(out_path_mar_2015_report+'mar_2015'+file,index=False)"
   ]
  },
  {
   "cell_type": "markdown",
   "metadata": {},
   "source": [
    "### Report 3"
   ]
  },
  {
   "cell_type": "code",
   "execution_count": 18,
   "metadata": {
    "collapsed": false
   },
   "outputs": [
    {
     "data": {
      "text/plain": [
       "['foia_14-5509_-_report_3.csv',\n",
       " 'foia_14-5509_-_report_3.xlsx',\n",
       " 'foia_14-5509_-_report_3_metadata.csv']"
      ]
     },
     "execution_count": 18,
     "metadata": {},
     "output_type": "execute_result"
    }
   ],
   "source": [
    "in_path_mar_2015_report = in_path+'march_2015/Report_3_-_Police_Witnesses'\n",
    "out_path_mar_2015_report = out_path\n",
    "\n",
    "files = db.list_files(in_path_mar_2015_report)\n",
    "files"
   ]
  },
  {
   "cell_type": "code",
   "execution_count": 19,
   "metadata": {
    "collapsed": false
   },
   "outputs": [
    {
     "name": "stdout",
     "output_type": "stream",
     "text": [
      "/Data/chicago-police-data/import/output/complaints-merged-2015/march_2015/Report_3_-_Police_Witnesses/foia_14-5509_-_report_3.csv\n"
     ]
    },
    {
     "data": {
      "text/plain": [
       "['CRID',\n",
       " 'Officer_Witness',\n",
       " 'Officer_Witness_Gender',\n",
       " 'Officer_Witness_Race',\n",
       " 'Officer_Witness_Star',\n",
       " 'FOIA_Request_Number',\n",
       " 'Report_Produced_Date']"
      ]
     },
     "execution_count": 19,
     "metadata": {},
     "output_type": "execute_result"
    }
   ],
   "source": [
    "file = files[0]\n",
    "df = db.download_file(in_path_mar_2015_report,file)\n",
    "df.columns.tolist()"
   ]
  },
  {
   "cell_type": "code",
   "execution_count": 20,
   "metadata": {
    "collapsed": false
   },
   "outputs": [
    {
     "data": {
      "text/plain": [
       "['CRID',\n",
       " 'Officer.Witness.Full_Name',\n",
       " 'Officer.Witness.Gender',\n",
       " 'Officer.Witness.Race_Code',\n",
       " 'Officer.Witness.Star',\n",
       " 'FOIA_Request_Number',\n",
       " 'Report_Produced_Date']"
      ]
     },
     "execution_count": 20,
     "metadata": {},
     "output_type": "execute_result"
    }
   ],
   "source": [
    "df.columns = column_mapper(df)\n",
    "df.columns.tolist()"
   ]
  },
  {
   "cell_type": "code",
   "execution_count": 21,
   "metadata": {
    "collapsed": true
   },
   "outputs": [],
   "source": [
    "df.to_csv(out_path_mar_2015_report+'mar_2015'+file,index=False)"
   ]
  },
  {
   "cell_type": "markdown",
   "metadata": {},
   "source": [
    "### Report 4"
   ]
  },
  {
   "cell_type": "code",
   "execution_count": 22,
   "metadata": {
    "collapsed": false
   },
   "outputs": [
    {
     "data": {
      "text/plain": [
       "['foia_14-5509_-_report_4.csv',\n",
       " 'foia_14-5509_-_report_4.xlsx',\n",
       " 'foia_14-5509_-_report_4_metadata.csv']"
      ]
     },
     "execution_count": 22,
     "metadata": {},
     "output_type": "execute_result"
    }
   ],
   "source": [
    "in_path_mar_2015_report = in_path+'march_2015/Report_4_-_Complaining_Witnesses'\n",
    "out_path_mar_2015_report = out_path\n",
    "\n",
    "files = db.list_files(in_path_mar_2015_report)\n",
    "files"
   ]
  },
  {
   "cell_type": "code",
   "execution_count": 23,
   "metadata": {
    "collapsed": false
   },
   "outputs": [
    {
     "name": "stdout",
     "output_type": "stream",
     "text": [
      "/Data/chicago-police-data/import/output/complaints-merged-2015/march_2015/Report_4_-_Complaining_Witnesses/foia_14-5509_-_report_4.csv\n"
     ]
    },
    {
     "data": {
      "text/plain": [
       "['CRID',\n",
       " 'Witness_Gender',\n",
       " 'Witness_Race',\n",
       " 'FOIA_Request_Number',\n",
       " 'Report_Produced_Date']"
      ]
     },
     "execution_count": 23,
     "metadata": {},
     "output_type": "execute_result"
    }
   ],
   "source": [
    "file = files[0]\n",
    "df = db.download_file(in_path_mar_2015_report,file)\n",
    "df.columns.tolist()"
   ]
  },
  {
   "cell_type": "code",
   "execution_count": 24,
   "metadata": {
    "collapsed": false
   },
   "outputs": [
    {
     "data": {
      "text/plain": [
       "['CRID',\n",
       " 'Civilian.Witness.Gender',\n",
       " 'Civilian.Witness.Race_Code',\n",
       " 'FOIA_Request_Number',\n",
       " 'Report_Produced_Date']"
      ]
     },
     "execution_count": 24,
     "metadata": {},
     "output_type": "execute_result"
    }
   ],
   "source": [
    "df.columns = column_mapper(df)\n",
    "df.columns.tolist()"
   ]
  },
  {
   "cell_type": "code",
   "execution_count": 25,
   "metadata": {
    "collapsed": true
   },
   "outputs": [],
   "source": [
    "df.to_csv(out_path_mar_2015_report+'mar_2015'+file,index=False)"
   ]
  }
 ],
 "metadata": {
  "anaconda-cloud": {},
  "kernelspec": {
   "display_name": "Civis Model",
   "language": "python",
   "name": "civis-model"
  },
  "language_info": {
   "codemirror_mode": {
    "name": "ipython",
    "version": 3
   },
   "file_extension": ".py",
   "mimetype": "text/x-python",
   "name": "python",
   "nbconvert_exporter": "python",
   "pygments_lexer": "ipython3",
   "version": "3.5.2"
  }
 },
 "nbformat": 4,
 "nbformat_minor": 0
}
