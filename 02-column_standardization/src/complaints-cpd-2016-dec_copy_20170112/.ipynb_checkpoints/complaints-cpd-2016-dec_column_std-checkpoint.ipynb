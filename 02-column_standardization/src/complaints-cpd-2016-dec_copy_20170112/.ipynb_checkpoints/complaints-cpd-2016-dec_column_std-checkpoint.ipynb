{
 "cells": [
  {
   "cell_type": "code",
   "execution_count": 1,
   "metadata": {
    "collapsed": true
   },
   "outputs": [],
   "source": [
    "import re\n",
    "import datetime\n",
    "import numpy as np\n",
    "import pandas as pd \n",
    "import os\n",
    "import sys"
   ]
  },
  {
   "cell_type": "code",
   "execution_count": 2,
   "metadata": {
    "collapsed": true
   },
   "outputs": [],
   "source": [
    "module_path = os.path.abspath(os.path.join('..'))\n",
    "if module_path not in sys.path:\n",
    "    sys.path.append(module_path)\n",
    "from utils.utils import *"
   ]
  },
  {
   "cell_type": "markdown",
   "metadata": {},
   "source": [
    "### Establishes General Path"
   ]
  },
  {
   "cell_type": "code",
   "execution_count": 3,
   "metadata": {
    "collapsed": false
   },
   "outputs": [],
   "source": [
    "##local_path = \"/your/path/here\"\n",
    "local_path = \"/users/thudson/Documents/Dropbox/chicago-police-data/02-column_std\""
   ]
  },
  {
   "cell_type": "code",
   "execution_count": 4,
   "metadata": {
    "collapsed": false
   },
   "outputs": [
    {
     "data": {
      "text/plain": [
       "['incomplete',\n",
       " 'TRRs',\n",
       " 'complaints-cpd-2016-dec',\n",
       " 'complaints-cpd-2016-jun',\n",
       " 'complaints-cpd-2016-nov',\n",
       " 'complaints-cpd-2016-oct',\n",
       " 'complaints-ipra-2016-apr',\n",
       " 'complaints-merged-2015',\n",
       " 'shootings-cpd-feb2016',\n",
       " 'shootings-ipra-may2016']"
      ]
     },
     "execution_count": 4,
     "metadata": {},
     "output_type": "execute_result"
    }
   ],
   "source": [
    "path = '/Data/chicago-police-data/import'\n",
    "db = dropbox_handler()\n",
    "db.list_files(path+'/output')"
   ]
  },
  {
   "cell_type": "code",
   "execution_count": 5,
   "metadata": {
    "collapsed": false
   },
   "outputs": [],
   "source": [
    "in_path = path + '/output/complaints-cpd-2016-dec/'\n",
    "out_path = local_path + '/output/complaints-cpd-2016-dec/'"
   ]
  },
  {
   "cell_type": "code",
   "execution_count": 6,
   "metadata": {
    "collapsed": false
   },
   "outputs": [
    {
     "data": {
      "text/html": [
       "<div>\n",
       "<table border=\"1\" class=\"dataframe\">\n",
       "  <thead>\n",
       "    <tr style=\"text-align: right;\">\n",
       "      <th></th>\n",
       "      <th>Orig Column Name</th>\n",
       "      <th>New Name</th>\n",
       "    </tr>\n",
       "  </thead>\n",
       "  <tbody>\n",
       "    <tr>\n",
       "      <th>0</th>\n",
       "      <td>CRID</td>\n",
       "      <td>CRID</td>\n",
       "    </tr>\n",
       "    <tr>\n",
       "      <th>1</th>\n",
       "      <td>Incident_Date</td>\n",
       "      <td>Incident.Time.Date</td>\n",
       "    </tr>\n",
       "    <tr>\n",
       "      <th>2</th>\n",
       "      <td>Incident_Time</td>\n",
       "      <td>Incident.Time.Time</td>\n",
       "    </tr>\n",
       "    <tr>\n",
       "      <th>3</th>\n",
       "      <td>Complaint_Date</td>\n",
       "      <td>Complaint.Date</td>\n",
       "    </tr>\n",
       "    <tr>\n",
       "      <th>4</th>\n",
       "      <td>Case_Status</td>\n",
       "      <td>Complaint.Current.Case_Status</td>\n",
       "    </tr>\n",
       "  </tbody>\n",
       "</table>\n",
       "</div>"
      ],
      "text/plain": [
       "  Orig Column Name                       New Name\n",
       "0             CRID                           CRID\n",
       "1    Incident_Date             Incident.Time.Date\n",
       "2    Incident_Time             Incident.Time.Time\n",
       "3   Complaint_Date                 Complaint.Date\n",
       "4      Case_Status  Complaint.Current.Case_Status"
      ]
     },
     "execution_count": 6,
     "metadata": {},
     "output_type": "execute_result"
    }
   ],
   "source": [
    "##doc_path = '/Data/chicago-police-data/02-column_std'\n",
    "##column_dict = db.download_file(doc_path+'/doc/','Column_Dictionary.csv')\n",
    "\n",
    "doc_path = local_path\n",
    "column_dict = pd.read_csv(doc_path+'/doc/'+'Column_Dictionary.csv').iloc[:,0:2]\n",
    "column_dict.head()"
   ]
  },
  {
   "cell_type": "code",
   "execution_count": 7,
   "metadata": {
    "collapsed": true
   },
   "outputs": [],
   "source": [
    "## SOMETHING TO PUT IN UTILS? HOW WOULD THE SPECIFIED COLUMN_DICT WORK?\n",
    "\n",
    "def column_mapper(df,\n",
    "                  column_dict = column_dict):\n",
    "    current_columns = pd.DataFrame(df.columns.tolist(),columns=['Orig Column Name'])\n",
    "    new_columns = current_columns.merge(column_dict,how='left',on='Orig Column Name')['New Name'].tolist() \n",
    "    if current_columns.shape[0] == len(new_columns):\n",
    "        return new_columns\n",
    "    else:\n",
    "        print(\"Join failed, more columns returned than expected\")"
   ]
  },
  {
   "cell_type": "markdown",
   "metadata": {},
   "source": [
    "## Dec 2016 Data"
   ]
  },
  {
   "cell_type": "markdown",
   "metadata": {},
   "source": [
    "### Report 1"
   ]
  },
  {
   "cell_type": "code",
   "execution_count": 8,
   "metadata": {
    "collapsed": false
   },
   "outputs": [
    {
     "data": {
      "text/plain": [
       "['MAINFRAME_COMPLAINTS_REVISED_30NOV2016.csv',\n",
       " 'MAINFRAME_COMPLAINTS_REVISED_30NOV2016.xlsx',\n",
       " 'MAINFRAME_COMPLAINTS_REVISED_30NOV2016_metadata.csv',\n",
       " 'NEW_WITNESS_FILE_NOV_29_2016_-_no_emp_number.csv',\n",
       " 'NEW_WITNESS_FILE_NOV_29_2016_-_no_emp_number.xlsx',\n",
       " 'NEW_WITNESS_FILE_NOV_29_2016_-_no_emp_number_metadata.csv']"
      ]
     },
     "execution_count": 8,
     "metadata": {},
     "output_type": "execute_result"
    }
   ],
   "source": [
    "in_path_dec_2016_report = in_path\n",
    "out_path_dec_2016_report = out_path\n",
    "\n",
    "files = db.list_files(in_path_dec_2016_report)\n",
    "files"
   ]
  },
  {
   "cell_type": "markdown",
   "metadata": {},
   "source": [
    "IS Investigation Unit Equivalent to Investigator_Assignment?"
   ]
  },
  {
   "cell_type": "code",
   "execution_count": 9,
   "metadata": {
    "collapsed": false
   },
   "outputs": [
    {
     "name": "stdout",
     "output_type": "stream",
     "text": [
      "/Data/chicago-police-data/import/output/complaints-cpd-2016-dec/mainframe_complaints_revised_30nov2016.csv\n"
     ]
    },
    {
     "name": "stderr",
     "output_type": "stream",
     "text": [
      "/Users/thudson/anaconda/envs/civis-model/lib/python3.5/site-packages/IPython/core/interactiveshell.py:2821: DtypeWarning: Columns (2,8,11,15,17) have mixed types. Specify dtype option on import or set low_memory=False.\n",
      "  if self.run_code(code, result):\n"
     ]
    }
   ],
   "source": [
    "file=files[0]\n",
    "\n",
    "df = db.download_file(in_path_dec_2016_report,file)\n"
   ]
  },
  {
   "cell_type": "code",
   "execution_count": 10,
   "metadata": {
    "collapsed": false
   },
   "outputs": [
    {
     "data": {
      "text/html": [
       "<div>\n",
       "<table border=\"1\" class=\"dataframe\">\n",
       "  <thead>\n",
       "    <tr style=\"text-align: right;\">\n",
       "      <th></th>\n",
       "      <th>CRID</th>\n",
       "      <th>Incident_Date</th>\n",
       "      <th>Incident_Time</th>\n",
       "      <th>Complaint_Date</th>\n",
       "      <th>Case_Status</th>\n",
       "      <th>Closed_Date</th>\n",
       "      <th>Investigator_Full_Name</th>\n",
       "      <th>Investigator_Assignment</th>\n",
       "      <th>Beat</th>\n",
       "      <th>Address_of_Incident</th>\n",
       "      <th>...</th>\n",
       "      <th>Accused_Birth_Year</th>\n",
       "      <th>Accused_Appointed_Date</th>\n",
       "      <th>Current_Unit</th>\n",
       "      <th>Final_Complaint_Category</th>\n",
       "      <th>Current_Rank</th>\n",
       "      <th>Complaint_Description</th>\n",
       "      <th>Final_Finding</th>\n",
       "      <th>Final_Finding_Description</th>\n",
       "      <th>Final_Action_Taken</th>\n",
       "      <th>Final_Action_Description</th>\n",
       "    </tr>\n",
       "  </thead>\n",
       "  <tbody>\n",
       "    <tr>\n",
       "      <th>0</th>\n",
       "      <td>C035735</td>\n",
       "      <td>10/21/1967</td>\n",
       "      <td>1400</td>\n",
       "      <td>10/21/1967</td>\n",
       "      <td>CLO</td>\n",
       "      <td>8/1/1980</td>\n",
       "      <td>RICHARD ROCHFORD</td>\n",
       "      <td>142</td>\n",
       "      <td>6330</td>\n",
       "      <td>90** S. COTTAGE GROVE</td>\n",
       "      <td>...</td>\n",
       "      <td>NaN</td>\n",
       "      <td>9/21/1953</td>\n",
       "      <td>171</td>\n",
       "      <td>10Y</td>\n",
       "      <td>9161</td>\n",
       "      <td>OPERATION/PERSONNEL VIOL.:  ACT TO CIRCUMVENT ...</td>\n",
       "      <td>SU</td>\n",
       "      <td>SUSTAINED</td>\n",
       "      <td>30</td>\n",
       "      <td>30 DAY SUSPENSION</td>\n",
       "    </tr>\n",
       "    <tr>\n",
       "      <th>1</th>\n",
       "      <td>C050876</td>\n",
       "      <td>7/4/1970</td>\n",
       "      <td>2315</td>\n",
       "      <td>8/13/1970</td>\n",
       "      <td>CLO</td>\n",
       "      <td>9/15/1973</td>\n",
       "      <td>EDWARD DOWNES</td>\n",
       "      <td>GIS</td>\n",
       "      <td>1833</td>\n",
       "      <td>HOLIDAY INN,6** N LAKE SHORE DRIVE</td>\n",
       "      <td>...</td>\n",
       "      <td>NaN</td>\n",
       "      <td>7/22/1968</td>\n",
       "      <td>17</td>\n",
       "      <td>06E</td>\n",
       "      <td>9161</td>\n",
       "      <td>BRIBERY/OFFICIAL CORRUPTION:  GRATUITY</td>\n",
       "      <td>SU</td>\n",
       "      <td>SUSTAINED</td>\n",
       "      <td>200</td>\n",
       "      <td>SUSPENDED OVR 30 DAY</td>\n",
       "    </tr>\n",
       "    <tr>\n",
       "      <th>2</th>\n",
       "      <td>C051271</td>\n",
       "      <td>2/18/1972</td>\n",
       "      <td>1600</td>\n",
       "      <td>2/18/1972</td>\n",
       "      <td>CLO</td>\n",
       "      <td>2/2/1973</td>\n",
       "      <td>LEONARD ZALESKI</td>\n",
       "      <td>SIS</td>\n",
       "      <td>3100</td>\n",
       "      <td>80** S NEWLAND OAK LAWN IL</td>\n",
       "      <td>...</td>\n",
       "      <td>NaN</td>\n",
       "      <td>5/27/1968</td>\n",
       "      <td>192</td>\n",
       "      <td>10R</td>\n",
       "      <td>9161</td>\n",
       "      <td>OPERATION/PERSONNEL VIOLATION:  RESIDENCY</td>\n",
       "      <td>SU</td>\n",
       "      <td>SUSTAINED</td>\n",
       "      <td>200</td>\n",
       "      <td>SUSPENDED OVR 30 DAY</td>\n",
       "    </tr>\n",
       "    <tr>\n",
       "      <th>3</th>\n",
       "      <td>C051597</td>\n",
       "      <td>9/22/1970</td>\n",
       "      <td>315</td>\n",
       "      <td>9/22/1970</td>\n",
       "      <td>CLO</td>\n",
       "      <td>10/15/1971</td>\n",
       "      <td>MICHAEL HALKO</td>\n",
       "      <td>8</td>\n",
       "      <td>824</td>\n",
       "      <td>MARQUETTE PARK</td>\n",
       "      <td>...</td>\n",
       "      <td>NaN</td>\n",
       "      <td>2/27/1967</td>\n",
       "      <td>22</td>\n",
       "      <td>02B</td>\n",
       "      <td>9161</td>\n",
       "      <td>ALCOHOL ABUSE: INTOXICATED OFF DUTY</td>\n",
       "      <td>SU</td>\n",
       "      <td>SUSTAINED</td>\n",
       "      <td>200</td>\n",
       "      <td>SUSPENDED OVR 30 DAY</td>\n",
       "    </tr>\n",
       "    <tr>\n",
       "      <th>4</th>\n",
       "      <td>C052045</td>\n",
       "      <td>10/14/1970</td>\n",
       "      <td>30</td>\n",
       "      <td>10/19/1970</td>\n",
       "      <td>CLO</td>\n",
       "      <td>3/9/1987</td>\n",
       "      <td>RICHARD VOSS</td>\n",
       "      <td>GIS</td>\n",
       "      <td>1822</td>\n",
       "      <td>18TH DIST</td>\n",
       "      <td>...</td>\n",
       "      <td>NaN</td>\n",
       "      <td>11/14/1966</td>\n",
       "      <td>641</td>\n",
       "      <td>06E</td>\n",
       "      <td>9165</td>\n",
       "      <td>BRIBERY/OFFICIAL CORRUPTION:  GRATUITY</td>\n",
       "      <td>SU</td>\n",
       "      <td>SUSTAINED</td>\n",
       "      <td>200</td>\n",
       "      <td>SUSPENDED OVR 30 DAY</td>\n",
       "    </tr>\n",
       "  </tbody>\n",
       "</table>\n",
       "<p>5 rows × 23 columns</p>\n",
       "</div>"
      ],
      "text/plain": [
       "      CRID Incident_Date Incident_Time Complaint_Date Case_Status Closed_Date  \\\n",
       "0  C035735    10/21/1967          1400     10/21/1967         CLO    8/1/1980   \n",
       "1  C050876      7/4/1970          2315      8/13/1970         CLO   9/15/1973   \n",
       "2  C051271     2/18/1972          1600      2/18/1972         CLO    2/2/1973   \n",
       "3  C051597     9/22/1970           315      9/22/1970         CLO  10/15/1971   \n",
       "4  C052045    10/14/1970            30     10/19/1970         CLO    3/9/1987   \n",
       "\n",
       "  Investigator_Full_Name Investigator_Assignment  Beat  \\\n",
       "0       RICHARD ROCHFORD                     142  6330   \n",
       "1          EDWARD DOWNES                     GIS  1833   \n",
       "2        LEONARD ZALESKI                     SIS  3100   \n",
       "3          MICHAEL HALKO                       8   824   \n",
       "4           RICHARD VOSS                     GIS  1822   \n",
       "\n",
       "                  Address_of_Incident           ...             \\\n",
       "0               90** S. COTTAGE GROVE           ...              \n",
       "1  HOLIDAY INN,6** N LAKE SHORE DRIVE           ...              \n",
       "2          80** S NEWLAND OAK LAWN IL           ...              \n",
       "3                      MARQUETTE PARK           ...              \n",
       "4                           18TH DIST           ...              \n",
       "\n",
       "  Accused_Birth_Year Accused_Appointed_Date  Current_Unit  \\\n",
       "0                NaN              9/21/1953           171   \n",
       "1                NaN              7/22/1968            17   \n",
       "2                NaN              5/27/1968           192   \n",
       "3                NaN              2/27/1967            22   \n",
       "4                NaN             11/14/1966           641   \n",
       "\n",
       "   Final_Complaint_Category Current_Rank  \\\n",
       "0                       10Y         9161   \n",
       "1                       06E         9161   \n",
       "2                       10R         9161   \n",
       "3                       02B         9161   \n",
       "4                       06E         9165   \n",
       "\n",
       "                               Complaint_Description Final_Finding  \\\n",
       "0  OPERATION/PERSONNEL VIOL.:  ACT TO CIRCUMVENT ...            SU   \n",
       "1             BRIBERY/OFFICIAL CORRUPTION:  GRATUITY            SU   \n",
       "2          OPERATION/PERSONNEL VIOLATION:  RESIDENCY            SU   \n",
       "3                ALCOHOL ABUSE: INTOXICATED OFF DUTY            SU   \n",
       "4             BRIBERY/OFFICIAL CORRUPTION:  GRATUITY            SU   \n",
       "\n",
       "  Final_Finding_Description Final_Action_Taken Final_Action_Description  \n",
       "0                 SUSTAINED                 30        30 DAY SUSPENSION  \n",
       "1                 SUSTAINED                200     SUSPENDED OVR 30 DAY  \n",
       "2                 SUSTAINED                200     SUSPENDED OVR 30 DAY  \n",
       "3                 SUSTAINED                200     SUSPENDED OVR 30 DAY  \n",
       "4                 SUSTAINED                200     SUSPENDED OVR 30 DAY  \n",
       "\n",
       "[5 rows x 23 columns]"
      ]
     },
     "execution_count": 10,
     "metadata": {},
     "output_type": "execute_result"
    }
   ],
   "source": [
    "df.head()"
   ]
  },
  {
   "cell_type": "code",
   "execution_count": 11,
   "metadata": {
    "collapsed": false
   },
   "outputs": [
    {
     "data": {
      "text/html": [
       "<div>\n",
       "<table border=\"1\" class=\"dataframe\">\n",
       "  <thead>\n",
       "    <tr style=\"text-align: right;\">\n",
       "      <th></th>\n",
       "      <th>CRID</th>\n",
       "      <th>Incident.Time.Date</th>\n",
       "      <th>Incident.Time.Time</th>\n",
       "      <th>Complaint.Date</th>\n",
       "      <th>Complaint.Current.Case_Status</th>\n",
       "      <th>Complaint.Current.Closed_date</th>\n",
       "      <th>Investigator.Full_Name</th>\n",
       "      <th>Investigator.Assignment</th>\n",
       "      <th>Incident.Location.Beat</th>\n",
       "      <th>Incident.Location.Address</th>\n",
       "      <th>...</th>\n",
       "      <th>Officer.Accused.Birth_Year</th>\n",
       "      <th>Officer.Accused.Appointed_Date</th>\n",
       "      <th>Officer.Accused.Current_Unit</th>\n",
       "      <th>Complaint.Final.Complaint_Category</th>\n",
       "      <th>Officer.Accused.Current_Rank</th>\n",
       "      <th>Complaint.Initial.Description</th>\n",
       "      <th>Complaint.Final.Finding</th>\n",
       "      <th>Complaint.Final.Fiding_Description</th>\n",
       "      <th>Complaint.Final.Action_Taken</th>\n",
       "      <th>Complaint.Final.Action_Description</th>\n",
       "    </tr>\n",
       "  </thead>\n",
       "  <tbody>\n",
       "    <tr>\n",
       "      <th>0</th>\n",
       "      <td>C035735</td>\n",
       "      <td>10/21/1967</td>\n",
       "      <td>1400</td>\n",
       "      <td>10/21/1967</td>\n",
       "      <td>CLO</td>\n",
       "      <td>8/1/1980</td>\n",
       "      <td>RICHARD ROCHFORD</td>\n",
       "      <td>142</td>\n",
       "      <td>6330</td>\n",
       "      <td>90** S. COTTAGE GROVE</td>\n",
       "      <td>...</td>\n",
       "      <td>NaN</td>\n",
       "      <td>9/21/1953</td>\n",
       "      <td>171</td>\n",
       "      <td>10Y</td>\n",
       "      <td>9161</td>\n",
       "      <td>OPERATION/PERSONNEL VIOL.:  ACT TO CIRCUMVENT ...</td>\n",
       "      <td>SU</td>\n",
       "      <td>SUSTAINED</td>\n",
       "      <td>30</td>\n",
       "      <td>30 DAY SUSPENSION</td>\n",
       "    </tr>\n",
       "    <tr>\n",
       "      <th>1</th>\n",
       "      <td>C050876</td>\n",
       "      <td>7/4/1970</td>\n",
       "      <td>2315</td>\n",
       "      <td>8/13/1970</td>\n",
       "      <td>CLO</td>\n",
       "      <td>9/15/1973</td>\n",
       "      <td>EDWARD DOWNES</td>\n",
       "      <td>GIS</td>\n",
       "      <td>1833</td>\n",
       "      <td>HOLIDAY INN,6** N LAKE SHORE DRIVE</td>\n",
       "      <td>...</td>\n",
       "      <td>NaN</td>\n",
       "      <td>7/22/1968</td>\n",
       "      <td>17</td>\n",
       "      <td>06E</td>\n",
       "      <td>9161</td>\n",
       "      <td>BRIBERY/OFFICIAL CORRUPTION:  GRATUITY</td>\n",
       "      <td>SU</td>\n",
       "      <td>SUSTAINED</td>\n",
       "      <td>200</td>\n",
       "      <td>SUSPENDED OVR 30 DAY</td>\n",
       "    </tr>\n",
       "    <tr>\n",
       "      <th>2</th>\n",
       "      <td>C051271</td>\n",
       "      <td>2/18/1972</td>\n",
       "      <td>1600</td>\n",
       "      <td>2/18/1972</td>\n",
       "      <td>CLO</td>\n",
       "      <td>2/2/1973</td>\n",
       "      <td>LEONARD ZALESKI</td>\n",
       "      <td>SIS</td>\n",
       "      <td>3100</td>\n",
       "      <td>80** S NEWLAND OAK LAWN IL</td>\n",
       "      <td>...</td>\n",
       "      <td>NaN</td>\n",
       "      <td>5/27/1968</td>\n",
       "      <td>192</td>\n",
       "      <td>10R</td>\n",
       "      <td>9161</td>\n",
       "      <td>OPERATION/PERSONNEL VIOLATION:  RESIDENCY</td>\n",
       "      <td>SU</td>\n",
       "      <td>SUSTAINED</td>\n",
       "      <td>200</td>\n",
       "      <td>SUSPENDED OVR 30 DAY</td>\n",
       "    </tr>\n",
       "    <tr>\n",
       "      <th>3</th>\n",
       "      <td>C051597</td>\n",
       "      <td>9/22/1970</td>\n",
       "      <td>315</td>\n",
       "      <td>9/22/1970</td>\n",
       "      <td>CLO</td>\n",
       "      <td>10/15/1971</td>\n",
       "      <td>MICHAEL HALKO</td>\n",
       "      <td>8</td>\n",
       "      <td>824</td>\n",
       "      <td>MARQUETTE PARK</td>\n",
       "      <td>...</td>\n",
       "      <td>NaN</td>\n",
       "      <td>2/27/1967</td>\n",
       "      <td>22</td>\n",
       "      <td>02B</td>\n",
       "      <td>9161</td>\n",
       "      <td>ALCOHOL ABUSE: INTOXICATED OFF DUTY</td>\n",
       "      <td>SU</td>\n",
       "      <td>SUSTAINED</td>\n",
       "      <td>200</td>\n",
       "      <td>SUSPENDED OVR 30 DAY</td>\n",
       "    </tr>\n",
       "    <tr>\n",
       "      <th>4</th>\n",
       "      <td>C052045</td>\n",
       "      <td>10/14/1970</td>\n",
       "      <td>30</td>\n",
       "      <td>10/19/1970</td>\n",
       "      <td>CLO</td>\n",
       "      <td>3/9/1987</td>\n",
       "      <td>RICHARD VOSS</td>\n",
       "      <td>GIS</td>\n",
       "      <td>1822</td>\n",
       "      <td>18TH DIST</td>\n",
       "      <td>...</td>\n",
       "      <td>NaN</td>\n",
       "      <td>11/14/1966</td>\n",
       "      <td>641</td>\n",
       "      <td>06E</td>\n",
       "      <td>9165</td>\n",
       "      <td>BRIBERY/OFFICIAL CORRUPTION:  GRATUITY</td>\n",
       "      <td>SU</td>\n",
       "      <td>SUSTAINED</td>\n",
       "      <td>200</td>\n",
       "      <td>SUSPENDED OVR 30 DAY</td>\n",
       "    </tr>\n",
       "  </tbody>\n",
       "</table>\n",
       "<p>5 rows × 23 columns</p>\n",
       "</div>"
      ],
      "text/plain": [
       "      CRID Incident.Time.Date Incident.Time.Time Complaint.Date  \\\n",
       "0  C035735         10/21/1967               1400     10/21/1967   \n",
       "1  C050876           7/4/1970               2315      8/13/1970   \n",
       "2  C051271          2/18/1972               1600      2/18/1972   \n",
       "3  C051597          9/22/1970                315      9/22/1970   \n",
       "4  C052045         10/14/1970                 30     10/19/1970   \n",
       "\n",
       "  Complaint.Current.Case_Status Complaint.Current.Closed_date  \\\n",
       "0                           CLO                      8/1/1980   \n",
       "1                           CLO                     9/15/1973   \n",
       "2                           CLO                      2/2/1973   \n",
       "3                           CLO                    10/15/1971   \n",
       "4                           CLO                      3/9/1987   \n",
       "\n",
       "  Investigator.Full_Name Investigator.Assignment Incident.Location.Beat  \\\n",
       "0       RICHARD ROCHFORD                     142                   6330   \n",
       "1          EDWARD DOWNES                     GIS                   1833   \n",
       "2        LEONARD ZALESKI                     SIS                   3100   \n",
       "3          MICHAEL HALKO                       8                    824   \n",
       "4           RICHARD VOSS                     GIS                   1822   \n",
       "\n",
       "            Incident.Location.Address                ...                  \\\n",
       "0               90** S. COTTAGE GROVE                ...                   \n",
       "1  HOLIDAY INN,6** N LAKE SHORE DRIVE                ...                   \n",
       "2          80** S NEWLAND OAK LAWN IL                ...                   \n",
       "3                      MARQUETTE PARK                ...                   \n",
       "4                           18TH DIST                ...                   \n",
       "\n",
       "  Officer.Accused.Birth_Year Officer.Accused.Appointed_Date  \\\n",
       "0                        NaN                      9/21/1953   \n",
       "1                        NaN                      7/22/1968   \n",
       "2                        NaN                      5/27/1968   \n",
       "3                        NaN                      2/27/1967   \n",
       "4                        NaN                     11/14/1966   \n",
       "\n",
       "   Officer.Accused.Current_Unit  Complaint.Final.Complaint_Category  \\\n",
       "0                           171                                 10Y   \n",
       "1                            17                                 06E   \n",
       "2                           192                                 10R   \n",
       "3                            22                                 02B   \n",
       "4                           641                                 06E   \n",
       "\n",
       "  Officer.Accused.Current_Rank  \\\n",
       "0                         9161   \n",
       "1                         9161   \n",
       "2                         9161   \n",
       "3                         9161   \n",
       "4                         9165   \n",
       "\n",
       "                       Complaint.Initial.Description Complaint.Final.Finding  \\\n",
       "0  OPERATION/PERSONNEL VIOL.:  ACT TO CIRCUMVENT ...                      SU   \n",
       "1             BRIBERY/OFFICIAL CORRUPTION:  GRATUITY                      SU   \n",
       "2          OPERATION/PERSONNEL VIOLATION:  RESIDENCY                      SU   \n",
       "3                ALCOHOL ABUSE: INTOXICATED OFF DUTY                      SU   \n",
       "4             BRIBERY/OFFICIAL CORRUPTION:  GRATUITY                      SU   \n",
       "\n",
       "  Complaint.Final.Fiding_Description Complaint.Final.Action_Taken  \\\n",
       "0                          SUSTAINED                           30   \n",
       "1                          SUSTAINED                          200   \n",
       "2                          SUSTAINED                          200   \n",
       "3                          SUSTAINED                          200   \n",
       "4                          SUSTAINED                          200   \n",
       "\n",
       "  Complaint.Final.Action_Description  \n",
       "0                  30 DAY SUSPENSION  \n",
       "1               SUSPENDED OVR 30 DAY  \n",
       "2               SUSPENDED OVR 30 DAY  \n",
       "3               SUSPENDED OVR 30 DAY  \n",
       "4               SUSPENDED OVR 30 DAY  \n",
       "\n",
       "[5 rows x 23 columns]"
      ]
     },
     "execution_count": 11,
     "metadata": {},
     "output_type": "execute_result"
    }
   ],
   "source": [
    "df.columns = column_mapper(df)\n",
    "df.head()"
   ]
  },
  {
   "cell_type": "code",
   "execution_count": 12,
   "metadata": {
    "collapsed": false
   },
   "outputs": [],
   "source": [
    "df.to_csv(out_path_dec_2016_report+file,index=False)"
   ]
  },
  {
   "cell_type": "markdown",
   "metadata": {},
   "source": [
    "### Report 2"
   ]
  },
  {
   "cell_type": "code",
   "execution_count": 13,
   "metadata": {
    "collapsed": false
   },
   "outputs": [
    {
     "name": "stdout",
     "output_type": "stream",
     "text": [
      "/Data/chicago-police-data/import/output/complaints-cpd-2016-dec/new_witness_file_nov_29_2016_-_no_emp_number.csv\n"
     ]
    }
   ],
   "source": [
    "file=files[3]\n",
    "\n",
    "df = db.download_file(in_path_dec_2016_report,file)\n"
   ]
  },
  {
   "cell_type": "code",
   "execution_count": 14,
   "metadata": {
    "collapsed": false
   },
   "outputs": [
    {
     "data": {
      "text/plain": [
       "['CRID',\n",
       " 'Officer_Witness_or_Witness',\n",
       " 'Officer_Last_Name',\n",
       " 'Officer_First_Name',\n",
       " 'Star',\n",
       " 'Officer_Gender',\n",
       " 'Officer_Birth_Year',\n",
       " 'Officer_Race']"
      ]
     },
     "execution_count": 14,
     "metadata": {},
     "output_type": "execute_result"
    }
   ],
   "source": [
    "df.columns.tolist()"
   ]
  },
  {
   "cell_type": "code",
   "execution_count": 15,
   "metadata": {
    "collapsed": false
   },
   "outputs": [
    {
     "data": {
      "text/plain": [
       "(59585, 8)"
      ]
     },
     "execution_count": 15,
     "metadata": {},
     "output_type": "execute_result"
    }
   ],
   "source": [
    "df.shape"
   ]
  },
  {
   "cell_type": "code",
   "execution_count": 16,
   "metadata": {
    "collapsed": false
   },
   "outputs": [],
   "source": [
    "df_officer = df[df['Officer_Witness_or_Witness']=='OFFICER_WITNESS']\n",
    "df_witness = df[df['Officer_Witness_or_Witness']!='OFFICER_WITNESS']"
   ]
  },
  {
   "cell_type": "code",
   "execution_count": 17,
   "metadata": {
    "collapsed": true
   },
   "outputs": [],
   "source": [
    "df_officer.columns = ['CRID',\n",
    "                      'Officer.Witness_or_Civilian.Witness',\n",
    "                      'Officer.Witness.Last_Name',\n",
    "                      'Officer.Witness.First_Name',\n",
    "                      'Officer.Witness.Star',\n",
    "                      'Officer.Witness.Gender',\n",
    "                      'Officer.Witness.Birth_Year',\n",
    "                      'Officer.Witness.Race']\n",
    "df_witness.columns = ['CRID',\n",
    "                      'Officer.Witness_or_Civilian.Witness',\n",
    "                      'Civilian.Witness.Last_Name',\n",
    "                      'Civilian.Witness.First_Name',\n",
    "                      'Civilian.Witness.Star',\n",
    "                      'Civilian.Witness.Gender',\n",
    "                      'Civilian.Witness.Birth_Year',\n",
    "                      'Civilian.Witness.Race']"
   ]
  },
  {
   "cell_type": "code",
   "execution_count": 18,
   "metadata": {
    "collapsed": false
   },
   "outputs": [
    {
     "data": {
      "text/plain": [
       "(59585, 14)"
      ]
     },
     "execution_count": 18,
     "metadata": {},
     "output_type": "execute_result"
    }
   ],
   "source": [
    "df_final = df_officer.merge(df_witness,how='outer',on=['CRID','Officer.Witness_or_Civilian.Witness'])\n",
    "df_final.shape"
   ]
  },
  {
   "cell_type": "code",
   "execution_count": 20,
   "metadata": {
    "collapsed": false
   },
   "outputs": [],
   "source": [
    "df_final.to_csv(out_path_dec_2016_report+file,index=False)\n"
   ]
  }
 ],
 "metadata": {
  "anaconda-cloud": {},
  "kernelspec": {
   "display_name": "Civis Model",
   "language": "python",
   "name": "civis-model"
  },
  "language_info": {
   "codemirror_mode": {
    "name": "ipython",
    "version": 3
   },
   "file_extension": ".py",
   "mimetype": "text/x-python",
   "name": "python",
   "nbconvert_exporter": "python",
   "pygments_lexer": "ipython3",
   "version": "3.5.2"
  }
 },
 "nbformat": 4,
 "nbformat_minor": 0
}
