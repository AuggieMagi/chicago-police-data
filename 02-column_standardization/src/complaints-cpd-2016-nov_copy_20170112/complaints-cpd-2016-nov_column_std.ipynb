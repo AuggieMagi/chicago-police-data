{
 "cells": [
  {
   "cell_type": "code",
   "execution_count": 34,
   "metadata": {
    "collapsed": true
   },
   "outputs": [],
   "source": [
    "import re\n",
    "import numpy as np\n",
    "import pandas as pd \n",
    "import os\n",
    "import sys\n",
    "import itertools\n",
    "import io\n",
    "import datetime"
   ]
  },
  {
   "cell_type": "code",
   "execution_count": 35,
   "metadata": {
    "collapsed": true
   },
   "outputs": [],
   "source": [
    "module_path = os.path.abspath(os.path.join('..'))\n",
    "if module_path not in sys.path:\n",
    "    sys.path.append(module_path)\n",
    "from utils.utils import *"
   ]
  },
  {
   "cell_type": "markdown",
   "metadata": {},
   "source": [
    "### Establishes General Path"
   ]
  },
  {
   "cell_type": "code",
   "execution_count": 36,
   "metadata": {
    "collapsed": false
   },
   "outputs": [],
   "source": [
    "##local_path = \"/your/path/here\"\n",
    "local_path = \"/users/thudson/Documents/Dropbox/chicago-police-data/02-column_std\""
   ]
  },
  {
   "cell_type": "code",
   "execution_count": 37,
   "metadata": {
    "collapsed": false
   },
   "outputs": [
    {
     "data": {
      "text/plain": [
       "['incomplete',\n",
       " 'TRRs',\n",
       " 'complaints-cpd-2016-dec',\n",
       " 'complaints-cpd-2016-jun',\n",
       " 'complaints-cpd-2016-nov',\n",
       " 'complaints-cpd-2016-oct',\n",
       " 'complaints-ipra-2016-apr',\n",
       " 'complaints-merged-2015',\n",
       " 'shootings-cpd-feb2016',\n",
       " 'shootings-ipra-may2016']"
      ]
     },
     "execution_count": 37,
     "metadata": {},
     "output_type": "execute_result"
    }
   ],
   "source": [
    "path = '/Data/chicago-police-data/import'\n",
    "db = dropbox_handler()\n",
    "db.list_files(path+'/output')"
   ]
  },
  {
   "cell_type": "code",
   "execution_count": 38,
   "metadata": {
    "collapsed": false
   },
   "outputs": [],
   "source": [
    "in_path = path + '/output/complaints-cpd-2016-nov/'\n",
    "out_path = local_path + '/output/complaints-cpd-2016-nov/'"
   ]
  },
  {
   "cell_type": "code",
   "execution_count": 6,
   "metadata": {
    "collapsed": true
   },
   "outputs": [],
   "source": [
    "os.mkdir(out_path)"
   ]
  },
  {
   "cell_type": "code",
   "execution_count": 39,
   "metadata": {
    "collapsed": false
   },
   "outputs": [
    {
     "data": {
      "text/html": [
       "<div>\n",
       "<table border=\"1\" class=\"dataframe\">\n",
       "  <thead>\n",
       "    <tr style=\"text-align: right;\">\n",
       "      <th></th>\n",
       "      <th>Orig Column Name</th>\n",
       "      <th>New Name</th>\n",
       "    </tr>\n",
       "  </thead>\n",
       "  <tbody>\n",
       "    <tr>\n",
       "      <th>0</th>\n",
       "      <td>Victim_Age</td>\n",
       "      <td>Civilian.Victim.Age</td>\n",
       "    </tr>\n",
       "    <tr>\n",
       "      <th>1</th>\n",
       "      <td>Victim_Gender</td>\n",
       "      <td>Civilian.Victim.Gender</td>\n",
       "    </tr>\n",
       "    <tr>\n",
       "      <th>2</th>\n",
       "      <td>Victim_Race</td>\n",
       "      <td>Civilian.Victim.Race_Code</td>\n",
       "    </tr>\n",
       "    <tr>\n",
       "      <th>3</th>\n",
       "      <td>Witness_Age</td>\n",
       "      <td>Civilian.Witness.Age</td>\n",
       "    </tr>\n",
       "    <tr>\n",
       "      <th>4</th>\n",
       "      <td>Witness_Gender</td>\n",
       "      <td>Civilian.Witness.Gender</td>\n",
       "    </tr>\n",
       "  </tbody>\n",
       "</table>\n",
       "</div>"
      ],
      "text/plain": [
       "  Orig Column Name                   New Name\n",
       "0       Victim_Age        Civilian.Victim.Age\n",
       "1    Victim_Gender     Civilian.Victim.Gender\n",
       "2      Victim_Race  Civilian.Victim.Race_Code\n",
       "3      Witness_Age       Civilian.Witness.Age\n",
       "4   Witness_Gender    Civilian.Witness.Gender"
      ]
     },
     "execution_count": 39,
     "metadata": {},
     "output_type": "execute_result"
    }
   ],
   "source": [
    "##doc_path = '/Data/chicago-police-data/02-column_std'\n",
    "##column_dict = db.download_file(doc_path+'/doc/','Column_Dictionary.csv')\n",
    "\n",
    "doc_path = local_path\n",
    "column_dict = pd.read_csv(doc_path+'/doc/'+'Column_Dictionary.csv').iloc[:,0:2]\n",
    "column_dict.head()"
   ]
  },
  {
   "cell_type": "code",
   "execution_count": 40,
   "metadata": {
    "collapsed": true
   },
   "outputs": [],
   "source": [
    "## SOMETHING TO PUT IN UTILS? HOW WOULD THE SPECIFIED COLUMN_DICT WORK?\n",
    "\n",
    "def column_mapper(df,\n",
    "                  column_dict = column_dict):\n",
    "    current_columns = pd.DataFrame(df.columns.tolist(),columns=['Orig Column Name'])\n",
    "    new_columns = current_columns.merge(column_dict,how='left',on='Orig Column Name')['New Name'].tolist() \n",
    "    if current_columns.shape[0] == len(new_columns):\n",
    "        return new_columns\n",
    "    else:\n",
    "        print(\"Join failed, more columns returned than expected\")"
   ]
  },
  {
   "cell_type": "markdown",
   "metadata": {},
   "source": [
    "## Nov 2016 Data"
   ]
  },
  {
   "cell_type": "markdown",
   "metadata": {},
   "source": [
    "### Report 1"
   ]
  },
  {
   "cell_type": "code",
   "execution_count": 9,
   "metadata": {
    "collapsed": false
   },
   "outputs": [
    {
     "data": {
      "text/plain": [
       "['p046957_-_report_1_-_all_complaints_in_time_frame.csv',\n",
       " 'p046957_-_report_1_-_all_complaints_in_time_frame.xlsx',\n",
       " 'p046957_-_report_1_-_all_complaints_in_time_frame_metadata.csv',\n",
       " 'p046957_-_report_2_-_identified_accused.csv',\n",
       " 'p046957_-_report_2_-_identified_accused.xlsx',\n",
       " 'p046957_-_report_2_-_identified_accused_metadata.csv',\n",
       " 'p046957_-_report_3_-_police_officer_witness_data_xi.csv',\n",
       " 'p046957_-_report_3_-_police_officer_witness_data_xi.xlsx',\n",
       " 'p046957_-_report_3_-_police_officer_witness_data_xi_metadata.csv',\n",
       " 'p046957_-_report_5_-_complainant_(reporting_party)_data.csv',\n",
       " 'p046957_-_report_5_-_complainant_(reporting_party)_data.xlsx',\n",
       " 'p046957_-_report_5_-_complainant_(reporting_party)_data_metadata.csv']"
      ]
     },
     "execution_count": 9,
     "metadata": {},
     "output_type": "execute_result"
    }
   ],
   "source": [
    "in_path_nov_2016_report = in_path\n",
    "out_path_nov_2016_report = out_path\n",
    "\n",
    "\n",
    "files = db.list_files(in_path_nov_2016_report)\n",
    "files"
   ]
  },
  {
   "cell_type": "code",
   "execution_count": 10,
   "metadata": {
    "collapsed": false
   },
   "outputs": [
    {
     "name": "stdout",
     "output_type": "stream",
     "text": [
      "/Data/chicago-police-data/import/output/complaints-cpd-2016-nov/p046957_-_report_1_-_all_complaints_in_time_frame.csv\n"
     ]
    },
    {
     "name": "stderr",
     "output_type": "stream",
     "text": [
      "/Users/thudson/anaconda/envs/civis-model/lib/python3.5/site-packages/IPython/core/interactiveshell.py:2821: DtypeWarning: Columns (1,7) have mixed types. Specify dtype option on import or set low_memory=False.\n",
      "  if self.run_code(code, result):\n"
     ]
    },
    {
     "data": {
      "text/plain": [
       "['CRID',\n",
       " 'Beat',\n",
       " 'Location_Code',\n",
       " 'Location_Value',\n",
       " 'Address_of_Incident',\n",
       " 'City',\n",
       " 'State',\n",
       " 'Zip',\n",
       " 'Incident_Date',\n",
       " 'Complaint_Date',\n",
       " 'Closed_Date',\n",
       " 'Investigator_Full_Name',\n",
       " 'Investigator_Assignment',\n",
       " 'Investigator_Rank',\n",
       " 'Investigator_Star',\n",
       " 'Investigator_Appt_Date',\n",
       " 'FOIA_Request_Number']"
      ]
     },
     "execution_count": 10,
     "metadata": {},
     "output_type": "execute_result"
    }
   ],
   "source": [
    "file = files[0]\n",
    "df = db.download_file(in_path_nov_2016_report,file)\n",
    "df.columns.tolist()"
   ]
  },
  {
   "cell_type": "code",
   "execution_count": 11,
   "metadata": {
    "collapsed": false
   },
   "outputs": [
    {
     "data": {
      "text/plain": [
       "['CRID',\n",
       " 'Incident.Location.Beat',\n",
       " 'Incident.Location.Location_Code',\n",
       " 'Incident.Location.Location_Value',\n",
       " 'Incident.Location.Address',\n",
       " 'Incident.Location.City',\n",
       " 'Incident.Location.State',\n",
       " 'Incident.Location.Zip',\n",
       " 'Incident.Time.Date',\n",
       " 'Complaint.Date',\n",
       " 'Complaint.Current.Closed_date',\n",
       " 'Investigator.Full_Name',\n",
       " 'Investigator.Assignment',\n",
       " 'Investigator.Rank',\n",
       " 'Investigator.Star',\n",
       " 'Investigator.Appt_Date',\n",
       " 'FOIA_Request_Number']"
      ]
     },
     "execution_count": 11,
     "metadata": {},
     "output_type": "execute_result"
    }
   ],
   "source": [
    "df.columns = column_mapper(df)\n",
    "df.columns.tolist()"
   ]
  },
  {
   "cell_type": "code",
   "execution_count": 12,
   "metadata": {
    "collapsed": true
   },
   "outputs": [],
   "source": [
    "df.to_csv(out_path_nov_2016_report+file,index=False)"
   ]
  },
  {
   "cell_type": "markdown",
   "metadata": {},
   "source": [
    "### Report 2"
   ]
  },
  {
   "cell_type": "code",
   "execution_count": 41,
   "metadata": {
    "collapsed": false
   },
   "outputs": [
    {
     "data": {
      "text/plain": [
       "['p046957_-_report_1_-_all_complaints_in_time_frame.csv',\n",
       " 'p046957_-_report_1_-_all_complaints_in_time_frame.xlsx',\n",
       " 'p046957_-_report_1_-_all_complaints_in_time_frame_metadata.csv',\n",
       " 'p046957_-_report_2_-_identified_accused.csv',\n",
       " 'p046957_-_report_2_-_identified_accused.xlsx',\n",
       " 'p046957_-_report_2_-_identified_accused_metadata.csv',\n",
       " 'p046957_-_report_3_-_police_officer_witness_data_xi.csv',\n",
       " 'p046957_-_report_3_-_police_officer_witness_data_xi.xlsx',\n",
       " 'p046957_-_report_3_-_police_officer_witness_data_xi_metadata.csv',\n",
       " 'p046957_-_report_5_-_complainant_(reporting_party)_data.csv',\n",
       " 'p046957_-_report_5_-_complainant_(reporting_party)_data.xlsx',\n",
       " 'p046957_-_report_5_-_complainant_(reporting_party)_data_metadata.csv',\n",
       " 'p046957_-_report_4_-_victim_data_metadata.csv',\n",
       " 'p046957_-_report_4_-_victim_data.csv',\n",
       " 'p046957_-_report_4_-_victim_data.xlsx']"
      ]
     },
     "execution_count": 41,
     "metadata": {},
     "output_type": "execute_result"
    }
   ],
   "source": [
    "in_path_nov_2016_report = in_path\n",
    "out_path_nov_2016_report = out_path\n",
    "\n",
    "\n",
    "files = db.list_files(in_path_nov_2016_report)\n",
    "files"
   ]
  },
  {
   "cell_type": "code",
   "execution_count": 42,
   "metadata": {
    "collapsed": false
   },
   "outputs": [
    {
     "name": "stdout",
     "output_type": "stream",
     "text": [
      "/Data/chicago-police-data/import/output/complaints-cpd-2016-nov/p046957_-_report_2_-_identified_accused.csv\n"
     ]
    },
    {
     "name": "stderr",
     "output_type": "stream",
     "text": [
      "/Users/thudson/anaconda/envs/civis-model/lib/python3.5/site-packages/IPython/core/interactiveshell.py:2821: DtypeWarning: Columns (6) have mixed types. Specify dtype option on import or set low_memory=False.\n",
      "  if self.run_code(code, result):\n"
     ]
    },
    {
     "data": {
      "text/plain": [
       "['CRID',\n",
       " 'Accused',\n",
       " 'Accused_Birth_Year',\n",
       " 'Accused_Gender',\n",
       " 'Accused_Race_Code',\n",
       " 'Date_of_Appt',\n",
       " 'Current_Unit',\n",
       " 'Current_Rank',\n",
       " 'Star',\n",
       " 'Complaint_Category',\n",
       " 'Orig_Finding',\n",
       " 'Orig_Recommended_Discipline',\n",
       " 'Final_Finding',\n",
       " 'Final_Recommended_Discipline',\n",
       " 'FOIA_Request_Number',\n",
       " 'Report_Produced_Date']"
      ]
     },
     "execution_count": 42,
     "metadata": {},
     "output_type": "execute_result"
    }
   ],
   "source": [
    "file = files[3]\n",
    "df = db.download_file(in_path_nov_2016_report,file)\n",
    "df.columns.tolist()"
   ]
  },
  {
   "cell_type": "code",
   "execution_count": 44,
   "metadata": {
    "collapsed": false
   },
   "outputs": [
    {
     "data": {
      "text/plain": [
       "(125581, 16)"
      ]
     },
     "execution_count": 44,
     "metadata": {},
     "output_type": "execute_result"
    }
   ],
   "source": [
    "df.shape"
   ]
  },
  {
   "cell_type": "code",
   "execution_count": 45,
   "metadata": {
    "collapsed": false
   },
   "outputs": [
    {
     "data": {
      "text/plain": [
       "(125581, 17)"
      ]
     },
     "execution_count": 45,
     "metadata": {},
     "output_type": "execute_result"
    }
   ],
   "source": [
    "def Complaint_Category_Splitter(string):\n",
    "    new_string = str(string).split('-',1)\n",
    "    if len(new_string)==1:\n",
    "        new_string= ['nan','nan']\n",
    "    return new_string\n",
    "\n",
    "split_df = pd.DataFrame(df.Complaint_Category.apply(Complaint_Category_Splitter).tolist(),\n",
    "                        columns = ['Complaint_Category','Complaint_Description'])\n",
    "    \n",
    "\n",
    "df = df.drop(\"Complaint_Category\",axis=1)\n",
    "df1 = df.merge(split_df,how='left',left_index=True,right_index=True)\n",
    "df1.shape"
   ]
  },
  {
   "cell_type": "code",
   "execution_count": 47,
   "metadata": {
    "collapsed": true
   },
   "outputs": [],
   "source": [
    "df = df1"
   ]
  },
  {
   "cell_type": "code",
   "execution_count": 48,
   "metadata": {
    "collapsed": false
   },
   "outputs": [
    {
     "data": {
      "text/plain": [
       "['CRID',\n",
       " 'Officer.Accused.Full_Name',\n",
       " 'Officer.Accused.Birth_Year',\n",
       " 'Officer.Accused.Gender',\n",
       " 'Officer.Accused.Race_Code',\n",
       " 'Officer.Accused.Appointed_Date',\n",
       " 'Officer.Accused.Current_Unit',\n",
       " 'Officer.Accused.Current_Rank',\n",
       " 'Officer.Accused.Star',\n",
       " 'Complaint.Initial.Finding',\n",
       " 'Complaint.Initial.Recommended_Discipline',\n",
       " 'Complaint.Final.Finding',\n",
       " 'Complaint.Final.Recommended_Discipline',\n",
       " 'FOIA_Request_Number',\n",
       " 'Report_Produced_Date',\n",
       " 'Complaint.Current.Category',\n",
       " 'Complaint.Current.Description']"
      ]
     },
     "execution_count": 48,
     "metadata": {},
     "output_type": "execute_result"
    }
   ],
   "source": [
    "df.columns = column_mapper(df)\n",
    "df.columns.tolist()"
   ]
  },
  {
   "cell_type": "code",
   "execution_count": 49,
   "metadata": {
    "collapsed": true
   },
   "outputs": [],
   "source": [
    "df.to_csv(out_path_nov_2016_report+file,index=False)"
   ]
  },
  {
   "cell_type": "markdown",
   "metadata": {},
   "source": [
    "### Report 3"
   ]
  },
  {
   "cell_type": "code",
   "execution_count": 30,
   "metadata": {
    "collapsed": false
   },
   "outputs": [
    {
     "data": {
      "text/plain": [
       "['p046957_-_report_1_-_all_complaints_in_time_frame.csv',\n",
       " 'p046957_-_report_1_-_all_complaints_in_time_frame.xlsx',\n",
       " 'p046957_-_report_1_-_all_complaints_in_time_frame_metadata.csv',\n",
       " 'p046957_-_report_2_-_identified_accused.csv',\n",
       " 'p046957_-_report_2_-_identified_accused.xlsx',\n",
       " 'p046957_-_report_2_-_identified_accused_metadata.csv',\n",
       " 'p046957_-_report_3_-_police_officer_witness_data_xi.csv',\n",
       " 'p046957_-_report_3_-_police_officer_witness_data_xi.xlsx',\n",
       " 'p046957_-_report_3_-_police_officer_witness_data_xi_metadata.csv',\n",
       " 'p046957_-_report_5_-_complainant_(reporting_party)_data.csv',\n",
       " 'p046957_-_report_5_-_complainant_(reporting_party)_data.xlsx',\n",
       " 'p046957_-_report_5_-_complainant_(reporting_party)_data_metadata.csv',\n",
       " 'p046957_-_report_4_-_victim_data_metadata.csv',\n",
       " 'p046957_-_report_4_-_victim_data.csv',\n",
       " 'p046957_-_report_4_-_victim_data.xlsx']"
      ]
     },
     "execution_count": 30,
     "metadata": {},
     "output_type": "execute_result"
    }
   ],
   "source": [
    "in_path_nov_2016_report = in_path\n",
    "out_path_nov_2016_report = out_path\n",
    "\n",
    "\n",
    "files = db.list_files(in_path_nov_2016_report)\n",
    "files"
   ]
  },
  {
   "cell_type": "code",
   "execution_count": 31,
   "metadata": {
    "collapsed": false
   },
   "outputs": [
    {
     "name": "stdout",
     "output_type": "stream",
     "text": [
      "/Data/chicago-police-data/import/output/complaints-cpd-2016-nov/p046957_-_report_3_-_police_officer_witness_data_xi.csv\n"
     ]
    },
    {
     "data": {
      "text/plain": [
       "['CRID',\n",
       " 'Officer_Witness',\n",
       " 'Officer_Witness_Gender',\n",
       " 'Officer_Witness_Race',\n",
       " 'Officer_Witness_Star',\n",
       " 'Officer_Witness_Birth_Year',\n",
       " 'Officer_Witness_Date_Appointed',\n",
       " 'FOIA_Request_Number',\n",
       " 'Report_Produced_Date']"
      ]
     },
     "execution_count": 31,
     "metadata": {},
     "output_type": "execute_result"
    }
   ],
   "source": [
    "file = files[6]\n",
    "df = db.download_file(in_path_nov_2016_report,file)\n",
    "df.columns.tolist()"
   ]
  },
  {
   "cell_type": "code",
   "execution_count": 32,
   "metadata": {
    "collapsed": false
   },
   "outputs": [
    {
     "data": {
      "text/plain": [
       "['CRID',\n",
       " 'Officer.Witness.Full_Name',\n",
       " 'Officer.Witness.Gender',\n",
       " 'Officer.Witness.Race_Code',\n",
       " 'Officer.Witness.Star',\n",
       " 'Officer.Witness.Birth_Year',\n",
       " 'Officer.Witness.Appointed_Date',\n",
       " 'FOIA_Request_Number',\n",
       " 'Report_Produced_Date']"
      ]
     },
     "execution_count": 32,
     "metadata": {},
     "output_type": "execute_result"
    }
   ],
   "source": [
    "df.columns = column_mapper(df)\n",
    "df.columns.tolist()"
   ]
  },
  {
   "cell_type": "code",
   "execution_count": 33,
   "metadata": {
    "collapsed": true
   },
   "outputs": [],
   "source": [
    "df.to_csv(out_path_nov_2016_report+file,index=False)"
   ]
  },
  {
   "cell_type": "markdown",
   "metadata": {},
   "source": [
    "### Report 4"
   ]
  },
  {
   "cell_type": "code",
   "execution_count": 20,
   "metadata": {
    "collapsed": false
   },
   "outputs": [
    {
     "data": {
      "text/plain": [
       "['p046957_-_report_1_-_all_complaints_in_time_frame.csv',\n",
       " 'p046957_-_report_1_-_all_complaints_in_time_frame.xlsx',\n",
       " 'p046957_-_report_1_-_all_complaints_in_time_frame_metadata.csv',\n",
       " 'p046957_-_report_2_-_identified_accused.csv',\n",
       " 'p046957_-_report_2_-_identified_accused.xlsx',\n",
       " 'p046957_-_report_2_-_identified_accused_metadata.csv',\n",
       " 'p046957_-_report_3_-_police_officer_witness_data_xi.csv',\n",
       " 'p046957_-_report_3_-_police_officer_witness_data_xi.xlsx',\n",
       " 'p046957_-_report_3_-_police_officer_witness_data_xi_metadata.csv',\n",
       " 'p046957_-_report_5_-_complainant_(reporting_party)_data.csv',\n",
       " 'p046957_-_report_5_-_complainant_(reporting_party)_data.xlsx',\n",
       " 'p046957_-_report_5_-_complainant_(reporting_party)_data_metadata.csv',\n",
       " 'p046957_-_report_4_-_victim_data_metadata.csv',\n",
       " 'p046957_-_report_4_-_victim_data.csv',\n",
       " 'p046957_-_report_4_-_victim_data.xlsx']"
      ]
     },
     "execution_count": 20,
     "metadata": {},
     "output_type": "execute_result"
    }
   ],
   "source": [
    "in_path_nov_2016_report = in_path\n",
    "out_path_nov_2016_report = out_path\n",
    "\n",
    "\n",
    "files = db.list_files(in_path_nov_2016_report)\n",
    "files"
   ]
  },
  {
   "cell_type": "code",
   "execution_count": 21,
   "metadata": {
    "collapsed": false
   },
   "outputs": [
    {
     "name": "stdout",
     "output_type": "stream",
     "text": [
      "/Data/chicago-police-data/import/output/complaints-cpd-2016-nov/p046957_-_report_5_-_complainant_(reporting_party)_data.csv\n"
     ]
    },
    {
     "data": {
      "text/plain": [
       "['CRID',\n",
       " 'Witness_Gender',\n",
       " 'Witness_Age',\n",
       " 'Witness_Race',\n",
       " 'FOIA_Request_Number',\n",
       " 'Report_Produced_Date']"
      ]
     },
     "execution_count": 21,
     "metadata": {},
     "output_type": "execute_result"
    }
   ],
   "source": [
    "file = files[9]\n",
    "df = db.download_file(in_path_nov_2016_report,file)\n",
    "df.columns.tolist()"
   ]
  },
  {
   "cell_type": "code",
   "execution_count": 22,
   "metadata": {
    "collapsed": false
   },
   "outputs": [
    {
     "data": {
      "text/plain": [
       "['CRID',\n",
       " 'Civilian.Witness.Gender',\n",
       " 'Civilian.Witness.Age',\n",
       " 'Civilian.Witness.Race_Code',\n",
       " 'FOIA_Request_Number',\n",
       " 'Report_Produced_Date']"
      ]
     },
     "execution_count": 22,
     "metadata": {},
     "output_type": "execute_result"
    }
   ],
   "source": [
    "df.columns = column_mapper(df)\n",
    "df.columns.tolist()"
   ]
  },
  {
   "cell_type": "code",
   "execution_count": 23,
   "metadata": {
    "collapsed": true
   },
   "outputs": [],
   "source": [
    "df.to_csv(out_path_nov_2016_report+file,index=False)"
   ]
  },
  {
   "cell_type": "markdown",
   "metadata": {},
   "source": [
    "### Report 5"
   ]
  },
  {
   "cell_type": "code",
   "execution_count": 24,
   "metadata": {
    "collapsed": false
   },
   "outputs": [
    {
     "data": {
      "text/plain": [
       "['p046957_-_report_1_-_all_complaints_in_time_frame.csv',\n",
       " 'p046957_-_report_1_-_all_complaints_in_time_frame.xlsx',\n",
       " 'p046957_-_report_1_-_all_complaints_in_time_frame_metadata.csv',\n",
       " 'p046957_-_report_2_-_identified_accused.csv',\n",
       " 'p046957_-_report_2_-_identified_accused.xlsx',\n",
       " 'p046957_-_report_2_-_identified_accused_metadata.csv',\n",
       " 'p046957_-_report_3_-_police_officer_witness_data_xi.csv',\n",
       " 'p046957_-_report_3_-_police_officer_witness_data_xi.xlsx',\n",
       " 'p046957_-_report_3_-_police_officer_witness_data_xi_metadata.csv',\n",
       " 'p046957_-_report_5_-_complainant_(reporting_party)_data.csv',\n",
       " 'p046957_-_report_5_-_complainant_(reporting_party)_data.xlsx',\n",
       " 'p046957_-_report_5_-_complainant_(reporting_party)_data_metadata.csv',\n",
       " 'p046957_-_report_4_-_victim_data_metadata.csv',\n",
       " 'p046957_-_report_4_-_victim_data.csv',\n",
       " 'p046957_-_report_4_-_victim_data.xlsx']"
      ]
     },
     "execution_count": 24,
     "metadata": {},
     "output_type": "execute_result"
    }
   ],
   "source": [
    "in_path_nov_2016_report = in_path\n",
    "out_path_nov_2016_report = out_path\n",
    "\n",
    "\n",
    "files = db.list_files(in_path_nov_2016_report)\n",
    "files"
   ]
  },
  {
   "cell_type": "code",
   "execution_count": 27,
   "metadata": {
    "collapsed": false
   },
   "outputs": [
    {
     "name": "stdout",
     "output_type": "stream",
     "text": [
      "/Data/chicago-police-data/import/output/complaints-cpd-2016-nov/p046957_-_report_4_-_victim_data.csv\n"
     ]
    },
    {
     "data": {
      "text/plain": [
       "['CRID',\n",
       " 'Victim_Gender',\n",
       " 'Victim_Age',\n",
       " 'Victim_Race',\n",
       " 'FOIA_Request_Number',\n",
       " 'Report_Produced_Date']"
      ]
     },
     "execution_count": 27,
     "metadata": {},
     "output_type": "execute_result"
    }
   ],
   "source": [
    "file = files[13]\n",
    "df = db.download_file(in_path_nov_2016_report,file)\n",
    "df.columns.tolist()"
   ]
  },
  {
   "cell_type": "code",
   "execution_count": 28,
   "metadata": {
    "collapsed": false
   },
   "outputs": [
    {
     "data": {
      "text/plain": [
       "['CRID',\n",
       " 'Civilian.Victim.Gender',\n",
       " 'Civilian.Victim.Age',\n",
       " 'Civilian.Victim.Race_Code',\n",
       " 'FOIA_Request_Number',\n",
       " 'Report_Produced_Date']"
      ]
     },
     "execution_count": 28,
     "metadata": {},
     "output_type": "execute_result"
    }
   ],
   "source": [
    "df.columns = column_mapper(df)\n",
    "df.columns.tolist()"
   ]
  },
  {
   "cell_type": "code",
   "execution_count": 29,
   "metadata": {
    "collapsed": true
   },
   "outputs": [],
   "source": [
    "df.to_csv(out_path_nov_2016_report+file,index=False)"
   ]
  }
 ],
 "metadata": {
  "anaconda-cloud": {},
  "kernelspec": {
   "display_name": "Civis Model",
   "language": "python",
   "name": "civis-model"
  },
  "language_info": {
   "codemirror_mode": {
    "name": "ipython",
    "version": 3
   },
   "file_extension": ".py",
   "mimetype": "text/x-python",
   "name": "python",
   "nbconvert_exporter": "python",
   "pygments_lexer": "ipython3",
   "version": "3.5.2"
  }
 },
 "nbformat": 4,
 "nbformat_minor": 0
}
