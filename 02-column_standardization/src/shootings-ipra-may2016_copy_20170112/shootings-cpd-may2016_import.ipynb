{
 "cells": [
  {
   "cell_type": "code",
   "execution_count": 1,
   "metadata": {
    "collapsed": true
   },
   "outputs": [],
   "source": [
    "import re\n",
    "import datetime\n",
    "import numpy as np\n",
    "import pandas as pd \n",
    "import os\n",
    "import sys\n",
    "import itertools\n",
    "import io"
   ]
  },
  {
   "cell_type": "code",
   "execution_count": 2,
   "metadata": {
    "collapsed": true
   },
   "outputs": [],
   "source": [
    "module_path = os.path.abspath(os.path.join('..'))\n",
    "if module_path not in sys.path:\n",
    "    sys.path.append(module_path)\n",
    "from utils.utils import *"
   ]
  },
  {
   "cell_type": "markdown",
   "metadata": {},
   "source": [
    "### Establishes General Path"
   ]
  },
  {
   "cell_type": "code",
   "execution_count": 3,
   "metadata": {
    "collapsed": false
   },
   "outputs": [],
   "source": [
    "##local_path = \"/your/path/here\"\n",
    "local_path = \"/users/thudson/Documents/Dropbox/chicago-police-data/02-column_std\""
   ]
  },
  {
   "cell_type": "code",
   "execution_count": 4,
   "metadata": {
    "collapsed": false
   },
   "outputs": [
    {
     "data": {
      "text/plain": [
       "['complaints-cpd-2016-dec',\n",
       " 'complaints-cpd-2016-jun',\n",
       " 'complaints-cpd-2016-nov',\n",
       " 'complaints-cpd-2016-oct',\n",
       " 'complaints-ipra-2016-apr',\n",
       " 'complaints-merged-2015',\n",
       " 'incomplete',\n",
       " 'shootings-cpd-feb2016',\n",
       " 'shootings-ipra-may2016',\n",
       " 'TRRs']"
      ]
     },
     "execution_count": 4,
     "metadata": {},
     "output_type": "execute_result"
    }
   ],
   "source": [
    "path = '/Data/chicago-police-data/import'\n",
    "db = dropbox_handler()\n",
    "db.list_files(path+'/output')"
   ]
  },
  {
   "cell_type": "code",
   "execution_count": 5,
   "metadata": {
    "collapsed": false
   },
   "outputs": [],
   "source": [
    "in_path = path + '/output/shootings-ipra-may2016/'\n",
    "out_path = local_path + '/output/shootings-ipra-may2016/'"
   ]
  },
  {
   "cell_type": "code",
   "execution_count": 6,
   "metadata": {
    "collapsed": false
   },
   "outputs": [
    {
     "name": "stdout",
     "output_type": "stream",
     "text": [
      "path exists: /users/thudson/Documents/Dropbox/chicago-police-data/02-column_std/output/shootings-ipra-may2016/\n"
     ]
    }
   ],
   "source": [
    "try:\n",
    "    os.mkdir(out_path)\n",
    "except:\n",
    "    print(\"path exists: {}\".format(out_path))"
   ]
  },
  {
   "cell_type": "code",
   "execution_count": 65,
   "metadata": {
    "collapsed": false
   },
   "outputs": [
    {
     "data": {
      "text/html": [
       "<div>\n",
       "<table border=\"1\" class=\"dataframe\">\n",
       "  <thead>\n",
       "    <tr style=\"text-align: right;\">\n",
       "      <th></th>\n",
       "      <th>Orig Column Name</th>\n",
       "      <th>New Name</th>\n",
       "    </tr>\n",
       "  </thead>\n",
       "  <tbody>\n",
       "    <tr>\n",
       "      <th>0</th>\n",
       "      <td>Accused</td>\n",
       "      <td>Officer.Accused.Full_Name</td>\n",
       "    </tr>\n",
       "    <tr>\n",
       "      <th>1</th>\n",
       "      <td>Accused_Appointed_Date</td>\n",
       "      <td>Officer.Accused.Appointed_Date</td>\n",
       "    </tr>\n",
       "    <tr>\n",
       "      <th>2</th>\n",
       "      <td>Accused_Appointment_Date</td>\n",
       "      <td>Officer.Accused.Appointed_Date</td>\n",
       "    </tr>\n",
       "    <tr>\n",
       "      <th>3</th>\n",
       "      <td>Accused_Birth_Year</td>\n",
       "      <td>Officer.Accused.Birth_Year</td>\n",
       "    </tr>\n",
       "    <tr>\n",
       "      <th>4</th>\n",
       "      <td>Accused_Detail</td>\n",
       "      <td>Officer.Accused.Detail</td>\n",
       "    </tr>\n",
       "  </tbody>\n",
       "</table>\n",
       "</div>"
      ],
      "text/plain": [
       "           Orig Column Name                        New Name\n",
       "0                   Accused       Officer.Accused.Full_Name\n",
       "1    Accused_Appointed_Date  Officer.Accused.Appointed_Date\n",
       "2  Accused_Appointment_Date  Officer.Accused.Appointed_Date\n",
       "3        Accused_Birth_Year      Officer.Accused.Birth_Year\n",
       "4            Accused_Detail          Officer.Accused.Detail"
      ]
     },
     "execution_count": 65,
     "metadata": {},
     "output_type": "execute_result"
    }
   ],
   "source": [
    "##doc_path = '/Data/chicago-police-data/02-column_std'\n",
    "##column_dict = db.download_file(doc_path+'/doc/','Column_Dictionary.csv')\n",
    "\n",
    "doc_path = local_path\n",
    "column_dict = pd.read_csv(doc_path+'/doc/'+'Column_Dictionary.csv').iloc[:,0:3]\n",
    "column_dict.head()"
   ]
  },
  {
   "cell_type": "code",
   "execution_count": 66,
   "metadata": {
    "collapsed": false
   },
   "outputs": [],
   "source": [
    "## SOMETHING TO PUT IN UTILS? HOW WOULD THE SPECIFIED COLUMN_DICT WORK?\n",
    "\n",
    "def column_mapper(df,\n",
    "                  column_dict = column_dict):\n",
    "    current_columns = pd.DataFrame(df.columns.tolist(),columns=['Orig Column Name'])\n",
    "    column_match = current_columns.merge(column_dict,how='left',on='Orig Column Name')\n",
    "    column_match['New Name'].fillna(column_match['Orig Column Name'],inplace=True)\n",
    "    new_columns = column_match['New Name'].tolist() \n",
    "    if current_columns.shape[0] == len(new_columns):\n",
    "        return new_columns\n",
    "    else:\n",
    "        print(\"Join failed, more columns returned than expected\")"
   ]
  },
  {
   "cell_type": "markdown",
   "metadata": {},
   "source": [
    "## May 2016 Data"
   ]
  },
  {
   "cell_type": "markdown",
   "metadata": {},
   "source": [
    "### Report 1"
   ]
  },
  {
   "cell_type": "code",
   "execution_count": 89,
   "metadata": {
    "collapsed": false
   },
   "outputs": [
    {
     "data": {
      "text/plain": [
       "['IPRA_Shootings_Data_qry_II_217_Data163.csv',\n",
       " 'IPRA_Shootings_Data_qry_II_217_Data163.xlsx',\n",
       " 'IPRA_Shootings_Data_qry_II_217_Data163_metadata.csv',\n",
       " 'qry_II_217_Incid.csv',\n",
       " 'qry_II_217_Incid.xlsx',\n",
       " 'qry_II_217_Incid_metadata.csv',\n",
       " 'qry_II_217_Parties.csv',\n",
       " 'qry_II_217_Parties.xlsx',\n",
       " 'qry_II_217_Parties_metadata.csv']"
      ]
     },
     "execution_count": 89,
     "metadata": {},
     "output_type": "execute_result"
    }
   ],
   "source": [
    "in_path_may_2016_report = in_path\n",
    "out_path_may_2016_report = out_path\n",
    "\n",
    "files = db.list_files(in_path_may_2016_report)\n",
    "files"
   ]
  },
  {
   "cell_type": "code",
   "execution_count": 90,
   "metadata": {
    "collapsed": false
   },
   "outputs": [
    {
     "name": "stdout",
     "output_type": "stream",
     "text": [
      "/Data/chicago-police-data/import/output/shootings-ipra-may2016/ipra_shootings_data_qry_ii_217_data163.csv\n"
     ]
    },
    {
     "data": {
      "text/plain": [
       "['CR_Required',\n",
       " 'Initial_Category_Code',\n",
       " 'Initial_Category',\n",
       " 'Current_Category_Code',\n",
       " 'Current_Category',\n",
       " 'Current_Status',\n",
       " 'Complaint_Number',\n",
       " 'Beat',\n",
       " 'Incident_Address',\n",
       " 'Location_Value',\n",
       " 'Incident_Time_Start',\n",
       " 'Incident_Time_End',\n",
       " 'Complaint_Date',\n",
       " 'IPRA_Closed_Date',\n",
       " 'IPRA_Investigator_Last_Name',\n",
       " 'IPRA_Investigator_First_Name',\n",
       " 'IPRA_Assign_Date',\n",
       " 'IPRA_Investigate_Begin_Date',\n",
       " 'IPRA_Investigate_End_Date',\n",
       " 'IPRA_Investigator_Type',\n",
       " 'Report_Status',\n",
       " 'Finding_Code',\n",
       " 'Finding_Id',\n",
       " 'Penalty_Code',\n",
       " 'No_Days',\n",
       " 'Penalty_Status',\n",
       " 'Accused_First_Name',\n",
       " 'Accused_Last_Name',\n",
       " 'Accused_Star',\n",
       " 'Accused_Assignment',\n",
       " 'Accused_Detail',\n",
       " 'Accused_Appointment_Date',\n",
       " 'Accused_Position',\n",
       " 'IAD_Ops',\n",
       " 'Converted_Rec_I',\n",
       " 'Involved_Party_Description',\n",
       " 'Involved_Party_Type',\n",
       " 'Involved_Party_Last_Name',\n",
       " 'Involved_Party_First_Name',\n",
       " 'Involved_Party_Assignment',\n",
       " 'Involved_Party_Detail',\n",
       " 'Involved_Party_Position',\n",
       " 'Involved_Party_Age',\n",
       " 'Involved_Party_Sex',\n",
       " 'Involved_Party_Race',\n",
       " 'Police_Shooting_No',\n",
       " 'Police_Shooting',\n",
       " 'Sheet',\n",
       " 'FOIA_Request_Number',\n",
       " 'Report_Produced_Date']"
      ]
     },
     "execution_count": 90,
     "metadata": {},
     "output_type": "execute_result"
    }
   ],
   "source": [
    "file = files[0]\n",
    "df = db.download_file(in_path_may_2016_report,file)\n",
    "df.columns.tolist()"
   ]
  },
  {
   "cell_type": "code",
   "execution_count": 125,
   "metadata": {
    "collapsed": false
   },
   "outputs": [
    {
     "data": {
      "text/plain": [
       "array(['DEP CHIEF', 'POLICE OFFICER', 'UNKNOWN', 'PO/FIELD TRNING OFF',\n",
       "       'COMMANDER', 'PO ASGN EVID. TECHNI', nan, 'LIEUTENANT OF POLICE',\n",
       "       'SERGEANT OF POLICE', 'PO AS DETECTIVE', 'CAPTAIN OF POLICE',\n",
       "       'ADMIN. IN CHARGE IPRA', 'TIMEKEEPER CPD', 'ASST DEPUTY SUP',\n",
       "       'CHIEF', 'PO/EXP DET CAN HAND'], dtype=object)"
      ]
     },
     "execution_count": 125,
     "metadata": {},
     "output_type": "execute_result"
    }
   ],
   "source": [
    "df.Involved_Party_Position.unique()"
   ]
  },
  {
   "cell_type": "markdown",
   "metadata": {},
   "source": [
    "### Requires splitting into 8 separate datasets"
   ]
  },
  {
   "cell_type": "code",
   "execution_count": 102,
   "metadata": {
    "collapsed": false
   },
   "outputs": [],
   "source": [
    "df_officer_complainant = df[(df.Involved_Party_Type == 'Complainant') &\n",
    "                            (df.Involved_Party_Position!='UNKNOWN') & \n",
    "                            (pd.isnull(df.Involved_Party_Position)==False)]\n",
    "df_other_complainant = df[(df.Involved_Party_Type == 'Complainant') &\n",
    "                            ((df.Involved_Party_Position=='UNKNOWN') |\n",
    "                            (pd.isnull(df.Involved_Party_Position)==True))]\n",
    "\n",
    "df_officer_inmate = df[(df.Involved_Party_Type == 'Inmate') &\n",
    "                            (df.Involved_Party_Position!='UNKNOWN') & \n",
    "                            (pd.isnull(df.Involved_Party_Position)==False)]\n",
    "df_other_inmate = df[(df.Involved_Party_Type == 'Inmate') &\n",
    "                            ((df.Involved_Party_Position=='UNKNOWN') |\n",
    "                            (pd.isnull(df.Involved_Party_Position)==True))]\n",
    "\n",
    "df_officer_victim = df[(df.Involved_Party_Type == 'Victim') &\n",
    "                            (df.Involved_Party_Position!='UNKNOWN') &\n",
    "                            (pd.isnull(df.Involved_Party_Position)==False)]\n",
    "df_other_victim = df[(df.Involved_Party_Type == 'Victim') &\n",
    "                            ((df.Involved_Party_Position=='UNKNOWN') | \n",
    "                            (pd.isnull(df.Involved_Party_Position)==True))]\n",
    "\n",
    "df_officer_witness = df[(df.Involved_Party_Type == 'Witness') &\n",
    "                            (df.Involved_Party_Position!='UNKNOWN') & \n",
    "                            (pd.isnull(df.Involved_Party_Position)==False)]\n",
    "df_other_witness = df[(df.Involved_Party_Type == 'Witness') &\n",
    "                            ((df.Involved_Party_Position=='UNKNOWN') |\n",
    "                            (pd.isnull(df.Involved_Party_Position)==True))]\n"
   ]
  },
  {
   "cell_type": "code",
   "execution_count": 103,
   "metadata": {
    "collapsed": false
   },
   "outputs": [
    {
     "name": "stderr",
     "output_type": "stream",
     "text": [
      "/Users/thudson/anaconda/envs/civis-model/lib/python3.5/site-packages/pandas/core/frame.py:2754: SettingWithCopyWarning: \n",
      "A value is trying to be set on a copy of a slice from a DataFrame\n",
      "\n",
      "See the caveats in the documentation: http://pandas.pydata.org/pandas-docs/stable/indexing.html#indexing-view-versus-copy\n",
      "  **kwargs)\n"
     ]
    }
   ],
   "source": [
    "df_officer_complainant.rename(columns={\n",
    "                    'Involved_Party_Description': 'Officer.Complainant.Description', \n",
    "                   'Involved_Party_Type': 'Officer.Complainant.Type',\n",
    "                   'Involved_Party_Last_Name': 'Officer.Complainant.Last_Name',\n",
    "                   'Involved_Party_First_Name': 'Officer.Complainant.First_Name',\n",
    "                   'Involved_Party_Assignment': 'Officer.Complainant.Assignment',\n",
    "                   'Involved_Party_Detail': 'Officer.Complainant.Detail',\n",
    "                   'Involved_Party_Position': 'Officer.Complainant.Position',\n",
    "                   'Involved_Party_Age': 'Officer.Complainant.Age',\n",
    "                   'Involved_Party_Sex': 'Officer.Complainant.Sex',\n",
    "                   'Involved_Party_Race': 'Officer.Complainant.Race'\n",
    "                  }, inplace=True)\n",
    "\n",
    "df_other_complainant.rename(columns={\n",
    "                    'Involved_Party_Description': 'Unknown.Complainant.Description', \n",
    "                   'Involved_Party_Type': 'Unknown.Complainant.Type',\n",
    "                   'Involved_Party_Last_Name': 'Unknown.Complainant.Last_Name',\n",
    "                   'Involved_Party_First_Name': 'Unknown.Complainant.First_Name',\n",
    "                   'Involved_Party_Assignment': 'Unknown.Complainant.Assignment',\n",
    "                   'Involved_Party_Detail': 'Unknown.Complainant.Detail',\n",
    "                   'Involved_Party_Position': 'Unknown.Complainant.Position',\n",
    "                   'Involved_Party_Age': 'Unknown.Complainant.Age',\n",
    "                   'Involved_Party_Sex': 'Unknown.Complainant.Sex',\n",
    "                   'Involved_Party_Race': 'Unknown.Complainant.Race'\n",
    "                  }, inplace=True)"
   ]
  },
  {
   "cell_type": "code",
   "execution_count": 104,
   "metadata": {
    "collapsed": false
   },
   "outputs": [
    {
     "name": "stderr",
     "output_type": "stream",
     "text": [
      "/Users/thudson/anaconda/envs/civis-model/lib/python3.5/site-packages/pandas/core/frame.py:2754: SettingWithCopyWarning: \n",
      "A value is trying to be set on a copy of a slice from a DataFrame\n",
      "\n",
      "See the caveats in the documentation: http://pandas.pydata.org/pandas-docs/stable/indexing.html#indexing-view-versus-copy\n",
      "  **kwargs)\n"
     ]
    }
   ],
   "source": [
    "df_officer_inmate.rename(columns={\n",
    "                    'Involved_Party_Description': 'Officer.Inmate.Description', \n",
    "                   'Involved_Party_Type': 'Officer.Inmate.Type',\n",
    "                   'Involved_Party_Last_Name': 'Officer.Inmate.Last_Name',\n",
    "                   'Involved_Party_First_Name': 'Officer.Inmate.First_Name',\n",
    "                   'Involved_Party_Assignment': 'Officer.Inmate.Assignment',\n",
    "                   'Involved_Party_Detail': 'Officer.Inmate.Detail',\n",
    "                   'Involved_Party_Position': 'Officer.Inmate.Position',\n",
    "                   'Involved_Party_Age': 'Officer.Inmate.Age',\n",
    "                   'Involved_Party_Sex': 'Officer.Inmate.Sex',\n",
    "                   'Involved_Party_Race': 'Officer.Inmate.Race'\n",
    "                  }, inplace=True)\n",
    "\n",
    "df_other_inmate.rename(columns={\n",
    "                    'Involved_Party_Description': 'Unknown.Inmate.Description', \n",
    "                   'Involved_Party_Type': 'Unknown.Inmate.Type',\n",
    "                   'Involved_Party_Last_Name': 'Unknown.Inmate.Last_Name',\n",
    "                   'Involved_Party_First_Name': 'Unknown.Inmate.First_Name',\n",
    "                   'Involved_Party_Assignment': 'Unknown.Inmate.Assignment',\n",
    "                   'Involved_Party_Detail': 'Unknown.Inmate.Detail',\n",
    "                   'Involved_Party_Position': 'Unknown.Inmate.Position',\n",
    "                   'Involved_Party_Age': 'Unknown.Inmate.Age',\n",
    "                   'Involved_Party_Sex': 'Unknown.Inmate.Sex',\n",
    "                   'Involved_Party_Race': 'Unknown.Inmate.Race'\n",
    "                  }, inplace=True)"
   ]
  },
  {
   "cell_type": "code",
   "execution_count": 105,
   "metadata": {
    "collapsed": false
   },
   "outputs": [
    {
     "name": "stderr",
     "output_type": "stream",
     "text": [
      "/Users/thudson/anaconda/envs/civis-model/lib/python3.5/site-packages/pandas/core/frame.py:2754: SettingWithCopyWarning: \n",
      "A value is trying to be set on a copy of a slice from a DataFrame\n",
      "\n",
      "See the caveats in the documentation: http://pandas.pydata.org/pandas-docs/stable/indexing.html#indexing-view-versus-copy\n",
      "  **kwargs)\n"
     ]
    }
   ],
   "source": [
    "df_officer_victim.rename(columns={\n",
    "                    'Involved_Party_Description': 'Officer.Victim.Description', \n",
    "                   'Involved_Party_Type': 'Officer.Victim.Type',\n",
    "                   'Involved_Party_Last_Name': 'Officer.Victim.Last_Name',\n",
    "                   'Involved_Party_First_Name': 'Officer.Victim.First_Name',\n",
    "                   'Involved_Party_Assignment': 'Officer.Victim.Assignment',\n",
    "                   'Involved_Party_Detail': 'Officer.Victim.Detail',\n",
    "                   'Involved_Party_Position': 'Officer.Victim.Position',\n",
    "                   'Involved_Party_Age': 'Officer.Victim.Age',\n",
    "                   'Involved_Party_Sex': 'Officer.Victim.Sex',\n",
    "                   'Involved_Party_Race': 'Officer.Victim.Race'\n",
    "                  }, inplace=True)\n",
    "\n",
    "df_other_victim.rename(columns={\n",
    "                    'Involved_Party_Description': 'Unknown.Victim.Description', \n",
    "                   'Involved_Party_Type': 'Unknown.Victim.Type',\n",
    "                   'Involved_Party_Last_Name': 'Unknown.Victim.Last_Name',\n",
    "                   'Involved_Party_First_Name': 'Unknown.Victim.First_Name',\n",
    "                   'Involved_Party_Assignment': 'Unknown.Victim.Assignment',\n",
    "                   'Involved_Party_Detail': 'Unknown.Victim.Detail',\n",
    "                   'Involved_Party_Position': 'Unknown.Victim.Position',\n",
    "                   'Involved_Party_Age': 'Unknown.Victim.Age',\n",
    "                   'Involved_Party_Sex': 'Unknown.Victim.Sex',\n",
    "                   'Involved_Party_Race': 'Unknown.Victim.Race'\n",
    "                  }, inplace=True)"
   ]
  },
  {
   "cell_type": "code",
   "execution_count": 106,
   "metadata": {
    "collapsed": false
   },
   "outputs": [
    {
     "name": "stderr",
     "output_type": "stream",
     "text": [
      "/Users/thudson/anaconda/envs/civis-model/lib/python3.5/site-packages/pandas/core/frame.py:2754: SettingWithCopyWarning: \n",
      "A value is trying to be set on a copy of a slice from a DataFrame\n",
      "\n",
      "See the caveats in the documentation: http://pandas.pydata.org/pandas-docs/stable/indexing.html#indexing-view-versus-copy\n",
      "  **kwargs)\n"
     ]
    }
   ],
   "source": [
    "df_officer_witness.rename(columns={\n",
    "                    'Involved_Party_Description': 'Officer.Witness.Description', \n",
    "                   'Involved_Party_Type': 'Officer.Witness.Type',\n",
    "                   'Involved_Party_Last_Name': 'Officer.Witness.Last_Name',\n",
    "                   'Involved_Party_First_Name': 'Officer.Witness.First_Name',\n",
    "                   'Involved_Party_Assignment': 'Officer.Witness.Assignment',\n",
    "                   'Involved_Party_Detail': 'Officer.Witness.Detail',\n",
    "                   'Involved_Party_Position': 'Officer.Witness.Position',\n",
    "                   'Involved_Party_Age': 'Officer.Witness.Age',\n",
    "                   'Involved_Party_Sex': 'Officer.Witness.Sex',\n",
    "                   'Involved_Party_Race': 'Officer.Witness.Race'\n",
    "                  }, inplace=True)\n",
    "\n",
    "df_other_witness.rename(columns={\n",
    "                    'Involved_Party_Description': 'Unknown.Witness.Description', \n",
    "                   'Involved_Party_Type': 'Unknown.Witness.Type',\n",
    "                   'Involved_Party_Last_Name': 'Unknown.Witness.Last_Name',\n",
    "                   'Involved_Party_First_Name': 'Unknown.Witness.First_Name',\n",
    "                   'Involved_Party_Assignment': 'Unknown.Witness.Assignment',\n",
    "                   'Involved_Party_Detail': 'Unknown.Witness.Detail',\n",
    "                   'Involved_Party_Position': 'Unknown.Witness.Position',\n",
    "                   'Involved_Party_Age': 'Unknown.Witness.Age',\n",
    "                   'Involved_Party_Sex': 'Unknown.Witness.Sex',\n",
    "                   'Involved_Party_Race': 'Unknown.Witness.Race'\n",
    "                  }, inplace=True)"
   ]
  },
  {
   "cell_type": "code",
   "execution_count": 107,
   "metadata": {
    "collapsed": false
   },
   "outputs": [],
   "source": [
    "df_officer_complainant.columns = column_mapper(df_officer_complainant)\n",
    "df_other_complainant.columns = column_mapper(df_other_complainant)\n",
    "\n",
    "df_officer_victim.columns = column_mapper(df_officer_victim)\n",
    "df_other_victim.columns = column_mapper(df_other_victim)\n",
    "\n",
    "df_officer_inmate.columns = column_mapper(df_officer_inmate)\n",
    "df_other_inmate.columns = column_mapper(df_other_inmate)\n",
    "\n",
    "df_officer_witness.columns = column_mapper(df_officer_witness)\n",
    "df_other_witness.columns = column_mapper(df_other_witness)"
   ]
  },
  {
   "cell_type": "code",
   "execution_count": 115,
   "metadata": {
    "collapsed": false
   },
   "outputs": [],
   "source": [
    "df_officer_complainant.to_csv(out_path_may_2016_report+file+'_officer_complainant',index=False)\n",
    "df_other_complainant.to_csv(out_path_may_2016_report+file+'_other_complainant',index=False)\n",
    "\n",
    "df_officer_victim.to_csv(out_path_may_2016_report+file+'_officer_victim',index=False)\n",
    "df_other_victim.to_csv(out_path_may_2016_report+file+'_other_victim',index=False)\n",
    "\n",
    "df_officer_inmate.to_csv(out_path_may_2016_report+file+'_officer_inmate',index=False)\n",
    "df_other_inmate.to_csv(out_path_may_2016_report+file+'_other_inmate',index=False)\n",
    "\n",
    "df_officer_witness.to_csv(out_path_may_2016_report+file+'_officer_witness',index=False)\n",
    "df_other_witness.to_csv(out_path_may_2016_report+file+'_other_witness',index=False)"
   ]
  },
  {
   "cell_type": "markdown",
   "metadata": {},
   "source": [
    "### Incidents"
   ]
  },
  {
   "cell_type": "code",
   "execution_count": 116,
   "metadata": {
    "collapsed": false
   },
   "outputs": [
    {
     "name": "stdout",
     "output_type": "stream",
     "text": [
      "/Data/chicago-police-data/import/output/shootings-ipra-may2016/qry_ii_217_incid.csv\n"
     ]
    },
    {
     "data": {
      "text/plain": [
       "['CR_Required',\n",
       " 'Initial_Category_Code',\n",
       " 'Initial_Category',\n",
       " 'Current_Category_Code',\n",
       " 'Current_Category',\n",
       " 'Current_Status',\n",
       " 'Complaint_Number',\n",
       " 'Beat',\n",
       " 'Incident_Address',\n",
       " 'Location_Value',\n",
       " 'Incident_Time_Start',\n",
       " 'Incident_Time_End',\n",
       " 'Complaint_Date',\n",
       " 'IPRA_Closed_Date',\n",
       " 'Report_Status',\n",
       " 'Finding_Code',\n",
       " 'Finding_Id',\n",
       " 'Penalty_Code',\n",
       " 'No_Days',\n",
       " 'Penalty_Status',\n",
       " 'Accused_First_Name',\n",
       " 'Accused_Last_Name',\n",
       " 'Accused_Star',\n",
       " 'Accused_Assignment',\n",
       " 'Accused_Detail',\n",
       " 'Accused_Appointment_Date',\n",
       " 'Accused_Position',\n",
       " 'IAD_Ops',\n",
       " 'Converted_Rec_I',\n",
       " 'Police_Shooting_No',\n",
       " 'Police_Shooting',\n",
       " 'Sheet',\n",
       " 'FOIA_Request_Number',\n",
       " 'Report_Produced_Date']"
      ]
     },
     "execution_count": 116,
     "metadata": {},
     "output_type": "execute_result"
    }
   ],
   "source": [
    "file = files[3]\n",
    "df = db.download_file(in_path_may_2016_report,file)\n",
    "df.columns.tolist()"
   ]
  },
  {
   "cell_type": "code",
   "execution_count": 117,
   "metadata": {
    "collapsed": false
   },
   "outputs": [
    {
     "data": {
      "text/plain": [
       "Index(['Complaint.Register_Required', 'Complaint.Initial.Category',\n",
       "       'Complaint.Initial.Category', 'Complaint.Current.Category',\n",
       "       'Complaint.Current.Category', 'Complaint.Current.Case_Status', 'CRID',\n",
       "       'Incident.Location.Beat', 'Incident.Location.Address',\n",
       "       'Incident.Location.Location_Value', 'Incident.Time.Start_Time',\n",
       "       'Incident.Time.End_Time', 'Complaint.Date',\n",
       "       'Complaint.Current.IPRA_Closed_Date', 'Complaint.Current.Report_Status',\n",
       "       'Complaint.Current.Finding', 'Complaint.Current.Finding_Id',\n",
       "       'Complaint.Current.Discipline', 'Complaint.Current.Discipline_Days',\n",
       "       'Complaint.Current.Discipline_Status', 'Officer.Accused.First_Name',\n",
       "       'Officer.Accused.Last_Name', 'Officer.Accused.Star',\n",
       "       'Officer.Accused.Assignment', 'Officer.Accused.Detail',\n",
       "       'Officer.Accused.Appointed_Date', 'Officer.Accused.Position', 'IAD_Ops',\n",
       "       'Converted_Rec_I', 'Incident.Police_Shooting_No',\n",
       "       'Incident.Police_Shooting', 'Sheet', 'FOIA_Request_Number',\n",
       "       'Report_Produced_Date'],\n",
       "      dtype='object')"
      ]
     },
     "execution_count": 117,
     "metadata": {},
     "output_type": "execute_result"
    }
   ],
   "source": [
    "df.columns = column_mapper(df)\n",
    "df.columns"
   ]
  },
  {
   "cell_type": "code",
   "execution_count": 118,
   "metadata": {
    "collapsed": true
   },
   "outputs": [],
   "source": [
    "df.to_csv(out_path_may_2016_report+file,index=False)"
   ]
  },
  {
   "cell_type": "markdown",
   "metadata": {},
   "source": [
    "### Parties"
   ]
  },
  {
   "cell_type": "code",
   "execution_count": 120,
   "metadata": {
    "collapsed": false
   },
   "outputs": [
    {
     "name": "stdout",
     "output_type": "stream",
     "text": [
      "/Data/chicago-police-data/import/output/shootings-ipra-may2016/qry_ii_217_parties.csv\n"
     ]
    },
    {
     "data": {
      "text/plain": [
       "['CR_Required',\n",
       " 'Initial_Category_Code',\n",
       " 'Initial_Category',\n",
       " 'Current_Category_Code',\n",
       " 'Current_Category',\n",
       " 'Current_Status',\n",
       " 'Complaint_Number',\n",
       " 'Complaint_Date',\n",
       " 'IPRA_Investigator_Last_Name',\n",
       " 'IPRA_Investigator_First_Name',\n",
       " 'IPRA_Assign_Date',\n",
       " 'IPRA_Investigate_Begin_Date',\n",
       " 'IPRA_Investigate_End_Date',\n",
       " 'IPRA_Investigator_Type',\n",
       " 'Accused_First_Name',\n",
       " 'Accused_Last_Name',\n",
       " 'Accused_Star',\n",
       " 'Accused_Assignment',\n",
       " 'Accused_Detail',\n",
       " 'Accused_Appointment_Date',\n",
       " 'Accused_Position',\n",
       " 'IAD_Ops',\n",
       " 'Converted_Rec_I',\n",
       " 'Involved_Party_Description',\n",
       " 'Involved_Party_Type',\n",
       " 'Involved_Party_Last_Name',\n",
       " 'Involved_Party_First_Name',\n",
       " 'Involved_Party_Assignment',\n",
       " 'Involved_Party_Detail',\n",
       " 'Involved_Party_Position',\n",
       " 'Involved_Party_Age',\n",
       " 'Involved_Party_Sex',\n",
       " 'Involved_Party_Race',\n",
       " 'Police_Shooting_No',\n",
       " 'Police_Shooting',\n",
       " 'Sheet',\n",
       " 'FOIA_Request_Number',\n",
       " 'Report_Produced_Date']"
      ]
     },
     "execution_count": 120,
     "metadata": {},
     "output_type": "execute_result"
    }
   ],
   "source": [
    "file = files[6]\n",
    "df = db.download_file(in_path_may_2016_report,file)\n",
    "df.columns.tolist()"
   ]
  },
  {
   "cell_type": "markdown",
   "metadata": {},
   "source": [
    "# NEED TO HANDLE IPRA SEPARATELY"
   ]
  },
  {
   "cell_type": "code",
   "execution_count": 124,
   "metadata": {
    "collapsed": false
   },
   "outputs": [
    {
     "data": {
      "text/plain": [
       "array(['DEP CHIEF', 'POLICE OFFICER', 'UNKNOWN', 'PO/FIELD TRNING OFF',\n",
       "       'COMMANDER', 'PO ASGN EVID. TECHNI', nan, 'LIEUTENANT OF POLICE',\n",
       "       'SERGEANT OF POLICE', 'PO AS DETECTIVE', 'CAPTAIN OF POLICE',\n",
       "       'ADMIN. IN CHARGE IPRA', 'TIMEKEEPER CPD', 'ASST DEPUTY SUP',\n",
       "       'CHIEF', 'PO/EXP DET CAN HAND'], dtype=object)"
      ]
     },
     "execution_count": 124,
     "metadata": {},
     "output_type": "execute_result"
    }
   ],
   "source": [
    "df.Involved_Party_Position.unique()"
   ]
  },
  {
   "cell_type": "code",
   "execution_count": 121,
   "metadata": {
    "collapsed": true
   },
   "outputs": [],
   "source": [
    "df_officer_complainant = df[(df.Involved_Party_Type == 'Complainant') &\n",
    "                            (df.Involved_Party_Position!='UNKNOWN') & \n",
    "                            (pd.isnull(df.Involved_Party_Position)==False)]\n",
    "df_other_complainant = df[(df.Involved_Party_Type == 'Complainant') &\n",
    "                            ((df.Involved_Party_Position=='UNKNOWN') |\n",
    "                            (pd.isnull(df.Involved_Party_Position)==True))]\n",
    "\n",
    "df_officer_inmate = df[(df.Involved_Party_Type == 'Inmate') &\n",
    "                            (df.Involved_Party_Position!='UNKNOWN') & \n",
    "                            (pd.isnull(df.Involved_Party_Position)==False)]\n",
    "df_other_inmate = df[(df.Involved_Party_Type == 'Inmate') &\n",
    "                            ((df.Involved_Party_Position=='UNKNOWN') |\n",
    "                            (pd.isnull(df.Involved_Party_Position)==True))]\n",
    "\n",
    "df_officer_victim = df[(df.Involved_Party_Type == 'Victim') &\n",
    "                            (df.Involved_Party_Position!='UNKNOWN') &\n",
    "                            (pd.isnull(df.Involved_Party_Position)==False)]\n",
    "df_other_victim = df[(df.Involved_Party_Type == 'Victim') &\n",
    "                            ((df.Involved_Party_Position=='UNKNOWN') | \n",
    "                            (pd.isnull(df.Involved_Party_Position)==True))]\n",
    "\n",
    "df_officer_witness = df[(df.Involved_Party_Type == 'Witness') &\n",
    "                            (df.Involved_Party_Position!='UNKNOWN') & \n",
    "                            (pd.isnull(df.Involved_Party_Position)==False)]\n",
    "df_other_witness = df[(df.Involved_Party_Type == 'Witness') &\n",
    "                            ((df.Involved_Party_Position=='UNKNOWN') |\n",
    "                            (pd.isnull(df.Involved_Party_Position)==True))]"
   ]
  },
  {
   "cell_type": "code",
   "execution_count": 122,
   "metadata": {
    "collapsed": false
   },
   "outputs": [
    {
     "name": "stderr",
     "output_type": "stream",
     "text": [
      "/Users/thudson/anaconda/envs/civis-model/lib/python3.5/site-packages/pandas/core/frame.py:2754: SettingWithCopyWarning: \n",
      "A value is trying to be set on a copy of a slice from a DataFrame\n",
      "\n",
      "See the caveats in the documentation: http://pandas.pydata.org/pandas-docs/stable/indexing.html#indexing-view-versus-copy\n",
      "  **kwargs)\n"
     ]
    }
   ],
   "source": [
    "df_officer_complainant.rename(columns={\n",
    "                    'Involved_Party_Description': 'Officer.Complainant.Description', \n",
    "                   'Involved_Party_Type': 'Officer.Complainant.Type',\n",
    "                   'Involved_Party_Last_Name': 'Officer.Complainant.Last_Name',\n",
    "                   'Involved_Party_First_Name': 'Officer.Complainant.First_Name',\n",
    "                   'Involved_Party_Assignment': 'Officer.Complainant.Assignment',\n",
    "                   'Involved_Party_Detail': 'Officer.Complainant.Detail',\n",
    "                   'Involved_Party_Position': 'Officer.Complainant.Position',\n",
    "                   'Involved_Party_Age': 'Officer.Complainant.Age',\n",
    "                   'Involved_Party_Sex': 'Officer.Complainant.Sex',\n",
    "                   'Involved_Party_Race': 'Officer.Complainant.Race'\n",
    "                  }, inplace=True)\n",
    "\n",
    "df_other_complainant.rename(columns={\n",
    "                    'Involved_Party_Description': 'Unknown.Complainant.Description', \n",
    "                   'Involved_Party_Type': 'Unknown.Complainant.Type',\n",
    "                   'Involved_Party_Last_Name': 'Unknown.Complainant.Last_Name',\n",
    "                   'Involved_Party_First_Name': 'Unknown.Complainant.First_Name',\n",
    "                   'Involved_Party_Assignment': 'Unknown.Complainant.Assignment',\n",
    "                   'Involved_Party_Detail': 'Unknown.Complainant.Detail',\n",
    "                   'Involved_Party_Position': 'Unknown.Complainant.Position',\n",
    "                   'Involved_Party_Age': 'Unknown.Complainant.Age',\n",
    "                   'Involved_Party_Sex': 'Unknown.Complainant.Sex',\n",
    "                   'Involved_Party_Race': 'Unknown.Complainant.Race'\n",
    "                  }, inplace=True)\n",
    "\n",
    "df_officer_inmate.rename(columns={\n",
    "                    'Involved_Party_Description': 'Officer.Inmate.Description', \n",
    "                   'Involved_Party_Type': 'Officer.Inmate.Type',\n",
    "                   'Involved_Party_Last_Name': 'Officer.Inmate.Last_Name',\n",
    "                   'Involved_Party_First_Name': 'Officer.Inmate.First_Name',\n",
    "                   'Involved_Party_Assignment': 'Officer.Inmate.Assignment',\n",
    "                   'Involved_Party_Detail': 'Officer.Inmate.Detail',\n",
    "                   'Involved_Party_Position': 'Officer.Inmate.Position',\n",
    "                   'Involved_Party_Age': 'Officer.Inmate.Age',\n",
    "                   'Involved_Party_Sex': 'Officer.Inmate.Sex',\n",
    "                   'Involved_Party_Race': 'Officer.Inmate.Race'\n",
    "                  }, inplace=True)\n",
    "\n",
    "df_other_inmate.rename(columns={\n",
    "                    'Involved_Party_Description': 'Unknown.Inmate.Description', \n",
    "                   'Involved_Party_Type': 'Unknown.Inmate.Type',\n",
    "                   'Involved_Party_Last_Name': 'Unknown.Inmate.Last_Name',\n",
    "                   'Involved_Party_First_Name': 'Unknown.Inmate.First_Name',\n",
    "                   'Involved_Party_Assignment': 'Unknown.Inmate.Assignment',\n",
    "                   'Involved_Party_Detail': 'Unknown.Inmate.Detail',\n",
    "                   'Involved_Party_Position': 'Unknown.Inmate.Position',\n",
    "                   'Involved_Party_Age': 'Unknown.Inmate.Age',\n",
    "                   'Involved_Party_Sex': 'Unknown.Inmate.Sex',\n",
    "                   'Involved_Party_Race': 'Unknown.Inmate.Race'\n",
    "                  }, inplace=True)\n",
    "\n",
    "df_officer_victim.rename(columns={\n",
    "                    'Involved_Party_Description': 'Officer.Victim.Description', \n",
    "                   'Involved_Party_Type': 'Officer.Victim.Type',\n",
    "                   'Involved_Party_Last_Name': 'Officer.Victim.Last_Name',\n",
    "                   'Involved_Party_First_Name': 'Officer.Victim.First_Name',\n",
    "                   'Involved_Party_Assignment': 'Officer.Victim.Assignment',\n",
    "                   'Involved_Party_Detail': 'Officer.Victim.Detail',\n",
    "                   'Involved_Party_Position': 'Officer.Victim.Position',\n",
    "                   'Involved_Party_Age': 'Officer.Victim.Age',\n",
    "                   'Involved_Party_Sex': 'Officer.Victim.Sex',\n",
    "                   'Involved_Party_Race': 'Officer.Victim.Race'\n",
    "                  }, inplace=True)\n",
    "\n",
    "df_other_victim.rename(columns={\n",
    "                    'Involved_Party_Description': 'Unknown.Victim.Description', \n",
    "                   'Involved_Party_Type': 'Unknown.Victim.Type',\n",
    "                   'Involved_Party_Last_Name': 'Unknown.Victim.Last_Name',\n",
    "                   'Involved_Party_First_Name': 'Unknown.Victim.First_Name',\n",
    "                   'Involved_Party_Assignment': 'Unknown.Victim.Assignment',\n",
    "                   'Involved_Party_Detail': 'Unknown.Victim.Detail',\n",
    "                   'Involved_Party_Position': 'Unknown.Victim.Position',\n",
    "                   'Involved_Party_Age': 'Unknown.Victim.Age',\n",
    "                   'Involved_Party_Sex': 'Unknown.Victim.Sex',\n",
    "                   'Involved_Party_Race': 'Unknown.Victim.Race'\n",
    "                  }, inplace=True)\n",
    "\n",
    "df_officer_witness.rename(columns={\n",
    "                    'Involved_Party_Description': 'Officer.Witness.Description', \n",
    "                   'Involved_Party_Type': 'Officer.Witness.Type',\n",
    "                   'Involved_Party_Last_Name': 'Officer.Witness.Last_Name',\n",
    "                   'Involved_Party_First_Name': 'Officer.Witness.First_Name',\n",
    "                   'Involved_Party_Assignment': 'Officer.Witness.Assignment',\n",
    "                   'Involved_Party_Detail': 'Officer.Witness.Detail',\n",
    "                   'Involved_Party_Position': 'Officer.Witness.Position',\n",
    "                   'Involved_Party_Age': 'Officer.Witness.Age',\n",
    "                   'Involved_Party_Sex': 'Officer.Witness.Sex',\n",
    "                   'Involved_Party_Race': 'Officer.Witness.Race'\n",
    "                  }, inplace=True)\n",
    "\n",
    "df_other_witness.rename(columns={\n",
    "                    'Involved_Party_Description': 'Unknown.Witness.Description', \n",
    "                   'Involved_Party_Type': 'Unknown.Witness.Type',\n",
    "                   'Involved_Party_Last_Name': 'Unknown.Witness.Last_Name',\n",
    "                   'Involved_Party_First_Name': 'Unknown.Witness.First_Name',\n",
    "                   'Involved_Party_Assignment': 'Unknown.Witness.Assignment',\n",
    "                   'Involved_Party_Detail': 'Unknown.Witness.Detail',\n",
    "                   'Involved_Party_Position': 'Unknown.Witness.Position',\n",
    "                   'Involved_Party_Age': 'Unknown.Witness.Age',\n",
    "                   'Involved_Party_Sex': 'Unknown.Witness.Sex',\n",
    "                   'Involved_Party_Race': 'Unknown.Witness.Race'\n",
    "                  }, inplace=True)"
   ]
  },
  {
   "cell_type": "code",
   "execution_count": 123,
   "metadata": {
    "collapsed": true
   },
   "outputs": [],
   "source": [
    "df_officer_complainant.columns = column_mapper(df_officer_complainant)\n",
    "df_other_complainant.columns = column_mapper(df_other_complainant)\n",
    "\n",
    "df_officer_victim.columns = column_mapper(df_officer_victim)\n",
    "df_other_victim.columns = column_mapper(df_other_victim)\n",
    "\n",
    "df_officer_inmate.columns = column_mapper(df_officer_inmate)\n",
    "df_other_inmate.columns = column_mapper(df_other_inmate)\n",
    "\n",
    "df_officer_witness.columns = column_mapper(df_officer_witness)\n",
    "df_other_witness.columns = column_mapper(df_other_witness)"
   ]
  },
  {
   "cell_type": "code",
   "execution_count": null,
   "metadata": {
    "collapsed": true
   },
   "outputs": [],
   "source": [
    "df_officer_complainant.to_csv(out_path_may_2016_report+file+'_officer_complainant',index=False)\n",
    "df_other_complainant.to_csv(out_path_may_2016_report+file+'_other_complainant',index=False)\n",
    "\n",
    "df_officer_victim.to_csv(out_path_may_2016_report+file+'_officer_victim',index=False)\n",
    "df_other_victim.to_csv(out_path_may_2016_report+file+'_other_victim',index=False)\n",
    "\n",
    "df_officer_inmate.to_csv(out_path_may_2016_report+file+'_officer_inmate',index=False)\n",
    "df_other_inmate.to_csv(out_path_may_2016_report+file+'_other_inmate',index=False)\n",
    "\n",
    "df_officer_witness.to_csv(out_path_may_2016_report+file+'_officer_witness',index=False)\n",
    "df_other_witness.to_csv(out_path_may_2016_report+file+'_other_witness',index=False)"
   ]
  }
 ],
 "metadata": {
  "anaconda-cloud": {},
  "kernelspec": {
   "display_name": "Civis Model",
   "language": "python",
   "name": "civis-model"
  },
  "language_info": {
   "codemirror_mode": {
    "name": "ipython",
    "version": 3
   },
   "file_extension": ".py",
   "mimetype": "text/x-python",
   "name": "python",
   "nbconvert_exporter": "python",
   "pygments_lexer": "ipython3",
   "version": "3.5.2"
  }
 },
 "nbformat": 4,
 "nbformat_minor": 0
}
