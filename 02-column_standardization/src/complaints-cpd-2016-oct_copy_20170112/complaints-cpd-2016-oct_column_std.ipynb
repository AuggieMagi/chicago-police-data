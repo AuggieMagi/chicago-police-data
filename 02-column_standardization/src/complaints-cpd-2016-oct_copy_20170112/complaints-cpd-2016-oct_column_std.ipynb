{
 "cells": [
  {
   "cell_type": "code",
   "execution_count": 1,
   "metadata": {
    "collapsed": true
   },
   "outputs": [],
   "source": [
    "import re\n",
    "import datetime\n",
    "import numpy as np\n",
    "import pandas as pd \n",
    "import os\n",
    "import sys\n",
    "import itertools\n",
    "import io"
   ]
  },
  {
   "cell_type": "code",
   "execution_count": 2,
   "metadata": {
    "collapsed": true
   },
   "outputs": [],
   "source": [
    "module_path = os.path.abspath(os.path.join('..'))\n",
    "if module_path not in sys.path:\n",
    "    sys.path.append(module_path)\n",
    "from utils.utils import *"
   ]
  },
  {
   "cell_type": "markdown",
   "metadata": {},
   "source": [
    "### Establishes General Path"
   ]
  },
  {
   "cell_type": "code",
   "execution_count": 3,
   "metadata": {
    "collapsed": false
   },
   "outputs": [],
   "source": [
    "##local_path = \"/your/path/here\"\n",
    "local_path = \"/users/thudson/Documents/Dropbox/chicago-police-data/02-column_std\""
   ]
  },
  {
   "cell_type": "code",
   "execution_count": 4,
   "metadata": {
    "collapsed": false
   },
   "outputs": [
    {
     "data": {
      "text/plain": [
       "['incomplete',\n",
       " 'TRRs',\n",
       " 'complaints-cpd-2016-dec',\n",
       " 'complaints-cpd-2016-jun',\n",
       " 'complaints-cpd-2016-nov',\n",
       " 'complaints-cpd-2016-oct',\n",
       " 'complaints-ipra-2016-apr',\n",
       " 'complaints-merged-2015',\n",
       " 'shootings-cpd-feb2016',\n",
       " 'shootings-ipra-may2016']"
      ]
     },
     "execution_count": 4,
     "metadata": {},
     "output_type": "execute_result"
    }
   ],
   "source": [
    "path = '/Data/chicago-police-data/import'\n",
    "db = dropbox_handler()\n",
    "db.list_files(path+'/output')"
   ]
  },
  {
   "cell_type": "code",
   "execution_count": 5,
   "metadata": {
    "collapsed": false
   },
   "outputs": [],
   "source": [
    "in_path = path + '/output/complaints-cpd-2016-oct/'\n",
    "out_path = local_path + '/output/complaints-cpd-2016-oct/'"
   ]
  },
  {
   "cell_type": "code",
   "execution_count": null,
   "metadata": {
    "collapsed": true
   },
   "outputs": [],
   "source": [
    "os.mkdir(out_path)"
   ]
  },
  {
   "cell_type": "code",
   "execution_count": 16,
   "metadata": {
    "collapsed": false
   },
   "outputs": [
    {
     "data": {
      "text/html": [
       "<div>\n",
       "<table border=\"1\" class=\"dataframe\">\n",
       "  <thead>\n",
       "    <tr style=\"text-align: right;\">\n",
       "      <th></th>\n",
       "      <th>Orig Column Name</th>\n",
       "      <th>New Name</th>\n",
       "    </tr>\n",
       "  </thead>\n",
       "  <tbody>\n",
       "    <tr>\n",
       "      <th>0</th>\n",
       "      <td>Victim_Age</td>\n",
       "      <td>Civilian.Victim.Age</td>\n",
       "    </tr>\n",
       "    <tr>\n",
       "      <th>1</th>\n",
       "      <td>Victim_Gender</td>\n",
       "      <td>Civilian.Victim.Gender</td>\n",
       "    </tr>\n",
       "    <tr>\n",
       "      <th>2</th>\n",
       "      <td>Victim_Race</td>\n",
       "      <td>Civilian.Victim.Race_Code</td>\n",
       "    </tr>\n",
       "    <tr>\n",
       "      <th>3</th>\n",
       "      <td>Witness_Age</td>\n",
       "      <td>Civilian.Witness.Age</td>\n",
       "    </tr>\n",
       "    <tr>\n",
       "      <th>4</th>\n",
       "      <td>Witness_Gender</td>\n",
       "      <td>Civilian.Witness.Gender</td>\n",
       "    </tr>\n",
       "  </tbody>\n",
       "</table>\n",
       "</div>"
      ],
      "text/plain": [
       "  Orig Column Name                   New Name\n",
       "0       Victim_Age        Civilian.Victim.Age\n",
       "1    Victim_Gender     Civilian.Victim.Gender\n",
       "2      Victim_Race  Civilian.Victim.Race_Code\n",
       "3      Witness_Age       Civilian.Witness.Age\n",
       "4   Witness_Gender    Civilian.Witness.Gender"
      ]
     },
     "execution_count": 16,
     "metadata": {},
     "output_type": "execute_result"
    }
   ],
   "source": [
    "##doc_path = '/Data/chicago-police-data/02-column_std'\n",
    "##column_dict = db.download_file(doc_path+'/doc/','Column_Dictionary.csv')\n",
    "\n",
    "doc_path = local_path\n",
    "column_dict = pd.read_csv(doc_path+'/doc/'+'Column_Dictionary.csv').iloc[:,0:2]\n",
    "column_dict.head()"
   ]
  },
  {
   "cell_type": "code",
   "execution_count": 17,
   "metadata": {
    "collapsed": true
   },
   "outputs": [],
   "source": [
    "## SOMETHING TO PUT IN UTILS? HOW WOULD THE SPECIFIED COLUMN_DICT WORK?\n",
    "\n",
    "def column_mapper(df,\n",
    "                  column_dict = column_dict):\n",
    "    current_columns = pd.DataFrame(df.columns.tolist(),columns=['Orig Column Name'])\n",
    "    new_columns = current_columns.merge(column_dict,how='left',on='Orig Column Name')['New Name'].tolist() \n",
    "    if current_columns.shape[0] == len(new_columns):\n",
    "        return new_columns\n",
    "    else:\n",
    "        print(\"Join failed, more columns returned than expected\")"
   ]
  },
  {
   "cell_type": "markdown",
   "metadata": {},
   "source": [
    "## October 2016 Data"
   ]
  },
  {
   "cell_type": "markdown",
   "metadata": {},
   "source": [
    "### Report 1"
   ]
  },
  {
   "cell_type": "code",
   "execution_count": 18,
   "metadata": {
    "collapsed": false
   },
   "outputs": [
    {
     "data": {
      "text/plain": [
       "['CR_AllRecords.csv', 'CR_AllRecords.xlsx', 'CR_AllRecords_metadata.csv']"
      ]
     },
     "execution_count": 18,
     "metadata": {},
     "output_type": "execute_result"
    }
   ],
   "source": [
    "in_path_oct_2016_report = in_path\n",
    "out_path_oct_2016_report = out_path\n",
    "\n",
    "\n",
    "files = db.list_files(in_path_oct_2016_report)\n",
    "files"
   ]
  },
  {
   "cell_type": "code",
   "execution_count": 19,
   "metadata": {
    "collapsed": false
   },
   "outputs": [
    {
     "name": "stdout",
     "output_type": "stream",
     "text": [
      "/Data/chicago-police-data/import/output/complaints-cpd-2016-oct/cr_allrecords.csv\n"
     ]
    },
    {
     "name": "stderr",
     "output_type": "stream",
     "text": [
      "/Users/thudson/anaconda/envs/civis-model/lib/python3.5/site-packages/IPython/core/interactiveshell.py:2821: DtypeWarning: Columns (1) have mixed types. Specify dtype option on import or set low_memory=False.\n",
      "  if self.run_code(code, result):\n"
     ]
    },
    {
     "data": {
      "text/plain": [
       "['Officer_Name',\n",
       " 'Officer_Unit',\n",
       " 'Date_of_Appointment',\n",
       " 'CRID',\n",
       " 'Initial_Complaint_Category',\n",
       " 'Final_Complaint_Category',\n",
       " 'Incident_Date',\n",
       " 'Complaint_Date',\n",
       " 'Closed_Date',\n",
       " 'Final_Finding',\n",
       " 'Final_Action_Taken',\n",
       " 'Final_Action_Description']"
      ]
     },
     "execution_count": 19,
     "metadata": {},
     "output_type": "execute_result"
    }
   ],
   "source": [
    "file = files[0]\n",
    "df = db.download_file(in_path_oct_2016_report,file)\n",
    "df.columns.tolist()"
   ]
  },
  {
   "cell_type": "code",
   "execution_count": 20,
   "metadata": {
    "collapsed": false
   },
   "outputs": [
    {
     "name": "stdout",
     "output_type": "stream",
     "text": [
      "(134683, 10)\n",
      "(134683, 14)\n"
     ]
    },
    {
     "data": {
      "text/html": [
       "<div>\n",
       "<table border=\"1\" class=\"dataframe\">\n",
       "  <thead>\n",
       "    <tr style=\"text-align: right;\">\n",
       "      <th></th>\n",
       "      <th>Officer_Name</th>\n",
       "      <th>Officer_Unit</th>\n",
       "      <th>Date_of_Appointment</th>\n",
       "      <th>CRID</th>\n",
       "      <th>Incident_Date</th>\n",
       "      <th>Complaint_Date</th>\n",
       "      <th>Closed_Date</th>\n",
       "      <th>Final_Finding</th>\n",
       "      <th>Final_Action_Taken</th>\n",
       "      <th>Final_Action_Description</th>\n",
       "      <th>Initial_Complaint_Category</th>\n",
       "      <th>Initial_Complaint_Description</th>\n",
       "      <th>Final_Complaint_Category</th>\n",
       "      <th>Final_Complaint_Description</th>\n",
       "    </tr>\n",
       "  </thead>\n",
       "  <tbody>\n",
       "    <tr>\n",
       "      <th>0</th>\n",
       "      <td>ABBATE, ANTHONY G</td>\n",
       "      <td>011</td>\n",
       "      <td>05-DEC-1994</td>\n",
       "      <td>237004</td>\n",
       "      <td>21-MAY-1997</td>\n",
       "      <td>21-MAY-1997</td>\n",
       "      <td>25-MAY-1999</td>\n",
       "      <td>UN</td>\n",
       "      <td>600</td>\n",
       "      <td>NO ACTION TAKEN</td>\n",
       "      <td>05A</td>\n",
       "      <td>ARRESTEE - DURING ARREST</td>\n",
       "      <td>05B</td>\n",
       "      <td>ARRESTEE - DURING ARREST</td>\n",
       "    </tr>\n",
       "    <tr>\n",
       "      <th>1</th>\n",
       "      <td>ABBATE, ANTHONY G</td>\n",
       "      <td>011</td>\n",
       "      <td>05-DEC-1994</td>\n",
       "      <td>258124</td>\n",
       "      <td>19-NOV-1999</td>\n",
       "      <td>20-NOV-1999</td>\n",
       "      <td>07-DEC-2000</td>\n",
       "      <td>NS</td>\n",
       "      <td>600</td>\n",
       "      <td>NO ACTION TAKEN</td>\n",
       "      <td>04E</td>\n",
       "      <td>PRISONERS PROPERTY - INVENTORY/RECEIPT</td>\n",
       "      <td>04E</td>\n",
       "      <td>PRISONERS PROPERTY - INVENTORY/RECEIPT</td>\n",
       "    </tr>\n",
       "    <tr>\n",
       "      <th>2</th>\n",
       "      <td>ABBATE, CARMEL G</td>\n",
       "      <td>641</td>\n",
       "      <td>06-JAN-1969</td>\n",
       "      <td>190369</td>\n",
       "      <td>11-FEB-1992</td>\n",
       "      <td>11-FEB-1992</td>\n",
       "      <td>09-APR-1992</td>\n",
       "      <td>UN</td>\n",
       "      <td>600</td>\n",
       "      <td>NO ACTION TAKEN</td>\n",
       "      <td>03G</td>\n",
       "      <td>MISCELLANEOUS</td>\n",
       "      <td>03G</td>\n",
       "      <td>MISCELLANEOUS</td>\n",
       "    </tr>\n",
       "    <tr>\n",
       "      <th>3</th>\n",
       "      <td>ABBATE, CARMEL G</td>\n",
       "      <td>640</td>\n",
       "      <td>06-JAN-1969</td>\n",
       "      <td>210426</td>\n",
       "      <td>30-JUL-1994</td>\n",
       "      <td>14-JUL-1994</td>\n",
       "      <td>01-DEC-1994</td>\n",
       "      <td>NS</td>\n",
       "      <td>600</td>\n",
       "      <td>NO ACTION TAKEN</td>\n",
       "      <td>10V</td>\n",
       "      <td>INVENTORY PROCEDURES</td>\n",
       "      <td>04E</td>\n",
       "      <td>INVENTORY PROCEDURES</td>\n",
       "    </tr>\n",
       "    <tr>\n",
       "      <th>4</th>\n",
       "      <td>ABBATE, CARMEL G</td>\n",
       "      <td>640</td>\n",
       "      <td>06-JAN-1969</td>\n",
       "      <td>219424</td>\n",
       "      <td>12-JUL-1995</td>\n",
       "      <td>19-JUL-1995</td>\n",
       "      <td>23-JAN-1996</td>\n",
       "      <td>NS</td>\n",
       "      <td>600</td>\n",
       "      <td>NO ACTION TAKEN</td>\n",
       "      <td>09J</td>\n",
       "      <td>MISCELLANEOUS</td>\n",
       "      <td>05A</td>\n",
       "      <td>MISCELLANEOUS</td>\n",
       "    </tr>\n",
       "  </tbody>\n",
       "</table>\n",
       "</div>"
      ],
      "text/plain": [
       "        Officer_Name Officer_Unit Date_of_Appointment    CRID Incident_Date  \\\n",
       "0  ABBATE, ANTHONY G          011         05-DEC-1994  237004   21-MAY-1997   \n",
       "1  ABBATE, ANTHONY G          011         05-DEC-1994  258124   19-NOV-1999   \n",
       "2   ABBATE, CARMEL G          641         06-JAN-1969  190369   11-FEB-1992   \n",
       "3   ABBATE, CARMEL G          640         06-JAN-1969  210426   30-JUL-1994   \n",
       "4   ABBATE, CARMEL G          640         06-JAN-1969  219424   12-JUL-1995   \n",
       "\n",
       "  Complaint_Date  Closed_Date Final_Finding  Final_Action_Taken  \\\n",
       "0    21-MAY-1997  25-MAY-1999            UN                 600   \n",
       "1    20-NOV-1999  07-DEC-2000            NS                 600   \n",
       "2    11-FEB-1992  09-APR-1992            UN                 600   \n",
       "3    14-JUL-1994  01-DEC-1994            NS                 600   \n",
       "4    19-JUL-1995  23-JAN-1996            NS                 600   \n",
       "\n",
       "  Final_Action_Description Initial_Complaint_Category  \\\n",
       "0          NO ACTION TAKEN                        05A   \n",
       "1          NO ACTION TAKEN                        04E   \n",
       "2          NO ACTION TAKEN                        03G   \n",
       "3          NO ACTION TAKEN                        10V   \n",
       "4          NO ACTION TAKEN                        09J   \n",
       "\n",
       "            Initial_Complaint_Description Final_Complaint_Category  \\\n",
       "0                ARRESTEE - DURING ARREST                      05B   \n",
       "1  PRISONERS PROPERTY - INVENTORY/RECEIPT                      04E   \n",
       "2                           MISCELLANEOUS                      03G   \n",
       "3                    INVENTORY PROCEDURES                      04E   \n",
       "4                           MISCELLANEOUS                      05A   \n",
       "\n",
       "              Final_Complaint_Description  \n",
       "0                ARRESTEE - DURING ARREST  \n",
       "1  PRISONERS PROPERTY - INVENTORY/RECEIPT  \n",
       "2                           MISCELLANEOUS  \n",
       "3                    INVENTORY PROCEDURES  \n",
       "4                           MISCELLANEOUS  "
      ]
     },
     "execution_count": 20,
     "metadata": {},
     "output_type": "execute_result"
    }
   ],
   "source": [
    "def Complaint_Category_Splitter(string):\n",
    "    new_string = str(string).split('   ',1)\n",
    "    if len(new_string)==1:\n",
    "        new_string= ['nan','nan']\n",
    "    return new_string\n",
    "\n",
    "split_df_initial = pd.DataFrame(df.Initial_Complaint_Category.apply(Complaint_Category_Splitter).tolist(),\n",
    "                                columns = ['Initial_Complaint_Category','Initial_Complaint_Description'])\n",
    "\n",
    "split_df_final = pd.DataFrame(df.Final_Complaint_Category.apply(Complaint_Category_Splitter).tolist(),\n",
    "                                columns = ['Final_Complaint_Category','Final_Complaint_Description'])\n",
    "\n",
    "\n",
    "df = df.drop([\"Initial_Complaint_Category\",\"Final_Complaint_Category\"],axis=1)\n",
    "df1 = df.merge(split_df_initial,how='left',left_index=True,right_index=True)\n",
    "df2 = df1.merge(split_df_final,how='left',left_index=True,right_index=True)\n",
    "print(df.shape)\n",
    "print(df2.shape)\n",
    "df2.head()"
   ]
  },
  {
   "cell_type": "code",
   "execution_count": 21,
   "metadata": {
    "collapsed": true
   },
   "outputs": [],
   "source": [
    "df = df2"
   ]
  },
  {
   "cell_type": "code",
   "execution_count": 22,
   "metadata": {
    "collapsed": false
   },
   "outputs": [
    {
     "data": {
      "text/plain": [
       "['Officer.Accused.Full_Name',\n",
       " 'Officer.Accused.Unit',\n",
       " 'Officer.Accused.Appointed_Date',\n",
       " 'CRID',\n",
       " 'Incident.Time.Date',\n",
       " 'Complaint.Date',\n",
       " 'Complaint.Current.Closed_date',\n",
       " 'Complaint.Final.Finding',\n",
       " 'Complaint.Final.Action_Taken',\n",
       " 'Complaint.Final.Action_Description',\n",
       " 'Complaint.Initial.Category',\n",
       " 'Complaint.Initial.Description',\n",
       " 'Complaint.Final.Category',\n",
       " 'Complaint.Final.Description']"
      ]
     },
     "execution_count": 22,
     "metadata": {},
     "output_type": "execute_result"
    }
   ],
   "source": [
    "df.columns = column_mapper(df)\n",
    "df.columns.tolist()"
   ]
  },
  {
   "cell_type": "code",
   "execution_count": 25,
   "metadata": {
    "collapsed": false
   },
   "outputs": [
    {
     "data": {
      "text/plain": [
       "0              NO ACTION TAKEN\n",
       "1              NO ACTION TAKEN\n",
       "2              NO ACTION TAKEN\n",
       "3              NO ACTION TAKEN\n",
       "4              NO ACTION TAKEN\n",
       "5              NO ACTION TAKEN\n",
       "6              NO ACTION TAKEN\n",
       "7              NO ACTION TAKEN\n",
       "8                    REPRIMAND\n",
       "9              NO ACTION TAKEN\n",
       "10             NO ACTION TAKEN\n",
       "11             NO ACTION TAKEN\n",
       "12             NO ACTION TAKEN\n",
       "13             NO ACTION TAKEN\n",
       "14             NO ACTION TAKEN\n",
       "15             NO ACTION TAKEN\n",
       "16             NO ACTION TAKEN\n",
       "17                  SEPARATION\n",
       "18             NO ACTION TAKEN\n",
       "19             NO ACTION TAKEN\n",
       "20             NO ACTION TAKEN\n",
       "21             NO ACTION TAKEN\n",
       "22             NO ACTION TAKEN\n",
       "23                   REPRIMAND\n",
       "24             NO ACTION TAKEN\n",
       "25             NO ACTION TAKEN\n",
       "26        SUSTAINED-NO PENALTY\n",
       "27             NO ACTION TAKEN\n",
       "28                   REPRIMAND\n",
       "29             NO ACTION TAKEN\n",
       "                  ...         \n",
       "134653         NO ACTION TAKEN\n",
       "134654         NO ACTION TAKEN\n",
       "134655         NO ACTION TAKEN\n",
       "134656         NO ACTION TAKEN\n",
       "134657         NO ACTION TAKEN\n",
       "134658    SUSTAINED-NO PENALTY\n",
       "134659         NO ACTION TAKEN\n",
       "134660         NO ACTION TAKEN\n",
       "134661         NO ACTION TAKEN\n",
       "134662         NO ACTION TAKEN\n",
       "134663              SEPARATION\n",
       "134664         NO ACTION TAKEN\n",
       "134665         NO ACTION TAKEN\n",
       "134666         NO ACTION TAKEN\n",
       "134667         NO ACTION TAKEN\n",
       "134668         NO ACTION TAKEN\n",
       "134669         NO ACTION TAKEN\n",
       "134670         NO ACTION TAKEN\n",
       "134671         NO ACTION TAKEN\n",
       "134672         NO ACTION TAKEN\n",
       "134673         NO ACTION TAKEN\n",
       "134674         NO ACTION TAKEN\n",
       "134675         NO ACTION TAKEN\n",
       "134676         NO ACTION TAKEN\n",
       "134677         NO ACTION TAKEN\n",
       "134678         NO ACTION TAKEN\n",
       "134679         NO ACTION TAKEN\n",
       "134680         NO ACTION TAKEN\n",
       "134681         NO ACTION TAKEN\n",
       "134682         NO ACTION TAKEN\n",
       "Name: Complaint.Final.Action_Description, dtype: object"
      ]
     },
     "execution_count": 25,
     "metadata": {},
     "output_type": "execute_result"
    }
   ],
   "source": [
    "df['Complaint.Final.Action_Description']"
   ]
  },
  {
   "cell_type": "code",
   "execution_count": 23,
   "metadata": {
    "collapsed": false
   },
   "outputs": [],
   "source": [
    "df.to_csv(out_path_oct_2016_report+file,index=False)"
   ]
  }
 ],
 "metadata": {
  "anaconda-cloud": {},
  "kernelspec": {
   "display_name": "Civis Model",
   "language": "python",
   "name": "civis-model"
  },
  "language_info": {
   "codemirror_mode": {
    "name": "ipython",
    "version": 3
   },
   "file_extension": ".py",
   "mimetype": "text/x-python",
   "name": "python",
   "nbconvert_exporter": "python",
   "pygments_lexer": "ipython3",
   "version": "3.5.2"
  }
 },
 "nbformat": 4,
 "nbformat_minor": 0
}
