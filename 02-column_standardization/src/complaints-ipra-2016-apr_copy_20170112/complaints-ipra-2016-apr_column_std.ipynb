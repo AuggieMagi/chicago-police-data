{
 "cells": [
  {
   "cell_type": "code",
   "execution_count": 1,
   "metadata": {
    "collapsed": true
   },
   "outputs": [],
   "source": [
    "import re\n",
    "import datetime\n",
    "import numpy as np\n",
    "import pandas as pd \n",
    "import os\n",
    "import sys\n",
    "import itertools\n",
    "import io"
   ]
  },
  {
   "cell_type": "code",
   "execution_count": 2,
   "metadata": {
    "collapsed": true
   },
   "outputs": [],
   "source": [
    "module_path = os.path.abspath(os.path.join('..'))\n",
    "if module_path not in sys.path:\n",
    "    sys.path.append(module_path)\n",
    "from utils.utils import *"
   ]
  },
  {
   "cell_type": "markdown",
   "metadata": {},
   "source": [
    "### Establishes General Path"
   ]
  },
  {
   "cell_type": "code",
   "execution_count": 3,
   "metadata": {
    "collapsed": false
   },
   "outputs": [],
   "source": [
    "##local_path = \"/your/path/here\"\n",
    "local_path = \"/users/thudson/Documents/Dropbox/chicago-police-data/02-column_std\""
   ]
  },
  {
   "cell_type": "code",
   "execution_count": 4,
   "metadata": {
    "collapsed": false
   },
   "outputs": [
    {
     "data": {
      "text/plain": [
       "['incomplete',\n",
       " 'TRRs',\n",
       " 'complaints-cpd-2016-dec',\n",
       " 'complaints-cpd-2016-jun',\n",
       " 'complaints-cpd-2016-nov',\n",
       " 'complaints-cpd-2016-oct',\n",
       " 'complaints-ipra-2016-apr',\n",
       " 'complaints-merged-2015',\n",
       " 'shootings-cpd-feb2016',\n",
       " 'shootings-ipra-may2016']"
      ]
     },
     "execution_count": 4,
     "metadata": {},
     "output_type": "execute_result"
    }
   ],
   "source": [
    "path = '/Data/chicago-police-data/import'\n",
    "db = dropbox_handler()\n",
    "db.list_files(path+'/output')"
   ]
  },
  {
   "cell_type": "code",
   "execution_count": 5,
   "metadata": {
    "collapsed": false
   },
   "outputs": [],
   "source": [
    "in_path = path + '/output/complaints-ipra-2016-apr/'\n",
    "out_path = local_path + '/output/complaints-ipra-2016-apr/'"
   ]
  },
  {
   "cell_type": "code",
   "execution_count": 6,
   "metadata": {
    "collapsed": false
   },
   "outputs": [
    {
     "name": "stdout",
     "output_type": "stream",
     "text": [
      "path exists: /users/thudson/Documents/Dropbox/chicago-police-data/02-column_std/output/complaints-ipra-2016-apr/\n"
     ]
    }
   ],
   "source": [
    "try:\n",
    "    os.mkdir(out_path)\n",
    "except:\n",
    "    print(\"path exists: {}\".format(out_path))"
   ]
  },
  {
   "cell_type": "code",
   "execution_count": 7,
   "metadata": {
    "collapsed": false
   },
   "outputs": [
    {
     "data": {
      "text/html": [
       "<div>\n",
       "<table border=\"1\" class=\"dataframe\">\n",
       "  <thead>\n",
       "    <tr style=\"text-align: right;\">\n",
       "      <th></th>\n",
       "      <th>Orig Column Name</th>\n",
       "      <th>New Name</th>\n",
       "    </tr>\n",
       "  </thead>\n",
       "  <tbody>\n",
       "    <tr>\n",
       "      <th>0</th>\n",
       "      <td>Accused</td>\n",
       "      <td>Officer.Accused.Full_Name</td>\n",
       "    </tr>\n",
       "    <tr>\n",
       "      <th>1</th>\n",
       "      <td>Accused_Appointed_Date</td>\n",
       "      <td>Officer.Accused.Appointed_Date</td>\n",
       "    </tr>\n",
       "    <tr>\n",
       "      <th>2</th>\n",
       "      <td>Accused_Appointment_Date</td>\n",
       "      <td>Officer.Accused.Appointed_Date</td>\n",
       "    </tr>\n",
       "    <tr>\n",
       "      <th>3</th>\n",
       "      <td>Accused_Birth_Year</td>\n",
       "      <td>Officer.Accused.Birth_Year</td>\n",
       "    </tr>\n",
       "    <tr>\n",
       "      <th>4</th>\n",
       "      <td>Accused_Detail</td>\n",
       "      <td>Officer.Accused.Detail</td>\n",
       "    </tr>\n",
       "  </tbody>\n",
       "</table>\n",
       "</div>"
      ],
      "text/plain": [
       "           Orig Column Name                        New Name\n",
       "0                   Accused       Officer.Accused.Full_Name\n",
       "1    Accused_Appointed_Date  Officer.Accused.Appointed_Date\n",
       "2  Accused_Appointment_Date  Officer.Accused.Appointed_Date\n",
       "3        Accused_Birth_Year      Officer.Accused.Birth_Year\n",
       "4            Accused_Detail          Officer.Accused.Detail"
      ]
     },
     "execution_count": 7,
     "metadata": {},
     "output_type": "execute_result"
    }
   ],
   "source": [
    "##doc_path = '/Data/chicago-police-data/02-column_std'\n",
    "##column_dict = db.download_file(doc_path+'/doc/','Column_Dictionary.csv')\n",
    "\n",
    "doc_path = local_path\n",
    "column_dict = pd.read_csv(doc_path+'/doc/'+'Column_Dictionary.csv').iloc[:,0:2]\n",
    "column_dict.head()"
   ]
  },
  {
   "cell_type": "code",
   "execution_count": 8,
   "metadata": {
    "collapsed": true
   },
   "outputs": [],
   "source": [
    "## SOMETHING TO PUT IN UTILS? HOW WOULD THE SPECIFIED COLUMN_DICT WORK?\n",
    "\n",
    "def column_mapper(df,\n",
    "                  column_dict = column_dict):\n",
    "    current_columns = pd.DataFrame(df.columns.tolist(),columns=['Orig Column Name'])\n",
    "    new_columns = current_columns.merge(column_dict,how='left',on='Orig Column Name')['New Name'].tolist() \n",
    "    if current_columns.shape[0] == len(new_columns):\n",
    "        return new_columns\n",
    "    else:\n",
    "        print(\"Join failed, more columns returned than expected\")"
   ]
  },
  {
   "cell_type": "markdown",
   "metadata": {},
   "source": [
    "## Apr 2016 Data"
   ]
  },
  {
   "cell_type": "markdown",
   "metadata": {},
   "source": [
    "### Report 1"
   ]
  },
  {
   "cell_type": "code",
   "execution_count": 9,
   "metadata": {
    "collapsed": false
   },
   "outputs": [
    {
     "data": {
      "text/plain": [
       "['All_complaints_during_2012-2016YTD.csv',\n",
       " 'All_complaints_during_2012-2016YTD.xlsx',\n",
       " 'All_complaints_during_2012-2016YTD_metadata.csv',\n",
       " 'IPRA_Investigators_Officers.csv',\n",
       " 'IPRA_Investigators_Officers.xlsx',\n",
       " 'IPRA_Investigators_Officers_metadata.csv',\n",
       " 'IPRA_Investigators_Staff.csv',\n",
       " 'IPRA_Investigators_Staff.xlsx',\n",
       " 'IPRA_Investigators_Staff_metadata.csv',\n",
       " 'Shootings_Victim_Data.csv',\n",
       " 'Shootings_Victim_Data.xlsx',\n",
       " 'Shootings_Victim_Data_metadata.csv']"
      ]
     },
     "execution_count": 9,
     "metadata": {},
     "output_type": "execute_result"
    }
   ],
   "source": [
    "in_path_apr_2016_report = in_path\n",
    "out_path_apr_2016_report = out_path\n",
    "\n",
    "files = db.list_files(in_path_apr_2016_report)\n",
    "files"
   ]
  },
  {
   "cell_type": "code",
   "execution_count": 10,
   "metadata": {
    "collapsed": false
   },
   "outputs": [
    {
     "name": "stdout",
     "output_type": "stream",
     "text": [
      "/Data/chicago-police-data/import/output/complaints-ipra-2016-apr/all_complaints_during_2012-2016ytd.csv\n"
     ]
    },
    {
     "name": "stderr",
     "output_type": "stream",
     "text": [
      "/Users/thudson/anaconda/envs/civis-model/lib/python3.5/site-packages/IPython/core/interactiveshell.py:2821: DtypeWarning: Columns (25) have mixed types. Specify dtype option on import or set low_memory=False.\n",
      "  if self.run_code(code, result):\n"
     ]
    },
    {
     "data": {
      "text/plain": [
       "['CRID',\n",
       " 'Beat',\n",
       " 'Address',\n",
       " 'Street',\n",
       " 'Address_of_Incident',\n",
       " 'Location_Value',\n",
       " 'Incident_Time_Start',\n",
       " 'Incident_Time_End',\n",
       " 'Notification_Date',\n",
       " 'Closed_Date',\n",
       " 'Investigator_Last_Name',\n",
       " 'Investigator_First_Name',\n",
       " 'Accused_First_Name',\n",
       " 'Accused_Last_Name',\n",
       " 'Accused_Star',\n",
       " 'Accused_Unit',\n",
       " 'Accused_Detail',\n",
       " 'Accused_Appointment_Date',\n",
       " 'Accused_Rank',\n",
       " 'Initial_Category_Code',\n",
       " 'Initial_Category_Description',\n",
       " 'Current_Category_Code',\n",
       " 'Current_Category_Description',\n",
       " 'Current_Status',\n",
       " 'Finding_Code',\n",
       " 'Disciple_Code',\n",
       " 'Discipline_Description',\n",
       " 'Involved_Officer_Last_Name',\n",
       " 'Involved_Officer_First_Name',\n",
       " 'Involved_Officer_Unit',\n",
       " 'Involved_Officer_Detail',\n",
       " 'Involved_Officer_Rank',\n",
       " 'Involved_Officer_Age',\n",
       " 'Involved_Officer_Sex',\n",
       " 'Involved_Officer_Race',\n",
       " 'Report_Produced_Date']"
      ]
     },
     "execution_count": 10,
     "metadata": {},
     "output_type": "execute_result"
    }
   ],
   "source": [
    "file = files[0]\n",
    "df = db.download_file(in_path_apr_2016_report,file)\n",
    "df.columns.tolist()"
   ]
  },
  {
   "cell_type": "code",
   "execution_count": 16,
   "metadata": {
    "collapsed": false
   },
   "outputs": [
    {
     "data": {
      "text/plain": [
       "array(['20C', 'S123', '05M', '05A', 'S001', '20B', 'S013', '05K', '05R',\n",
       "       '01B', 'S117', 'S008', '05B', 'S021', '05Q', '20A', '20D', '05P',\n",
       "       '05Z', 'S022', 'S121', 'S119', 'S020', '04H', 'S014', 'S031',\n",
       "       'S026', 'S125', '10J', 'S028', '04Z', nan, 'S002', '01C', '05C',\n",
       "       'S109', '05L', 'S043', 'S249', 'S083', 'S042', 'S010', 'S006',\n",
       "       '05G', 'S011', 'S029', 'S110', 'S009', '09A', 'S035', 'S196', '01Z',\n",
       "       '20Z', '03D', 'S084', 'S012', 'S005', '03B', 'S007', '01A', '05N',\n",
       "       'S023', '12B', 'S251', 'S253', '04D', '18A', 'S112', 'S065', 'S114',\n",
       "       'S004', 'S113', 'S081', 'S044', 'S056', '02B', 'S116', 'S126',\n",
       "       '19A', 'S027', '10Z', 'S101', '05D', 'S118', 'S033', '05F', 'S030',\n",
       "       '18B', '05J', 'S111', '10M', '10U', 'S085', '05H', 'S094', '03G',\n",
       "       '03T', '05E', '19B', '10Q', '12Z', 'S115', 'S057', 'S017', 'S068',\n",
       "       'S055', '08Z', '01D', 'S025', 'S036', 'S058', 'S041', 'S032'], dtype=object)"
      ]
     },
     "execution_count": 16,
     "metadata": {},
     "output_type": "execute_result"
    }
   ],
   "source": [
    "df['Initial_Category_Code'].unique()"
   ]
  },
  {
   "cell_type": "code",
   "execution_count": 20,
   "metadata": {
    "collapsed": false
   },
   "outputs": [
    {
     "data": {
      "text/plain": [
       "['CRID',\n",
       " 'Incident.Location.Beat',\n",
       " 'Incident.Location.Address_Nbr',\n",
       " 'Incident.Location.Street',\n",
       " 'Incident.Location.Address',\n",
       " 'Incident.Location.Location_Value',\n",
       " 'Incident.Time.Start_Time',\n",
       " 'Incident.Time.End_Time',\n",
       " 'Complaint.Notification_Date',\n",
       " 'Complaint.Current.Closed_date',\n",
       " 'Investigator.Last_Name',\n",
       " 'Investigator.First_Name',\n",
       " 'Officer.Accused.First_Name',\n",
       " 'Officer.Accused.Last_Name',\n",
       " 'Officer.Accused.Star',\n",
       " 'Officer.Accused.Unit',\n",
       " 'Officer.Accused.Detail',\n",
       " 'Officer.Accused.Appointed_Date',\n",
       " 'Officer.Accused.Rank',\n",
       " 'Complaint.Initial.Category',\n",
       " 'Complaint.Initial.Description',\n",
       " 'Complaint.Current.Category',\n",
       " 'Complaint.Current.Description',\n",
       " 'Complaint.Current.Case_Status',\n",
       " 'Complaint.Current.Finding',\n",
       " 'Complaint.Discipline.Code',\n",
       " 'Complaint.Discipline.Description',\n",
       " 'Officer.Involved.Last_Name',\n",
       " 'Officer.Involved.First_Name',\n",
       " 'Officer.Involved.Unit',\n",
       " 'Officer.Involved.Detail',\n",
       " 'Officer.Involved.Rank',\n",
       " 'Officer.Involved.Age',\n",
       " 'Officer.Involved.Gender',\n",
       " 'Officer.Involved.Race',\n",
       " 'Report_Produced_Date']"
      ]
     },
     "execution_count": 20,
     "metadata": {},
     "output_type": "execute_result"
    }
   ],
   "source": [
    "df.columns = column_mapper(df)\n",
    "df.columns.tolist()"
   ]
  },
  {
   "cell_type": "code",
   "execution_count": 21,
   "metadata": {
    "collapsed": true
   },
   "outputs": [],
   "source": [
    "df.to_csv(out_path_apr_2016_report+file,index=False)"
   ]
  },
  {
   "cell_type": "markdown",
   "metadata": {},
   "source": [
    "### Report 2"
   ]
  },
  {
   "cell_type": "code",
   "execution_count": 26,
   "metadata": {
    "collapsed": false
   },
   "outputs": [
    {
     "name": "stdout",
     "output_type": "stream",
     "text": [
      "/Data/chicago-police-data/import/output/complaints-ipra-2016-apr/ipra_investigators_officers.csv\n"
     ]
    },
    {
     "data": {
      "text/plain": [
       "['CRID',\n",
       " 'Investigator_Last_Name',\n",
       " 'Investigator_First_name',\n",
       " 'Investigator_Rank']"
      ]
     },
     "execution_count": 26,
     "metadata": {},
     "output_type": "execute_result"
    }
   ],
   "source": [
    "file = files[3]\n",
    "df = db.download_file(in_path_apr_2016_report,file)\n",
    "df.columns.tolist()"
   ]
  },
  {
   "cell_type": "code",
   "execution_count": 27,
   "metadata": {
    "collapsed": false
   },
   "outputs": [
    {
     "data": {
      "text/plain": [
       "['CRID',\n",
       " 'Investigator.Last_Name',\n",
       " 'Investigator.First_Name',\n",
       " 'Investigator.Rank']"
      ]
     },
     "execution_count": 27,
     "metadata": {},
     "output_type": "execute_result"
    }
   ],
   "source": [
    "df.columns = column_mapper(df)\n",
    "df.columns.tolist()"
   ]
  },
  {
   "cell_type": "code",
   "execution_count": 28,
   "metadata": {
    "collapsed": true
   },
   "outputs": [],
   "source": [
    "df.to_csv(out_path_apr_2016_report+file,index=False)"
   ]
  },
  {
   "cell_type": "markdown",
   "metadata": {},
   "source": [
    "### Report 3"
   ]
  },
  {
   "cell_type": "code",
   "execution_count": 35,
   "metadata": {
    "collapsed": false
   },
   "outputs": [
    {
     "name": "stdout",
     "output_type": "stream",
     "text": [
      "/Data/chicago-police-data/import/output/complaints-ipra-2016-apr/ipra_investigators_staff.csv\n"
     ]
    },
    {
     "data": {
      "text/plain": [
       "['Investigator_Name',\n",
       " 'Investigator_Rank',\n",
       " 'Investigator_City_Hire_Date',\n",
       " 'Investigator_IPRA_Hire_Date',\n",
       " 'Investigator_Employment_Status',\n",
       " 'Investigator_Left_Date']"
      ]
     },
     "execution_count": 35,
     "metadata": {},
     "output_type": "execute_result"
    }
   ],
   "source": [
    "file = files[6]\n",
    "df = db.download_file(in_path_apr_2016_report,file)\n",
    "df.columns.tolist()"
   ]
  },
  {
   "cell_type": "code",
   "execution_count": 36,
   "metadata": {
    "collapsed": false
   },
   "outputs": [
    {
     "data": {
      "text/plain": [
       "['Investigator.Full_Name',\n",
       " 'Investigator.Rank',\n",
       " 'Investigator.City_Hire_Date',\n",
       " 'Investigator.IPRA_Hire_Date',\n",
       " 'Investigator.Employment_Status',\n",
       " 'Investigator.Left_Date']"
      ]
     },
     "execution_count": 36,
     "metadata": {},
     "output_type": "execute_result"
    }
   ],
   "source": [
    "df.columns = column_mapper(df)\n",
    "df.columns.tolist()"
   ]
  },
  {
   "cell_type": "code",
   "execution_count": 37,
   "metadata": {
    "collapsed": true
   },
   "outputs": [],
   "source": [
    "df.to_csv(out_path_apr_2016_report+file,index=False)"
   ]
  },
  {
   "cell_type": "markdown",
   "metadata": {},
   "source": [
    "### Report 4"
   ]
  },
  {
   "cell_type": "code",
   "execution_count": 57,
   "metadata": {
    "collapsed": false
   },
   "outputs": [
    {
     "name": "stdout",
     "output_type": "stream",
     "text": [
      "/Data/chicago-police-data/import/output/complaints-ipra-2016-apr/shootings_victim_data.csv\n"
     ]
    },
    {
     "data": {
      "text/plain": [
       "['CRID',\n",
       " 'Unit',\n",
       " 'Police_Shooting',\n",
       " 'Incident_Date',\n",
       " 'Address',\n",
       " 'Direction',\n",
       " 'Street',\n",
       " 'Address_of_Incident',\n",
       " 'City',\n",
       " 'Zip',\n",
       " 'Party',\n",
       " 'Initial_Category_Code',\n",
       " 'Initial_Category_Description',\n",
       " 'Initital_Category_Type_Code',\n",
       " 'Initital_Category_Type_Description',\n",
       " 'Current_Category_Code',\n",
       " 'Current_Category_Description',\n",
       " 'Current_Category_Type_Code',\n",
       " 'Current_Category_Type_Description',\n",
       " 'Victim_Age',\n",
       " 'Victim_Sex',\n",
       " 'Victim_Race',\n",
       " 'Complaint_Date',\n",
       " 'CR_Required',\n",
       " 'Report_Produced_Date']"
      ]
     },
     "execution_count": 57,
     "metadata": {},
     "output_type": "execute_result"
    }
   ],
   "source": [
    "file = files[9]\n",
    "df = db.download_file(in_path_apr_2016_report,file)\n",
    "df.columns.tolist()"
   ]
  },
  {
   "cell_type": "code",
   "execution_count": 58,
   "metadata": {
    "collapsed": false
   },
   "outputs": [
    {
     "data": {
      "text/plain": [
       "['CRID',\n",
       " 'Incident.Unit',\n",
       " 'Incident.Police_Shooting',\n",
       " 'Incident.Time.Date',\n",
       " 'Incident.Location.Address_Nbr',\n",
       " 'Incident.Location.Direction',\n",
       " 'Incident.Location.Street',\n",
       " 'Incident.Location.Address',\n",
       " 'Incident.Location.City',\n",
       " 'Incident.Location.Zip',\n",
       " 'Incident.Party',\n",
       " 'Complaint.Initial.Category',\n",
       " 'Complaint.Initial.Description',\n",
       " 'Complaint.Initial.Category_Type',\n",
       " 'Complaint.Initial.Category_Type_Description',\n",
       " 'Complaint.Current.Category',\n",
       " 'Complaint.Current.Description',\n",
       " 'Complaint.Current.Category_Type',\n",
       " 'Complaint.Current.Category_Type_Description',\n",
       " 'Civilian.Victim.Age',\n",
       " 'Civilian.Victim.Gender',\n",
       " 'Civilian.Victim.Race_Code',\n",
       " 'Complaint.Date',\n",
       " 'Complaint.Register_Required',\n",
       " 'Report_Produced_Date']"
      ]
     },
     "execution_count": 58,
     "metadata": {},
     "output_type": "execute_result"
    }
   ],
   "source": [
    "df.columns = column_mapper(df)\n",
    "df.columns.tolist()"
   ]
  },
  {
   "cell_type": "code",
   "execution_count": 59,
   "metadata": {
    "collapsed": true
   },
   "outputs": [],
   "source": [
    "df.to_csv(out_path_apr_2016_report+file,index=False)"
   ]
  }
 ],
 "metadata": {
  "anaconda-cloud": {},
  "kernelspec": {
   "display_name": "Civis Model",
   "language": "python",
   "name": "civis-model"
  },
  "language_info": {
   "codemirror_mode": {
    "name": "ipython",
    "version": 3
   },
   "file_extension": ".py",
   "mimetype": "text/x-python",
   "name": "python",
   "nbconvert_exporter": "python",
   "pygments_lexer": "ipython3",
   "version": "3.5.2"
  }
 },
 "nbformat": 4,
 "nbformat_minor": 0
}
