{
 "cells": [
  {
   "cell_type": "code",
   "execution_count": 36,
   "metadata": {
    "collapsed": true
   },
   "outputs": [],
   "source": [
    "import re\n",
    "import numpy as np\n",
    "import pandas as pd \n",
    "import os\n",
    "import sys\n",
    "import itertools\n",
    "import io\n",
    "import datetime"
   ]
  },
  {
   "cell_type": "code",
   "execution_count": 37,
   "metadata": {
    "collapsed": true
   },
   "outputs": [],
   "source": [
    "module_path = os.path.abspath(os.path.join('..'))\n",
    "if module_path not in sys.path:\n",
    "    sys.path.append(module_path)\n",
    "from utils.utils import *"
   ]
  },
  {
   "cell_type": "markdown",
   "metadata": {},
   "source": [
    "### Establishes General Path"
   ]
  },
  {
   "cell_type": "code",
   "execution_count": 38,
   "metadata": {
    "collapsed": false
   },
   "outputs": [],
   "source": [
    "##local_path = \"/your/path/here\"\n",
    "local_path = \"/users/thudson/Documents/Dropbox/chicago-police-data/02-column_std\""
   ]
  },
  {
   "cell_type": "code",
   "execution_count": 39,
   "metadata": {
    "collapsed": false
   },
   "outputs": [
    {
     "data": {
      "text/plain": [
       "['incomplete',\n",
       " 'TRRs',\n",
       " 'complaints-cpd-2016-dec',\n",
       " 'complaints-cpd-2016-jun',\n",
       " 'complaints-cpd-2016-nov',\n",
       " 'complaints-cpd-2016-oct',\n",
       " 'complaints-ipra-2016-apr',\n",
       " 'complaints-merged-2015',\n",
       " 'shootings-cpd-feb2016',\n",
       " 'shootings-ipra-may2016']"
      ]
     },
     "execution_count": 39,
     "metadata": {},
     "output_type": "execute_result"
    }
   ],
   "source": [
    "path = '/Data/chicago-police-data/import'\n",
    "db = dropbox_handler()\n",
    "db.list_files(path+'/output')"
   ]
  },
  {
   "cell_type": "code",
   "execution_count": 40,
   "metadata": {
    "collapsed": false
   },
   "outputs": [],
   "source": [
    "in_path = path + '/output/complaints-cpd-2016-jun/'\n",
    "out_path = local_path + '/output/complaints-cpd-2016-jun/'"
   ]
  },
  {
   "cell_type": "code",
   "execution_count": 27,
   "metadata": {
    "collapsed": true
   },
   "outputs": [],
   "source": [
    "##os.mkdir(out_path)"
   ]
  },
  {
   "cell_type": "code",
   "execution_count": 84,
   "metadata": {
    "collapsed": false
   },
   "outputs": [
    {
     "data": {
      "text/html": [
       "<div>\n",
       "<table border=\"1\" class=\"dataframe\">\n",
       "  <thead>\n",
       "    <tr style=\"text-align: right;\">\n",
       "      <th></th>\n",
       "      <th>Orig Column Name</th>\n",
       "      <th>New Name</th>\n",
       "    </tr>\n",
       "  </thead>\n",
       "  <tbody>\n",
       "    <tr>\n",
       "      <th>0</th>\n",
       "      <td>Accused</td>\n",
       "      <td>Officer.Accused.Full_Name</td>\n",
       "    </tr>\n",
       "    <tr>\n",
       "      <th>1</th>\n",
       "      <td>Accused_Appointed_Date</td>\n",
       "      <td>Officer.Accused.Appointed_Date</td>\n",
       "    </tr>\n",
       "    <tr>\n",
       "      <th>2</th>\n",
       "      <td>Accused_Birth_Year</td>\n",
       "      <td>Officer.Accused.Birth_Year</td>\n",
       "    </tr>\n",
       "    <tr>\n",
       "      <th>3</th>\n",
       "      <td>Accused_Gender</td>\n",
       "      <td>Officer.Accused.Gender</td>\n",
       "    </tr>\n",
       "    <tr>\n",
       "      <th>4</th>\n",
       "      <td>Accused_Race_Code</td>\n",
       "      <td>Officer.Accused.Race_Code</td>\n",
       "    </tr>\n",
       "  </tbody>\n",
       "</table>\n",
       "</div>"
      ],
      "text/plain": [
       "         Orig Column Name                        New Name\n",
       "0                 Accused       Officer.Accused.Full_Name\n",
       "1  Accused_Appointed_Date  Officer.Accused.Appointed_Date\n",
       "2      Accused_Birth_Year      Officer.Accused.Birth_Year\n",
       "3          Accused_Gender          Officer.Accused.Gender\n",
       "4       Accused_Race_Code       Officer.Accused.Race_Code"
      ]
     },
     "execution_count": 84,
     "metadata": {},
     "output_type": "execute_result"
    }
   ],
   "source": [
    "##doc_path = '/Data/chicago-police-data/02-column_std'\n",
    "##column_dict = db.download_file(doc_path+'/doc/','Column_Dictionary.csv')\n",
    "\n",
    "doc_path = local_path\n",
    "column_dict = pd.read_csv(doc_path+'/doc/'+'Column_Dictionary.csv').iloc[:,0:2]\n",
    "column_dict.head()"
   ]
  },
  {
   "cell_type": "code",
   "execution_count": 85,
   "metadata": {
    "collapsed": true
   },
   "outputs": [],
   "source": [
    "## SOMETHING TO PUT IN UTILS? HOW WOULD THE SPECIFIED COLUMN_DICT WORK?\n",
    "\n",
    "def column_mapper(df,\n",
    "                  column_dict = column_dict):\n",
    "    current_columns = pd.DataFrame(df.columns.tolist(),columns=['Orig Column Name'])\n",
    "    new_columns = current_columns.merge(column_dict,how='left',on='Orig Column Name')['New Name'].tolist() \n",
    "    if current_columns.shape[0] == len(new_columns):\n",
    "        return new_columns\n",
    "    else:\n",
    "        print(\"Join failed, more columns returned than expected\")"
   ]
  },
  {
   "cell_type": "markdown",
   "metadata": {},
   "source": [
    "## June 2016 Data"
   ]
  },
  {
   "cell_type": "markdown",
   "metadata": {},
   "source": [
    "### Report 1"
   ]
  },
  {
   "cell_type": "code",
   "execution_count": 43,
   "metadata": {
    "collapsed": false
   },
   "outputs": [
    {
     "data": {
      "text/plain": [
       "['P046957_-_report_1_-_all_complaints_in_time_frame-unlocked.csv',\n",
       " 'P046957_-_report_1_-_all_complaints_in_time_frame-unlocked.xlsx',\n",
       " 'P046957_-_report_1_-_all_complaints_in_time_frame-unlocked_metadata.csv',\n",
       " 'P046957_-_report_2_-_identified_accused_xi-unlocked.csv',\n",
       " 'P046957_-_report_2_-_identified_accused_xi-unlocked.xlsx',\n",
       " 'P046957_-_report_2_-_identified_accused_xi-unlocked_metadata.csv',\n",
       " 'P046957_-_report_3_-_police_officer_witness_data_xi-unlocked.csv',\n",
       " 'P046957_-_report_3_-_police_officer_witness_data_xi-unlocked.xlsx',\n",
       " 'P046957_-_report_3_-_police_officer_witness_data_xi-unlocked_metadata.csv',\n",
       " 'P046957_-_report_4_-_victim_data-unlocked.csv',\n",
       " 'P046957_-_report_4_-_victim_data-unlocked.xlsx',\n",
       " 'P046957_-_report_4_-_victim_data-unlocked_metadata.csv',\n",
       " 'P046957_-_report_5_-_complainant_(reporting_party)_data-unlocked.csv',\n",
       " 'P046957_-_report_5_-_complainant_(reporting_party)_data-unlocked.xlsx',\n",
       " 'P046957_-_report_5_-_complainant_(reporting_party)_data-unlocked_metadata.csv']"
      ]
     },
     "execution_count": 43,
     "metadata": {},
     "output_type": "execute_result"
    }
   ],
   "source": [
    "in_path_june_2016_report = in_path\n",
    "out_path_june_2016_report = out_path\n",
    "\n",
    "files = db.list_files(in_path_june_2016_report)\n",
    "files"
   ]
  },
  {
   "cell_type": "code",
   "execution_count": 44,
   "metadata": {
    "collapsed": false
   },
   "outputs": [
    {
     "name": "stdout",
     "output_type": "stream",
     "text": [
      "/Data/chicago-police-data/import/output/complaints-cpd-2016-jun/p046957_-_report_1_-_all_complaints_in_time_frame-unlocked.csv\n"
     ]
    },
    {
     "data": {
      "text/plain": [
       "['CRID',\n",
       " 'Beat',\n",
       " 'Location_Code',\n",
       " 'Location_Value',\n",
       " 'Address_of_Incident',\n",
       " 'City',\n",
       " 'State',\n",
       " 'Zip',\n",
       " 'Incident_Date',\n",
       " 'Complaint_Date',\n",
       " 'Closed_Date',\n",
       " 'Investigator_Full_Name',\n",
       " 'Investigator_Assignment',\n",
       " 'Investigator_Rank',\n",
       " 'Investigator_Star',\n",
       " 'Investigator_Appt_Date',\n",
       " 'FOIA_Request_Number',\n",
       " 'Report_Produced_Date']"
      ]
     },
     "execution_count": 44,
     "metadata": {},
     "output_type": "execute_result"
    }
   ],
   "source": [
    "file = files[0]\n",
    "df = db.download_file(in_path_june_2016_report,file,)\n",
    "df.columns.tolist()"
   ]
  },
  {
   "cell_type": "code",
   "execution_count": 45,
   "metadata": {
    "collapsed": false
   },
   "outputs": [
    {
     "data": {
      "text/plain": [
       "['CRID',\n",
       " 'Incident.Location.Beat',\n",
       " 'Incident.Location.Location_Code',\n",
       " 'Incident.Location.Location_Value',\n",
       " 'Incident.Location.Address',\n",
       " 'Incident.Location.City',\n",
       " 'Incident.Location.State',\n",
       " 'Incident.Location.Zip',\n",
       " 'Incident.Time.Date',\n",
       " 'Complaint.Date',\n",
       " 'Complaint.Current.Closed_date',\n",
       " 'Investigator.Full_Name',\n",
       " 'Investigator.Assignment',\n",
       " 'Investigator.Rank',\n",
       " 'Investigator.Star',\n",
       " 'Investigator.Appt_Date',\n",
       " 'FOIA_Request_Number',\n",
       " 'Report_Produced_Date']"
      ]
     },
     "execution_count": 45,
     "metadata": {},
     "output_type": "execute_result"
    }
   ],
   "source": [
    "df.columns = column_mapper(df)\n",
    "df.columns.tolist()"
   ]
  },
  {
   "cell_type": "code",
   "execution_count": 46,
   "metadata": {
    "collapsed": false
   },
   "outputs": [],
   "source": [
    "df.to_csv(out_path_june_2016_report+file,index=False)"
   ]
  },
  {
   "cell_type": "markdown",
   "metadata": {},
   "source": [
    "### Report 2"
   ]
  },
  {
   "cell_type": "code",
   "execution_count": 47,
   "metadata": {
    "collapsed": false
   },
   "outputs": [
    {
     "data": {
      "text/plain": [
       "['P046957_-_report_1_-_all_complaints_in_time_frame-unlocked.csv',\n",
       " 'P046957_-_report_1_-_all_complaints_in_time_frame-unlocked.xlsx',\n",
       " 'P046957_-_report_1_-_all_complaints_in_time_frame-unlocked_metadata.csv',\n",
       " 'P046957_-_report_2_-_identified_accused_xi-unlocked.csv',\n",
       " 'P046957_-_report_2_-_identified_accused_xi-unlocked.xlsx',\n",
       " 'P046957_-_report_2_-_identified_accused_xi-unlocked_metadata.csv',\n",
       " 'P046957_-_report_3_-_police_officer_witness_data_xi-unlocked.csv',\n",
       " 'P046957_-_report_3_-_police_officer_witness_data_xi-unlocked.xlsx',\n",
       " 'P046957_-_report_3_-_police_officer_witness_data_xi-unlocked_metadata.csv',\n",
       " 'P046957_-_report_4_-_victim_data-unlocked.csv',\n",
       " 'P046957_-_report_4_-_victim_data-unlocked.xlsx',\n",
       " 'P046957_-_report_4_-_victim_data-unlocked_metadata.csv',\n",
       " 'P046957_-_report_5_-_complainant_(reporting_party)_data-unlocked.csv',\n",
       " 'P046957_-_report_5_-_complainant_(reporting_party)_data-unlocked.xlsx',\n",
       " 'P046957_-_report_5_-_complainant_(reporting_party)_data-unlocked_metadata.csv']"
      ]
     },
     "execution_count": 47,
     "metadata": {},
     "output_type": "execute_result"
    }
   ],
   "source": [
    "in_path_june_2016_report = in_path\n",
    "out_path_june_2016_report = out_path\n",
    "\n",
    "files = db.list_files(in_path_june_2016_report)\n",
    "files"
   ]
  },
  {
   "cell_type": "code",
   "execution_count": 83,
   "metadata": {
    "collapsed": false
   },
   "outputs": [
    {
     "name": "stdout",
     "output_type": "stream",
     "text": [
      "/Data/chicago-police-data/import/output/complaints-cpd-2016-jun/p046957_-_report_2_-_identified_accused_xi-unlocked.csv\n"
     ]
    },
    {
     "data": {
      "text/plain": [
       "['CRID',\n",
       " 'Accused',\n",
       " 'Accused_Birth_Year',\n",
       " 'Accused_Gender',\n",
       " 'Accused_Race_Code',\n",
       " 'Date_of_Appt',\n",
       " 'Current_Unit',\n",
       " 'Current_Rank',\n",
       " 'Star',\n",
       " 'Complaint_Category',\n",
       " 'Orig_Finding',\n",
       " 'Orig_Recommended_Discipline',\n",
       " 'Final_Finding',\n",
       " 'Final_Recommended_Discipline',\n",
       " 'FOIA_Request_Number',\n",
       " 'Report_Produced_Date']"
      ]
     },
     "execution_count": 83,
     "metadata": {},
     "output_type": "execute_result"
    }
   ],
   "source": [
    "file = files[3]\n",
    "df = db.download_file(in_path_june_2016_report,file)\n",
    "df.columns.tolist()"
   ]
  },
  {
   "cell_type": "code",
   "execution_count": 82,
   "metadata": {
    "collapsed": false
   },
   "outputs": [
    {
     "data": {
      "text/plain": [
       "['CRID', nan, nan, nan, 'FOIA_Request_Number', 'Report_Produced_Date']"
      ]
     },
     "execution_count": 82,
     "metadata": {},
     "output_type": "execute_result"
    }
   ],
   "source": [
    "df.columns = column_mapper(df)\n",
    "df.columns.tolist()"
   ]
  },
  {
   "cell_type": "code",
   "execution_count": 58,
   "metadata": {
    "collapsed": false
   },
   "outputs": [],
   "source": [
    "df.to_csv(out_path_june_2016_report+file,index=False)"
   ]
  },
  {
   "cell_type": "markdown",
   "metadata": {},
   "source": [
    "### Report 3"
   ]
  },
  {
   "cell_type": "code",
   "execution_count": 55,
   "metadata": {
    "collapsed": false
   },
   "outputs": [
    {
     "data": {
      "text/plain": [
       "['P046957_-_report_1_-_all_complaints_in_time_frame-unlocked.csv',\n",
       " 'P046957_-_report_1_-_all_complaints_in_time_frame-unlocked.xlsx',\n",
       " 'P046957_-_report_1_-_all_complaints_in_time_frame-unlocked_metadata.csv',\n",
       " 'P046957_-_report_2_-_identified_accused_xi-unlocked.csv',\n",
       " 'P046957_-_report_2_-_identified_accused_xi-unlocked.xlsx',\n",
       " 'P046957_-_report_2_-_identified_accused_xi-unlocked_metadata.csv',\n",
       " 'P046957_-_report_3_-_police_officer_witness_data_xi-unlocked.csv',\n",
       " 'P046957_-_report_3_-_police_officer_witness_data_xi-unlocked.xlsx',\n",
       " 'P046957_-_report_3_-_police_officer_witness_data_xi-unlocked_metadata.csv',\n",
       " 'P046957_-_report_4_-_victim_data-unlocked.csv',\n",
       " 'P046957_-_report_4_-_victim_data-unlocked.xlsx',\n",
       " 'P046957_-_report_4_-_victim_data-unlocked_metadata.csv',\n",
       " 'P046957_-_report_5_-_complainant_(reporting_party)_data-unlocked.csv',\n",
       " 'P046957_-_report_5_-_complainant_(reporting_party)_data-unlocked.xlsx',\n",
       " 'P046957_-_report_5_-_complainant_(reporting_party)_data-unlocked_metadata.csv']"
      ]
     },
     "execution_count": 55,
     "metadata": {},
     "output_type": "execute_result"
    }
   ],
   "source": [
    "in_path_june_2016_report = in_path\n",
    "out_path_june_2016_report = out_path\n",
    "\n",
    "files = db.list_files(in_path_june_2016_report)\n",
    "files"
   ]
  },
  {
   "cell_type": "code",
   "execution_count": 67,
   "metadata": {
    "collapsed": false
   },
   "outputs": [
    {
     "name": "stdout",
     "output_type": "stream",
     "text": [
      "/Data/chicago-police-data/import/output/complaints-cpd-2016-jun/p046957_-_report_3_-_police_officer_witness_data_xi-unlocked.csv\n"
     ]
    },
    {
     "data": {
      "text/plain": [
       "['CRID',\n",
       " 'Officer_Witness',\n",
       " 'Officer_Witness_Gender',\n",
       " 'Officer_Witness_Race',\n",
       " 'Officer_Witness_Star',\n",
       " 'Officer_Witness_Birth_Year',\n",
       " 'Officer_Witness_Date_Appointed',\n",
       " 'FOIA_Request_Number',\n",
       " 'Report_Produced_Date']"
      ]
     },
     "execution_count": 67,
     "metadata": {},
     "output_type": "execute_result"
    }
   ],
   "source": [
    "file = files[6]\n",
    "df = db.download_file(in_path_june_2016_report,file)\n",
    "df.columns.tolist()"
   ]
  },
  {
   "cell_type": "code",
   "execution_count": 68,
   "metadata": {
    "collapsed": false
   },
   "outputs": [
    {
     "data": {
      "text/plain": [
       "['CRID',\n",
       " 'Officer.Witness.Full_Name',\n",
       " 'Officer.Witness.Gender',\n",
       " 'Officer.Witness.Race_Code',\n",
       " 'Officer.Witness.Star',\n",
       " 'Officer.Witness.Birth_Year',\n",
       " 'Officer.Witness.Appointed_Date',\n",
       " 'FOIA_Request_Number',\n",
       " 'Report_Produced_Date']"
      ]
     },
     "execution_count": 68,
     "metadata": {},
     "output_type": "execute_result"
    }
   ],
   "source": [
    "df.columns = column_mapper(df)\n",
    "df.columns.tolist()"
   ]
  },
  {
   "cell_type": "code",
   "execution_count": 69,
   "metadata": {
    "collapsed": false
   },
   "outputs": [],
   "source": [
    "df.to_csv(out_path_june_2016_report+file,index=False)"
   ]
  },
  {
   "cell_type": "markdown",
   "metadata": {},
   "source": [
    "### Report 4"
   ]
  },
  {
   "cell_type": "code",
   "execution_count": 70,
   "metadata": {
    "collapsed": false
   },
   "outputs": [
    {
     "data": {
      "text/plain": [
       "['P046957_-_report_1_-_all_complaints_in_time_frame-unlocked.csv',\n",
       " 'P046957_-_report_1_-_all_complaints_in_time_frame-unlocked.xlsx',\n",
       " 'P046957_-_report_1_-_all_complaints_in_time_frame-unlocked_metadata.csv',\n",
       " 'P046957_-_report_2_-_identified_accused_xi-unlocked.csv',\n",
       " 'P046957_-_report_2_-_identified_accused_xi-unlocked.xlsx',\n",
       " 'P046957_-_report_2_-_identified_accused_xi-unlocked_metadata.csv',\n",
       " 'P046957_-_report_3_-_police_officer_witness_data_xi-unlocked.csv',\n",
       " 'P046957_-_report_3_-_police_officer_witness_data_xi-unlocked.xlsx',\n",
       " 'P046957_-_report_3_-_police_officer_witness_data_xi-unlocked_metadata.csv',\n",
       " 'P046957_-_report_4_-_victim_data-unlocked.csv',\n",
       " 'P046957_-_report_4_-_victim_data-unlocked.xlsx',\n",
       " 'P046957_-_report_4_-_victim_data-unlocked_metadata.csv',\n",
       " 'P046957_-_report_5_-_complainant_(reporting_party)_data-unlocked.csv',\n",
       " 'P046957_-_report_5_-_complainant_(reporting_party)_data-unlocked.xlsx',\n",
       " 'P046957_-_report_5_-_complainant_(reporting_party)_data-unlocked_metadata.csv']"
      ]
     },
     "execution_count": 70,
     "metadata": {},
     "output_type": "execute_result"
    }
   ],
   "source": [
    "in_path_june_2016_report = in_path\n",
    "out_path_june_2016_report = out_path\n",
    "\n",
    "files = db.list_files(in_path_june_2016_report)\n",
    "files"
   ]
  },
  {
   "cell_type": "code",
   "execution_count": 71,
   "metadata": {
    "collapsed": false
   },
   "outputs": [
    {
     "name": "stdout",
     "output_type": "stream",
     "text": [
      "/Data/chicago-police-data/import/output/complaints-cpd-2016-jun/p046957_-_report_4_-_victim_data-unlocked.csv\n"
     ]
    },
    {
     "data": {
      "text/plain": [
       "['CRID',\n",
       " 'Victim_Gender',\n",
       " 'Victim_Age',\n",
       " 'Victim_Race',\n",
       " 'FOIA_Request_Number',\n",
       " 'Report_Produced_Date']"
      ]
     },
     "execution_count": 71,
     "metadata": {},
     "output_type": "execute_result"
    }
   ],
   "source": [
    "file = files[9]\n",
    "df = db.download_file(in_path_june_2016_report,file)\n",
    "df.columns.tolist()"
   ]
  },
  {
   "cell_type": "code",
   "execution_count": 74,
   "metadata": {
    "collapsed": false
   },
   "outputs": [
    {
     "data": {
      "text/plain": [
       "['CRID',\n",
       " 'Civilian.Victim.Gender',\n",
       " 'Civilian.Victim.Age',\n",
       " 'Civilian.Victim.Race_Code',\n",
       " 'FOIA_Request_Number',\n",
       " 'Report_Produced_Date']"
      ]
     },
     "execution_count": 74,
     "metadata": {},
     "output_type": "execute_result"
    }
   ],
   "source": [
    "df.columns = column_mapper(df)\n",
    "df.columns.tolist()"
   ]
  },
  {
   "cell_type": "code",
   "execution_count": 75,
   "metadata": {
    "collapsed": false
   },
   "outputs": [],
   "source": [
    "df.to_csv(out_path_june_2016_report+file,index=False)"
   ]
  },
  {
   "cell_type": "markdown",
   "metadata": {},
   "source": [
    "### Report 5"
   ]
  },
  {
   "cell_type": "code",
   "execution_count": 76,
   "metadata": {
    "collapsed": false
   },
   "outputs": [
    {
     "data": {
      "text/plain": [
       "['P046957_-_report_1_-_all_complaints_in_time_frame-unlocked.csv',\n",
       " 'P046957_-_report_1_-_all_complaints_in_time_frame-unlocked.xlsx',\n",
       " 'P046957_-_report_1_-_all_complaints_in_time_frame-unlocked_metadata.csv',\n",
       " 'P046957_-_report_2_-_identified_accused_xi-unlocked.csv',\n",
       " 'P046957_-_report_2_-_identified_accused_xi-unlocked.xlsx',\n",
       " 'P046957_-_report_2_-_identified_accused_xi-unlocked_metadata.csv',\n",
       " 'P046957_-_report_3_-_police_officer_witness_data_xi-unlocked.csv',\n",
       " 'P046957_-_report_3_-_police_officer_witness_data_xi-unlocked.xlsx',\n",
       " 'P046957_-_report_3_-_police_officer_witness_data_xi-unlocked_metadata.csv',\n",
       " 'P046957_-_report_4_-_victim_data-unlocked.csv',\n",
       " 'P046957_-_report_4_-_victim_data-unlocked.xlsx',\n",
       " 'P046957_-_report_4_-_victim_data-unlocked_metadata.csv',\n",
       " 'P046957_-_report_5_-_complainant_(reporting_party)_data-unlocked.csv',\n",
       " 'P046957_-_report_5_-_complainant_(reporting_party)_data-unlocked.xlsx',\n",
       " 'P046957_-_report_5_-_complainant_(reporting_party)_data-unlocked_metadata.csv']"
      ]
     },
     "execution_count": 76,
     "metadata": {},
     "output_type": "execute_result"
    }
   ],
   "source": [
    "in_path_june_2016_report = in_path\n",
    "out_path_june_2016_report = out_path\n",
    "\n",
    "files = db.list_files(in_path_june_2016_report)\n",
    "files"
   ]
  },
  {
   "cell_type": "code",
   "execution_count": 77,
   "metadata": {
    "collapsed": false
   },
   "outputs": [
    {
     "name": "stdout",
     "output_type": "stream",
     "text": [
      "/Data/chicago-police-data/import/output/complaints-cpd-2016-jun/p046957_-_report_5_-_complainant_(reporting_party)_data-unlocked.csv\n"
     ]
    },
    {
     "data": {
      "text/plain": [
       "['CRID',\n",
       " 'Witness_Gender',\n",
       " 'Witness_Age',\n",
       " 'Witness_Race',\n",
       " 'FOIA_Request_Number',\n",
       " 'Report_Produced_Date']"
      ]
     },
     "execution_count": 77,
     "metadata": {},
     "output_type": "execute_result"
    }
   ],
   "source": [
    "file = files[12]\n",
    "df = db.download_file(in_path_june_2016_report,file)\n",
    "df.columns.tolist()"
   ]
  },
  {
   "cell_type": "code",
   "execution_count": 80,
   "metadata": {
    "collapsed": false
   },
   "outputs": [
    {
     "data": {
      "text/plain": [
       "['CRID',\n",
       " 'Civilian.Witness.Gender',\n",
       " 'Civilian.Witness.Age',\n",
       " 'Civilian.Witness.Race_Code',\n",
       " 'FOIA_Request_Number',\n",
       " 'Report_Produced_Date']"
      ]
     },
     "execution_count": 80,
     "metadata": {},
     "output_type": "execute_result"
    }
   ],
   "source": [
    "df.columns = column_mapper(df)\n",
    "df.columns.tolist()"
   ]
  },
  {
   "cell_type": "code",
   "execution_count": 81,
   "metadata": {
    "collapsed": true
   },
   "outputs": [],
   "source": [
    "df.to_csv(out_path_june_2016_report+file,index=False)"
   ]
  }
 ],
 "metadata": {
  "anaconda-cloud": {},
  "kernelspec": {
   "display_name": "Civis Model",
   "language": "python",
   "name": "civis-model"
  },
  "language_info": {
   "codemirror_mode": {
    "name": "ipython",
    "version": 3
   },
   "file_extension": ".py",
   "mimetype": "text/x-python",
   "name": "python",
   "nbconvert_exporter": "python",
   "pygments_lexer": "ipython3",
   "version": "3.5.2"
  }
 },
 "nbformat": 4,
 "nbformat_minor": 0
}
