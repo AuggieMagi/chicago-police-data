{
 "cells": [
  {
   "cell_type": "code",
   "execution_count": 1,
   "metadata": {
    "collapsed": true
   },
   "outputs": [],
   "source": [
    "import re\n",
    "import datetime\n",
    "import numpy as np\n",
    "import pandas as pd \n",
    "import os\n",
    "import sys\n",
    "import itertools\n",
    "import io"
   ]
  },
  {
   "cell_type": "code",
   "execution_count": 2,
   "metadata": {
    "collapsed": true
   },
   "outputs": [],
   "source": [
    "module_path = os.path.abspath(os.path.join('..'))\n",
    "if module_path not in sys.path:\n",
    "    sys.path.append(module_path)\n",
    "from utils.utils import *"
   ]
  },
  {
   "cell_type": "markdown",
   "metadata": {},
   "source": [
    "### Establishes General Path"
   ]
  },
  {
   "cell_type": "code",
   "execution_count": 3,
   "metadata": {
    "collapsed": false
   },
   "outputs": [],
   "source": [
    "##local_path = \"/your/path/here\"\n",
    "local_path = \"/users/thudson/Documents/Dropbox/chicago-police-data/02-column_std\""
   ]
  },
  {
   "cell_type": "code",
   "execution_count": 4,
   "metadata": {
    "collapsed": false
   },
   "outputs": [
    {
     "data": {
      "text/plain": [
       "['complaints-cpd-2016-dec',\n",
       " 'complaints-cpd-2016-jun',\n",
       " 'complaints-cpd-2016-nov',\n",
       " 'complaints-cpd-2016-oct',\n",
       " 'complaints-ipra-2016-apr',\n",
       " 'complaints-merged-2015',\n",
       " 'incomplete',\n",
       " 'shootings-cpd-feb2016',\n",
       " 'shootings-ipra-may2016',\n",
       " 'TRRs']"
      ]
     },
     "execution_count": 4,
     "metadata": {},
     "output_type": "execute_result"
    }
   ],
   "source": [
    "path = '/Data/chicago-police-data/import'\n",
    "db = dropbox_handler()\n",
    "db.list_files(path+'/output')"
   ]
  },
  {
   "cell_type": "code",
   "execution_count": 5,
   "metadata": {
    "collapsed": false
   },
   "outputs": [],
   "source": [
    "in_path = path + '/output/shootings-cpd-feb2016/'\n",
    "out_path = local_path + '/output/shootings-cpd-feb2016/'"
   ]
  },
  {
   "cell_type": "code",
   "execution_count": 6,
   "metadata": {
    "collapsed": false
   },
   "outputs": [
    {
     "name": "stdout",
     "output_type": "stream",
     "text": [
      "path exists: /users/thudson/Documents/Dropbox/chicago-police-data/02-column_std/output/shootings-cpd-feb2016/\n"
     ]
    }
   ],
   "source": [
    "try:\n",
    "    os.mkdir(out_path)\n",
    "except:\n",
    "    print(\"path exists: {}\".format(out_path))"
   ]
  },
  {
   "cell_type": "code",
   "execution_count": 7,
   "metadata": {
    "collapsed": false
   },
   "outputs": [
    {
     "data": {
      "text/html": [
       "<div>\n",
       "<table border=\"1\" class=\"dataframe\">\n",
       "  <thead>\n",
       "    <tr style=\"text-align: right;\">\n",
       "      <th></th>\n",
       "      <th>Orig Column Name</th>\n",
       "      <th>New Name</th>\n",
       "    </tr>\n",
       "  </thead>\n",
       "  <tbody>\n",
       "    <tr>\n",
       "      <th>0</th>\n",
       "      <td>Accused</td>\n",
       "      <td>Officer.Accused.Full_Name</td>\n",
       "    </tr>\n",
       "    <tr>\n",
       "      <th>1</th>\n",
       "      <td>Accused_Appointed_Date</td>\n",
       "      <td>Officer.Accused.Appointed_Date</td>\n",
       "    </tr>\n",
       "    <tr>\n",
       "      <th>2</th>\n",
       "      <td>Accused_Appointment_Date</td>\n",
       "      <td>Officer.Accused.Appointed_Date</td>\n",
       "    </tr>\n",
       "    <tr>\n",
       "      <th>3</th>\n",
       "      <td>Accused_Birth_Year</td>\n",
       "      <td>Officer.Accused.Birth_Year</td>\n",
       "    </tr>\n",
       "    <tr>\n",
       "      <th>4</th>\n",
       "      <td>Accused_Detail</td>\n",
       "      <td>Officer.Accused.Detail</td>\n",
       "    </tr>\n",
       "  </tbody>\n",
       "</table>\n",
       "</div>"
      ],
      "text/plain": [
       "           Orig Column Name                        New Name\n",
       "0                   Accused       Officer.Accused.Full_Name\n",
       "1    Accused_Appointed_Date  Officer.Accused.Appointed_Date\n",
       "2  Accused_Appointment_Date  Officer.Accused.Appointed_Date\n",
       "3        Accused_Birth_Year      Officer.Accused.Birth_Year\n",
       "4            Accused_Detail          Officer.Accused.Detail"
      ]
     },
     "execution_count": 7,
     "metadata": {},
     "output_type": "execute_result"
    }
   ],
   "source": [
    "##doc_path = '/Data/chicago-police-data/02-column_std'\n",
    "##column_dict = db.download_file(doc_path+'/doc/','Column_Dictionary.csv')\n",
    "\n",
    "doc_path = local_path\n",
    "column_dict = pd.read_csv(doc_path+'/doc/'+'Column_Dictionary.csv').iloc[:,0:3]\n",
    "column_dict.head()"
   ]
  },
  {
   "cell_type": "code",
   "execution_count": 8,
   "metadata": {
    "collapsed": false
   },
   "outputs": [],
   "source": [
    "## SOMETHING TO PUT IN UTILS? HOW WOULD THE SPECIFIED COLUMN_DICT WORK?\n",
    "\n",
    "def column_mapper(df,\n",
    "                  column_dict = column_dict):\n",
    "    current_columns = pd.DataFrame(df.columns.tolist(),columns=['Orig Column Name'])\n",
    "    new_columns = current_columns.merge(column_dict,how='left',on='Orig Column Name')['New Name'].tolist() \n",
    "    if current_columns.shape[0] == len(new_columns):\n",
    "        return new_columns\n",
    "    else:\n",
    "        print(\"Join failed, more columns returned than expected\")"
   ]
  },
  {
   "cell_type": "markdown",
   "metadata": {},
   "source": [
    "## Feb 2016 Data"
   ]
  },
  {
   "cell_type": "markdown",
   "metadata": {},
   "source": [
    "### Report 1"
   ]
  },
  {
   "cell_type": "code",
   "execution_count": 9,
   "metadata": {
    "collapsed": false
   },
   "outputs": [
    {
     "data": {
      "text/plain": [
       "['1_-_Incident(1).csv',\n",
       " '1_-_Incident(1).xlsx',\n",
       " '1_-_Incident(1)_metadata.csv',\n",
       " 'CPD_Reporting_Party(1).csv',\n",
       " 'CPD_Reporting_Party(1).xlsx',\n",
       " 'CPD_Reporting_Party(1)_metadata.csv',\n",
       " 'CPD_Witness(1).csv',\n",
       " 'CPD_Witness(1).xlsx',\n",
       " 'CPD_Witness(1)_metadata.csv',\n",
       " 'crms_-_05j_complaint_and_investigator(1).csv',\n",
       " 'crms_-_05j_complaint_and_investigator(1).xlsx',\n",
       " 'crms_-_05j_complaint_and_investigator(1)_metadata.csv',\n",
       " 'crms_-_05j_cpd_witness,_reporting_party,_victim(1).csv',\n",
       " 'crms_-_05j_cpd_witness,_reporting_party,_victim(1).xlsx',\n",
       " 'crms_-_05j_cpd_witness,_reporting_party,_victim(1)_metadata.csv',\n",
       " 'crms_-_05j_Officer(1).csv',\n",
       " 'crms_-_05j_Officer(1).xlsx',\n",
       " 'crms_-_05j_Officer(1)_metadata.csv',\n",
       " 'Incident_Address(1)_Block_Level.csv',\n",
       " 'Incident_Address(1)_Block_Level.xlsx',\n",
       " 'Incident_Address(1)_Block_Level_metadata.csv',\n",
       " 'Involved_Member(1).csv',\n",
       " 'Involved_Member(1).xlsx',\n",
       " 'Involved_Member(1)_metadata.csv',\n",
       " 'stars-for_involved_members(1).csv',\n",
       " 'stars-for_involved_members(1).xlsx',\n",
       " 'stars-for_involved_members(1)_metadata.csv',\n",
       " 'victim-detainee_demographics(1).csv',\n",
       " 'victim-detainee_demographics(1).xlsx',\n",
       " 'victim-detainee_demographics(1)_metadata.csv']"
      ]
     },
     "execution_count": 9,
     "metadata": {},
     "output_type": "execute_result"
    }
   ],
   "source": [
    "in_path_feb_2016_report = in_path\n",
    "out_path_feb_2016_report = out_path\n",
    "\n",
    "files = db.list_files(in_path_feb_2016_report)\n",
    "files"
   ]
  },
  {
   "cell_type": "code",
   "execution_count": 10,
   "metadata": {
    "collapsed": false
   },
   "outputs": [
    {
     "name": "stdout",
     "output_type": "stream",
     "text": [
      "/Data/chicago-police-data/import/output/shootings-cpd-feb2016/1_-_incident(1).csv\n"
     ]
    },
    {
     "data": {
      "text/plain": [
       "['CRID',\n",
       " 'Assignment',\n",
       " 'Initial_Category',\n",
       " 'Assigned_Team',\n",
       " 'Team_Assigned_Date',\n",
       " 'Investigator_Assigned',\n",
       " 'Investigator_Assigned_Date',\n",
       " 'Supervisor_Assigned',\n",
       " 'IPRA_Closed_Date',\n",
       " 'FOIA_Request_Number',\n",
       " 'Report_Produced_Date']"
      ]
     },
     "execution_count": 10,
     "metadata": {},
     "output_type": "execute_result"
    }
   ],
   "source": [
    "file = files[0]\n",
    "df = db.download_file(in_path_feb_2016_report,file)\n",
    "df.columns.tolist()"
   ]
  },
  {
   "cell_type": "code",
   "execution_count": 11,
   "metadata": {
    "collapsed": false
   },
   "outputs": [
    {
     "data": {
      "text/html": [
       "<div>\n",
       "<table border=\"1\" class=\"dataframe\">\n",
       "  <thead>\n",
       "    <tr style=\"text-align: right;\">\n",
       "      <th></th>\n",
       "      <th>CRID</th>\n",
       "      <th>Assignment</th>\n",
       "      <th>Initial_Category</th>\n",
       "      <th>Assigned_Team</th>\n",
       "      <th>Team_Assigned_Date</th>\n",
       "      <th>Investigator_Assigned</th>\n",
       "      <th>Investigator_Assigned_Date</th>\n",
       "      <th>Supervisor_Assigned</th>\n",
       "      <th>IPRA_Closed_Date</th>\n",
       "      <th>FOIA_Request_Number</th>\n",
       "      <th>Report_Produced_Date</th>\n",
       "    </tr>\n",
       "  </thead>\n",
       "  <tbody>\n",
       "    <tr>\n",
       "      <th>0</th>\n",
       "      <td>1077428</td>\n",
       "      <td>IPRA</td>\n",
       "      <td>18A</td>\n",
       "      <td>GENERAL FIELD 9</td>\n",
       "      <td>2015-10-05 12:08:00</td>\n",
       "      <td>ABBRUZZESE, WILLIAM</td>\n",
       "      <td>2015-10-07 00:00:00</td>\n",
       "      <td>HUNT, JOSHUA</td>\n",
       "      <td>NaN</td>\n",
       "      <td>FOIA 15-6588</td>\n",
       "      <td>2016-01-12</td>\n",
       "    </tr>\n",
       "    <tr>\n",
       "      <th>1</th>\n",
       "      <td>1077328</td>\n",
       "      <td>IPRA</td>\n",
       "      <td>18A</td>\n",
       "      <td>GENERAL FIELD 9</td>\n",
       "      <td>2015-10-05 12:02:00</td>\n",
       "      <td>WHITE, LAKENYA</td>\n",
       "      <td>2015-10-07 00:00:00</td>\n",
       "      <td>HUNT, JOSHUA</td>\n",
       "      <td>NaN</td>\n",
       "      <td>FOIA 15-6588</td>\n",
       "      <td>2016-01-12</td>\n",
       "    </tr>\n",
       "    <tr>\n",
       "      <th>2</th>\n",
       "      <td>1077146</td>\n",
       "      <td>IPRA</td>\n",
       "      <td>18A</td>\n",
       "      <td>GENERAL FIELD 9</td>\n",
       "      <td>2015-09-15 13:23:00</td>\n",
       "      <td>ABBRUZZESE, WILLIAM</td>\n",
       "      <td>2015-09-17 00:00:00</td>\n",
       "      <td>HUNT, JOSHUA</td>\n",
       "      <td>NaN</td>\n",
       "      <td>FOIA 15-6588</td>\n",
       "      <td>2016-01-12</td>\n",
       "    </tr>\n",
       "    <tr>\n",
       "      <th>3</th>\n",
       "      <td>1076922</td>\n",
       "      <td>IPRA</td>\n",
       "      <td>18A</td>\n",
       "      <td>GENERAL FIELD 9</td>\n",
       "      <td>2015-08-31 16:41:00</td>\n",
       "      <td>KILLEN, BRIAN</td>\n",
       "      <td>2015-09-03 00:00:00</td>\n",
       "      <td>HUNT, JOSHUA</td>\n",
       "      <td>NaN</td>\n",
       "      <td>FOIA 15-6588</td>\n",
       "      <td>2016-01-12</td>\n",
       "    </tr>\n",
       "    <tr>\n",
       "      <th>4</th>\n",
       "      <td>1076815</td>\n",
       "      <td>IPRA</td>\n",
       "      <td>18A</td>\n",
       "      <td>GENERAL FIELD 9</td>\n",
       "      <td>2015-08-24 14:25:00</td>\n",
       "      <td>LUKAS, JAMES</td>\n",
       "      <td>2015-08-27 00:00:00</td>\n",
       "      <td>HUNT, JOSHUA</td>\n",
       "      <td>NaN</td>\n",
       "      <td>FOIA 15-6588</td>\n",
       "      <td>2016-01-12</td>\n",
       "    </tr>\n",
       "  </tbody>\n",
       "</table>\n",
       "</div>"
      ],
      "text/plain": [
       "      CRID Assignment Initial_Category    Assigned_Team   Team_Assigned_Date  \\\n",
       "0  1077428       IPRA              18A  GENERAL FIELD 9  2015-10-05 12:08:00   \n",
       "1  1077328       IPRA              18A  GENERAL FIELD 9  2015-10-05 12:02:00   \n",
       "2  1077146       IPRA              18A  GENERAL FIELD 9  2015-09-15 13:23:00   \n",
       "3  1076922       IPRA              18A  GENERAL FIELD 9  2015-08-31 16:41:00   \n",
       "4  1076815       IPRA              18A  GENERAL FIELD 9  2015-08-24 14:25:00   \n",
       "\n",
       "  Investigator_Assigned Investigator_Assigned_Date Supervisor_Assigned  \\\n",
       "0   ABBRUZZESE, WILLIAM        2015-10-07 00:00:00        HUNT, JOSHUA   \n",
       "1        WHITE, LAKENYA        2015-10-07 00:00:00        HUNT, JOSHUA   \n",
       "2   ABBRUZZESE, WILLIAM        2015-09-17 00:00:00        HUNT, JOSHUA   \n",
       "3         KILLEN, BRIAN        2015-09-03 00:00:00        HUNT, JOSHUA   \n",
       "4          LUKAS, JAMES        2015-08-27 00:00:00        HUNT, JOSHUA   \n",
       "\n",
       "  IPRA_Closed_Date FOIA_Request_Number Report_Produced_Date  \n",
       "0              NaN        FOIA 15-6588           2016-01-12  \n",
       "1              NaN        FOIA 15-6588           2016-01-12  \n",
       "2              NaN        FOIA 15-6588           2016-01-12  \n",
       "3              NaN        FOIA 15-6588           2016-01-12  \n",
       "4              NaN        FOIA 15-6588           2016-01-12  "
      ]
     },
     "execution_count": 11,
     "metadata": {},
     "output_type": "execute_result"
    }
   ],
   "source": [
    "df.head()"
   ]
  },
  {
   "cell_type": "code",
   "execution_count": 12,
   "metadata": {
    "collapsed": false
   },
   "outputs": [
    {
     "data": {
      "text/plain": [
       "['CRID',\n",
       " 'Investigator.Assignment',\n",
       " 'Complaint.Initial.Category',\n",
       " 'Investigator.Assigned_Team',\n",
       " 'Investigator.Assigned_Team_Date',\n",
       " 'Investigator.Full_Name',\n",
       " 'Investigator.Appt_Date',\n",
       " 'Investigator.Supervisor.Full_Name',\n",
       " 'Complaint.Current.IPRA_Closed_Date',\n",
       " 'FOIA_Request_Number',\n",
       " 'Report_Produced_Date']"
      ]
     },
     "execution_count": 12,
     "metadata": {},
     "output_type": "execute_result"
    }
   ],
   "source": [
    "df.columns = column_mapper(df)\n",
    "df.columns.tolist()"
   ]
  },
  {
   "cell_type": "code",
   "execution_count": 13,
   "metadata": {
    "collapsed": false
   },
   "outputs": [],
   "source": [
    "df.to_csv(out_path_feb_2016_report+file,index=False)"
   ]
  },
  {
   "cell_type": "markdown",
   "metadata": {},
   "source": [
    "### Report 2"
   ]
  },
  {
   "cell_type": "code",
   "execution_count": 14,
   "metadata": {
    "collapsed": false
   },
   "outputs": [
    {
     "name": "stdout",
     "output_type": "stream",
     "text": [
      "/Data/chicago-police-data/import/output/shootings-cpd-feb2016/cpd_reporting_party(1).csv\n"
     ]
    },
    {
     "data": {
      "text/plain": [
       "['CRID',\n",
       " 'Officer_Reporting_Party',\n",
       " 'FOIA_Request_Number',\n",
       " 'Report_Produced_Date']"
      ]
     },
     "execution_count": 14,
     "metadata": {},
     "output_type": "execute_result"
    }
   ],
   "source": [
    "file = files[3]\n",
    "df = db.download_file(in_path_feb_2016_report,file)\n",
    "df.columns.tolist()"
   ]
  },
  {
   "cell_type": "code",
   "execution_count": 15,
   "metadata": {
    "collapsed": false
   },
   "outputs": [
    {
     "data": {
      "text/html": [
       "<div>\n",
       "<table border=\"1\" class=\"dataframe\">\n",
       "  <thead>\n",
       "    <tr style=\"text-align: right;\">\n",
       "      <th></th>\n",
       "      <th>CRID</th>\n",
       "      <th>Officer_Reporting_Party</th>\n",
       "      <th>FOIA_Request_Number</th>\n",
       "      <th>Report_Produced_Date</th>\n",
       "    </tr>\n",
       "  </thead>\n",
       "  <tbody>\n",
       "    <tr>\n",
       "      <th>0</th>\n",
       "      <td>1077428</td>\n",
       "      <td>STAPLES, MELISSA</td>\n",
       "      <td>FOIA 15-6588</td>\n",
       "      <td>2016-01-12</td>\n",
       "    </tr>\n",
       "    <tr>\n",
       "      <th>1</th>\n",
       "      <td>1077328</td>\n",
       "      <td>FLETCHER, CHRISTOPH</td>\n",
       "      <td>FOIA 15-6588</td>\n",
       "      <td>2016-01-12</td>\n",
       "    </tr>\n",
       "    <tr>\n",
       "      <th>2</th>\n",
       "      <td>1077146</td>\n",
       "      <td>ALEXANDER, DANA</td>\n",
       "      <td>FOIA 15-6588</td>\n",
       "      <td>2016-01-12</td>\n",
       "    </tr>\n",
       "    <tr>\n",
       "      <th>3</th>\n",
       "      <td>1076922</td>\n",
       "      <td>MC NAUGHTON, DAVID</td>\n",
       "      <td>FOIA 15-6588</td>\n",
       "      <td>2016-01-12</td>\n",
       "    </tr>\n",
       "    <tr>\n",
       "      <th>4</th>\n",
       "      <td>1076815</td>\n",
       "      <td>WALLER, FRED</td>\n",
       "      <td>FOIA 15-6588</td>\n",
       "      <td>2016-01-12</td>\n",
       "    </tr>\n",
       "  </tbody>\n",
       "</table>\n",
       "</div>"
      ],
      "text/plain": [
       "      CRID Officer_Reporting_Party FOIA_Request_Number Report_Produced_Date\n",
       "0  1077428        STAPLES, MELISSA        FOIA 15-6588           2016-01-12\n",
       "1  1077328     FLETCHER, CHRISTOPH        FOIA 15-6588           2016-01-12\n",
       "2  1077146         ALEXANDER, DANA        FOIA 15-6588           2016-01-12\n",
       "3  1076922      MC NAUGHTON, DAVID        FOIA 15-6588           2016-01-12\n",
       "4  1076815            WALLER, FRED        FOIA 15-6588           2016-01-12"
      ]
     },
     "execution_count": 15,
     "metadata": {},
     "output_type": "execute_result"
    }
   ],
   "source": [
    "df.head()"
   ]
  },
  {
   "cell_type": "code",
   "execution_count": 16,
   "metadata": {
    "collapsed": false
   },
   "outputs": [
    {
     "data": {
      "text/plain": [
       "['CRID',\n",
       " 'Officer.Reporting_Party.Full_Name',\n",
       " 'FOIA_Request_Number',\n",
       " 'Report_Produced_Date']"
      ]
     },
     "execution_count": 16,
     "metadata": {},
     "output_type": "execute_result"
    }
   ],
   "source": [
    "df.columns = column_mapper(df)\n",
    "df.columns.tolist()"
   ]
  },
  {
   "cell_type": "code",
   "execution_count": 17,
   "metadata": {
    "collapsed": true
   },
   "outputs": [],
   "source": [
    "df.to_csv(out_path_feb_2016_report+file,index=False)"
   ]
  },
  {
   "cell_type": "markdown",
   "metadata": {},
   "source": [
    "### Report 3"
   ]
  },
  {
   "cell_type": "code",
   "execution_count": 18,
   "metadata": {
    "collapsed": false
   },
   "outputs": [
    {
     "name": "stdout",
     "output_type": "stream",
     "text": [
      "/Data/chicago-police-data/import/output/shootings-cpd-feb2016/cpd_witness(1).csv\n"
     ]
    },
    {
     "data": {
      "text/plain": [
       "['CRID', 'Officer_Witness', 'FOIA_Request_Number', 'Report_Produced_Date']"
      ]
     },
     "execution_count": 18,
     "metadata": {},
     "output_type": "execute_result"
    }
   ],
   "source": [
    "file = files[6]\n",
    "df = db.download_file(in_path_feb_2016_report,file)\n",
    "df.columns.tolist()"
   ]
  },
  {
   "cell_type": "code",
   "execution_count": 19,
   "metadata": {
    "collapsed": false
   },
   "outputs": [
    {
     "data": {
      "text/html": [
       "<div>\n",
       "<table border=\"1\" class=\"dataframe\">\n",
       "  <thead>\n",
       "    <tr style=\"text-align: right;\">\n",
       "      <th></th>\n",
       "      <th>CRID</th>\n",
       "      <th>Officer_Witness</th>\n",
       "      <th>FOIA_Request_Number</th>\n",
       "      <th>Report_Produced_Date</th>\n",
       "    </tr>\n",
       "  </thead>\n",
       "  <tbody>\n",
       "    <tr>\n",
       "      <th>0</th>\n",
       "      <td>1077428</td>\n",
       "      <td>ANTICO, JOSEPH</td>\n",
       "      <td>FOIA 15-6588</td>\n",
       "      <td>2016-01-12</td>\n",
       "    </tr>\n",
       "    <tr>\n",
       "      <th>1</th>\n",
       "      <td>1077428</td>\n",
       "      <td>GOZDAL III, MATTHEW</td>\n",
       "      <td>FOIA 15-6588</td>\n",
       "      <td>2016-01-12</td>\n",
       "    </tr>\n",
       "    <tr>\n",
       "      <th>2</th>\n",
       "      <td>1077428</td>\n",
       "      <td>TIRADO, GLORIA</td>\n",
       "      <td>FOIA 15-6588</td>\n",
       "      <td>2016-01-12</td>\n",
       "    </tr>\n",
       "    <tr>\n",
       "      <th>3</th>\n",
       "      <td>1077328</td>\n",
       "      <td>CHOATE, HEATH</td>\n",
       "      <td>FOIA 15-6588</td>\n",
       "      <td>2016-01-12</td>\n",
       "    </tr>\n",
       "    <tr>\n",
       "      <th>4</th>\n",
       "      <td>1077328</td>\n",
       "      <td>CRONIN, ERIC</td>\n",
       "      <td>FOIA 15-6588</td>\n",
       "      <td>2016-01-12</td>\n",
       "    </tr>\n",
       "  </tbody>\n",
       "</table>\n",
       "</div>"
      ],
      "text/plain": [
       "      CRID      Officer_Witness FOIA_Request_Number Report_Produced_Date\n",
       "0  1077428       ANTICO, JOSEPH        FOIA 15-6588           2016-01-12\n",
       "1  1077428  GOZDAL III, MATTHEW        FOIA 15-6588           2016-01-12\n",
       "2  1077428       TIRADO, GLORIA        FOIA 15-6588           2016-01-12\n",
       "3  1077328        CHOATE, HEATH        FOIA 15-6588           2016-01-12\n",
       "4  1077328         CRONIN, ERIC        FOIA 15-6588           2016-01-12"
      ]
     },
     "execution_count": 19,
     "metadata": {},
     "output_type": "execute_result"
    }
   ],
   "source": [
    "df.head()"
   ]
  },
  {
   "cell_type": "code",
   "execution_count": 20,
   "metadata": {
    "collapsed": false
   },
   "outputs": [
    {
     "data": {
      "text/plain": [
       "['CRID',\n",
       " 'Officer.Witness.Full_Name',\n",
       " 'FOIA_Request_Number',\n",
       " 'Report_Produced_Date']"
      ]
     },
     "execution_count": 20,
     "metadata": {},
     "output_type": "execute_result"
    }
   ],
   "source": [
    "df.columns = column_mapper(df)\n",
    "df.columns.tolist()"
   ]
  },
  {
   "cell_type": "code",
   "execution_count": 21,
   "metadata": {
    "collapsed": true
   },
   "outputs": [],
   "source": [
    "df.to_csv(out_path_feb_2016_report+file,index=False)"
   ]
  },
  {
   "cell_type": "markdown",
   "metadata": {},
   "source": [
    "### Report 4"
   ]
  },
  {
   "cell_type": "code",
   "execution_count": 22,
   "metadata": {
    "collapsed": false
   },
   "outputs": [
    {
     "name": "stdout",
     "output_type": "stream",
     "text": [
      "/Data/chicago-police-data/import/output/shootings-cpd-feb2016/crms_-_05j_complaint_and_investigator(1).csv\n"
     ]
    },
    {
     "data": {
      "text/plain": [
       "['CRID',\n",
       " 'Beat',\n",
       " 'Incident_Address',\n",
       " 'City',\n",
       " 'State',\n",
       " 'Location_Code',\n",
       " 'Location_Value',\n",
       " 'Incident_Date',\n",
       " 'Complaint_Date',\n",
       " 'Investigator',\n",
       " 'Assigned_Date',\n",
       " 'Investigator_End_Date',\n",
       " 'FOIA_Request_Number',\n",
       " 'Report_Produced_Date']"
      ]
     },
     "execution_count": 22,
     "metadata": {},
     "output_type": "execute_result"
    }
   ],
   "source": [
    "file = files[9]\n",
    "df = db.download_file(in_path_feb_2016_report,file)\n",
    "df.columns.tolist()"
   ]
  },
  {
   "cell_type": "code",
   "execution_count": 23,
   "metadata": {
    "collapsed": false
   },
   "outputs": [
    {
     "data": {
      "text/html": [
       "<div>\n",
       "<table border=\"1\" class=\"dataframe\">\n",
       "  <thead>\n",
       "    <tr style=\"text-align: right;\">\n",
       "      <th></th>\n",
       "      <th>CRID</th>\n",
       "      <th>Beat</th>\n",
       "      <th>Incident_Address</th>\n",
       "      <th>City</th>\n",
       "      <th>State</th>\n",
       "      <th>Location_Code</th>\n",
       "      <th>Location_Value</th>\n",
       "      <th>Incident_Date</th>\n",
       "      <th>Complaint_Date</th>\n",
       "      <th>Investigator</th>\n",
       "      <th>Assigned_Date</th>\n",
       "      <th>Investigator_End_Date</th>\n",
       "      <th>FOIA_Request_Number</th>\n",
       "      <th>Report_Produced_Date</th>\n",
       "    </tr>\n",
       "  </thead>\n",
       "  <tbody>\n",
       "    <tr>\n",
       "      <th>0</th>\n",
       "      <td>1039179</td>\n",
       "      <td>2223.0</td>\n",
       "      <td>9100 S HALSTED ST</td>\n",
       "      <td>CHICAGO</td>\n",
       "      <td>IL</td>\n",
       "      <td>17</td>\n",
       "      <td>PUBLIC WAY - OTHER</td>\n",
       "      <td>2012-08-23 00:00:00</td>\n",
       "      <td>2012-08-23 00:00:00</td>\n",
       "      <td>JONES, VINCENT</td>\n",
       "      <td>2012-04-18 16:15:00</td>\n",
       "      <td>2014-01-29 00:00:00</td>\n",
       "      <td>FOIA 15-6588</td>\n",
       "      <td>2015-12-30</td>\n",
       "    </tr>\n",
       "    <tr>\n",
       "      <th>1</th>\n",
       "      <td>1056520</td>\n",
       "      <td>432.0</td>\n",
       "      <td>3540 E 110TH ST</td>\n",
       "      <td>CHICAGO</td>\n",
       "      <td>IL</td>\n",
       "      <td>17</td>\n",
       "      <td>PUBLIC WAY - OTHER</td>\n",
       "      <td>2012-08-23 03:45:00</td>\n",
       "      <td>2012-08-23 00:00:00</td>\n",
       "      <td>DAVIS, THERESA</td>\n",
       "      <td>2014-02-19 00:00:00</td>\n",
       "      <td>2014-05-23 00:00:00</td>\n",
       "      <td>FOIA 15-6588</td>\n",
       "      <td>2015-12-30</td>\n",
       "    </tr>\n",
       "    <tr>\n",
       "      <th>2</th>\n",
       "      <td>1059373</td>\n",
       "      <td>414.0</td>\n",
       "      <td>2005 E 75TH ST</td>\n",
       "      <td>CHICAGO</td>\n",
       "      <td>IL</td>\n",
       "      <td>17</td>\n",
       "      <td>PUBLIC WAY - OTHER</td>\n",
       "      <td>2013-01-07 13:46:00</td>\n",
       "      <td>2013-01-07 00:00:00</td>\n",
       "      <td>WILSON, GRACE</td>\n",
       "      <td>2013-01-09 11:22:00</td>\n",
       "      <td>2015-06-16 00:00:00</td>\n",
       "      <td>FOIA 15-6588</td>\n",
       "      <td>2015-12-30</td>\n",
       "    </tr>\n",
       "    <tr>\n",
       "      <th>3</th>\n",
       "      <td>1071970</td>\n",
       "      <td>0.0</td>\n",
       "      <td>5259 S KING DR</td>\n",
       "      <td>CHICAGO</td>\n",
       "      <td>IL</td>\n",
       "      <td>17</td>\n",
       "      <td>PUBLIC WAY - OTHER</td>\n",
       "      <td>2014-10-12 00:35:00</td>\n",
       "      <td>2014-10-12 00:00:00</td>\n",
       "      <td>NaN</td>\n",
       "      <td>NaN</td>\n",
       "      <td>NaN</td>\n",
       "      <td>FOIA 15-6588</td>\n",
       "      <td>2015-12-30</td>\n",
       "    </tr>\n",
       "    <tr>\n",
       "      <th>4</th>\n",
       "      <td>1072125</td>\n",
       "      <td>815.0</td>\n",
       "      <td>4100 S PULASKI RD</td>\n",
       "      <td>CHICAGO</td>\n",
       "      <td>IL</td>\n",
       "      <td>17</td>\n",
       "      <td>PUBLIC WAY - OTHER</td>\n",
       "      <td>2014-10-20 21:47:00</td>\n",
       "      <td>2014-10-20 00:00:00</td>\n",
       "      <td>DAVIS, THERESA</td>\n",
       "      <td>2014-11-12 00:00:00</td>\n",
       "      <td>NaN</td>\n",
       "      <td>FOIA 15-6588</td>\n",
       "      <td>2015-12-30</td>\n",
       "    </tr>\n",
       "  </tbody>\n",
       "</table>\n",
       "</div>"
      ],
      "text/plain": [
       "      CRID    Beat   Incident_Address     City State  Location_Code  \\\n",
       "0  1039179  2223.0  9100 S HALSTED ST  CHICAGO    IL             17   \n",
       "1  1056520   432.0    3540 E 110TH ST  CHICAGO    IL             17   \n",
       "2  1059373   414.0     2005 E 75TH ST  CHICAGO    IL             17   \n",
       "3  1071970     0.0     5259 S KING DR  CHICAGO    IL             17   \n",
       "4  1072125   815.0  4100 S PULASKI RD  CHICAGO    IL             17   \n",
       "\n",
       "       Location_Value        Incident_Date       Complaint_Date  \\\n",
       "0  PUBLIC WAY - OTHER  2012-08-23 00:00:00  2012-08-23 00:00:00   \n",
       "1  PUBLIC WAY - OTHER  2012-08-23 03:45:00  2012-08-23 00:00:00   \n",
       "2  PUBLIC WAY - OTHER  2013-01-07 13:46:00  2013-01-07 00:00:00   \n",
       "3  PUBLIC WAY - OTHER  2014-10-12 00:35:00  2014-10-12 00:00:00   \n",
       "4  PUBLIC WAY - OTHER  2014-10-20 21:47:00  2014-10-20 00:00:00   \n",
       "\n",
       "     Investigator        Assigned_Date Investigator_End_Date  \\\n",
       "0  JONES, VINCENT  2012-04-18 16:15:00   2014-01-29 00:00:00   \n",
       "1  DAVIS, THERESA  2014-02-19 00:00:00   2014-05-23 00:00:00   \n",
       "2   WILSON, GRACE  2013-01-09 11:22:00   2015-06-16 00:00:00   \n",
       "3             NaN                  NaN                   NaN   \n",
       "4  DAVIS, THERESA  2014-11-12 00:00:00                   NaN   \n",
       "\n",
       "  FOIA_Request_Number Report_Produced_Date  \n",
       "0      FOIA 15-6588             2015-12-30  \n",
       "1      FOIA 15-6588             2015-12-30  \n",
       "2      FOIA 15-6588             2015-12-30  \n",
       "3      FOIA 15-6588             2015-12-30  \n",
       "4      FOIA 15-6588             2015-12-30  "
      ]
     },
     "execution_count": 23,
     "metadata": {},
     "output_type": "execute_result"
    }
   ],
   "source": [
    "df.head()"
   ]
  },
  {
   "cell_type": "code",
   "execution_count": 24,
   "metadata": {
    "collapsed": false
   },
   "outputs": [
    {
     "data": {
      "text/plain": [
       "['CRID',\n",
       " 'Incident.Location.Beat',\n",
       " 'Incident.Location.Address',\n",
       " 'Incident.Location.City',\n",
       " 'Incident.Location.State',\n",
       " 'Incident.Location.Location_Code',\n",
       " 'Incident.Location.Location_Value',\n",
       " 'Incident.Time.Date',\n",
       " 'Complaint.Date',\n",
       " 'Investigator.Full_Name',\n",
       " 'Investigator.Appt_Date',\n",
       " 'Investigator.End_Date',\n",
       " 'FOIA_Request_Number',\n",
       " 'Report_Produced_Date']"
      ]
     },
     "execution_count": 24,
     "metadata": {},
     "output_type": "execute_result"
    }
   ],
   "source": [
    "df.columns = column_mapper(df)\n",
    "df.columns.tolist()"
   ]
  },
  {
   "cell_type": "code",
   "execution_count": 25,
   "metadata": {
    "collapsed": true
   },
   "outputs": [],
   "source": [
    "df.to_csv(out_path_feb_2016_report+file,index=False)"
   ]
  },
  {
   "cell_type": "markdown",
   "metadata": {},
   "source": [
    "### Report 5"
   ]
  },
  {
   "cell_type": "code",
   "execution_count": 26,
   "metadata": {
    "collapsed": false
   },
   "outputs": [
    {
     "name": "stdout",
     "output_type": "stream",
     "text": [
      "/Data/chicago-police-data/import/output/shootings-cpd-feb2016/crms_-_05j_cpd_witness,_reporting_party,_victim(1).csv\n"
     ]
    },
    {
     "data": {
      "text/plain": [
       "['CRID',\n",
       " 'Values',\n",
       " 'Role',\n",
       " 'CPD_or_Not',\n",
       " 'Gender',\n",
       " 'Ethnicity',\n",
       " 'Year of Birth',\n",
       " 'Star',\n",
       " 'Position',\n",
       " 'FOIA_Request_Number',\n",
       " 'Report_Produced_Date']"
      ]
     },
     "execution_count": 26,
     "metadata": {},
     "output_type": "execute_result"
    }
   ],
   "source": [
    "file = files[12]\n",
    "df = db.download_file(in_path_feb_2016_report,file)\n",
    "df.columns.tolist()"
   ]
  },
  {
   "cell_type": "code",
   "execution_count": 27,
   "metadata": {
    "collapsed": false
   },
   "outputs": [
    {
     "data": {
      "text/html": [
       "<div>\n",
       "<table border=\"1\" class=\"dataframe\">\n",
       "  <thead>\n",
       "    <tr style=\"text-align: right;\">\n",
       "      <th></th>\n",
       "      <th>CRID</th>\n",
       "      <th>Values</th>\n",
       "      <th>Role</th>\n",
       "      <th>CPD_or_Not</th>\n",
       "      <th>Gender</th>\n",
       "      <th>Ethnicity</th>\n",
       "      <th>Year of Birth</th>\n",
       "      <th>Star</th>\n",
       "      <th>Position</th>\n",
       "      <th>FOIA_Request_Number</th>\n",
       "      <th>Report_Produced_Date</th>\n",
       "    </tr>\n",
       "  </thead>\n",
       "  <tbody>\n",
       "    <tr>\n",
       "      <th>0</th>\n",
       "      <td>1039179</td>\n",
       "      <td>1039179</td>\n",
       "      <td>NaN</td>\n",
       "      <td>NaN</td>\n",
       "      <td>NaN</td>\n",
       "      <td>NaN</td>\n",
       "      <td>NaN</td>\n",
       "      <td>NaN</td>\n",
       "      <td>NaN</td>\n",
       "      <td>FOIA 15-6588</td>\n",
       "      <td>2015-12-30</td>\n",
       "    </tr>\n",
       "    <tr>\n",
       "      <th>1</th>\n",
       "      <td>1039179</td>\n",
       "      <td>(Non-CPD witness or victim)</td>\n",
       "      <td>VICTIM</td>\n",
       "      <td>NaN</td>\n",
       "      <td>F</td>\n",
       "      <td>BLK</td>\n",
       "      <td>1990.0</td>\n",
       "      <td>NaN</td>\n",
       "      <td>NaN</td>\n",
       "      <td>FOIA 15-6588</td>\n",
       "      <td>2015-12-30</td>\n",
       "    </tr>\n",
       "    <tr>\n",
       "      <th>2</th>\n",
       "      <td>1056520</td>\n",
       "      <td>1056520</td>\n",
       "      <td>NaN</td>\n",
       "      <td>NaN</td>\n",
       "      <td>NaN</td>\n",
       "      <td>NaN</td>\n",
       "      <td>NaN</td>\n",
       "      <td>NaN</td>\n",
       "      <td>NaN</td>\n",
       "      <td>FOIA 15-6588</td>\n",
       "      <td>2015-12-30</td>\n",
       "    </tr>\n",
       "    <tr>\n",
       "      <th>3</th>\n",
       "      <td>1056520</td>\n",
       "      <td>(Non-CPD witness or victim)</td>\n",
       "      <td>VICTIM</td>\n",
       "      <td>NaN</td>\n",
       "      <td>M</td>\n",
       "      <td>WHI</td>\n",
       "      <td>1988.0</td>\n",
       "      <td>NaN</td>\n",
       "      <td>NaN</td>\n",
       "      <td>FOIA 15-6588</td>\n",
       "      <td>2015-12-30</td>\n",
       "    </tr>\n",
       "    <tr>\n",
       "      <th>4</th>\n",
       "      <td>1056520</td>\n",
       "      <td>CHRISTENSEN, AMY</td>\n",
       "      <td>WITNESS</td>\n",
       "      <td>CPD Sworn</td>\n",
       "      <td>F</td>\n",
       "      <td>WHI</td>\n",
       "      <td>1971.0</td>\n",
       "      <td>16016.0</td>\n",
       "      <td>POLICE OFFICER</td>\n",
       "      <td>FOIA 15-6588</td>\n",
       "      <td>2015-12-30</td>\n",
       "    </tr>\n",
       "  </tbody>\n",
       "</table>\n",
       "</div>"
      ],
      "text/plain": [
       "      CRID                       Values     Role CPD_or_Not Gender Ethnicity  \\\n",
       "0  1039179                      1039179      NaN        NaN    NaN       NaN   \n",
       "1  1039179  (Non-CPD witness or victim)   VICTIM        NaN      F       BLK   \n",
       "2  1056520                      1056520      NaN        NaN    NaN       NaN   \n",
       "3  1056520  (Non-CPD witness or victim)   VICTIM        NaN      M       WHI   \n",
       "4  1056520             CHRISTENSEN, AMY  WITNESS  CPD Sworn      F       WHI   \n",
       "\n",
       "   Year of Birth     Star        Position FOIA_Request_Number  \\\n",
       "0            NaN      NaN             NaN      FOIA 15-6588     \n",
       "1         1990.0      NaN             NaN      FOIA 15-6588     \n",
       "2            NaN      NaN             NaN      FOIA 15-6588     \n",
       "3         1988.0      NaN             NaN      FOIA 15-6588     \n",
       "4         1971.0  16016.0  POLICE OFFICER      FOIA 15-6588     \n",
       "\n",
       "  Report_Produced_Date  \n",
       "0           2015-12-30  \n",
       "1           2015-12-30  \n",
       "2           2015-12-30  \n",
       "3           2015-12-30  \n",
       "4           2015-12-30  "
      ]
     },
     "execution_count": 27,
     "metadata": {},
     "output_type": "execute_result"
    }
   ],
   "source": [
    "df.head()"
   ]
  },
  {
   "cell_type": "code",
   "execution_count": 28,
   "metadata": {
    "collapsed": false
   },
   "outputs": [],
   "source": [
    "df = df.dropna(subset=['Role','CPD_or_Not','Gender','Ethnicity','Year of Birth','Star','Position']) \n",
    "df_noncpd = df[df['Values']=='(Non-CPD witness or victim)']\n",
    "df_cpd = df[df['Values']!='(Non-CPD witness or victim)']\n"
   ]
  },
  {
   "cell_type": "code",
   "execution_count": 29,
   "metadata": {
    "collapsed": false
   },
   "outputs": [],
   "source": [
    "df_cpd_witness = df_cpd[df_cpd['Role']=='WITNESS']\n",
    "df_cpd_victim = df_cpd[df_cpd['Role']=='VICTIM']\n",
    "df_noncpd_witness = df_noncpd[df_noncpd['Role']=='WITNESS']\n",
    "df_noncpd_victim = df_noncpd[df_noncpd['Role']=='VICTIM']"
   ]
  },
  {
   "cell_type": "code",
   "execution_count": 30,
   "metadata": {
    "collapsed": false
   },
   "outputs": [],
   "source": [
    "def column_renamer(column):\n",
    "    if column in ['Gender','Ethnicity','Year of Birth','Star','Position']:\n",
    "        return 'Officer_Witness_'+column\n",
    "    else:\n",
    "        return column\n",
    "    \n",
    "df_cpd_witness.columns = [column_renamer(column) for column in df_cpd_witness.columns.tolist() ]\n",
    "df_noncpd_witness.columns = [column_renamer(column) for column in df_cpd_witness.columns.tolist()]\n",
    "df_cpd_victim.columns = [column_renamer(column) for column in df_cpd_witness.columns.tolist()]\n",
    "df_noncpd_victim.columns = [column_renamer(column) for column in df_cpd_witness.columns.tolist()]"
   ]
  },
  {
   "cell_type": "code",
   "execution_count": 31,
   "metadata": {
    "collapsed": false
   },
   "outputs": [
    {
     "data": {
      "text/plain": [
       "['CRID',\n",
       " 'Values',\n",
       " 'Role',\n",
       " 'CPD_or_Not',\n",
       " 'Officer_Witness_Gender',\n",
       " 'Officer_Witness_Ethnicity',\n",
       " 'Officer_Witness_Year of Birth',\n",
       " 'Officer_Witness_Star',\n",
       " 'Officer_Witness_Position',\n",
       " 'FOIA_Request_Number',\n",
       " 'Report_Produced_Date']"
      ]
     },
     "execution_count": 31,
     "metadata": {},
     "output_type": "execute_result"
    }
   ],
   "source": [
    "df_cpd_witness.columns.tolist()"
   ]
  },
  {
   "cell_type": "code",
   "execution_count": 32,
   "metadata": {
    "collapsed": false
   },
   "outputs": [
    {
     "name": "stderr",
     "output_type": "stream",
     "text": [
      "/Users/thudson/anaconda/envs/civis-model/lib/python3.5/site-packages/ipykernel/__main__.py:1: SettingWithCopyWarning: \n",
      "A value is trying to be set on a copy of a slice from a DataFrame\n",
      "\n",
      "See the caveats in the documentation: http://pandas.pydata.org/pandas-docs/stable/indexing.html#indexing-view-versus-copy\n",
      "  if __name__ == '__main__':\n",
      "/Users/thudson/anaconda/envs/civis-model/lib/python3.5/site-packages/ipykernel/__main__.py:3: SettingWithCopyWarning: \n",
      "A value is trying to be set on a copy of a slice from a DataFrame\n",
      "\n",
      "See the caveats in the documentation: http://pandas.pydata.org/pandas-docs/stable/indexing.html#indexing-view-versus-copy\n",
      "  app.launch_new_instance()\n"
     ]
    },
    {
     "data": {
      "text/plain": [
       "['CRID',\n",
       " 'Officer_Witness_Gender',\n",
       " 'Officer_Witness_Ethnicity',\n",
       " 'Officer_Witness_Year of Birth',\n",
       " 'Officer_Witness_Star',\n",
       " 'Officer_Witness_Position',\n",
       " 'FOIA_Request_Number',\n",
       " 'Report_Produced_Date']"
      ]
     },
     "execution_count": 32,
     "metadata": {},
     "output_type": "execute_result"
    }
   ],
   "source": [
    "df_cpd_witness.drop(['Values','Role','CPD_or_Not'], axis=1, inplace=True)\n",
    "df_noncpd_witness.drop(['Values','Role','CPD_or_Not'], axis=1, inplace=True)\n",
    "df_cpd_victim.drop(['Values','Role','CPD_or_Not'], axis=1, inplace=True)\n",
    "df_noncpd_victim.drop(['Values','Role','CPD_or_Not'], axis=1, inplace=True)\n",
    "\n",
    "df_cpd_witness.columns.tolist()"
   ]
  },
  {
   "cell_type": "code",
   "execution_count": 33,
   "metadata": {
    "collapsed": false
   },
   "outputs": [
    {
     "data": {
      "text/plain": [
       "['CRID',\n",
       " 'Officer.Witness.Gender',\n",
       " 'Officer.Witness.Race_Code',\n",
       " 'Officer.Witness.Birth_Year',\n",
       " 'Officer.Witness.Star',\n",
       " 'Officer.Witness.Position',\n",
       " 'FOIA_Request_Number',\n",
       " 'Report_Produced_Date']"
      ]
     },
     "execution_count": 33,
     "metadata": {},
     "output_type": "execute_result"
    }
   ],
   "source": [
    "df_cpd_witness.columns = column_mapper(df_cpd_witness)\n",
    "df_noncpd_witness.columns = column_mapper(df_noncpd_witness)\n",
    "df_cpd_victim.columns = column_mapper(df_cpd_victim)\n",
    "df_noncpd_victim.columns = column_mapper(df_noncpd_victim)\n",
    "\n",
    "df_noncpd_victim.columns.tolist()"
   ]
  },
  {
   "cell_type": "code",
   "execution_count": 34,
   "metadata": {
    "collapsed": true
   },
   "outputs": [],
   "source": [
    "df_cpd_witness.to_csv(out_path_feb_2016_report+'crms_-_05j'+'cpd_witness.csv',index=False)\n",
    "df_noncpd_witness.to_csv(out_path_feb_2016_report+'crms_-_05j'+'non_cpd_witness.csv',index=False)\n",
    "df_cpd_victim.to_csv(out_path_feb_2016_report+'crms_-_05j'+'cpd_victim.csv',index=False)\n",
    "df_noncpd_victim.to_csv(out_path_feb_2016_report+'crms_-_05j'+'non_cpd_victim.csv',index=False)"
   ]
  },
  {
   "cell_type": "markdown",
   "metadata": {},
   "source": [
    "### Other Files In Works"
   ]
  },
  {
   "cell_type": "code",
   "execution_count": 35,
   "metadata": {
    "collapsed": false
   },
   "outputs": [
    {
     "name": "stdout",
     "output_type": "stream",
     "text": [
      "/Data/chicago-police-data/import/output/shootings-cpd-feb2016/crms_-_05j_officer(1).csv\n"
     ]
    },
    {
     "data": {
      "text/plain": [
       "['CRID',\n",
       " 'Officer',\n",
       " 'Star',\n",
       " 'Gender',\n",
       " 'Race',\n",
       " 'Age',\n",
       " 'Unit',\n",
       " 'Position',\n",
       " 'Appointment_Date',\n",
       " 'Recommended_Finding',\n",
       " 'Final_Finding',\n",
       " 'Recommended_Action',\n",
       " 'Final_Action',\n",
       " 'FOIA_Request_Number',\n",
       " 'Report_Produced_Date']"
      ]
     },
     "execution_count": 35,
     "metadata": {},
     "output_type": "execute_result"
    }
   ],
   "source": [
    "file = files[15]\n",
    "df = db.download_file(in_path_feb_2016_report,file)\n",
    "df.columns.tolist()"
   ]
  },
  {
   "cell_type": "code",
   "execution_count": 36,
   "metadata": {
    "collapsed": false
   },
   "outputs": [
    {
     "data": {
      "text/plain": [
       "['CRID',\n",
       " 'Officer',\n",
       " 'Officer_Accused_Star',\n",
       " 'Officer_Accused_Gender',\n",
       " 'Officer_Accused_Race',\n",
       " 'Officer_Accused_Age',\n",
       " 'Officer_Accused_Unit',\n",
       " 'Officer_Accused_Position',\n",
       " 'Officer_Accused_Appointment_Date',\n",
       " 'Recommended_Finding',\n",
       " 'Final_Finding',\n",
       " 'Recommended_Action',\n",
       " 'Final_Action',\n",
       " 'FOIA_Request_Number',\n",
       " 'Report_Produced_Date']"
      ]
     },
     "execution_count": 36,
     "metadata": {},
     "output_type": "execute_result"
    }
   ],
   "source": [
    "def column_renamer(column):\n",
    "    if column in ['Gender','Race','Age','Star','Position','Unit','Appointment_Date']:\n",
    "        return 'Officer_Accused_'+column\n",
    "    else:\n",
    "        return column\n",
    "    \n",
    "df.columns = [column_renamer(column) for column in df.columns.tolist() ]\n",
    "df.columns.tolist()"
   ]
  },
  {
   "cell_type": "code",
   "execution_count": 37,
   "metadata": {
    "collapsed": false
   },
   "outputs": [
    {
     "data": {
      "text/plain": [
       "['CRID',\n",
       " 'Officer.Accused.Full_Name',\n",
       " 'Officer.Accused.Star',\n",
       " 'Officer.Accused.Gender',\n",
       " 'Officer.Accused.Race_Code',\n",
       " 'Officer.Accused.Birth_Year',\n",
       " 'Officer.Accused.Unit',\n",
       " 'Officer.Accused.Position',\n",
       " 'Officer.Accused.Appointed_Date',\n",
       " 'Complaint.Initial.Recommended_Finding',\n",
       " 'Complaint.Final.Finding',\n",
       " 'Complaint.Initial.Recommended_Discipline',\n",
       " 'Complaint.Final.Recommended_Discipline',\n",
       " 'FOIA_Request_Number',\n",
       " 'Report_Produced_Date']"
      ]
     },
     "execution_count": 37,
     "metadata": {},
     "output_type": "execute_result"
    }
   ],
   "source": [
    "df.columns = column_mapper(df)\n",
    "df.columns.tolist()"
   ]
  },
  {
   "cell_type": "code",
   "execution_count": 38,
   "metadata": {
    "collapsed": false
   },
   "outputs": [],
   "source": [
    "df.to_csv(out_path_feb_2016_report+file,index=False)"
   ]
  },
  {
   "cell_type": "markdown",
   "metadata": {},
   "source": [
    "### Victim Detainee"
   ]
  },
  {
   "cell_type": "code",
   "execution_count": 39,
   "metadata": {
    "collapsed": false
   },
   "outputs": [
    {
     "name": "stdout",
     "output_type": "stream",
     "text": [
      "/Data/chicago-police-data/import/output/shootings-cpd-feb2016/incident_address(1)_block_level.csv\n"
     ]
    },
    {
     "data": {
      "text/plain": [
       "['CRID',\n",
       " 'Incident_Date',\n",
       " 'Incident_Address',\n",
       " 'Incident_Apt',\n",
       " 'Incident_City',\n",
       " 'Incident_State',\n",
       " 'Incident_Zip',\n",
       " 'District',\n",
       " 'Incident_Start_Date',\n",
       " 'Incident_End_Date',\n",
       " 'FOIA_Request_Number',\n",
       " 'Report_Produced_Date']"
      ]
     },
     "execution_count": 39,
     "metadata": {},
     "output_type": "execute_result"
    }
   ],
   "source": [
    "file = files[18]\n",
    "df = db.download_file(in_path_feb_2016_report,file)\n",
    "df.columns.tolist()"
   ]
  },
  {
   "cell_type": "code",
   "execution_count": 40,
   "metadata": {
    "collapsed": false
   },
   "outputs": [
    {
     "data": {
      "text/plain": [
       "['CRID',\n",
       " 'Incident.Time.Date',\n",
       " 'Incident.Location.Address',\n",
       " 'Incident.Location.Apt_Nbr',\n",
       " 'Incident.Location.City',\n",
       " 'Incident.Location.State',\n",
       " 'Incident.Location.Zip',\n",
       " 'Incident.Location.District',\n",
       " 'Incident.Time.Start_Time',\n",
       " 'Incident.Time.End_Time',\n",
       " 'FOIA_Request_Number',\n",
       " 'Report_Produced_Date']"
      ]
     },
     "execution_count": 40,
     "metadata": {},
     "output_type": "execute_result"
    }
   ],
   "source": [
    "df.columns = column_mapper(df)\n",
    "df.columns.tolist()"
   ]
  },
  {
   "cell_type": "code",
   "execution_count": 41,
   "metadata": {
    "collapsed": false
   },
   "outputs": [],
   "source": [
    "df.to_csv(out_path_feb_2016_report+file,index=False)"
   ]
  },
  {
   "cell_type": "markdown",
   "metadata": {},
   "source": [
    "### Stars"
   ]
  },
  {
   "cell_type": "code",
   "execution_count": 42,
   "metadata": {
    "collapsed": false
   },
   "outputs": [
    {
     "name": "stdout",
     "output_type": "stream",
     "text": [
      "/Data/chicago-police-data/import/output/shootings-cpd-feb2016/involved_member(1).csv\n"
     ]
    },
    {
     "data": {
      "text/plain": [
       "['CRID', 'Involved_Officer', 'FOIA_Request_Number', 'Report_Produced_Date']"
      ]
     },
     "execution_count": 42,
     "metadata": {},
     "output_type": "execute_result"
    }
   ],
   "source": [
    "file = files[21]\n",
    "df = db.download_file(in_path_feb_2016_report,file)\n",
    "df.columns.tolist()"
   ]
  },
  {
   "cell_type": "code",
   "execution_count": 43,
   "metadata": {
    "collapsed": false
   },
   "outputs": [
    {
     "data": {
      "text/plain": [
       "['CRID',\n",
       " 'Officer.Involved.Full_Name',\n",
       " 'FOIA_Request_Number',\n",
       " 'Report_Produced_Date']"
      ]
     },
     "execution_count": 43,
     "metadata": {},
     "output_type": "execute_result"
    }
   ],
   "source": [
    "df.columns = column_mapper(df)\n",
    "df.columns.tolist()"
   ]
  },
  {
   "cell_type": "code",
   "execution_count": 44,
   "metadata": {
    "collapsed": true
   },
   "outputs": [],
   "source": [
    "df.to_csv(out_path_feb_2016_report+file,index=False)"
   ]
  },
  {
   "cell_type": "markdown",
   "metadata": {},
   "source": [
    "### Complaint & Investigator"
   ]
  },
  {
   "cell_type": "code",
   "execution_count": 45,
   "metadata": {
    "collapsed": false
   },
   "outputs": [
    {
     "name": "stdout",
     "output_type": "stream",
     "text": [
      "/Data/chicago-police-data/import/output/shootings-cpd-feb2016/stars-for_involved_members(1).csv\n"
     ]
    },
    {
     "data": {
      "text/plain": [
       "['Officer_Last_Name',\n",
       " 'Officer_First_Name',\n",
       " 'Star',\n",
       " 'Officer_Description',\n",
       " 'FOIA_Request_Number',\n",
       " 'Report_Produced_Date']"
      ]
     },
     "execution_count": 45,
     "metadata": {},
     "output_type": "execute_result"
    }
   ],
   "source": [
    "file = files[24]\n",
    "df = db.download_file(in_path_feb_2016_report,file)\n",
    "df.columns.tolist()"
   ]
  },
  {
   "cell_type": "code",
   "execution_count": 46,
   "metadata": {
    "collapsed": false
   },
   "outputs": [
    {
     "data": {
      "text/plain": [
       "['Officer.Involved.Last_Name',\n",
       " 'Officer.Involved.First_Name',\n",
       " 'Officer.Involved.Star',\n",
       " 'Officer.Involved.Description',\n",
       " 'FOIA_Request_Number',\n",
       " 'Report_Produced_Date']"
      ]
     },
     "execution_count": 46,
     "metadata": {},
     "output_type": "execute_result"
    }
   ],
   "source": [
    "df.columns.values[0]='Involved_Officer_Last_Name'\n",
    "df.columns.values[1]='Involved_Officer_First_Name'\n",
    "df.columns.values[2]='Involved_Officer_Star'\n",
    "df.columns.values[3]='Involved_Officer_Description'\n",
    "df.columns = column_mapper(df)\n",
    "df.columns.tolist()"
   ]
  },
  {
   "cell_type": "code",
   "execution_count": 47,
   "metadata": {
    "collapsed": true
   },
   "outputs": [],
   "source": [
    "df.to_csv(out_path_feb_2016_report+file,index=False)"
   ]
  },
  {
   "cell_type": "markdown",
   "metadata": {},
   "source": [
    "### Witness Reporting Party, and Victim"
   ]
  },
  {
   "cell_type": "code",
   "execution_count": 48,
   "metadata": {
    "collapsed": false
   },
   "outputs": [
    {
     "name": "stdout",
     "output_type": "stream",
     "text": [
      "/Data/chicago-police-data/import/output/shootings-cpd-feb2016/victim-detainee_demographics(1).csv\n"
     ]
    },
    {
     "data": {
      "text/plain": [
       "['CRID',\n",
       " 'Detainee_Age',\n",
       " 'Detainee_Gender',\n",
       " 'Detainee_Race',\n",
       " 'FOIA_Request_Number',\n",
       " 'Report_Produced_Date']"
      ]
     },
     "execution_count": 48,
     "metadata": {},
     "output_type": "execute_result"
    }
   ],
   "source": [
    "file = files[27]\n",
    "df = db.download_file(in_path_feb_2016_report,file)\n",
    "df.columns.tolist()"
   ]
  },
  {
   "cell_type": "code",
   "execution_count": 49,
   "metadata": {
    "collapsed": false
   },
   "outputs": [
    {
     "data": {
      "text/plain": [
       "['CRID',\n",
       " 'Detainee.Age',\n",
       " 'Detainee.Gender',\n",
       " 'Detainee.Race_Code',\n",
       " 'FOIA_Request_Number',\n",
       " 'Report_Produced_Date']"
      ]
     },
     "execution_count": 49,
     "metadata": {},
     "output_type": "execute_result"
    }
   ],
   "source": [
    "df.columns = column_mapper(df)\n",
    "df.columns.tolist()"
   ]
  },
  {
   "cell_type": "code",
   "execution_count": 50,
   "metadata": {
    "collapsed": true
   },
   "outputs": [],
   "source": [
    "df.to_csv(out_path_feb_2016_report+file,index=False)"
   ]
  }
 ],
 "metadata": {
  "anaconda-cloud": {},
  "kernelspec": {
   "display_name": "Civis Model",
   "language": "python",
   "name": "civis-model"
  },
  "language_info": {
   "codemirror_mode": {
    "name": "ipython",
    "version": 3
   },
   "file_extension": ".py",
   "mimetype": "text/x-python",
   "name": "python",
   "nbconvert_exporter": "python",
   "pygments_lexer": "ipython3",
   "version": "3.5.2"
  }
 },
 "nbformat": 4,
 "nbformat_minor": 0
}
